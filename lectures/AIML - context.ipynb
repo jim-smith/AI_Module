{
 "cells": [
  {
   "cell_type": "markdown",
   "metadata": {
    "slideshow": {
     "slide_type": "slide"
    }
   },
   "source": [
    "### AIML context: Setting the domain of a knowledge base using  using `<topic>`\n",
    "- You can use the tag pair &lt;topic&gt; **before** a group of categories to mark that they belong to a particular topic\n",
    "- Then within other categories in your main conversation you can set topics  \n",
    "  and your bot will pick up  right set of categories"
   ]
  },
  {
   "cell_type": "code",
   "execution_count": null,
   "metadata": {
    "slideshow": {
     "slide_type": "slide"
    }
   },
   "outputs": [],
   "source": [
    "%%writefile \"file3.aiml\"\n",
    "<aiml version=\"1.0.1\" encoding=\"UTF-8\">\n",
    "\n",
    "<category>\n",
    "    <pattern>LETS TALK ABOUT *</pattern>\n",
    "    <template> <think> <set name=\"topic\"> <star/></set> </think> \n",
    "                Ok, do you peel them before you eat them?     \n",
    "    </template>\n",
    "</category>\n",
    "\n",
    "<topic name= \"APPLES\">\n",
    "    <category>\n",
    "        <pattern>I ALWAYS PEEL THEM </pattern>\n",
    "        <template> Really!  Do you then eat the peel?</template>\n",
    "    </category>\n",
    "</topic>\n",
    "\n",
    "<topic name= \"ORANGES\">\n",
    "    <category>\n",
    "        <pattern>I ALWAYS PEEL THEM </pattern>\n",
    "        <template> Me too!</template>\n",
    "    </category>\n",
    "</topic>\n",
    "\n",
    "<category>\n",
    "    <pattern>*</pattern>\n",
    "    <template>This is a fall-back answer.</template>\n",
    "</category>\n",
    "</aiml>"
   ]
  },
  {
   "cell_type": "code",
   "execution_count": null,
   "metadata": {
    "slideshow": {
     "slide_type": "slide"
    }
   },
   "outputs": [],
   "source": [
    "import aiml\n",
    "myBot= aiml.Kernel()\n",
    "myBot.learn(\"file3.aiml\")\n",
    "print( \"Successfuly loaded {} categories\".format(myBot.numCategories()))\n",
    "\n",
    "\n",
    "keepGoing=True\n",
    "while(keepGoing):\n",
    "    nextInput = input(\"Enter your message >> \")\n",
    "    if(nextInput=='bye'):\n",
    "        keepGoing= False\n",
    "    else:\n",
    "        print (myBot.respond(nextInput))\n"
   ]
  },
  {
   "cell_type": "markdown",
   "metadata": {
    "slideshow": {
     "slide_type": "slide"
    }
   },
   "source": [
    "## AIML context over time: referencing history using &lt;that&gt;\n",
    "\n",
    "Some times answers and responses only make sense within the context of the history of a conversation.\n",
    "\n",
    "- \"Do you like apples?\"  \n",
    "   \"Yes\"\n",
    "   vs.  \n",
    "   \"Do you hate apples?\"  \n",
    "     \"Yes\"\n",
    "\n",
    "- In AIML we can access the last thing the bot said using &lt;that&gt; tag-pairs\n",
    "- usually we put these as an extra condition between the &lt;pattern&gt; and the &lt;template&gt;"
   ]
  },
  {
   "cell_type": "code",
   "execution_count": null,
   "metadata": {
    "slideshow": {
     "slide_type": "slide"
    }
   },
   "outputs": [],
   "source": [
    "%%writefile \"file4.aiml\"\n",
    "<aiml version=\"1.0.1\" encoding=\"UTF-8\">\n",
    "\n",
    "\n",
    "\n",
    "<topic name= \"APPLES\">\n",
    "    <category>\n",
    "        <pattern>YES</pattern>\n",
    "        <that> OK DO YOU PEEL THEM BEFORE YOU EAT THEM</that>\n",
    "        <template> Really!  Do you then eat the peel?</template>\n",
    "    </category>\n",
    "\n",
    "\n",
    "    <category>\n",
    "        <pattern>YES </pattern>\n",
    "        <that> REALLY DO YOU THEN EAT THE PEEL</that>\n",
    "        <template> Yuk, not me! </template>\n",
    "    </category>\n",
    "    \n",
    "    <category>\n",
    "    <pattern> * </pattern> \n",
    "    <template> This is a default answer for apples. THe last thing I said was: <that/> </template>\n",
    "    </category>\n",
    "</topic>\n",
    "\n",
    "\n",
    "</aiml>"
   ]
  },
  {
   "cell_type": "code",
   "execution_count": null,
   "metadata": {
    "slideshow": {
     "slide_type": "slide"
    }
   },
   "outputs": [],
   "source": [
    "myBot.learn(\"file4.aiml\")\n",
    "#print( \"Successfuly loaded {} categories\".format(myBot.Categories()))\n",
    "\n",
    "\n",
    "keepGoing=True\n",
    "while(keepGoing):\n",
    "    nextInput = input(\"Enter your message >> \")\n",
    "    if(nextInput=='bye'):\n",
    "        keepGoing= False\n",
    "    else:\n",
    "        print (myBot.respond(nextInput))\n"
   ]
  },
  {
   "cell_type": "markdown",
   "metadata": {
    "slideshow": {
     "slide_type": "slide"
    }
   },
   "source": [
    "## Summary\n",
    "You need to:\n",
    "1. Be able to explain, with examples,  how context is dealt with in AIML\n",
    " - `<topic>` for grouping rules  (setting their domains)\n",
    " - `<that>` for short-term knowledge aboutthe history fo a conversation."
   ]
  }
 ],
 "metadata": {
  "celltoolbar": "Slideshow",
  "kernelspec": {
   "display_name": "Python 3",
   "language": "python",
   "name": "python3"
  },
  "language_info": {
   "codemirror_mode": {
    "name": "ipython",
    "version": 3
   },
   "file_extension": ".py",
   "mimetype": "text/x-python",
   "name": "python",
   "nbconvert_exporter": "python",
   "pygments_lexer": "ipython3",
   "version": "3.6.2"
  }
 },
 "nbformat": 4,
 "nbformat_minor": 4
}
