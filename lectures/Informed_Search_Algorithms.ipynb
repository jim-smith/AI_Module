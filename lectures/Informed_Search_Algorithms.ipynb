{
 "cells": [
  {
   "cell_type": "markdown",
   "metadata": {
    "slideshow": {
     "slide_type": "slide"
    }
   },
   "source": [
    "## Informed_Search_Algorithms\n",
    "### Artificial Intelligence 1: week 11"
   ]
  },
  {
   "cell_type": "markdown",
   "metadata": {
    "slideshow": {
     "slide_type": "slide"
    }
   },
   "source": [
    "## This week\n",
    "- Recap: uninformed search algorithms for decision problems\n",
    "\n",
    "- Heuristic Quality Functions\n",
    "\n",
    "- General framework for informed search\n",
    "  - Search guided by cost/quality function  \n",
    "    Without backtracking:  Hill Climbing (local search)  \n",
    "    With backtracking: Best-First Search\n",
    "  - Search taking into account cost of steps taken  \n",
    "    Dijkstra (path-finding),  A* \n",
    "    \n",
    "- Example applications:\n",
    "    - inside Machine Learning algorithms\n",
    "    - path-finding\n",
    "    - optimisation\n",
    "    \n",
    "- Strengths and weaknesses to take into account  \n",
    "  when selecting a search algorithm to apply to a problem\n",
    "  "
   ]
  },
  {
   "cell_type": "markdown",
   "metadata": {
    "slideshow": {
     "slide_type": "slide"
    }
   },
   "source": [
    "## Recap"
   ]
  },
  {
   "cell_type": "markdown",
   "metadata": {
    "slideshow": {
     "slide_type": "slide"
    }
   },
   "source": [
    "## How could we make those better?<img src=\"figures/search/timer.png\" style=\"float:right\" width = 15%>\n",
    "\n",
    "\n",
    "Breadth/depth-first generate nodes to test:\n",
    "-  based on the shape of the tree,\n",
    "- ingoring  how good the solutions are,  \n",
    "- or how close they might be to the goal state.\n",
    "\n",
    "we say they are “blind” or “uninformed”."
   ]
  },
  {
   "cell_type": "markdown",
   "metadata": {
    "slideshow": {
     "slide_type": "fragment"
    }
   },
   "source": [
    "More efficient approach is to incorporate information about how close you are to the solution\n",
    "\n",
    "USE ANYTHING YOU HAVE TO HAND if it helps you avoid constraints!\n",
    "\n",
    "<img src=\"figures/search/multitool.png\" style=\"float:right\" width = 20%>"
   ]
  },
  {
   "cell_type": "markdown",
   "metadata": {
    "slideshow": {
     "slide_type": "slide"
    }
   },
   "source": [
    "## Quality Functions\n",
    "Natural for some problems, e.g.:\n",
    "- Model Building: error rate of model on training set,\n",
    "- Optimisation: Distance, cost, payoff\n",
    "- Prediction: error rate of model in real world…\n",
    "\n",
    "Often more than one\n",
    "- hence “heuristic” (rule of thumb)\n",
    "- Some may take more effort to calculate\n",
    "  - simulations run at different fidelity,\n",
    "  - User studies with different sized groups\n"
   ]
  },
  {
   "cell_type": "markdown",
   "metadata": {
    "slideshow": {
     "slide_type": "slide"
    }
   },
   "source": [
    "## Estimated Quality Measures\n",
    "For other problems we can define a\n",
    "\t“heuristic evaluation function” , h(n)  for each node n:\n",
    " - provides information to **guide**  *informed search*.\n",
    " - **estimates** how far a node is from the goal state,\n",
    "\n",
    "Comparing two nodes m  and n \n",
    "- h(m) < h(n) implies m is closer to the goal.\n",
    "- So typically we look to **minimise** the function.\n",
    "\n",
    "Also known as a ...  \n",
    "  cost function  \n",
    "  quality function,  \n",
    "  ‘score’,  \n",
    "  ‘fitness’  (to be maximised)\n"
   ]
  },
  {
   "cell_type": "markdown",
   "metadata": {
    "slideshow": {
     "slide_type": "slide"
    }
   },
   "source": [
    "## Choosing Heuristic Functions\n",
    " Should be quick to calculate\n",
    " \n",
    " Might simplify or ignotre constraints (especially 'soft' ones)\n",
    " \n",
    " More different levels the better (provbide more information to search)\n",
    " \n",
    " Should be \"optimistic\" (underestimate distance/cost)\n",
    "  - e.g. training set accuracy underestimates error on unseen data\n",
    " \n",
    " \n",
    "** NEEDS pics of teow landscapes with different granularity:   **\n",
    " "
   ]
  },
  {
   "cell_type": "markdown",
   "metadata": {
    "cell_style": "center",
    "slideshow": {
     "slide_type": "slide"
    }
   },
   "source": [
    "## Adding heuristic functions ot our generate and test code\n",
    "\n",
    "Minor change to pseudocode we had for depth and breadth first:\n",
    "\n",
    "Now our Evaluate() function gives some idea of quality instead of just feasibility\n",
    "\n",
    "So we can add a line to sort by that value\n",
    "\n",
    "Could do the same with blindsearch using quality = age\n",
    "\n",
    "- Depth|Breadth => sort increasing | decreasing\n",
    " - But don’t usually bother to add the extra time spent sorting\n"
   ]
  },
  {
   "cell_type": "markdown",
   "metadata": {
    "cell_style": "center",
    "slideshow": {
     "slide_type": "slide"
    }
   },
   "source": [
    "## Pseudcode for informed search\n",
    "    \n",
    "    ## make initial guess,  test it, then start the openList ##\n",
    "    SET workingCandidate = StartSolution\n",
    "    Evaluate (workingCandidate)\n",
    "    IF( IsAtGoal(workingCandidate)) \n",
    "        OUTPUT (SUCCESS, workingCandidate)\n",
    "    APPEND workingCandidate to openList\n",
    "    "
   ]
  },
  {
   "cell_type": "markdown",
   "metadata": {
    "cell_style": "center",
    "slideshow": {
     "slide_type": "subslide"
    }
   },
   "source": [
    "    WHILE ( Openlist not empty) DO\n",
    "      SORT(OpenList)                  ## This is the new line \n",
    "      MOVE (first item from openList into working candidate)\n",
    "      FOREACH (1-step neighbour)\n",
    "        neighbour = ApplyMoveOperator(workingCandidate)  ## Generate\n",
    "        Evaluate(neighbour)                              ## Test \n",
    "\t    IF(IsAtGoal(neighbour))\n",
    "          OUTPUT (SUCCESS, neighbour)\n",
    "        ELSE IF (neighbor is feasible)                   ## Update Memory\n",
    "          APPEND( neighbor to end of openList)\n",
    "        ELSE\n",
    "          APPEND( neighbor to end of closedList)\n",
    "      COPY (working candidate to closedList)\n",
    " \n",
    "    ** only get this far if we've run out of candidate solutions to test\n",
    "    OUTPUT (FAILURE, workingCandidate)\n",
    "\n",
    "\n",
    "\n",
    "\n",
    "\n",
    "<div class=\"alert alert-block alert-danger\"> The only difference is the extra line at the start of  each iteration: <b>Sort(OpenList)</b></div> "
   ]
  },
  {
   "cell_type": "markdown",
   "metadata": {
    "cell_style": "center",
    "slideshow": {
     "slide_type": "slide"
    }
   },
   "source": [
    "## Simple example: Hill Climbing local search\n",
    "\n",
    "Sorts list by decreasing quality <=> increasing distance_to_goal\n",
    "\n",
    "Doesn’t allow back-tracking \n",
    "  - Discard all but top node after sorting.\n",
    "\n",
    "In practice: examine child-nodes then:\n",
    " - move to one with better heuristic value if exists,\n",
    " - else stop (even if goal / global optimum not reached)\n",
    "\n",
    "greedy/steepest ascent variants:\n",
    " - Examine all child nodes and follow first / best  improvement.\n",
    "\n",
    "**Quick but gets stuck in local optima**\n"
   ]
  },
  {
   "cell_type": "markdown",
   "metadata": {
    "cell_style": "center",
    "slideshow": {
     "slide_type": "slide"
    }
   },
   "source": [
    "## Hill Climbing can get stuck even on our simple example! <img src=\"figures/search/hillclimbing-tree.png\" style=\"float:right\" width=50%>\n",
    "\n"
   ]
  },
  {
   "cell_type": "markdown",
   "metadata": {
    "cell_style": "center",
    "slideshow": {
     "slide_type": "slide"
    }
   },
   "source": [
    " ## Pseudocode for hill-climbing (main loop only)\n",
    " \n",
    "    WHILE ( Openlist not empty) DO\n",
    "      SORT(OpenList by increasing distance to goal)  #quality\n",
    "      DELETE(all but first item in openlist)         # no backtracking\n",
    "      MOVE (first item from openList into working candidate)\n",
    "      FOREACH (1-step neighbour)\n",
    "        neighbour = ApplyMoveOperator(workingCandidate)  \n",
    "        Evaluate(neighbour)                               \n",
    "\t    IF(IsAtGoal(neighbour))\n",
    "          OUTPUT (SUCCESS, neighbour)\n",
    "        ELSE IF (neighbor is better than workingCandidate) #stop at plateau    \n",
    "          APPEND( neighbor to end of openList)\n",
    "        ELSE\n",
    "          APPEND( neighbour to end of closedList)\n",
    "      COPY (working candidate to closedList)\n"
   ]
  },
  {
   "cell_type": "markdown",
   "metadata": {
    "cell_style": "center",
    "slideshow": {
     "slide_type": "slide"
    }
   },
   "source": [
    "## Best First Search <img src=\"figures/search/best-first-tree.png\" style=\"float:right\" width = 50%>\n",
    "Like hill-climbing is driven by quality  \n",
    "**but keeps unused nodes in the open list**\n",
    "\n",
    "At every iteration:\n",
    "- sort **whole queue** by decreasing quality,  \n",
    "  instead of just sorting children of current node.\n",
    "- i.e. doesn’t removed unexplored nodes  \n",
    "  This adds  backtracking\n",
    "\n",
    "Tends to produce shorter paths than depth- or breadth first search\n"
   ]
  },
  {
   "cell_type": "markdown",
   "metadata": {
    "cell_style": "center",
    "slideshow": {
     "slide_type": "slide"
    }
   },
   "source": [
    "### pseudocode for best-first search (main loop only)\n",
    "    WHILE ( Openlist not empty) DO\n",
    "      SORT(OpenList by increasing distance to goal)  ## quality\n",
    "      MOVE (first item from openList into working candidate)\n",
    "      FOREACH (1-step neighbour)\n",
    "        neighbour = ApplyMoveOperator(workingCandidate)  \n",
    "        Evaluate(neighbour)                               \n",
    "\t    IF(IsAtGoal(neighbour))\n",
    "          OUTPUT (SUCCESS, neighbour)\n",
    "        ELSE IF (neighbour is feasible) ##don't stop at plateau \n",
    "          APPEND( neighbour to end of openList)\n",
    "        ELSE\n",
    "          APPEND( neighbour to end of closedList)\n",
    "      COPY (working candidate to closedList)\n",
    "\n",
    "\n",
    "\n",
    "<div class=\"alert alert-block alert-danger\"> note best-first get back-tracking by omitting the line <b>DELETE(all but first item in openlist)</b>  </div> "
   ]
  },
  {
   "cell_type": "markdown",
   "metadata": {
    "cell_style": "center",
    "slideshow": {
     "slide_type": "slide"
    }
   },
   "source": [
    "## Quiz Questions:\n",
    "- Hill-Climbers can get stuck in local optima (True:False)\n",
    "- The local optima a hill-climber finds, depends on where it starts (True:False)\n",
    "- Which of these might help local search?\u000b",
    "Vote for as many as you think will\n",
    "  - Multiple runs from random starting places\n",
    "  - Multiple runs, start each one by making random changes to  the last local optimum\n",
    "  - One  run, changing the move operator everytime you reach a local optimum\n",
    "  - Sometimes accepting worsening moves\n"
   ]
  },
  {
   "cell_type": "markdown",
   "metadata": {
    "cell_style": "center",
    "slideshow": {
     "slide_type": "slide"
    }
   },
   "source": [
    "## Taking into account the cost of reaching a solution\n",
    "\n",
    "E.g. planning \n",
    "Routes to avoid toll roads (cost) or built-up areas (air pollution)\n",
    "path of a manipulator to reduce number of moves \n"
   ]
  },
  {
   "cell_type": "markdown",
   "metadata": {
    "cell_style": "center",
    "slideshow": {
     "slide_type": "slide"
    }
   },
   "source": [
    "## A* : **guaranteed** shortest/least cost paths <img src=\"figures/search/optimal.png\" style=\"float:right\" width = 25%>\n",
    "Adds cost to Best-First to find optima\n",
    " - Shortest path / least complex model,\n",
    "\n",
    "Sorts the list of unexplored nodes by f(node):\n",
    "- f(node) = g(node) + h(node),  \n",
    "  h(node) =  estimated distance to goal (heuristic).  \n",
    "  g(node) = cost of reaching that node.\n",
    "\n",
    "So you can stop looking as soon as  you know that   \n",
    "g(node) > best_so_far for all remaining nodes\n",
    "\n",
    "**A* is complete and optimal as long as h(node) is an underestimate**\n",
    "\n",
    "A* is used for : path-finding (especially NPCs in games),   query optimisation, …\n"
   ]
  },
  {
   "cell_type": "markdown",
   "metadata": {
    "cell_style": "center",
    "slideshow": {
     "slide_type": "slide"
    }
   },
   "source": [
    "## pseudocode for A* (main loop only)\n",
    "\n",
    "    WHILE ( Openlist not empty) DO\n",
    "      SORT(OpenList by combined distance to goal and cost)  ## quality\n",
    "      MOVE (first item from openList into working candidate)\n",
    "      FOREACH (1-step neighbour)\n",
    "        neighbour = ApplyMoveOperator(workingCandidate)  \n",
    "        Evaluate(neighbour)                               \n",
    "        IF(IsAtGoal(neighbour))\n",
    "          OUTPUT (SUCCESS, neighbour)\n",
    "        ELSE IF (neighbour is feasible) ##don't stop at plateau \n",
    "          APPEND( neighbour to end of openList)\n",
    "        ELSE\n",
    "          APPEND( neighbour to end of closedList)\n",
    "      COPY (working candidate to closedList)\n",
    "<div class=\"alert alert-block alert-danger\"> This is just best-first with a modified sort condition.<br> You could modify the IF statement to only add things to openlist if g(neighbour) < f(workingCandidate)  </div> "
   ]
  },
  {
   "cell_type": "markdown",
   "metadata": {
    "cell_style": "center",
    "slideshow": {
     "slide_type": "slide"
    }
   },
   "source": [
    "## A* example <img src=\"figures/search/Astar-tree.png\" style = \"float:right\" width = 40%>\n",
    " We show the cost as a second number in each node – in this case just the depth\n",
    "\n",
    "## What does \"optimality\" mean for A* ?\n",
    "Finds node which satisfies the goal criteria\n",
    "\n",
    "If there is more than one of these, it finds the one with the least cost \n",
    "\n",
    "How else could we interpret this?\n",
    "What might be desirable?\n",
    "\n",
    "\n"
   ]
  },
  {
   "cell_type": "markdown",
   "metadata": {
    "slideshow": {
     "slide_type": "slide"
    }
   },
   "source": [
    "# Dijktra's algorithm\n",
    "<img src = \"figures/search/dijkstra.gif\" style = \"float:right\" width = 50%>\n",
    "\n",
    "Designed for use in tracing routes between points in an weighted undirected graph.\n",
    "- \"weighted\" means there are cost/distances on each link (edge in the graph)  \n",
    "  e.g. tolls/ different terrains, ...\n",
    "- \"undirected\" means you can traverse an edge in either direction ( no one-way roads)\n",
    "\n",
    "Finds the single shortest path between two points\n",
    "Most used for path-finding – a *lot* in games\n",
    "\n",
    "Like A* but ignores heuristic cost\n",
    "h(n) = 0 for all n\n",
    "\n",
    "\"Dijkstra Animation\" by Ibmua - Work by uploader.. Licensed under Public Domain via Commons - https://commons.wikimedia.org/wiki/File:Dijkstra_Animation.gif#/media/File:Dijkstra_Animation.gif\n"
   ]
  },
  {
   "attachments": {
    "image.png": {
     "image/png": "[encoded data removed]"
    }
   },
   "cell_type": "markdown",
   "metadata": {
    "slideshow": {
     "slide_type": "slide"
    }
   },
   "source": [
    "## Really good description and discussion of howe different algorithms can be used for path-finding\n",
    "\n",
    "http://www.redblobgames.com/pathfinding/a-star/introduction.html\n",
    "![image.png](attachment:image.png)\n",
    "\n",
    "\n",
    "## what does this mean in temrs of our existing pseudocode?\n",
    "Solution = node in graph = location on grid\n",
    "- Representation:\n",
    "  - 2 ints for {x,y} co-ordinates\n",
    "  - (optional) Add parent location to trace route afterwards\n",
    "- Distance from start\n",
    "- Could add distance to goal = but ignored by algorithm so why bother?\n",
    "\n",
    "Sort criteria for picking working candidate from open list = closest distance to start\n"
   ]
  },
  {
   "cell_type": "markdown",
   "metadata": {
    "slideshow": {
     "slide_type": "slide"
    }
   },
   "source": [
    "## pseudocode for Dijkstra (main loop only)\n",
    "\n",
    "\n",
    "    WHILE ( Openlist not empty) DO\n",
    "      SORT(OpenList by increasing distance from start)  ## distance travelled\n",
    "      MOVE (first item from openList into working candidate)\n",
    "      FOREACH (1-step neighbour)    neighbour = ApplyMoveOperator(workingCandidate)  \n",
    "        Evaluate(neighbour) ##using route through workingCandidate                               \n",
    "        IF(IsAtGoal(neighbour))\n",
    "           OUTPUT (SUCCESS, neighbour)\n",
    "        ELSE IF (neighbor is already on openList) ## might have new\n",
    "           UPDATE(neighbor.dist_to_start on openList) ##quicker route to neighour\n",
    "        ELSE IF(neighbor is feasible)\n",
    "           ADD( neighbor to end of openList)\n",
    "        ELSE\n",
    "           ADD( neighbor to end of closedList)\n",
    "      COPY (working candidate to closedList)    \n"
   ]
  },
  {
   "cell_type": "markdown",
   "metadata": {
    "slideshow": {
     "slide_type": "slide"
    }
   },
   "source": [
    "## Quiz Questions\n",
    "For a ‘decision’ problem, which of these   would be appropriate ?\n",
    "\n",
    "For an exam timetabling problem which of these   would be appropriate ?\n",
    "\n",
    "For a npc planning a path to chase someone in a game, which of these   would be appropriate ?\n",
    "\n",
    "For organising daily delivery schedules, which of these   would be appropriate ?\n",
    "\n",
    "- Depth-first\n",
    "- Breadth-first\n",
    "- Hill-Climbing\n",
    "- Best-First\n",
    "- A*\n",
    "- Dijkstra\n"
   ]
  },
  {
   "cell_type": "markdown",
   "metadata": {
    "slideshow": {
     "slide_type": "slide"
    }
   },
   "source": [
    "## Summary of search topic:\n",
    "You need to know about and recognise:\n",
    "- Common framework\n",
    "- Depth and Best first search when there is no quality function\n",
    "- Characteristics of a good heuristic quality function\n",
    "- Simple Hill Climber\n",
    "- Best first\n",
    "- A*\n",
    "- Dijkstra’s Algorithm\n",
    "\n",
    "You should be able to answer questions about\n",
    "- How to implement different strategies within a common framework\n",
    "- Choosing an appropriate search strategy for a problem:\n",
    "  - Do you have a way of assigning quality?\n",
    "  - What are your trade-offs for time vs storage vs optimality?\n",
    "  - Can ‘good-enough’ be ok?\n"
   ]
  }
 ],
 "metadata": {
  "celltoolbar": "Slideshow",
  "kernelspec": {
   "display_name": "AIenv",
   "language": "python",
   "name": "aienv"
  },
  "language_info": {
   "codemirror_mode": {
    "name": "ipython",
    "version": 3
   },
   "file_extension": ".py",
   "mimetype": "text/x-python",
   "name": "python",
   "nbconvert_exporter": "python",
   "pygments_lexer": "ipython3",
   "version": "3.8.2"
  }
 },
 "nbformat": 4,
 "nbformat_minor": 4
}
