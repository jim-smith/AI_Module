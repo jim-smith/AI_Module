{
 "cells": [
  {
   "cell_type": "markdown",
   "metadata": {
    "slideshow": {
     "slide_type": "slide"
    }
   },
   "source": [
    "### AIML context: Setting the domain of a knowledge base using  using `<topic>`\n",
    "- You can use the tag pair &lt;topic&gt; **before** a group of categories to mark that they belong to a particular topic\n",
    "- Then within other categories in your main conversation you can set topics  \n",
    "  and your bot will pick up  right set of categories"
   ]
  },
  {
   "cell_type": "code",
   "execution_count": 1,
   "metadata": {
    "slideshow": {
     "slide_type": "slide"
    }
   },
   "outputs": [
    {
     "name": "stdout",
     "output_type": "stream",
     "text": [
      "Writing context1.aiml\n"
     ]
    }
   ],
   "source": [
    "%%writefile \"context1.aiml\"\n",
    "<aiml>\n",
    "\n",
    "<category>\n",
    "    <pattern>LETS TALK ABOUT *</pattern>\n",
    "    <template> <think> <set name=\"topic\"> <star/></set> </think> \n",
    "                Ok, do you peel them before you eat them?     \n",
    "    </template>\n",
    "</category>\n",
    "\n",
    "<topic name= \"APPLES\">\n",
    "    <category>\n",
    "        <pattern>I ALWAYS PEEL THEM </pattern>\n",
    "        <template> Really!  Do you then eat the peel?</template>\n",
    "    </category>\n",
    "</topic>\n",
    "\n",
    "<topic name= \"ORANGES\">\n",
    "    <category>\n",
    "        <pattern>I ALWAYS PEEL THEM </pattern>\n",
    "        <template> Me too!</template>\n",
    "    </category>\n",
    "</topic>\n",
    "\n",
    "<category>\n",
    "    <pattern>*</pattern>\n",
    "    <template>This is a fall-back answer.</template>\n",
    "</category>\n",
    "</aiml>"
   ]
  },
  {
   "cell_type": "code",
   "execution_count": null,
   "metadata": {
    "slideshow": {
     "slide_type": "slide"
    }
   },
   "outputs": [],
   "source": [
    "import aiml\n",
    "myBot= aiml.Kernel()\n",
    "myBot.learn(\"context1.aiml\")\n",
    "print( \"Successfuly loaded {} categories\".format(myBot.numCategories()))\n",
    "\n",
    "\n",
    "keepGoing=True\n",
    "while(keepGoing):\n",
    "    nextInput = input(\"Enter your message >> \")\n",
    "    if(nextInput=='bye'):\n",
    "        keepGoing= False\n",
    "    else:\n",
    "        print (myBot.respond(nextInput))\n"
   ]
  },
  {
   "cell_type": "markdown",
   "metadata": {
    "slideshow": {
     "slide_type": "slide"
    }
   },
   "source": [
    "## AIML context over time: referencing history using &lt;that&gt;\n",
    "\n",
    "Some times answers and responses only make sense within the context of the history of a conversation.\n",
    "\n",
    "- \"Do you like apples?\"  \n",
    "   \"Yes\"\n",
    "   vs.  \n",
    "   \"Do you hate apples?\"  \n",
    "     \"Yes\"\n",
    "\n",
    "- In AIML we can access the last thing the bot said using &lt;that&gt; tag-pairs\n",
    "- usually we put these as an extra condition between the &lt;pattern&gt; and the &lt;template&gt;"
   ]
  },
  {
   "cell_type": "code",
   "execution_count": 3,
   "metadata": {
    "slideshow": {
     "slide_type": "slide"
    }
   },
   "outputs": [
    {
     "name": "stdout",
     "output_type": "stream",
     "text": [
      "Writing context2.aiml\n"
     ]
    }
   ],
   "source": [
    "%%writefile \"context2.aiml\"\n",
    "<aiml>\n",
    "<topic name= \"APPLES\">\n",
    "    <category>\n",
    "        <pattern>YES</pattern>\n",
    "        <that> OK DO YOU PEEL THEM BEFORE YOU EAT THEM</that>\n",
    "        <template> Really!  Do you then eat the peel?</template>\n",
    "    </category>\n",
    "\n",
    "\n",
    "    <category>\n",
    "        <pattern>YES </pattern>\n",
    "        <that> REALLY DO YOU THEN EAT THE PEEL</that>\n",
    "        <template> Yuk, not me! </template>\n",
    "    </category>\n",
    "    \n",
    "    <category>\n",
    "    <pattern> * </pattern> \n",
    "    <template> This is a default answer for apples. The last thing I said was: <that/> </template>\n",
    "    </category>\n",
    "</topic>\n",
    "\n",
    "\n",
    "</aiml>"
   ]
  },
  {
   "cell_type": "code",
   "execution_count": null,
   "metadata": {
    "slideshow": {
     "slide_type": "slide"
    }
   },
   "outputs": [],
   "source": [
    "myBot.learn(\"context2.aiml\")\n",
    "#print( \"Successfuly loaded {} categories\".format(myBot.Categories()))\n",
    "\n",
    "\n",
    "keepGoing=True\n",
    "while(keepGoing):\n",
    "    nextInput = input(\"Enter your message >> \")\n",
    "    if(nextInput=='bye'):\n",
    "        keepGoing= False\n",
    "    else:\n",
    "        print (myBot.respond(nextInput))\n"
   ]
  },
  {
   "cell_type": "markdown",
   "metadata": {},
   "source": [
    "# Rule precedence in AIML\n",
    "\n",
    "<div width=100%>\n",
    "  <div width = 50% style= \"float:left\">\n",
    "    Patterns get expanded to include context and have this priority:\n",
    "    <ol>\n",
    "         <li>  Pattern  &lt;topic&gt; and a &lt;that&gt; </li>\n",
    "        <li>  Pattern with a &lt;topic&gt;</li>\n",
    "        <li>  Pattern with a &lt;that&gt;   </li>\n",
    "        <li> Pattern with no &lt;topic&gt; or &lt;that&gt; </li>\n",
    "    </ol> \n",
    "    Within each of these there is a priority according to wildcards.\n",
    " </div>\n",
    " <div width = 50% style= \"float:right\">\n",
    "      <img src=\"figures/KR2/AIML-wildcard-priority.png\" width=80% >\n",
    " </div>\n",
    "</div>"
   ]
  },
  {
   "cell_type": "markdown",
   "metadata": {
    "slideshow": {
     "slide_type": "slide"
    }
   },
   "source": [
    "## Summary\n",
    "You need to:\n",
    "1. Be able to explain, with examples,  how context is dealt with in AIML\n",
    " - `<topic>` for grouping rules  (setting their domains)\n",
    " - `<that>` for short-term knowledge aboutthe history fo a conversation.\n",
    "2. Be able to explain, and use in your implementations, the priority  AIML interpreters use to select which cagtegory apply."
   ]
  },
  {
   "cell_type": "code",
   "execution_count": null,
   "metadata": {},
   "outputs": [],
   "source": []
  }
 ],
 "metadata": {
  "celltoolbar": "Slideshow",
  "kernelspec": {
   "display_name": "Python 3",
   "language": "python",
   "name": "python3"
  },
  "language_info": {
   "codemirror_mode": {
    "name": "ipython",
    "version": 3
   },
   "file_extension": ".py",
   "mimetype": "text/x-python",
   "name": "python",
   "nbconvert_exporter": "python",
   "pygments_lexer": "ipython3",
   "version": "3.6.2"
  }
 },
 "nbformat": 4,
 "nbformat_minor": 4
}
