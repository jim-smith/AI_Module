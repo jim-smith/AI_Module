{
 "cells": [
  {
   "cell_type": "markdown",
   "metadata": {
    "slideshow": {
     "slide_type": "slide"
    }
   },
   "source": [
    "## Knowledge Representation: Connectives, Variables and Quantifiers\n",
    "\n",
    "### Connectives express knowledge of the relationship between facts\n",
    "- Each one is strictly defined via Truth Tables\n",
    "- AND   ^\n",
    "- OR      V \n",
    "- NOT    ¬\n",
    "- IMPLIES =>\n",
    "\n",
    "IsCat(Tom) AND IsMouse (Jerry) => Chases(tom,jerry)\n",
    "\n",
    "Bit boring if we have to write out every possible cat and mouse ??"
   ]
  },
  {
   "cell_type": "markdown",
   "metadata": {
    "cell_style": "split",
    "slideshow": {
     "slide_type": "slide"
    }
   },
   "source": [
    "## Variables  represent objects, \n",
    "Variables often written uas single capital letter A, B etc.   \n",
    "where A could ‘stand for’ any object ‘alice’, 'myApple', myBanana' etc until it is BOUND.\n",
    "\n",
    "- isCat(X) ^ isMouse(Y) => chases(X,Y)  \n",
    "   \n",
    "Does *variable* here mean the same as in programming?\n",
    "- here we're using variables to specify **long term knowledge**\n",
    "- so it means a bit more than just declaring a variable in C code.\n",
    "- Like specifying reasoning at the class level.\n",
    "\n",
    "### Quantifiers encode meta-knowledge about variables "
   ]
  },
  {
   "cell_type": "markdown",
   "metadata": {
    "cell_style": "split",
    "slideshow": {
     "slide_type": "fragment"
    }
   },
   "source": [
    "### Universal Quantifiers (for all) ∀\n",
    "'Closed-world'  => *implicit* rules, \n",
    "e.g. *all apples are green, round and smooth*.  But we could later add rules for red apples, etc.\n",
    "\n",
    "Universal quantifiers  allow us to **generalise**. \n",
    "- For example: *All oranges have rough skin*   \n",
    "   ∀ a, is_orange(a) => is_rough(a)  \n",
    "\n",
    "\n",
    "### Existential Quantifier (there exists) ∃\n",
    "Allow you to assert that  there is at least one thing of a type with a specific property.    \n",
    "- Not all apples are green  \n",
    "  ∃ a, is_apple(a) ^  ¬ isGreen(a)\n"
   ]
  },
  {
   "cell_type": "markdown",
   "metadata": {},
   "source": [
    "# What do you do if more than one rule matches?\n",
    "<img src=\"figures/KR1/expert-system.png\" style = \"float:right\">\n",
    "\n",
    "You have to **choose** which rule to apply\n",
    "\n",
    "- This is known as *conflict resolution*\n",
    "- Some expert system shells provide the user with a set of options:\n",
    " - most specific rule (the one with the most conditions)\n",
    " - the first rule to match when reading the rule base\n",
    " - the most recent rule matched\n",
    " - etc.\n",
    "\n",
    "This should be a design decision: it is another form of long-term knowledge.\n",
    "- This time the meta-knowledge is about what you , the designer, feel is most important.  \n",
    "  \n",
    "- Sadly, all too often this choice is *implicit* and is buried deep in the implementation.  \n",
    "  \n",
    "- Sometimes it is made *explicit*. \n",
    "  this gives you the chance to structure your knowledge base accordingly.  \n",
    "  (AIML is a good example of this).\n",
    "\n",
    " "
   ]
  },
  {
   "cell_type": "markdown",
   "metadata": {
    "cell_style": "center",
    "slideshow": {
     "slide_type": "slide"
    }
   },
   "source": [
    "## Different logics have different components!\n",
    "\n",
    "- Propositional Logic has connectives **but not variables or quantifiers**\n",
    " - so it is not very expressive (can't say all cats chase mice)  \n",
    " - but it is  **Sound**: you can trust its findings\n",
    "  - and it is **Decideable**: it will always make a decision, even if that is 'dont know' \n",
    "- First Order Logic has connectives, variables and quantifiers\n",
    " - So it is much more expressive\n",
    " - it is sound but only semi-decideable\n",
    " \n",
    " \n",
    "- AIML has variables, but not explicit quantifiers\n",
    "\n",
    "\n",
    " "
   ]
  },
  {
   "cell_type": "markdown",
   "metadata": {
    "slideshow": {
     "slide_type": "slide"
    }
   },
   "source": [
    "## Summary\n",
    "You need to:\n",
    "1. Know about the role of connectives, variables and quantifiers in Knowl;edge Representation Langiages for specfying **long-term** knowledge.\n",
    "2. Understand that different KRLs use different components, and this affects whether they are guaranteed to finish.\n",
    "3. Understand the difference between using variables for long-term knowledge (tend to be in rules) and short-term knowledge (tend to be for setting properties)\n",
    "4. Understand that choosing which rule to fire is a design decision in which you iomplicitly encide more metaknowledge about your preferences.\n",
    "5. Understand how these are implemented in AIML (our example KRL). \n",
    "   - Wildcards and `<star/>` for long-term variables in rules\n",
    "   - `<topic>` for grouping rules  (setting their domains)\n",
    "   - `<think>` with `<set>` and `<get>` for short-term knowledge / properties."
   ]
  },
  {
   "cell_type": "code",
   "execution_count": null,
   "metadata": {},
   "outputs": [],
   "source": []
  }
 ],
 "metadata": {
  "celltoolbar": "Slideshow",
  "kernelspec": {
   "display_name": "Python 3",
   "language": "python",
   "name": "python3"
  },
  "language_info": {
   "codemirror_mode": {
    "name": "ipython",
    "version": 3
   },
   "file_extension": ".py",
   "mimetype": "text/x-python",
   "name": "python",
   "nbconvert_exporter": "python",
   "pygments_lexer": "ipython3",
   "version": "3.6.2"
  }
 },
 "nbformat": 4,
 "nbformat_minor": 4
}
