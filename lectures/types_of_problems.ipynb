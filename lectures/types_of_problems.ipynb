{
 "cells": [
  {
   "cell_type": "markdown",
   "metadata": {
    "slideshow": {
     "slide_type": "slide"
    }
   },
   "source": [
    "# The three basic types of problems\n",
    "## Artificial Intelligence 1\n",
    "### Lecture 1, part 2\n",
    "Jim Smith"
   ]
  },
  {
   "cell_type": "markdown",
   "metadata": {
    "cell_style": "center",
    "slideshow": {
     "slide_type": "slide"
    }
   },
   "source": [
    "# The Big Idea\n",
    "(parts of) computers do things in a sequence\n",
    "\n",
    "<div >\n",
    "<div style=\"float:left; width: 25%;\">\n",
    "    <h3>Input</h3> \n",
    "    <ul>\n",
    "        <li>keyboard</li>\n",
    "        <li> mouse</li>\n",
    "        <li> joystick</li>\n",
    "        <li> camera</li>\n",
    "        <li>microphone</li>\n",
    "        <li><b> another computer or programme</b></li>\n",
    "     </ul>\n",
    "  </div>\n",
    " \n",
    "    \n",
    " <div style = \"float:left;width:5%\">\n",
    " <br><br><br>   <span style='font-size:50px;'>&#8680;</span>\n",
    " </div>\n",
    "    \n",
    "<div  style=\"float:left; width:30%;background:lightblue\">\n",
    "    <h3>Model</h3>\n",
    "    of a process or part of the world\n",
    "    <ul>\n",
    "        <li>designed by a person</li>\n",
    "        <li> or learned by an algorithm</li>\n",
    "    </ul>\n",
    "</div>\n",
    "\n",
    "<div style = \"float:left;width:5%\">\n",
    " <br><br><br>   <span style='font-size:50px;'>&#8680;</span>\n",
    "</div>\n",
    "\n",
    " <div style=\"float:left; width:25%\">\n",
    "    <h3>Output</h3> \n",
    "    <ul>\n",
    "        <li>screen</li>\n",
    "        <li> motor</li>\n",
    "        <li>loudspeaker</li>\n",
    "        <li><b> another computer or programme</b></li>\n",
    "     </ul>\n",
    "</div>\n",
    "<br style=\"clear:left;\"/>        \n",
    " </div>\n",
    "\n",
    "\n"
   ]
  },
  {
   "cell_type": "markdown",
   "metadata": {
    "cell_style": "split",
    "slideshow": {
     "slide_type": "slide"
    }
   },
   "source": [
    "## For example, this notebook is just a model.\n",
    "\n",
    "Made of up some \n",
    "- generic parts: markdown, html, reveal.js, python\n",
    "- and some specific parts: the slide content \n",
    "\n",
    "The inputs are my mouse/keyboard presses.\n",
    "\n",
    "### But a call to a simple function also fits this viewpoint."
   ]
  },
  {
   "cell_type": "code",
   "execution_count": null,
   "metadata": {
    "cell_style": "split",
    "slideshow": {
     "slide_type": "fragment"
    }
   },
   "outputs": [],
   "source": [
    "input = 'this is a message to show'\n",
    "\n",
    "\"\"\"\n",
    "print() is a model \n",
    "of the process of drawing \n",
    "something on screen\n",
    " it's much easier than \n",
    "worrying about pixels!\n",
    "\"\"\"\n",
    "print(str.upper( input))"
   ]
  },
  {
   "cell_type": "markdown",
   "metadata": {
    "slideshow": {
     "slide_type": "slide"
    }
   },
   "source": [
    "# Big Idea Part 2:\n",
    "Problem Solving <==> one of the three parts is missing.\n",
    "\n",
    "Different types of problem are associated with different questions.\n",
    "\n",
    "<div >\n",
    "<div style=\"float:left; width: 30%;\">\n",
    "    <h3>Input</h3> \n",
    "    <ul>\n",
    "        <li>how do I?</li>\n",
    "        <li> what's the best/quickest/...?</li>\n",
    "     </ul>\n",
    "  </div>\n",
    "\n",
    " <div style = \"float:left;width:5%\">\n",
    "<br> <br>.\n",
    " </div>\n",
    "\n",
    "    \n",
    "    \n",
    "<div style=\"float:left; width:30%;background:lightblue\">\n",
    "    <h3>Model</h3>\n",
    "    <ul>\n",
    "        <li>how does X relate to Y?</li>\n",
    "        <li>how do these symptons link to diagnosis?</li>\n",
    "    </ul>\n",
    "</div>\n",
    "\n",
    "<div style = \"float:left;width:5%\">\n",
    "<br> <br>.\n",
    " </div>\n",
    "    \n",
    " <div style=\"float:left; width:30%\">\n",
    "  <h3>Output</h3> \n",
    "    <ul>\n",
    "        <li>who/what is this?</li>\n",
    "        <li> what will happen if ...?</li>\n",
    "        <li>what will the ... be tomorrow?</li>\n",
    "     </ul>\n",
    "</div>\n",
    "<br style=\"clear:left;\"/>        \n",
    " </div>"
   ]
  },
  {
   "cell_type": "markdown",
   "metadata": {
    "slideshow": {
     "slide_type": "slide"
    }
   },
   "source": [
    "# So we can define three types of problem\n",
    "\n",
    "<div >\n",
    "<div style=\"float:left; width: 30%;border:2px\">\n",
    "    <h3>Optimisation</h3>\n",
    "    <b>Given</b>\n",
    "    <ul>\n",
    "        <li>A model of the situation</li>\n",
    "        <li>Some constraints about the output</li>\n",
    "     </ul>\n",
    "    <b>Find</b> the  inputs that produce the desired output.\n",
    "    <br><small>Sometimes called <b><i>planning</i></b> when the answer is a sequence of inputs.</small>\n",
    "  </div>\n",
    " \n",
    "<div style = \"float:left;width:5%\">\n",
    "<br> <br>.\n",
    " </div>\n",
    "    \n",
    "<div  style=\"float:left; width:30%;background:lightblue\">\n",
    "    <h3>Modelling</h3>\n",
    "    <b>Given</b>:\n",
    "    <ul>\n",
    "        <li> A set of inputs (examples)</li>\n",
    "        <li> corresponding outputs/labels</li>\n",
    "       </ul>\n",
    "    <br>\n",
    "    <b>Find</b> the model that:\n",
    "       <ul>\n",
    "        <li>Maps the known inputs onto their outputs</li>\n",
    "           <li> And generalises to new cases</li>\n",
    "       </ul>\n",
    "</div>\n",
    "\n",
    "\n",
    " <div style = \"float:left;width:5%\">\n",
    "<br> <br>.\n",
    " </div>\n",
    "\n",
    "\n",
    " <div style=\"float:left; width:30%\">\n",
    "  <h3>Prediction</h3> \n",
    "     <b>Given</b>:\n",
    "    <ul>\n",
    "        <li>a model of the situation / process</li>\n",
    "        <li> some inputs</li>\n",
    "     </ul>\n",
    "     <b>Find</b> the correct output (prediction)\n",
    "</div>\n",
    "<br style=\"clear:left;\"/>        \n",
    " </div>"
   ]
  },
  {
   "cell_type": "markdown",
   "metadata": {
    "cell_style": "center",
    "slideshow": {
     "slide_type": "slide"
    }
   },
   "source": [
    "# Optimisation Example: Travelling Salesperson Problem\n",
    "Work out the quickest way to visit a set of cities, going through each exactly once."
   ]
  },
  {
   "cell_type": "raw",
   "metadata": {
    "slideshow": {
     "slide_type": "notes"
    }
   },
   "source": [
    "Notes"
   ]
  },
  {
   "cell_type": "code",
   "execution_count": 4,
   "metadata": {
    "cell_style": "center",
    "code_folding": [
     4,
     13
    ],
    "slideshow": {
     "slide_type": "fragment"
    }
   },
   "outputs": [
    {
     "data": {
      "image/png": "[encoded data removed]",
      "text/plain": [
       "<Figure size 432x288 with 1 Axes>"
      ]
     },
     "metadata": {
      "needs_background": "light"
     },
     "output_type": "display_data"
    }
   ],
   "source": [
    "import random, numpy, math,  matplotlib.pyplot as plt\n",
    "# place cities in random positions\n",
    "num_cities=10\n",
    "\n",
    "def get_distances():\n",
    "    distances = numpy.zeros((num_cities,num_cities))\n",
    "    for row in range (num_cities):\n",
    "        for col in range (num_cities):\n",
    "            if(row != col):\n",
    "                xdist = cities[row][0] - cities[col][0] \n",
    "                ydist = cities[row][1] - cities[col][1]\n",
    "                distances[row][col] = math.sqrt ( xdist*xdist + ydist*ydist )\n",
    "    return distances\n",
    "def plot_cities():\n",
    "    fig, ax = plt.subplots()        \n",
    "    for i in range(num_cities):\n",
    "        ax.plot(cities[i][0], cities[i][1],  'Xb');\n",
    "    modelstrings = numpy.array([\"%.2f\" % x for x in model.reshape(model.size)])\n",
    "    modelstrings = modelstrings.reshape(model.shape)\n",
    "    ax.table(cellText = modelstrings, loc = 'right', bbox=[1.1, 0, 1, 1])\n",
    "    plt.show()\n",
    "cities = [random.sample(range(100), 2) for x in range(num_cities)];\n",
    "model = get_distances()\n",
    "plot_cities()"
   ]
  },
  {
   "cell_type": "markdown",
   "metadata": {
    "cell_style": "split",
    "slideshow": {
     "slide_type": "slide"
    }
   },
   "source": [
    "### Model: the matrix of distances between cities\n",
    "### Output: A tour that visits each city exactly once\n",
    "\n",
    "- Condition on output:   Try to minimise tour length\n",
    "\n",
    "### Optimisation Algorithm: greedy constructive search\n",
    "- Starts with random city then repeatedly adds edge to closest unvisited city.\n",
    "- Not very good, but illustrates the point"
   ]
  },
  {
   "cell_type": "code",
   "execution_count": 5,
   "metadata": {
    "cell_style": "split",
    "code_folding": [
     7,
     15
    ],
    "slideshow": {
     "slide_type": "fragment"
    }
   },
   "outputs": [
    {
     "name": "stdout",
     "output_type": "stream",
     "text": [
      "[3, 8, 7, 6, 4, 0, 2, 9, 5, 1]\n"
     ]
    },
    {
     "data": {
      "image/png": "[encoded data removed]",
      "text/plain": [
       "<Figure size 432x288 with 1 Axes>"
      ]
     },
     "metadata": {
      "needs_background": "light"
     },
     "output_type": "display_data"
    }
   ],
   "source": [
    "def greedyConstructive(start = 0):\n",
    "    tour = [-1 for i in range (num_cities)]\n",
    "    tour[start]=0; \n",
    "    #loop through stops on the tour\n",
    "    for i in range(1,num_cities):\n",
    "        min_dist = 100000\n",
    "        #finding the next closest unvisited place\n",
    "        for k in range(num_cities):\n",
    "            dist_ik = model[tour[i-1]][k]\n",
    "            if tour[k] == -1 and  dist_ik < min_dist:\n",
    "                min_dist = dist_ik\n",
    "                min_k = k\n",
    "        tour[min_k] =i\n",
    "    return(tour)\n",
    "\n",
    "def show_tour(start=0):\n",
    "    plt.plot(cities[start][0],cities[start][1],'or',markersize=12)\n",
    "    plt.plot([cities[tour[i%num_cities]][0] for i in range(num_cities+1)], [cities[tour[i%num_cities ]][1] for i in range(num_cities+1)], 'Xb-')\n",
    "    plt.show()\n",
    "\n",
    "start = random.randint(0,num_cities-1)\n",
    "tour = greedyConstructive(start)\n",
    "print(tour)\n",
    "show_tour(start)"
   ]
  },
  {
   "cell_type": "markdown",
   "metadata": {
    "slideshow": {
     "slide_type": "slide"
    }
   },
   "source": [
    "# Other example optimisation problems\n",
    "- finding set of parameters for a design\n",
    " - 'look and feel' of a web page via CSS\n",
    " - component sizes and materials for physical design\n",
    " -  grouping data and methods into classes in software design\n",
    "- path-finding\n",
    "- action planning  in games, robotics,..."
   ]
  },
  {
   "cell_type": "markdown",
   "metadata": {
    "cell_style": "center",
    "slideshow": {
     "slide_type": "slide"
    }
   },
   "source": [
    "# Modelling example:\n",
    "### Learning a model from examples of fruit\n"
   ]
  },
  {
   "cell_type": "code",
   "execution_count": 9,
   "metadata": {
    "slideshow": {
     "slide_type": "fragment"
    }
   },
   "outputs": [
    {
     "data": {
      "image/png": "[encoded data removed]",
      "text/plain": [
       "<Figure size 432x288 with 1 Axes>"
      ]
     },
     "metadata": {
      "needs_background": "light"
     },
     "output_type": "display_data"
    }
   ],
   "source": [
    "import pandas as pd, seaborn as sns, numpy as np\n",
    "from sklearn.tree import DecisionTreeClassifier, plot_tree\n",
    "\n",
    "fruits = pd.read_csv('data/fruits.csv')\n",
    "\n",
    "def make_scatter():\n",
    "    fig, ax = plt.subplots()\n",
    "    for fruit in ['Apple','Banana','Orange']:\n",
    "        if (fruit== 'Apple'):\n",
    "            color = 'green'\n",
    "        elif (fruit=='Orange'):\n",
    "            color='orange'\n",
    "        else:\n",
    "            color='yellow'\n",
    "        thisfruitdata = fruits[fruits['Type']==fruit]\n",
    "        ax.scatter(thisfruitdata['Width'],thisfruitdata['Height'],c=color,label=fruit)\n",
    "    ax.legend()\n",
    "    ax.grid(True)\n",
    "    plt.show()\n",
    "make_scatter()"
   ]
  },
  {
   "cell_type": "markdown",
   "metadata": {
    "slideshow": {
     "slide_type": "slide"
    }
   },
   "source": [
    "## Now  split data into features (x) and labels (y)"
   ]
  },
  {
   "cell_type": "code",
   "execution_count": null,
   "metadata": {
    "slideshow": {
     "slide_type": "fragment"
    }
   },
   "outputs": [],
   "source": [
    "#fruits.replace(('apple', 'orange'), (1, 0), inplace=True)\n",
    "#classes = ['apple','orange']\n",
    "y = fruits['Type'].to_numpy()\n",
    "x = fruits.drop('Type',axis=1).to_numpy()\n",
    "featnames = fruits.columns\n",
    "featnames"
   ]
  },
  {
   "cell_type": "markdown",
   "metadata": {
    "slideshow": {
     "slide_type": "slide"
    }
   },
   "source": [
    "## Simple Decision Tree Classifier"
   ]
  },
  {
   "cell_type": "code",
   "execution_count": null,
   "metadata": {
    "slideshow": {
     "slide_type": "fragment"
    }
   },
   "outputs": [],
   "source": [
    "model = DecisionTreeClassifier()\n",
    "model.fit(x,y)\n",
    "\n",
    "theTree = plot_tree(model, feature_names = fruits.columns,class_names = ('Banana','Apple','Orange'),label = 'none',filled = True, impurity = False,rounded=True)"
   ]
  },
  {
   "cell_type": "markdown",
   "metadata": {
    "slideshow": {
     "slide_type": "slide"
    }
   },
   "source": [
    "# Other Modelling Examples:\n",
    "- Getting expertise from a person and coding that up in a rule base\n",
    " - e.g. a chatbot\n",
    " \n",
    "- more on this in the next video and Weeks 2-4"
   ]
  },
  {
   "cell_type": "markdown",
   "metadata": {
    "slideshow": {
     "slide_type": "slide"
    }
   },
   "source": [
    "# Prediction Example: \n",
    "## Using the learned model to predict the type of a new bit of fruit\n",
    "<img style=\"float:left\" src = \"figures/types_of_Problem_and_AI/lime.jpg\">\n",
    " \n",
    " - RGB = (50,205,50)\n",
    " - size = 4cm, round\n",
    "-  weight = 44g"
   ]
  },
  {
   "cell_type": "code",
   "execution_count": null,
   "metadata": {
    "slideshow": {
     "slide_type": "fragment"
    }
   },
   "outputs": [],
   "source": [
    "newRBG = (50,205,50)\n",
    "newfruitfeatures = np.array([50,205,50,40,40,44])\n",
    "prediction = model.predict(newfruitfeatures.reshape(1,-1))\n",
    "print ( 'prediction  is ' + prediction[0])"
   ]
  },
  {
   "cell_type": "markdown",
   "metadata": {},
   "source": [
    "# Other prediction examples\n",
    "\n",
    "- Face Recognition\n",
    "- Voice Recognition ( Speech To text)\n",
    "- Auto-captioning videos \n",
    "- Time series prediction\n",
    " - spread of Covid-19\n",
    " - e.g. air quality tomorrow so measures can be taken"
   ]
  },
  {
   "cell_type": "markdown",
   "metadata": {
    "cell_style": "center",
    "slideshow": {
     "slide_type": "slide"
    }
   },
   "source": [
    "# Take Home Message\n",
    "- Problem solving <=> finding the right choice for the 'missing piece'\n",
    "- This gives us  a way of:\n",
    " - breaking up big problems into little ones\n",
    " - identfying what type of problem each sub-problem is\n",
    " - and so identifying the right technology to use for that sub-problem\n",
    " \n",
    "## You need to:\n",
    "- learn the names of the three types of problem, \n",
    "- and what kind of question they correspond to\n",
    "- practise identfying what type of problem you have"
   ]
  }
 ],
 "metadata": {
  "celltoolbar": "Slideshow",
  "kernelspec": {
   "display_name": "Python 3",
   "language": "python",
   "name": "python3"
  },
  "language_info": {
   "codemirror_mode": {
    "name": "ipython",
    "version": 3
   },
   "file_extension": ".py",
   "mimetype": "text/x-python",
   "name": "python",
   "nbconvert_exporter": "python",
   "pygments_lexer": "ipython3",
   "version": "3.6.2"
  },
  "rise": {
   "start_slideshow_at": "selected"
  }
 },
 "nbformat": 4,
 "nbformat_minor": 4
}
