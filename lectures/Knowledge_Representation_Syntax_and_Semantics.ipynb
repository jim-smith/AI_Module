{
 "cells": [
  {
   "cell_type": "markdown",
   "metadata": {
    "slideshow": {
     "slide_type": "slide"
    }
   },
   "source": [
    "## Artificial Intelligence 1\n",
    "### Week 3:    Topic 1: Knowledge Representation 2/3\n",
    "\n",
    "This week:  \n",
    "- Knowledge Representation Languages   \n",
    "  = knowledge (rules + facts +metadata) \n",
    "  + logic ( abduction +and/or  induction and/or  deduction)   \n",
    "  + syntax\n",
    "- Syntax, Semantics, and Intepretation.   \n",
    "- Objects, variables & quantifiers\n",
    "\n",
    "- Different types of logic & their properties\n",
    "\n",
    "\n",
    "- Tutorial: hands-on experience building rule based systems"
   ]
  },
  {
   "cell_type": "markdown",
   "metadata": {
    "cell_style": "center",
    "slideshow": {
     "slide_type": "slide"
    }
   },
   "source": [
    "## Types of Reasoning"
   ]
  },
  {
   "cell_type": "markdown",
   "metadata": {
    "cell_style": "center",
    "slideshow": {
     "slide_type": "fragment"
    }
   },
   "source": [
    "1. **Deduction**: Given some long-term knowledge, and some observations, infer some new knowledge\n",
    " - The earth spins on an axis at right angles to the line connecting it to the sun.        \n",
    "   Therefore the sun will rise tomorrow\n",
    " - Deduction is **sound**.\n",
    "  "
   ]
  },
  {
   "cell_type": "markdown",
   "metadata": {
    "cell_style": "center",
    "slideshow": {
     "slide_type": "fragment"
    }
   },
   "source": [
    " \n",
    "2. **Induction**: Given some observations infer some long-term knowledge  \n",
    " - The sun will rise tomorrow because it has risen every day so far.\n",
    " - Induction is  **unsound**: because you only have limited experience.\n",
    " "
   ]
  },
  {
   "cell_type": "markdown",
   "metadata": {
    "cell_style": "center",
    "slideshow": {
     "slide_type": "slide"
    }
   },
   "source": [
    "## Types of Reasoning"
   ]
  },
  {
   "cell_type": "markdown",
   "metadata": {
    "cell_style": "center",
    "slideshow": {
     "slide_type": "fragment"
    }
   },
   "source": [
    "3. **Abduction**: Given some long-term knowledge and some observations, infer the causes of those observations.\n",
    " - The sun rises every day so maybe the earth is spinning on an axis at right angles to the sun.\n",
    " - Abduction is **unsound** - because there could be other causes.\n",
    " "
   ]
  },
  {
   "cell_type": "markdown",
   "metadata": {
    "cell_style": "center",
    "slideshow": {
     "slide_type": "fragment"
    }
   },
   "source": [
    "AIML is mostly used to do deduction.  \n",
    "- It is possible to have a bot learn new facts from interactions\n",
    " - but most bot-owners disable this \n",
    "  - because idiots teach them offensive things\n",
    "  - this is an example of why induction is not *Sound*, and there can be ethical problems"
   ]
  },
  {
   "cell_type": "markdown",
   "metadata": {
    "slideshow": {
     "slide_type": "slide"
    }
   },
   "source": [
    "### If we don’t know something , can it be true?"
   ]
  },
  {
   "cell_type": "markdown",
   "metadata": {
    "slideshow": {
     "slide_type": "fragment"
    }
   },
   "source": [
    ">\"There are known knowns. These are things we know that we know.   \n",
    "There are known unknowns. That is to say, there are things that we know we don't know.  \n",
    " But there are also unknown unknowns. There are things we don't know we don't know.”  \n",
    "\n",
    "Donald Rumsfeld, USA Secretary of State"
   ]
  },
  {
   "cell_type": "markdown",
   "metadata": {
    "cell_style": "split",
    "slideshow": {
     "slide_type": "subslide"
    }
   },
   "source": [
    "### Closed World:\n",
    "- If something is true,  then we know it to be true\n",
    "- So if we do not know it to be true, it must be false\n",
    "\n",
    "Really good for closed systems where we might expect to know everything\n",
    "\n",
    "Most expert  systems use the closed world assumption because it makes things more manageable"
   ]
  },
  {
   "cell_type": "markdown",
   "metadata": {
    "cell_style": "split",
    "slideshow": {
     "slide_type": "fragment"
    }
   },
   "source": [
    "### Open world\n",
    "- Allows for the possibility of “unknown”\n",
    "- Used for the semantic web (which tries to map the real world)\n",
    "\n",
    "### This is a design decision!\n",
    "- Not always explicit within a framework/toolkit\n",
    "- BUT in c/java/c++   if(x) really means if ( x != 0)\n",
    "- Could be as simple as having variables/attributes default to zero (false)\n"
   ]
  },
  {
   "cell_type": "markdown",
   "metadata": {
    "slideshow": {
     "slide_type": "slide"
    }
   },
   "source": [
    "Interactive Question\n",
    "- Suppose we are told: Jim does not eat meat.\n",
    "-  Is Jim vegan?\n"
   ]
  },
  {
   "cell_type": "markdown",
   "metadata": {
    "slideshow": {
     "slide_type": "slide"
    }
   },
   "source": [
    "## Syntax vs. Semantics\n",
    "<img src=\"figures/KR2/noRightTurn.png\" style=\"float:right\">\n",
    "\n",
    "**Syntax** tells us we can write P^Q, but not P^ or ^Q\n",
    "\n",
    "**Semantics** tells us what P^Q means\n",
    "- If we’re writing logic: P is true and Q is true\n",
    "- If we’re writing numerical maths: P to the power Q\n",
    "\n",
    "Semantics gives meaning to symbols\n",
    " - Not just text: visual language like glyphs or the  connectors in flowcharts, \n",
    " \n",
    "You’re probably getting used to seeing syntax issues these as compiler errors.  \n",
    "It’s harder to automatically test semantics so you need to write these  unit tests yourself.\n",
    "\n",
    "\n",
    "The same division between syntax and semantics can be seen in natural language:  \n",
    "‘They can fish’   has 2 meanings yet is syntactically identical. \n",
    "\n",
    "\n",
    "\n"
   ]
  },
  {
   "cell_type": "markdown",
   "metadata": {
    "slideshow": {
     "slide_type": "slide"
    }
   },
   "source": [
    "## Interpretation\n",
    "In logic, P ^ Q means that P is true AND Q is true.   \n",
    "But what do P and Q represent?  \n",
    "This is **interpretation** in whatever model we  are using.  \n",
    "\n",
    "The symbol => (implies) takes 2 arguments (*syntax*)  \n",
    "where each argument is a Boolean expression [ true | false ]   \n",
    "\n",
    "A=>B means that either A is false, or B is true (*semantics*)\n",
    "\n",
    "Let A represent ‘myApple has weight < 40g’ and B be ‘myApple is unripe’, (*interpretation*)  \n",
    "In rule form: *IF*  myApple has weight of less than 40g  *THEN* myApple is unripe\n"
   ]
  },
  {
   "cell_type": "markdown",
   "metadata": {
    "slideshow": {
     "slide_type": "slide"
    }
   },
   "source": [
    "## Using a KRL to represent a bit of the world\n",
    "- **Objects**: symbols representing thing in the real world:‘myApple’, ‘myOrange’ …\n",
    "- **Predicates**: properties  (facts about objects) \n",
    " - Singled valued: isGreen( myApple ),  \n",
    " - Multiple valued: heavierThan( myOrange , myApple )\n",
    "\n",
    "- More modern languages / frameworks / engines (esp. OO ones) would have:  \n",
    "  - A set of strictly defined types  or classes: e.g., class fruit  \n",
    "  - Type attributes & methods to let you capture predicates, e.g.  fruit.weight\n",
    "  - Create/declare instances  \n",
    "    `fruit myApple, myOrange`\n",
    "  - Fill in values for attributes to assert predicates,  \n",
    "    `myapple.setWeight(10), myOrange.setWeight(190)`\n",
    "  - Use methods to test the truth of predicates,either inside one object  \n",
    "    `bool appleLighter = myOrange.heavier_than(myApple)`   \n",
    "  - or externally  \n",
    "    ```\n",
    "    if(myApple.GetWeight() < myOrange.GetWeight()):  \n",
    "        appleLighter = True  \n",
    "    else:  \n",
    "        appleLighter = False\n",
    "      ```\n",
    "                             \n",
    "So the kind of things you want to do should affect your choice of language/engine\n",
    "\n"
   ]
  },
  {
   "cell_type": "markdown",
   "metadata": {
    "slideshow": {
     "slide_type": "slide"
    }
   },
   "source": [
    "## Summary:\n",
    "- KRL = knowledge + syntax + logic\n",
    "- types of reasoning\n",
    "- syntax vs. semantics vs interpretation.\n",
    "- closed-world vs. open world"
   ]
  }
 ],
 "metadata": {
  "celltoolbar": "Slideshow",
  "kernelspec": {
   "display_name": "Python 3",
   "language": "python",
   "name": "python3"
  },
  "language_info": {
   "codemirror_mode": {
    "name": "ipython",
    "version": 3
   },
   "file_extension": ".py",
   "mimetype": "text/x-python",
   "name": "python",
   "nbconvert_exporter": "python",
   "pygments_lexer": "ipython3",
   "version": "3.6.2"
  }
 },
 "nbformat": 4,
 "nbformat_minor": 4
}
