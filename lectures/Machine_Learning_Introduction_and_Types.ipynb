{
 "cells": [
  {
   "cell_type": "markdown",
   "metadata": {
    "slideshow": {
     "slide_type": "slide"
    }
   },
   "source": [
    "# Artificial Intelligence Topic 4: Machine Learning\n",
    "\n",
    "## Week 5: Introduction, Ethics and types\n"
   ]
  },
  {
   "cell_type": "markdown",
   "metadata": {
    "slideshow": {
     "slide_type": "slide"
    }
   },
   "source": [
    "## This Week:\n",
    "### This notebook and Video: Background\n",
    "- What is ML: recap\n",
    "- Types of ML\n",
    "- Ethical Considerations\n",
    "- Creating and Using Data\n",
    "\n",
    "### Next Notebook and Video: Types of Machine Learning\n",
    "- Unsupervised Learning\n",
    " - K-Means as an example\n",
    "- Reinforcement Learning\n",
    "\n",
    "\n",
    "### Next few weeks: \n",
    "- Supervised Machine Learning, \n",
    "- Artificial Neural Networks "
   ]
  },
  {
   "cell_type": "markdown",
   "metadata": {
    "slideshow": {
     "slide_type": "slide"
    }
   },
   "source": [
    "## Recap:<img style=\"float:right\" width=300 src=\"./figures/ML/basic-model-fitting.png\">\n",
    "- Machine Learning is:\n",
    " - the application of inductive logic to a dataset\n",
    " -  to create useful predictive models.  \n",
    " - So it is about solving  modelling problems\n",
    " \n",
    "\n",
    "- In week 1 we learned that problem solving is what you do when one of  \n",
    "  Input > Model –> Output     is missing\n",
    "- In the last topic we looked at how we **manually** create models encoding human expertise\n",
    "- Machine Learning is about how you **automatically** create models  from data (inputs and outputs)\n"
   ]
  },
  {
   "cell_type": "markdown",
   "metadata": {
    "slideshow": {
     "slide_type": "slide"
    }
   },
   "source": [
    "## So it’s all about the data?"
   ]
  },
  {
   "cell_type": "markdown",
   "metadata": {
    "slideshow": {
     "slide_type": "fragment"
    }
   },
   "source": [
    "### Yes!\n",
    "\n",
    "The aim is to build ML systems that can be used to do things when data or scenarios arise. \n",
    "\n",
    "So we need data to: \n",
    "- train them on,  \n",
    "- choose between models, \n",
    "- Know (estimate) how well they are going to do when we start using them\n",
    "\n",
    "We may not always have an output for every input \n",
    "- Because they’re not possible to capture\n",
    "  - e.g. data from scientific experiments such as genomics, astrophysics,...\n",
    "- Because sometimes we have to wait a while e.g.,\n",
    "  - game playing\n",
    "  - finding human volunteers to label images/ caption videos,..."
   ]
  },
  {
   "cell_type": "markdown",
   "metadata": {
    "slideshow": {
     "slide_type": "slide"
    }
   },
   "source": [
    "## Types of Machine Learning\n",
    "Type | Inputs | Outputs | Feedback | What drives search? | Examples\n",
    "-----|--------|---------|----------------|---------------------|---------------------\n",
    "**Supervised** | Data |Predictions for each case | Correct labels | Accuracy of predictions made | **Recognition**  speech, images, actions, **forecasting**\n",
    "**Reinforcement**| Scenarios | Actions ot take in different states | Periodic Rewards | Expected future feedback | Learning game strategy\n",
    "**Unsupervised** | Data| Groupings of similar items | None | Statistics about cluster *coherence* and separation | Recommender systems, search engines\n",
    "\n"
   ]
  },
  {
   "cell_type": "markdown",
   "metadata": {
    "slideshow": {
     "slide_type": "slide"
    }
   },
   "source": [
    "## Ethics: *Can* we use the data?\n",
    "- GDPR,  Privacy policies affect how it is collected\n",
    "- The law is very clear that we have to give people the right to:\n",
    "  - Provide Informed Consent about  how we are going to use their personal data at the time we collect it\n",
    "  - Find out what information we hold about them\n",
    "  - Withdraw their data (e.g. “right to forget”)\n",
    "\n",
    "- Examples of unethical use:    \n",
    " - Cambridge Analytica,   \n",
    " - targeting of fake news, propaganda on social media\n",
    "\n",
    "- Nowadays there should be clear collaboration agreements describing who is the data controller and who is the data processor\n"
   ]
  },
  {
   "cell_type": "markdown",
   "metadata": {
    "slideshow": {
     "slide_type": "slide"
    }
   },
   "source": [
    "## Ethics: *Should* we use the data? <img src=\"figures/ML/algorithms-of-oppression.png\" style=\"float:right\" width = 100> \n",
    "<img style=\"float:right\" src=\"figures/ML/protected-characteristics.png\" width = 400>\n",
    "\n",
    "- ML is only as good as the data we give it\n",
    "- So we have to be very careful that the data is representative\n",
    "\n",
    "- Examples of problems:\n",
    "  - Microsoft's (abandoned) Tay Bot\n",
    "  - Google's (heavily modified) Image Recognition\n",
    "  - Police offender profiling\n",
    "  - Amazon's (abandoned) hiring policies"
   ]
  },
  {
   "cell_type": "markdown",
   "metadata": {
    "slideshow": {
     "slide_type": "slide"
    }
   },
   "source": [
    "Quick Video from Cog-x\n",
    "\n",
    "[![AI Ethics with Dong Nguyen, The Alan Turing Institute | CogX17 Highlight | CogX](https://img.youtube.com/vi/v=M-ko82Y0GUQ/0.jpg)](https://www.youtube.com/watch?v=M-ko82Y0GUQ)"
   ]
  },
  {
   "cell_type": "markdown",
   "metadata": {
    "slideshow": {
     "slide_type": "slide"
    }
   },
   "source": [
    "## Unsupervised Learning <img src=\"figures/ML/clustering.png\" style=\"float:right\" width=300>\n",
    "- Don’t have labels but we still want to find useful groups\n",
    "- All data is defined in terms of values for features\n",
    "  - Numbers,  categories (colour, name, Uni course),  or even just present-absent\n",
    "- So we define distance measure d(a,b) between two data items a and b.\n",
    "  - Hamming Distance (e.g.the modified combination lock problems)\n",
    "  - Euclidean (straight line) distance for continuous numbers\n",
    "- Typically in clustering we look for a way of putting the data items into k clusters\n",
    "  - We don't have labels for outputs\n",
    "   - so drive search between models to maximise *Quality of Clustering*\n",
    "  - intercluster distance (max value of  d(a,b) for all a,b, in the cluster) is minimized\n",
    "  - Intracluster distance (min value of d(a,c) for a and c in different clusters) is maximised\n"
   ]
  },
  {
   "cell_type": "code",
   "execution_count": 16,
   "metadata": {
    "cell_style": "split",
    "slideshow": {
     "slide_type": "slide"
    }
   },
   "outputs": [
    {
     "data": {
      "text/html": [
       "<div>\n",
       "<style scoped>\n",
       "    .dataframe tbody tr th:only-of-type {\n",
       "        vertical-align: middle;\n",
       "    }\n",
       "\n",
       "    .dataframe tbody tr th {\n",
       "        vertical-align: top;\n",
       "    }\n",
       "\n",
       "    .dataframe thead th {\n",
       "        text-align: right;\n",
       "    }\n",
       "</style>\n",
       "<table border=\"1\" class=\"dataframe\">\n",
       "  <thead>\n",
       "    <tr style=\"text-align: right;\">\n",
       "      <th></th>\n",
       "      <th>Red</th>\n",
       "      <th>Green</th>\n",
       "      <th>Blue</th>\n",
       "      <th>Width</th>\n",
       "      <th>Height</th>\n",
       "      <th>Weight</th>\n",
       "      <th>Type</th>\n",
       "    </tr>\n",
       "  </thead>\n",
       "  <tbody>\n",
       "    <tr>\n",
       "      <th>0</th>\n",
       "      <td>58.419302</td>\n",
       "      <td>74.945625</td>\n",
       "      <td>-10.183374</td>\n",
       "      <td>70.887974</td>\n",
       "      <td>82.750860</td>\n",
       "      <td>337.587731</td>\n",
       "      <td>Apple</td>\n",
       "    </tr>\n",
       "    <tr>\n",
       "      <th>1</th>\n",
       "      <td>45.829447</td>\n",
       "      <td>69.235825</td>\n",
       "      <td>5.463471</td>\n",
       "      <td>77.003931</td>\n",
       "      <td>81.743449</td>\n",
       "      <td>343.717413</td>\n",
       "      <td>Apple</td>\n",
       "    </tr>\n",
       "    <tr>\n",
       "      <th>2</th>\n",
       "      <td>92.292373</td>\n",
       "      <td>84.093548</td>\n",
       "      <td>21.273678</td>\n",
       "      <td>134.796840</td>\n",
       "      <td>29.409867</td>\n",
       "      <td>123.092435</td>\n",
       "      <td>Banana</td>\n",
       "    </tr>\n",
       "    <tr>\n",
       "      <th>3</th>\n",
       "      <td>105.985330</td>\n",
       "      <td>58.011805</td>\n",
       "      <td>-4.247407</td>\n",
       "      <td>79.441072</td>\n",
       "      <td>75.705266</td>\n",
       "      <td>356.768309</td>\n",
       "      <td>Orange</td>\n",
       "    </tr>\n",
       "    <tr>\n",
       "      <th>4</th>\n",
       "      <td>47.850211</td>\n",
       "      <td>63.244957</td>\n",
       "      <td>-4.979447</td>\n",
       "      <td>78.923563</td>\n",
       "      <td>80.049663</td>\n",
       "      <td>349.511334</td>\n",
       "      <td>Apple</td>\n",
       "    </tr>\n",
       "  </tbody>\n",
       "</table>\n",
       "</div>"
      ],
      "text/plain": [
       "          Red      Green       Blue       Width     Height      Weight    Type\n",
       "0   58.419302  74.945625 -10.183374   70.887974  82.750860  337.587731   Apple\n",
       "1   45.829447  69.235825   5.463471   77.003931  81.743449  343.717413   Apple\n",
       "2   92.292373  84.093548  21.273678  134.796840  29.409867  123.092435  Banana\n",
       "3  105.985330  58.011805  -4.247407   79.441072  75.705266  356.768309  Orange\n",
       "4   47.850211  63.244957  -4.979447   78.923563  80.049663  349.511334   Apple"
      ]
     },
     "execution_count": 16,
     "metadata": {},
     "output_type": "execute_result"
    }
   ],
   "source": [
    "import pandas as pd\n",
    "fruits = pd.read_csv(\"data/fruits.csv\")\n",
    "fruits.head()"
   ]
  },
  {
   "cell_type": "code",
   "execution_count": 17,
   "metadata": {
    "cell_style": "split",
    "slideshow": {
     "slide_type": "fragment"
    }
   },
   "outputs": [
    {
     "data": {
      "image/png": "[encoded data removed]",
      "text/plain": [
       "<Figure size 540x540 with 36 Axes>"
      ]
     },
     "metadata": {
      "needs_background": "light"
     },
     "output_type": "display_data"
    }
   ],
   "source": [
    "fig = pd.plotting.scatter_matrix(fruits, figsize = [7.5,7.5])"
   ]
  },
  {
   "attachments": {},
   "cell_type": "markdown",
   "metadata": {
    "slideshow": {
     "slide_type": "slide"
    }
   },
   "source": [
    "## K-Means <img src = \"https://dashee87.github.io/images/kmeans.gif\" style=\"float:right\">\n",
    "Probably the best known clustering algorithm  \n",
    "**Init**: Pick K data points as initial cluster “centroids”  \n",
    "**Loop**: until no changes in total sum_squared_distance:  \n",
    "Step 1 For each data point i:\n",
    " - calculate distance d(i,C_k) to each of the centroids C_k, k in (1,,,K)\n",
    " - assign datapoint to cluster k* with nearest centroid\n",
    " \n",
    "Step 2 Foreach cluster k in (1...K):\n",
    " - Calculate sum of squared distances of cluster elements to centroid \\sum d(i,k)^2\n",
    " - Set new cluster centroid C_k =  mean position of  points in cluster\n",
    "   \n",
    "    \n",
    " Example from https://dashee87.github.io/data%20science/general/Clustering-with-Scikit-with-GIFs/\n",
    "   \n",
    " \n"
   ]
  },
  {
   "attachments": {},
   "cell_type": "markdown",
   "metadata": {
    "slideshow": {
     "slide_type": "slide"
    }
   },
   "source": [
    "## K-Means Strengths and weaknesses \n",
    "<img src=\"figures/ML/kmeans_clustering_examples.png\" style=\"float:right\">\n",
    "\n",
    "### PROS: \n",
    "- fast, \n",
    "- lots of implementations\n",
    "\n",
    "### CONS:\n",
    "- need right value of K, \n",
    "- results depend on starting points\n",
    "\n",
    "### Assumptions:\n",
    "- all features are relevant, \n",
    "- data is \"globular\" with respect to the current features\n",
    "\n",
    "### How could we fix the counter-example?"
   ]
  },
  {
   "cell_type": "markdown",
   "metadata": {
    "slideshow": {
     "slide_type": "slide"
    }
   },
   "source": [
    "## Reinforcement Learning\n",
    "Five minute video.\n",
    "\n",
    "[![Reinforcement learning for bar-tenders](https://img.youtube.com/vi/v=m2weFARriE8/0.jpg)](https://www.youtube.com/watch?v=m2weFARriE8)\n",
    "https://www.youtube.com/watch?feature=oembed&v=m2weFARriE8"
   ]
  },
  {
   "attachments": {},
   "cell_type": "markdown",
   "metadata": {
    "slideshow": {
     "slide_type": "slide"
    }
   },
   "source": [
    "## Reinforcement Learning <img src=\"figures/ML/RL.png\" style=\"float:right\" width=400>\n",
    "Q learning was best known initial algorithm\n",
    "- Learns a state-action-reward table\n",
    "- Problems with scalability as numbers of  \n",
    "  possible states and actions increase\n",
    "\n",
    "\n",
    "Deep Reinforcement Learning\n",
    "- neural net rather than table\n",
    "- tends to learn “end-to-end”  \n",
    "  E.g. Alpha Go, Atari simulator\n",
    "- Relies on lots of data:  \n",
    "  e.g. Unity: ‘learning brain’\n",
    "  From ml-agents toolkit\n",
    " Links out to tensorflow model\n"
   ]
  },
  {
   "cell_type": "code",
   "execution_count": null,
   "metadata": {
    "slideshow": {
     "slide_type": "slide"
    }
   },
   "outputs": [],
   "source": [
    "##  Simple Q learning example  "
   ]
  },
  {
   "attachments": {},
   "cell_type": "markdown",
   "metadata": {
    "slideshow": {
     "slide_type": "slide"
    }
   },
   "source": [
    "## Supervised Learning\n",
    "Basic idea: Models divide up “decision space” into regions\n",
    "\n",
    "\n",
    "Search for model is driven by accuracy\n",
    "\n",
    "Form depends on what the ouputs can be\n",
    "- Two class:  0/1 loss \n",
    "- Many class: Cross entropy \n",
    "- Continuous: mean squared error\n",
    "\n",
    "Types of models we’ll look at:\n",
    "- K Nearest Neighbours\n",
    "- Greedy Rule Induction\n",
    "- Naïve Bayes\n",
    "- Artificial Neural Nets\n",
    "\n",
    "**Classification** algorithms put labels on regions\n",
    "\n",
    "**Regression** algorithms compute a function in regions. \n",
    "\n",
    "Image showing apples and oranges dataset with labels"
   ]
  },
  {
   "attachments": {},
   "cell_type": "markdown",
   "metadata": {
    "slideshow": {
     "slide_type": "slide"
    }
   },
   "source": [
    "## The basic supervised learning process\n",
    "1. Choose features according to what kind of data you have available\n",
    "2. Decide what types of model might be appropriate \n",
    " - human readable?,   \n",
    " - type and amount of data?    \n",
    "3. Initialise Model \n",
    "4.  While not finished:\n",
    "  - See how well it does on training set\n",
    " - Adapt model to reduce error on training set\n",
    "5.  Try to estimate how good it is\n",
    "\n",
    "Often do steps 3-5 above in parallel with different types of model or metaparameters\n",
    "E.g. max number of rules, max depth of trees, value of k in kNN, learning rates in ANN   \n"
   ]
  },
  {
   "attachments": {},
   "cell_type": "markdown",
   "metadata": {
    "slideshow": {
     "slide_type": "slide"
    }
   },
   "source": [
    "## How we use our data <img src=\"figures/ML/using_data.png\" style=\"float:right\" width=300>\n",
    "\n",
    "### Unsupervised Learning: \n",
    "- Estimate of quality is based on whole dataset,  \n",
    "  so use it all for training\n",
    "\n",
    "### Reinforcement learning:\n",
    "- Problem is usually lack of data compared to size of state-action space.  \n",
    "- Alternate periods of:\n",
    "  - training (explore state-action-reward space to improve model)\n",
    "  - testing (choose current max predicted reward in each state) \n",
    "  \n",
    "### Supervised learning:\n",
    "Most commonly work in *off-line* or  *batch* mode \n",
    "- Random split of the data into separate test set, training set, and sometimes validation set\n",
    "- Final model then built using all the data available\n"
   ]
  },
  {
   "cell_type": "code",
   "execution_count": null,
   "metadata": {},
   "outputs": [],
   "source": []
  }
 ],
 "metadata": {
  "celltoolbar": "Slideshow",
  "kernelspec": {
   "display_name": "Python 3",
   "language": "python",
   "name": "python3"
  },
  "language_info": {
   "codemirror_mode": {
    "name": "ipython",
    "version": 3
   },
   "file_extension": ".py",
   "mimetype": "text/x-python",
   "name": "python",
   "nbconvert_exporter": "python",
   "pygments_lexer": "ipython3",
   "version": "3.6.2"
  }
 },
 "nbformat": 4,
 "nbformat_minor": 4
}
