{
 "cells": [
  {
   "cell_type": "markdown",
   "metadata": {
    "slideshow": {
     "slide_type": "slide"
    }
   },
   "source": [
    "# One Discipline: Two Paradigms\n",
    "\n",
    "\n"
   ]
  },
  {
   "cell_type": "markdown",
   "metadata": {
    "cell_style": "split",
    "slideshow": {
     "slide_type": "fragment"
    }
   },
   "source": [
    "### Symbolic AI\n",
    "<img style=\"float: right;\" src=\"figures/types_of_Problem_and_AI/mind.png\">\n",
    "Inspired by ideas of the mind and  building on thousands of years of philosophy about:\n",
    "\n",
    "- what can be known,  \n",
    "world models, absolute truths\n",
    "- types of logic, \n",
    "- facts, rules, ...\n",
    "\n",
    "Reasoning with symbols that 'stand for' external entities or 'truths'.\n",
    " - this was mainstream AI for decades\n"
   ]
  },
  {
   "cell_type": "markdown",
   "metadata": {
    "cell_style": "split",
    "slideshow": {
     "slide_type": "fragment"
    }
   },
   "source": [
    "### Computational AI: \n",
    "<img style=\"float: right;\" src=\"figures/types_of_Problem_and_AI/brain.jpg\">\n",
    "\n",
    "Inspired by the idea of problem solving arising from  computational processes \n",
    "- the brain  \n",
    "a neural signal processor  \n",
    "with adaptive connections\n",
    "- Genetics + Darwinian evolution \n",
    "- Social Insect Colonies\n",
    "\n",
    "All _appear_ to exhibit intelligent problem solving behaviour\n",
    "\n",
    " "
   ]
  },
  {
   "cell_type": "markdown",
   "metadata": {
    "slideshow": {
     "slide_type": "slide"
    }
   },
   "source": [
    "# How would you describe these three types of fruit?"
   ]
  },
  {
   "cell_type": "markdown",
   "metadata": {
    "cell_style": "split",
    "slideshow": {
     "slide_type": "fragment"
    }
   },
   "source": [
    "<div height = 30%>\n",
    "    <div width=10% >  <img src=\"./figures/types_of_Problem_and_AI/green_apple.jpg\" alt=\"Picture of an apple\">   </div>\n",
    "</div>  "
   ]
  },
  {
   "cell_type": "markdown",
   "metadata": {
    "cell_style": "split",
    "slideshow": {
     "slide_type": "fragment"
    }
   },
   "source": [
    "<div height = 30%>\n",
    "    <div width=10%>\n",
    "        <img src=\"./figures/types_of_Problem_and_AI/orange.jpg\" alt=\"Picture of an orange\">   </div>\n",
    "</div>  "
   ]
  },
  {
   "cell_type": "code",
   "execution_count": null,
   "metadata": {
    "slideshow": {
     "slide_type": "skip"
    }
   },
   "outputs": [],
   "source": []
  },
  {
   "cell_type": "markdown",
   "metadata": {
    "cell_style": "split",
    "slideshow": {
     "slide_type": "fragment"
    }
   },
   "source": [
    "<div height = 30%>\n",
    "<div width=10%>  <img src=\"./figures/types_of_Problem_and_AI/banana.jpg\" alt=\"Picture of a banana\">   </div>\n",
    "</div>  "
   ]
  },
  {
   "cell_type": "markdown",
   "metadata": {
    "cell_style": "split",
    "slideshow": {
     "slide_type": "fragment"
    }
   },
   "source": [
    "Many people might say:\n",
    "- Apples are green and round and have smooth skin\n",
    "- Oranges are orange and round and have rough skin\n",
    "- Bananas are yellow and long and pointed at both ends and have smooth skin. "
   ]
  },
  {
   "cell_type": "markdown",
   "metadata": {
    "slideshow": {
     "slide_type": "slide"
    }
   },
   "source": [
    "## Symbolic AI says that these are all examples of an abstract class \n",
    "e.g. 'Apples', 'Oranges' or 'Bananas'.\n",
    "\n",
    "To reason about them we make statements in a 'world-model' that are True or False for things of that type\n",
    " - A **Model** encoding human expertise is often  called the **'knowledge base'**"
   ]
  },
  {
   "cell_type": "markdown",
   "metadata": {
    "cell_style": "split",
    "slideshow": {
     "slide_type": "fragment"
    }
   },
   "source": [
    "A mixture of **Facts**\n",
    "\n",
    "|          | Apples | Oranges | Bananas |\n",
    "|----------|--------|---------|---------|\n",
    "| isGreen  | True   |         |         |\n",
    "| IsOrange |        | True    |         |\n",
    "| isYellow |        |         | True    |\n",
    "| isRound  | True   | True    |         |\n",
    "| isLong   |        |         | True    |\n",
    "| isRough  |        | True    |         |\n",
    "| isSmooth | True   |         | True    |"
   ]
  },
  {
   "cell_type": "markdown",
   "metadata": {
    "cell_style": "split",
    "slideshow": {
     "slide_type": "fragment"
    }
   },
   "source": [
    " And  **logic**   \n",
    "\n",
    "usually **Rules** that we can apply to generate new facts  \n",
    "\n",
    "_isRound(x)_ AND _isGreen(x)_  AND _isSmooth(x)_   => _isApple(x)_\n",
    "\n",
    "_isRound(x)_ AND _isOrange(x)_ AND _isRough(x)_    => _isOrange(x)_\n",
    "\n",
    "_isLong(x)_  AND _isYellow(x)_ AND _isSmooth(x)_   => _isBanana(x)_"
   ]
  },
  {
   "cell_type": "markdown",
   "metadata": {
    "slideshow": {
     "slide_type": "slide"
    }
   },
   "source": [
    "## Using a symbolic AI model for prediction\n",
    "\n",
    " <img style=\"float:right\" src = \"figures/types_of_Problem_and_AI/lime.jpg\">\n",
    " \n",
    "1. Create the **model** by encoding this knowledge  using rules in your chosen type of  logic \n",
    " \n",
    "\n",
    "\n",
    " \n",
    "2. provide **input** in the form of 'assertions' about a new bit of fruit\n",
    " - _isRound(newfruit)_ = True\n",
    " - _isGreen(newfruit)_ = True\n",
    " \n",
    " \n",
    "3. Make a **prediction** by applying logic (deduction) to infer the _**output**_ \n",
    " - _isApple(newfruit)_ = False"
   ]
  },
  {
   "cell_type": "markdown",
   "metadata": {
    "slideshow": {
     "slide_type": "slide"
    }
   },
   "source": [
    "## Making this work better\n",
    "\n",
    " - 'Closed World Assumption':  \n",
    " fill in the gaps in the table by saying  \n",
    " \"if we don't know it's true, assume it is false\"\n",
    " \n",
    " - Make 'higher level' statements to reduce the number of things to consider  \n",
    " 'all rough things are not smooth **and vice versa**' \n",
    " \n",
    " \n",
    " - Logic can be multi-step:  \n",
    "separate new facts about this instance from world model\n",
    " \n",
    "Once you've defined a model you can use it:\n",
    "- 'forwards' (data driven) for **prediction**, \n",
    "- 'backwards' (goal-driven) for  **optimisation/planning**."
   ]
  },
  {
   "cell_type": "markdown",
   "metadata": {
    "slideshow": {
     "slide_type": "slide"
    }
   },
   "source": [
    "# Take a moment to think if you can see any problems with this"
   ]
  },
  {
   "cell_type": "markdown",
   "metadata": {
    "slideshow": {
     "slide_type": "slide"
    }
   },
   "source": [
    "### Let's  look at fruit colour, width,height,weight\n",
    "#### Colour    \n",
    "from www.colorhexa.com\n",
    "-    In a RGB color space, hex #ffe135 (also known as Banana yellow) is composed of 100% red, 88.2% green and 20.8% blue. \n",
    "-    In a RGB color space, hex #8db600 (also known as Apple green) is composed of 55.3% red, 71.4% green and 0% blue.\n",
    "-    In a RGB color space, hex #ffa500 (also known as Orange) is composed of 100% red, 64.7% green and 0% blue.\n",
    "    \n",
    "#### size\n",
    "from quick search on internet (using the _'are sites consistent?'_ heuristic)\n",
    "-    banana: width 130 +/- 15 mm height 28 +/- 05 cm, weight 125 +/- 10 gm\n",
    "- apple    width = height = 80mm  +/-    weight = 340 g\n",
    "- orange   width = height = 76mm   +/-   weight = 357 g\n",
    "    \n",
    "    \n"
   ]
  },
  {
   "cell_type": "code",
   "execution_count": null,
   "metadata": {
    "slideshow": {
     "slide_type": "fragment"
    }
   },
   "outputs": [],
   "source": [
    "# values ( mean_red, mean_green, mean_blue,width, height, weight)\n",
    "typical_banana = (100,88.2,20.8,130,28,125 )\n",
    "typical_apple = (55.3,71.4,0,80,80,340)\n",
    "typical_orange = (100,64.7,0,76,76,357)"
   ]
  },
  {
   "cell_type": "markdown",
   "metadata": {},
   "source": [
    "# Make some fake data\n",
    "\n",
    "### We'll use a function built into sklearn to create datasets\n",
    "It takes the 'ideal' values then adds small amounts of noise"
   ]
  },
  {
   "cell_type": "code",
   "execution_count": null,
   "metadata": {},
   "outputs": [],
   "source": [
    "import  sklearn.datasets as datasets\n",
    "import numpy as np\n",
    "import matplotlib.pyplot as plt\n",
    "\n",
    "# make ten examples of each type with a bit of random noise added\n",
    "feature_values,label_ids = datasets.make_blobs(\n",
    "    n_samples = [10,10,10], \n",
    "    centers = [typical_banana,typical_apple,typical_orange],\n",
    "    cluster_std=5.0,n_features=6 )\n",
    "feature_names = ['Red','Green','Blue','Width','Height','Weight']"
   ]
  },
  {
   "cell_type": "markdown",
   "metadata": {},
   "source": [
    " ### Now save that data to file with string version of the labels as well"
   ]
  },
  {
   "cell_type": "code",
   "execution_count": null,
   "metadata": {},
   "outputs": [],
   "source": [
    "#make a string version of the numeric labels\n",
    "\n",
    "labels= []\n",
    "colours = []\n",
    "for row in label_ids:\n",
    "    if row==0:\n",
    "        labels.append('banana')\n",
    "        colours.append('yellow')\n",
    "    elif row== 1:\n",
    "        labels.append('apple')\n",
    "        colours.append('green')\n",
    "    else:\n",
    "        labels.append('orange')\n",
    "        colours.append('orange')\n",
    "\n",
    "np.savetxt(\"data/fruit_values.csv\", feature_values, delimiter=\",\")\n",
    "np.savetxt(\"data/fruit_label_ids.csv\", label_ids, delimiter=\",\")\n",
    "np.savetxt(\"data/fruit_labels.csv\", labels, delimiter=\",\",fmt=\"%s\")"
   ]
  },
  {
   "cell_type": "markdown",
   "metadata": {},
   "source": [
    "### We list our data and use matplotlib to create visualisations of what our data looks like"
   ]
  },
  {
   "cell_type": "code",
   "execution_count": null,
   "metadata": {},
   "outputs": [],
   "source": [
    "np.set_printoptions(precision=2)\n",
    "for feats,label in zip(feature_values,labels):\n",
    "    print (feats,label)"
   ]
  },
  {
   "cell_type": "code",
   "execution_count": null,
   "metadata": {},
   "outputs": [],
   "source": [
    "\n",
    "\n",
    "\n",
    "\n",
    "\n",
    "def make3dscatters():\n",
    "    fig=plt.figure(tight_layout=True,figsize=(8,4))\n",
    "    ax1 = fig.add_subplot(121, projection='3d') \n",
    "    ax2 = fig.add_subplot(122,projection='3d')\n",
    "    ax1.scatter(feature_values[:,:1], feature_values[:,1:2],feature_values[:,2:3],c=colours, marker='o',label=labels)\n",
    "    ax1.set_xlabel('Red')\n",
    "    ax1.set_ylabel('Green')\n",
    "    ax1.set_zlabel('Blue',rotation=270,labelpad=0)\n",
    "    ax2.scatter(feature_values[:,3:4], feature_values[:,4:5],feature_values[:,5:6],c=colours, marker='o',label=labels)\n",
    "    ax2.set_xlabel('Width');\n",
    "    ax2.set_ylabel('Height'); \n",
    "    ax2.set_zlabel('Weight',rotation=270,labelpad=0)\n",
    "    plt.subplots_adjust(left=0.0, right=1.0, top=0.9, bottom=0.1)\n",
    "    return fig\n",
    "fig = make3dscatters()\n",
    "plt.show()"
   ]
  },
  {
   "cell_type": "markdown",
   "metadata": {
    "slideshow": {
     "slide_type": "fragment"
    }
   },
   "source": [
    "## Symbolic AI\n",
    "Have to write code  that can:\n",
    " - extract meaning from these figures\n",
    " - to generate True/False for symbols like isLong() or isYellow()\n",
    " - those symbols are what used to do reasoning in the model"
   ]
  },
  {
   "cell_type": "markdown",
   "metadata": {
    "slideshow": {
     "slide_type": "slide"
    }
   },
   "source": [
    "# Computational AI: \n",
    "\n",
    "- **Machine Learning**  creates models using algorithms that learn by trial and error from datasets (examples)\n",
    "- **Heuristic Optimisation** takes a similar 'trial and error' approach to finding and improving solutions to optimisation problems"
   ]
  },
  {
   "cell_type": "markdown",
   "metadata": {
    "cell_style": "split",
    "slideshow": {
     "slide_type": "fragment"
    }
   },
   "source": [
    "## Our fruit example\n",
    "\n",
    "1. Decide on a set of features you can measure about objects:  \n",
    "weight in grammes  \n",
    "height/width in cm  \n",
    "mean RGB values of image\n",
    "2. Measure values of those features for a set of examples  \n",
    "store these in a Dataset  \n",
    "one row per example,  \n",
    "one column for each feature + one column for the label (orange/apple/banana)\n",
    "3. Apply an algorithm to find decision boundaries that separate the examples into classes    \n",
    "learned model = set of decision boundaries + labels for the regions they define\n",
    "4. Make **prediction** by looking at where a new example is in relation to those boundaries"
   ]
  },
  {
   "cell_type": "markdown",
   "metadata": {
    "cell_style": "split",
    "slideshow": {
     "slide_type": "fragment"
    }
   },
   "source": []
  },
  {
   "cell_type": "markdown",
   "metadata": {
    "cell_style": "split",
    "slideshow": {
     "slide_type": "slide"
    }
   },
   "source": [
    "# Summary\n",
    "## Two different approaches,  both with strengths and weaknesses\n",
    " 1. Symbolic (Knowledge-based):\n",
    "  - based on logic, facts and rules\n",
    "  - uses a human-provided world model\n",
    " 2. Computational AI\n",
    "  - Algorithms that learn from experience\n",
    "  - only as good as their experience\n",
    "  "
   ]
  },
  {
   "cell_type": "markdown",
   "metadata": {
    "cell_style": "split",
    "slideshow": {
     "slide_type": "fragment"
    }
   },
   "source": [
    "## Key Difference: \n",
    "In symbolic AI everything 'stands for' something in the real world.\n",
    "\n",
    "- So you might write a function: Bool  isYellow( inr red, int green, int blue)\n",
    " - but it would be meangingless to pass values for width/height/weight into isYellow()\n",
    " - and the rules that define the 'fruit' model can't be used for anything else\n",
    "\n",
    "In Computational AI 'everything is just numbers', \n",
    "- nothing has any special meaning\n",
    "- so algorithms become more re-usable."
   ]
  },
  {
   "cell_type": "markdown",
   "metadata": {
    "slideshow": {
     "slide_type": "fragment"
    }
   },
   "source": [
    "## You need to be able to: \n",
    " - **Describe** the differences between these approaches\n",
    " - **Select** (and explain) whether to choose a computational or knowledge-based solution  \n",
    " to solve a given problem _in it's context_. \n",
    " "
   ]
  },
  {
   "cell_type": "code",
   "execution_count": null,
   "metadata": {},
   "outputs": [],
   "source": []
  }
 ],
 "metadata": {
  "celltoolbar": "Slideshow",
  "kernelspec": {
   "display_name": "Python 3",
   "language": "python",
   "name": "python3"
  },
  "language_info": {
   "codemirror_mode": {
    "name": "ipython",
    "version": 3
   },
   "file_extension": ".py",
   "mimetype": "text/x-python",
   "name": "python",
   "nbconvert_exporter": "python",
   "pygments_lexer": "ipython3",
   "version": "3.6.2"
  }
 },
 "nbformat": 4,
 "nbformat_minor": 4
}
