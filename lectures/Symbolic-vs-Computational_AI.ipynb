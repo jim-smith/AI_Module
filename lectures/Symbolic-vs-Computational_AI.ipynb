{
 "cells": [
  {
   "cell_type": "markdown",
   "metadata": {
    "slideshow": {
     "slide_type": "slide"
    }
   },
   "source": [
    "# One Discipline: Two Paradigms\n",
    "\n",
    "\n"
   ]
  },
  {
   "cell_type": "markdown",
   "metadata": {
    "cell_style": "split",
    "slideshow": {
     "slide_type": "fragment"
    }
   },
   "source": [
    "### Symbolic AI\n",
    "<img style=\"float: right;\" src=\"figures/types_of_Problem_and_AI/mind.png\">\n",
    "Inspired by ideas of the mind and  building on thousands of years of philosophy about:\n",
    "\n",
    "- what can be known,  \n",
    "world models, absolute truths\n",
    "- types of logic, \n",
    "- facts, rules, ...\n",
    "\n",
    "Reasoning with symbols that 'stand for' external entities or 'truths'.\n",
    " - this was mainstream AI for decades\n"
   ]
  },
  {
   "cell_type": "markdown",
   "metadata": {
    "cell_style": "split",
    "slideshow": {
     "slide_type": "fragment"
    }
   },
   "source": [
    "### Computational AI: \n",
    "<img style=\"float: right;\" src=\"figures/types_of_Problem_and_AI/brain.jpg\">\n",
    "\n",
    "Inspired by the idea of problem solving arising from  computational processes \n",
    "- the brain  \n",
    "a neural signal processor  \n",
    "with adaptive connections\n",
    "- Genetics + Darwinian evolution \n",
    "- Social Insect Colonies\n",
    "\n",
    "All _appear_ to exhibit intelligent problem solving behaviour\n",
    "\n",
    " "
   ]
  },
  {
   "cell_type": "markdown",
   "metadata": {
    "slideshow": {
     "slide_type": "slide"
    }
   },
   "source": [
    "# How would you describe these three types of fruit?"
   ]
  },
  {
   "cell_type": "markdown",
   "metadata": {
    "cell_style": "split",
    "slideshow": {
     "slide_type": "fragment"
    }
   },
   "source": [
    "<div height = 30%>\n",
    "    <div width=10% >  <img src=\"./figures/types_of_Problem_and_AI/green_apple.jpg\" alt=\"Picture of an apple\">   </div>\n",
    "</div>  "
   ]
  },
  {
   "cell_type": "markdown",
   "metadata": {
    "cell_style": "split",
    "slideshow": {
     "slide_type": "fragment"
    }
   },
   "source": [
    "<div height = 30%>\n",
    "    <div width=10%>\n",
    "        <img src=\"./figures/types_of_Problem_and_AI/orange.jpg\" alt=\"Picture of an orange\">   </div>\n",
    "</div>  "
   ]
  },
  {
   "cell_type": "code",
   "execution_count": null,
   "metadata": {
    "slideshow": {
     "slide_type": "skip"
    }
   },
   "outputs": [],
   "source": []
  },
  {
   "cell_type": "markdown",
   "metadata": {
    "cell_style": "split",
    "slideshow": {
     "slide_type": "fragment"
    }
   },
   "source": [
    "<div height = 30%>\n",
    "<div width=10%>  <img src=\"./figures/types_of_Problem_and_AI/banana.jpg\" alt=\"Picture of a banana\">   </div>\n",
    "</div>  "
   ]
  },
  {
   "cell_type": "markdown",
   "metadata": {
    "cell_style": "split",
    "slideshow": {
     "slide_type": "fragment"
    }
   },
   "source": [
    "Many people might say:\n",
    "- Apples are green and round and have smooth skin\n",
    "- Oranges are orange and round and have rough skin\n",
    "- Bananas are yellow and long and pointed at both ends and have smooth skin. "
   ]
  },
  {
   "cell_type": "markdown",
   "metadata": {
    "slideshow": {
     "slide_type": "slide"
    }
   },
   "source": [
    "## Symbolic AI says that these are all examples of an abstract class \n",
    "e.g. 'Apples', 'Oranges' or 'Bananas'.\n",
    "\n",
    "To reason about them we make statements in a 'world-model' that are True or False for things of that type\n",
    " - A **Model** encoding human expertise is often  called the **'knowledge base'**"
   ]
  },
  {
   "cell_type": "markdown",
   "metadata": {
    "cell_style": "split",
    "slideshow": {
     "slide_type": "fragment"
    }
   },
   "source": [
    "A mixture of **Facts**\n",
    "\n",
    "|          | Apples | Oranges | Bananas |\n",
    "|----------|--------|---------|---------|\n",
    "| isGreen  | True   |         |         |\n",
    "| IsOrange |        | True    |         |\n",
    "| isYellow |        |         | True    |\n",
    "| isRound  | True   | True    |         |\n",
    "| isLong   |        |         | True    |\n",
    "| isRough  |        | True    |         |\n",
    "| isSmooth | True   |         | True    |"
   ]
  },
  {
   "cell_type": "markdown",
   "metadata": {
    "cell_style": "split",
    "slideshow": {
     "slide_type": "fragment"
    }
   },
   "source": [
    " And  **logic**   \n",
    "\n",
    "usually **Rules** that we can apply to generate new facts  \n",
    "\n",
    "_isRound(x)_ AND _isGreen(x)_  AND _isSmooth(x)_   => _isApple(x)_\n",
    "\n",
    "_isRound(x)_ AND _isOrange(x)_ AND _isRough(x)_    => _isOrange(x)_\n",
    "\n",
    "_isLong(x)_  AND _isYellow(x)_ AND _isSmooth(x)_   => _isBanana(x)_"
   ]
  },
  {
   "cell_type": "markdown",
   "metadata": {
    "slideshow": {
     "slide_type": "slide"
    }
   },
   "source": [
    "## Using a symbolic AI model for prediction\n",
    "\n",
    " <img style=\"float:right\" src = \"figures/types_of_Problem_and_AI/lime.jpg\">\n",
    " \n",
    "1. Create the **model** by encoding this knowledge  using rules in your chosen type of  logic \n",
    " \n",
    "\n",
    "\n",
    " \n",
    "2. provide **input** in the form of 'assertions' about a new bit of fruit\n",
    " - _isRound(newfruit)_ = True\n",
    " - _isGreen(newfruit)_ = True\n",
    " \n",
    " \n",
    "3. Make a **prediction** by applying logic (deduction) to infer the _**output**_ \n",
    " - _isApple(newfruit)_ = False"
   ]
  },
  {
   "cell_type": "markdown",
   "metadata": {
    "slideshow": {
     "slide_type": "slide"
    }
   },
   "source": [
    "## Making this work better\n",
    "\n",
    " - 'Closed World Assumption':  \n",
    " fill in the gaps in the table by saying  \n",
    " \"if we don't know it's true, assume it is false\"\n",
    " \n",
    " - Make 'higher level' statements to reduce the number of things to consider  \n",
    " 'all rough things are not smooth **and vice versa**' \n",
    " \n",
    " \n",
    " - Logic can be multi-step:  \n",
    "separate new facts about this instance from world model\n",
    " \n",
    "Once you've defined a model you can use it:\n",
    "- 'forwards' (data driven) for **prediction**, \n",
    "- 'backwards' (goal-driven) for  **optimisation/planning**."
   ]
  },
  {
   "cell_type": "markdown",
   "metadata": {
    "slideshow": {
     "slide_type": "slide"
    }
   },
   "source": [
    "# Take a moment to think if you can see any problems with this"
   ]
  },
  {
   "cell_type": "markdown",
   "metadata": {
    "slideshow": {
     "slide_type": "slide"
    }
   },
   "source": [
    "### Let's  look at fruit colour, width,height,weight\n",
    "#### Colour    \n",
    "from www.colorhexa.com\n",
    "-    In a RGB color space, hex #ffe135 (also known as Banana yellow) is composed of 100% red, 88.2% green and 20.8% blue. \n",
    "-    In a RGB color space, hex #8db600 (also known as Apple green) is composed of 55.3% red, 71.4% green and 0% blue.\n",
    "-    In a RGB color space, hex #ffa500 (also known as Orange) is composed of 100% red, 64.7% green and 0% blue.\n",
    "    \n",
    "#### size\n",
    "from quick search on internet (using the _'are sites consistent?'_ heuristic)\n",
    "-    banana: width 130 +/- 15 mm height 28 +/- 05 cm, weight 125 +/- 10 gm\n",
    "- apple    width = height = 80mm  +/-    weight = 340 g\n",
    "- orange   width = height = 76mm   +/-   weight = 357 g\n",
    "    \n",
    "    \n"
   ]
  },
  {
   "cell_type": "code",
   "execution_count": 2,
   "metadata": {
    "slideshow": {
     "slide_type": "fragment"
    }
   },
   "outputs": [],
   "source": [
    "# values ( mean_red, mean_green, mean_blue,width, height, weight)\n",
    "typical_banana = (100,88.2,20.8,130,28,125 )\n",
    "typical_apple = (55.3,71.4,0,80,80,340)\n",
    "typical_orange = (100,64.7,0,76,76,357)"
   ]
  },
  {
   "cell_type": "markdown",
   "metadata": {
    "slideshow": {
     "slide_type": "slide"
    }
   },
   "source": [
    "# Make some fake data\n",
    "\n",
    "### We'll use a function built into sklearn to create datasets\n",
    "It takes the 'ideal' values then adds small amounts of noise"
   ]
  },
  {
   "cell_type": "code",
   "execution_count": 7,
   "metadata": {
    "slideshow": {
     "slide_type": "fragment"
    }
   },
   "outputs": [],
   "source": [
    "import  sklearn.datasets as datasets\n",
    "import numpy as np\n",
    "import matplotlib.pyplot as plt\n",
    "\n",
    "# make ten examples of each type with a bit of random noise added\n",
    "feature_values,label_ids = datasets.make_blobs(\n",
    "    n_samples = [10,10,10], \n",
    "    centers = [typical_banana,typical_apple,typical_orange],\n",
    "    cluster_std=5.0,n_features=6 )\n",
    "feature_names = ['Red','Green','Blue','Width','Height','Weight']"
   ]
  },
  {
   "cell_type": "markdown",
   "metadata": {
    "slideshow": {
     "slide_type": "slide"
    }
   },
   "source": [
    " ### Now save that data to file with string version of the labels as well"
   ]
  },
  {
   "cell_type": "code",
   "execution_count": 8,
   "metadata": {
    "slideshow": {
     "slide_type": "fragment"
    }
   },
   "outputs": [],
   "source": [
    "#make a string version of the numeric labels\n",
    "\n",
    "labels= []\n",
    "colours = []\n",
    "for row in label_ids:\n",
    "    if row==0:\n",
    "        labels.append('banana')\n",
    "        colours.append('yellow')\n",
    "    elif row== 1:\n",
    "        labels.append('apple')\n",
    "        colours.append('green')\n",
    "    else:\n",
    "        labels.append('orange')\n",
    "        colours.append('orange')\n",
    "\n",
    "np.savetxt(\"data/fruit_values.csv\", feature_values, delimiter=\",\")\n",
    "np.savetxt(\"data/fruit_label_ids.csv\", label_ids, delimiter=\",\")\n",
    "np.savetxt(\"data/fruit_labels.csv\", labels, delimiter=\",\",fmt=\"%s\")"
   ]
  },
  {
   "cell_type": "markdown",
   "metadata": {
    "slideshow": {
     "slide_type": "slide"
    }
   },
   "source": [
    "### We list our data and use matplotlib to create visualisations of what our data looks like"
   ]
  },
  {
   "cell_type": "code",
   "execution_count": 9,
   "metadata": {
    "slideshow": {
     "slide_type": "fragment"
    }
   },
   "outputs": [
    {
     "name": "stdout",
     "output_type": "stream",
     "text": [
      "[ 62.16  74.68  -6.33  74.9   78.37 335.56] apple\n",
      "[ 52.22  73.87   4.36  87.76  82.01 332.47] apple\n",
      "[ 98.56  87.98  25.35 122.08  27.9  130.33] banana\n",
      "[ 54.74  79.23  -3.34  87.61  73.29 337.5 ] apple\n",
      "[ 95.8   59.92   6.21  74.64  69.55 356.91] orange\n",
      "[ 53.57  70.51  -3.1   73.1   68.92 339.55] apple\n",
      "[ 97.51  62.16   5.4   68.71  78.86 367.34] orange\n",
      "[ 91.44  93.6   15.78 130.7   13.68 122.81] banana\n",
      "[ 51.31  64.13  -1.7   72.81  72.63 338.62] apple\n",
      "[103.81  93.05  25.38 131.16  23.94 120.73] banana\n",
      "[ 92.23  87.66  16.93 130.65  29.64 117.19] banana\n",
      "[ 48.29  73.75  -1.85  72.61  84.01 345.13] apple\n",
      "[ 93.8   58.47  -6.66  75.19  74.71 358.21] orange\n",
      "[105.31  87.15  24.82 120.13  24.3  128.6 ] banana\n",
      "[100.62  62.34   3.23  78.67  74.32 358.63] orange\n",
      "[102.5   56.55  -0.9   74.04  72.3  351.17] orange\n",
      "[101.51  91.65  20.07 128.77  24.4  124.87] banana\n",
      "[102.01  65.01   4.6   75.93  73.67 357.44] orange\n",
      "[101.76  89.04  23.15 134.9   34.26 119.65] banana\n",
      "[ 94.9   86.83  16.63 129.9   20.88 123.39] banana\n",
      "[ 60.65  73.29   3.28  75.73  89.13 339.79] apple\n",
      "[100.64  97.41   6.73 138.44  20.97 128.19] banana\n",
      "[ 99.75  64.52   2.35  71.37  70.96 356.97] orange\n",
      "[ 96.38  50.39  -0.82  71.31  73.93 355.92] orange\n",
      "[102.46  69.53  -2.34  73.87  77.4  365.42] orange\n",
      "[ 56.39  71.94   9.06  79.57  73.07 348.48] apple\n",
      "[ 50.44  70.29  -2.27  73.6   78.14 345.75] apple\n",
      "[ 95.93  64.19  11.27  72.81  84.42 362.89] orange\n",
      "[ 94.06  86.28  19.3  129.81  16.57 128.27] banana\n",
      "[ 52.99  67.61   4.86  77.95  73.7  330.04] apple\n"
     ]
    }
   ],
   "source": [
    "np.set_printoptions(precision=2)\n",
    "for feats,label in zip(feature_values,labels):\n",
    "    print (feats,label)"
   ]
  },
  {
   "cell_type": "code",
   "execution_count": 10,
   "metadata": {
    "slideshow": {
     "slide_type": "slide"
    }
   },
   "outputs": [
    {
     "data": {
      "image/png": "[encoded data removed]",
      "text/plain": [
       "<Figure size 576x288 with 2 Axes>"
      ]
     },
     "metadata": {
      "needs_background": "light"
     },
     "output_type": "display_data"
    }
   ],
   "source": [
    "\n",
    "\n",
    "\n",
    "\n",
    "\n",
    "def make3dscatters():\n",
    "    fig=plt.figure(tight_layout=True,figsize=(8,4))\n",
    "    ax1 = fig.add_subplot(121, projection='3d') \n",
    "    ax2 = fig.add_subplot(122,projection='3d')\n",
    "    ax1.scatter(feature_values[:,:1], feature_values[:,1:2],feature_values[:,2:3],c=colours, marker='o',label=labels)\n",
    "    ax1.set_xlabel('Red')\n",
    "    ax1.set_ylabel('Green')\n",
    "    ax1.set_zlabel('Blue',rotation=270,labelpad=0)\n",
    "    ax2.scatter(feature_values[:,3:4], feature_values[:,4:5],feature_values[:,5:6],c=colours, marker='o',label=labels)\n",
    "    ax2.set_xlabel('Width');\n",
    "    ax2.set_ylabel('Height'); \n",
    "    ax2.set_zlabel('Weight',rotation=270,labelpad=0)\n",
    "    plt.subplots_adjust(left=0.0, right=1.0, top=0.9, bottom=0.1)\n",
    "    return fig\n",
    "fig = make3dscatters()\n",
    "plt.show()"
   ]
  },
  {
   "cell_type": "markdown",
   "metadata": {
    "slideshow": {
     "slide_type": "slide"
    }
   },
   "source": [
    "## Symbolic AI\n",
    "Have to write code  that can:\n",
    " - extract meaning from these figures\n",
    " - to generate True/False for symbols like isLong() or isYellow()\n",
    " - those symbols are what used to do reasoning in the model"
   ]
  },
  {
   "cell_type": "markdown",
   "metadata": {
    "slideshow": {
     "slide_type": "slide"
    }
   },
   "source": [
    "# Computational AI: \n",
    "\n",
    "- **Machine Learning**  creates models using algorithms that learn by trial and error from datasets (examples)\n",
    "- **Heuristic Optimisation** takes a similar 'trial and error' approach to finding and improving solutions to optimisation problems"
   ]
  },
  {
   "cell_type": "markdown",
   "metadata": {
    "cell_style": "center",
    "slideshow": {
     "slide_type": "fragment"
    }
   },
   "source": [
    "## Our fruit example\n",
    "\n",
    "1. Decide on a set of features you can measure about objects:  \n",
    "weight in grammes  \n",
    "height/width in cm  \n",
    "mean RGB values of image\n",
    "2. Measure values of those features for a set of examples  \n",
    "store these in a Dataset (e.g. numpy 2D array).  \n",
    "one row per example,  \n",
    "one column for each feature + one column for the label   (orange/apple/banana)  \n",
    "or put the label in a separate array\n",
    "3. Apply an algorithm to find decision boundaries that separate the examples into classes    \n",
    "learned model = set of decision boundaries + labels for the regions they define\n",
    "4. Make **prediction** by looking at where a new example is in relation to those boundaries"
   ]
  },
  {
   "cell_type": "markdown",
   "metadata": {
    "cell_style": "split",
    "slideshow": {
     "slide_type": "slide"
    }
   },
   "source": [
    "# Summary\n",
    "## Two different approaches,  both with strengths and weaknesses\n",
    " 1. Symbolic (Knowledge-based):\n",
    "  - based on logic, facts and rules\n",
    "  - uses a human-provided world model\n",
    " 2. Computational AI\n",
    "  - Algorithms that learn from experience\n",
    "  - only as good as their experience\n",
    "  "
   ]
  },
  {
   "cell_type": "markdown",
   "metadata": {
    "cell_style": "split",
    "slideshow": {
     "slide_type": "fragment"
    }
   },
   "source": [
    "## Key Difference: \n",
    "In symbolic AI everything 'stands for' something in the real world.\n",
    "\n",
    "- So you might write a function: Bool  isYellow( inr red, int green, int blue)\n",
    " - but it would be meangingless to pass values for width/height/weight into isYellow()\n",
    " - and the rules that define the 'fruit' model can't be used for anything else\n",
    "\n",
    "In Computational AI 'everything is just numbers', \n",
    "- nothing has any special meaning\n",
    "- so algorithms become more re-usable."
   ]
  },
  {
   "cell_type": "markdown",
   "metadata": {
    "slideshow": {
     "slide_type": "fragment"
    }
   },
   "source": [
    "## You need to be able to: \n",
    " - **Describe** the differences between these approaches\n",
    " - **Select** (and explain) whether to choose a computational or knowledge-based solution  \n",
    " to solve a given problem _in it's context_. \n",
    " "
   ]
  },
  {
   "cell_type": "code",
   "execution_count": null,
   "metadata": {},
   "outputs": [],
   "source": []
  }
 ],
 "metadata": {
  "celltoolbar": "Slideshow",
  "kernelspec": {
   "display_name": "AIenv",
   "language": "python",
   "name": "aienv"
  },
  "language_info": {
   "codemirror_mode": {
    "name": "ipython",
    "version": 3
   },
   "file_extension": ".py",
   "mimetype": "text/x-python",
   "name": "python",
   "nbconvert_exporter": "python",
   "pygments_lexer": "ipython3",
   "version": "3.8.2"
  }
 },
 "nbformat": 4,
 "nbformat_minor": 4
}
