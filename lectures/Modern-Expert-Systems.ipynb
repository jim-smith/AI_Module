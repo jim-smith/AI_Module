{
 "cells": [
  {
   "cell_type": "markdown",
   "metadata": {
    "slideshow": {
     "slide_type": "slide"
    }
   },
   "source": [
    "# Artificial Intelligence 1, Week 4: Modern Expert Systems\n",
    "\n"
   ]
  },
  {
   "cell_type": "markdown",
   "metadata": {
    "slideshow": {
     "slide_type": "fragment"
    }
   },
   "source": [
    "# Today\n",
    "week7 powerpoint for videos and pictur of unity framework\n",
    "- Recap: forwards chaining does data-driven search\n",
    "- Backward-chaining for goal-driven search \n",
    " - need a video,  show backward chaining for 'shall i peel this fruit?, GOAP in games\n",
    "- Wider applications of expert systems: semantic web etc.\n",
    " - extensions: AIMLv2 'hello mom',  behaviour trees(week 9 for slides and videos)\n",
    "   -   do we know how Alexa/Siri/LUIS work?    probably a mixture of symbolic (esp preprocessing), statistical and neural models\n",
    " - point out links to object -orientyed programming\n",
    " - increasing use in IDE's e.g. Unity RuleTile editor for creating game levels, code snippets etc. in UI tools (XCodeexample?)\n",
    "- criticisms:\n",
    " - hard to maintain\n",
    " - tend to be static: AIML has learnf, but openstreetmaps and Taybots as negativve examples"
   ]
  },
  {
   "cell_type": "markdown",
   "metadata": {
    "slideshow": {
     "slide_type": "slide"
    }
   },
   "source": [
    "## Today \n",
    "Ethical considerations:\n",
    "- Fairness\n",
    " - easy and free to use:   reduces barriers to people from less priveleged backgrounds\n",
    "- Accountability:\n",
    " - traceability is a good thing\n",
    " - all too easy to pick up big chatbot knowlegge bases without inspecting them\n",
    " - Bot editor has ultimate responsibility\n",
    "\n",
    "- Trust\n",
    " - can explicitly embed regulations e.g. DSTL project, con-mon a rchitectures. for safety-critical systems\n",
    " - some forms of logic systems allow automated proofs for verifiability\n",
    " - Provenance e.g. wikipedia,"
   ]
  },
  {
   "cell_type": "markdown",
   "metadata": {
    "cell_style": "split",
    "slideshow": {
     "slide_type": "slide"
    }
   },
   "source": [
    "## Example from a trivial knowledge-base\n",
    "**Facts**  \n",
    "1 John is a thief  \n",
    "2 Mary likes cheese\n",
    "\n",
    "**Rules**  \n",
    "A. IF ‘X’ likes cheese THEN john likes ‘X’  \n",
    "B. IF ‘X’ is a thief and ‘X’ likes ‘Y’ THEN ‘X’ steals ‘Y’  \n",
    "C. IF ‘X’ likes cheese THEN ‘X’ likes France\n"
   ]
  },
  {
   "cell_type": "markdown",
   "metadata": {
    "cell_style": "split",
    "slideshow": {
     "slide_type": "fragment"
    }
   },
   "source": [
    "### Forwards chaining \n",
    "1. We can bind object ‘Mary’ to variable ‘X’ in rule A\n",
    " - **John likes Mary.    (fact 3)**\n",
    "2. We can bind object ‘Mary’ to variable ‘X’ in rule C\n",
    " - **Mary likes France.  (fact 4)**\n",
    "3. We can bind John to variable X and Mary to variable Y using \n",
    "      facts 1 and 3\n",
    " - **John steals mary! (fact 5)**\n"
   ]
  },
  {
   "cell_type": "code",
   "execution_count": null,
   "metadata": {
    "slideshow": {
     "slide_type": "skip"
    }
   },
   "outputs": [],
   "source": []
  },
  {
   "cell_type": "markdown",
   "metadata": {
    "cell_style": "split",
    "slideshow": {
     "slide_type": "slide"
    }
   },
   "source": [
    "## Example from a trivial knowledge-base\n",
    "**Facts**  \n",
    "1 John is a thief  \n",
    "2 Mary likes cheese\n",
    "\n",
    "**Rules**  \n",
    "A. IF ‘X’ likes cheese THEN john likes ‘X’  \n",
    "B. IF ‘X’ is a thief and ‘X’ likes ‘Y’ THEN ‘X’ steals ‘Y’  \n",
    "C. IF ‘X’ likes cheese THEN ‘X’ likes France\n"
   ]
  },
  {
   "cell_type": "markdown",
   "metadata": {
    "cell_style": "split",
    "slideshow": {
     "slide_type": "fragment"
    }
   },
   "source": [
    "### Backward Chaining:\n",
    "Does John steal Cheese?\n"
   ]
  },
  {
   "cell_type": "markdown",
   "metadata": {
    "slideshow": {
     "slide_type": "slide"
    }
   },
   "source": [
    "# Pause for answers"
   ]
  },
  {
   "cell_type": "markdown",
   "metadata": {
    "cell_style": "split",
    "slideshow": {
     "slide_type": "slide"
    }
   },
   "source": [
    "## Example from a trivial knowledge-base\n",
    "**Facts**  \n",
    "1 John is a thief  \n",
    "2 Mary likes cheese\n",
    "\n",
    "**Rules**  \n",
    "A. IF ‘X’ likes cheese THEN john likes ‘X’  \n",
    "B. IF ‘X’ is a thief and ‘X’ likes ‘Y’ THEN ‘X’ steals ‘Y’  \n",
    "C. IF ‘X’ likes cheese THEN ‘X’ likes France\n"
   ]
  },
  {
   "cell_type": "markdown",
   "metadata": {
    "cell_style": "split",
    "slideshow": {
     "slide_type": "fragment"
    }
   },
   "source": [
    "No direct rule so look for assertion in rule consequences.   \n",
    "1. Would only be true if rule B fired with X = John and Y = cheese.   \n",
    "For that to happen we need it to be true that\n",
    " - John is a thief.   **true by fact 1**\n",
    " - AND\n",
    " - John Likes Cheese\n",
    "We don’t have a fact that John likes cheese.  \n",
    "2. The only relevant rule that would let us generate that is A with X = cheese\n",
    " - That requires : if cheese likes cheese\n",
    " - No way of finding that so **False** (Closed World Assumption)\n",
    " \n",
    "**John does not steal cheese**\n"
   ]
  },
  {
   "cell_type": "code",
   "execution_count": null,
   "metadata": {
    "cell_style": "split"
   },
   "outputs": [],
   "source": []
  }
 ],
 "metadata": {
  "celltoolbar": "Slideshow",
  "kernelspec": {
   "display_name": "AIenv",
   "language": "python",
   "name": "aienv"
  },
  "language_info": {
   "codemirror_mode": {
    "name": "ipython",
    "version": 3
   },
   "file_extension": ".py",
   "mimetype": "text/x-python",
   "name": "python",
   "nbconvert_exporter": "python",
   "pygments_lexer": "ipython3",
   "version": "3.8.2"
  }
 },
 "nbformat": 4,
 "nbformat_minor": 4
}
