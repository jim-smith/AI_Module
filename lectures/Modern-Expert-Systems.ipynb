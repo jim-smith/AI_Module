{
 "cells": [
  {
   "cell_type": "markdown",
   "metadata": {
    "slideshow": {
     "slide_type": "slide"
    }
   },
   "source": [
    "# AI 1, Week 4: Modern Expert Systems\n",
    "\n"
   ]
  },
  {
   "cell_type": "markdown",
   "metadata": {
    "slideshow": {
     "slide_type": "slide"
    }
   },
   "source": [
    "### Today\n",
    "\n",
    "- Recap: forwards chaining does data-driven search\n",
    "- Backward-chaining for goal-driven search \n",
    "\n",
    "- Wider applications of expert systems: \n",
    " - historic examples\n",
    " - Natural Langiuag Processing e.g AIML v2.\n",
    " - extensions: AIMLv2 'hello mom',  behaviour trees(week 9 for slides and videos)\n",
    " - use in  IDE's, especially with visual syntax\n",
    "- Pros and Cons"
   ]
  },
  {
   "cell_type": "markdown",
   "metadata": {
    "slideshow": {
     "slide_type": "slide"
    }
   },
   "source": [
    "### Ethical considerations of knowledge-based systems:  \n",
    "**Fairness**\n",
    "- easy and free to use:   reduces barriers to people from less priveleged backgrounds\n",
    "\n",
    "**Accountability:**\n",
    " - traceability is a good thing\n",
    " - all too easy to pick up big chatbot knowledge bases without inspecting them\n",
    " - **Bot editor has ultimate responsibility**\n",
    "\n",
    "**Trust:**\n",
    " - can explicitly embed regulations  \n",
    "   e.g. DSTL project, con-mon architectures. for safety-critical systems\n",
    " - some forms of logic systems allow automated proofs for verifiability\n",
    " - Provenance e.g. wikipedia,"
   ]
  },
  {
   "cell_type": "markdown",
   "metadata": {
    "cell_style": "split",
    "slideshow": {
     "slide_type": "slide"
    }
   },
   "source": [
    "## Simple Example\n",
    "**Facts**  \n",
    "1 John is a thief  \n",
    "2 Mary likes cheese\n",
    "\n",
    "**Rules**  \n",
    "A. IF ‘X’ likes cheese THEN john likes ‘X’  \n",
    "B. IF ‘X’ is a thief and ‘X’ likes ‘Y’ THEN ‘X’ steals ‘Y’  \n",
    "C. IF ‘X’ likes cheese THEN ‘X’ likes France\n"
   ]
  },
  {
   "cell_type": "markdown",
   "metadata": {
    "cell_style": "split",
    "slideshow": {
     "slide_type": "fragment"
    }
   },
   "source": [
    "### Forwards chaining \n",
    "Also known as Deduction or data-driven reasoning\n",
    "1. We can bind object ‘Mary’ to variable ‘X’ in rule A\n",
    " - **John likes Mary.    (fact 3)**\n",
    "2. We can bind object ‘Mary’ to variable ‘X’ in rule C\n",
    " - **Mary likes France.  (fact 4)**\n",
    "3. We can bind John to variable X and Mary to variable Y using \n",
    "      facts 1 and 3\n",
    " - **John steals mary! (fact 5)**\n"
   ]
  },
  {
   "cell_type": "code",
   "execution_count": null,
   "metadata": {
    "slideshow": {
     "slide_type": "skip"
    }
   },
   "outputs": [],
   "source": []
  },
  {
   "cell_type": "markdown",
   "metadata": {
    "cell_style": "center",
    "slideshow": {
     "slide_type": "slide"
    }
   },
   "source": [
    "## Backward Chaining: <img src=\"figures/KR4/backwards-chaining.png\" style=\"float:right\" width=50%>\n",
    "Also known as abduction, or goal-driven reasoning\n",
    "\n",
    "We use this to answer questions:\n",
    "\n",
    "**\"Does John steal Cheese?\"**\n"
   ]
  },
  {
   "cell_type": "markdown",
   "metadata": {
    "slideshow": {
     "slide_type": "slide"
    }
   },
   "source": [
    "# Pause for answers"
   ]
  },
  {
   "cell_type": "markdown",
   "metadata": {
    "cell_style": "center",
    "slideshow": {
     "slide_type": "slide"
    }
   },
   "source": [
    "## Example from a trivial knowledge-base\n",
    "<div style=\"width: 100%; overflow: hidden;\">\n",
    "     <div style=\"width: 300px; float: left;\">\n",
    "         <b>Facts</b>\n",
    "         <ol>\n",
    "            <li>John is a thief</li>    \n",
    "            <li>Mary likes cheese</li>\n",
    "        </ol>\n",
    "         <b>Rules</b>\n",
    "         <ol >\n",
    "             <li type=\"A\">IF ‘X’ likes cheese THEN john likes ‘X’</li> \n",
    "             <li type=\"A\">IF ‘X’ is a thief and ‘X’ likes ‘Y’ THEN ‘X’ steals ‘Y’ </li> \n",
    "             <li type=\"A\">IF ‘X’ likes cheese THEN ‘X’ likes France</li>\n",
    "         </ol>\n",
    "    </div>\n",
    "    <div style=\"margin-left: 320px;\"> \n",
    "        <b>Working:</b>\n",
    "        <ol>\n",
    "            <li> Check is assertion is present: <b>No</b></li>\n",
    "            <li> Check for rule with consequences <em> X steals cheese</em> or <em> X steals Y</em>\n",
    "            <li> Only one relevant: Rule B with X = John and Y = cheese.<br> so test conditions</li>\n",
    "            <ul>\n",
    "                <li>John is a thief: <b> True by fact 1.</b></li>\n",
    "                <li> John likes cheese: <b>unknown</b>.</li>\n",
    "            </ul>\n",
    "            <li> Now repeat process to see if we can infer <em>John likes cheese</em>.\n",
    "            <li> The only relevant rule that would let us generate that is A with X = cheese</li>\n",
    "            <ul>\n",
    "                <li> That requires: if cheese likes cheese</li>\n",
    "                <li> There is no way of knowing that</li>\n",
    "                <li> So it is <b>False</b> by the closed world assumption</li>\n",
    "            </ul>\n",
    "            <li> <b> John does not steal cheese</b></li>\n",
    "        </ol>\n",
    "    </div>\n",
    "</div>\n"
   ]
  },
  {
   "cell_type": "markdown",
   "metadata": {
    "cell_style": "center",
    "slideshow": {
     "slide_type": "slide"
    }
   },
   "source": [
    "## Wider Applications of Knowledge-based  Systems<img src =\"Figures/KR4/mycin-bookcover.jpg\" style = \"float:right\" width=200>\n",
    "\"Expert Systems\" had some notable successes in the 1970s.\n",
    "\n",
    "Mycin (Stanford Uni 1970s):\n",
    "- Encoded knowlege from consultants  \n",
    "  about symptoms of bacterial diseases  \n",
    "  using about 500 rules\n",
    "- Made diagnoses and recommend dosages of antibiotics\n",
    "- Outperformed GPs,  \n",
    "  comparable to specialists.\n",
    "- Acceptance: **Decision Support System**  \n",
    "- i.e. not directly making decisions.  \n",
    "  Even today we'd still struggle to get ethical approval for that!"
   ]
  },
  {
   "cell_type": "markdown",
   "metadata": {
    "slideshow": {
     "slide_type": "slide"
    }
   },
   "source": [
    "## Nowadays expert systems are so ubiqitous people don't  see them as AI!\n",
    "But they still embed the _rete_ algorithm to find a match set and choose a rule to fire.\n",
    "\n",
    "Many commercial toolkits like, CLIPS, DROOLS, aimed primarily at the business market for setting up workflows.\n",
    "<img src=\"Figures/KR4/UnityML.png\" style=\"float:right\" width=400 height=300>\n",
    "\n",
    "Also in lots of IDEs like Unity for GameDev.  \n",
    "  IDE provides classes to let you define decisions \n",
    "\n",
    "`public class HeuristicLogic:Decision{\n",
    "Decide() //takes agents state and makes decision\n",
    "MakeMemory() passes state to next timestep`\n",
    "\n",
    "\n"
   ]
  },
  {
   "cell_type": "markdown",
   "metadata": {
    "slideshow": {
     "slide_type": "slide"
    }
   },
   "source": [
    "## Example with a visual syntax: Unity Rule Tiles\n",
    "\n",
    "\n",
    "[![IMAGE ALT TEXT HERE](https://img.youtube.com/vi/Ky0sV9pua-E/0.jpg)](https://www.youtube.com/watch?v=Ky0sV9pua-E)"
   ]
  },
  {
   "cell_type": "markdown",
   "metadata": {
    "slideshow": {
     "slide_type": "slide"
    }
   },
   "source": [
    "## Finite State Machines\n",
    "In Foundations of Compute Science you learned about **Finite State Machines**  \n",
    "which are a way of wrapping up a set of behaviours into states. \n",
    "with transitions between states triggered by events.  \n",
    "\n",
    "- The transition logic (and, optinally, the behaviours within states) can be hard-coded.\n",
    "- But it is more flexible have a way of loading the knowledge from a file - a knowledge-base.\n",
    "- Lots of early games and robotic systems used this form of programming to control Non-Player-characters (NPCs)\n",
    "\n",
    "- but there were issues with scalability and the ability to reuse code between projects.\n",
    " \n"
   ]
  },
  {
   "cell_type": "markdown",
   "metadata": {
    "slideshow": {
     "slide_type": "slide"
    }
   },
   "source": [
    "## Behaviour Trees <img src=\"Figures/KR4/pacman-behaviour-tree.png\" style=\"float:right\" width=40%>\n",
    "- Every timestep a tree is traversed  \n",
    "  to choose action to run.\n",
    "- Tree is built of standard types of nodes:  \n",
    "  selector(?),  \n",
    "  sequence(->),  \n",
    "  action (box),  \n",
    "  condition(ellipse).\n",
    "- Tree can be stored in a json file or similar,  \n",
    "  seperate knowledge from code.\n",
    "- Nature of tree allows formal reasoning / proofs\n",
    "- Very widely used in Games and Robotics.\n",
    "- We have research project  \n",
    "  using them for dialogue management. "
   ]
  },
  {
   "cell_type": "markdown",
   "metadata": {
    "slideshow": {
     "slide_type": "slide"
    }
   },
   "source": [
    "## Other examples - e.g. natural language processing\n",
    "We've already talked about schema.org\n",
    "\n",
    "AIMLV2 has extensions for calling out to other local or web APIs\n",
    "- e.g. \"CallMom\" (pandorabots) can \n",
    "- use android speech to text and text to speech libraries\n",
    "- add buttons/widgets to enhance IDE\n",
    "- link to google image search etc\n",
    "\n",
    "https://home.pandorabots.com/home.html\n",
    "\n"
   ]
  },
  {
   "cell_type": "markdown",
   "metadata": {
    "slideshow": {
     "slide_type": "slide"
    }
   },
   "source": [
    "<img src=\"Figures/KR4/Tay_bot_logo.jpg\" style=\"float:right\">\n",
    "Commercial Systems like Microsoft Azure bots:\n",
    "- use a mix of statistics/ Deep Recurrent Neural Networks to recognise **entities** and **intents**  \n",
    "- then users craft rule-based systems  to sit on top of them.\n",
    "\n",
    "\n",
    "\n",
    "This is a good source of examples of ethical problems:\n",
    "- who is responsible for how a bot learns to speak?\n",
    "- Taybot (2016) had to be pulled from Twitter after just 16 hours!"
   ]
  },
  {
   "cell_type": "markdown",
   "metadata": {
    "slideshow": {
     "slide_type": "slide"
    }
   },
   "source": [
    "## Pros and Cons of knowlege-based systems\n",
    "<div style=\"width: 100%; overflow: hidden;\">\n",
    "     <div style=\"width: 300px; float: left;\">\n",
    "         <h3>Pros</h3>\n",
    "         <ul>\n",
    "            <li>Human Readable</li>    \n",
    "            <li>Often fast for prototyping</li>\n",
    "            <li> Supported by lots of tools</li>\n",
    "        </ul> \n",
    "    </div>\n",
    "    <div style=\"margin-left: 320px;\"> \n",
    "        <h3>Cons</h3>\n",
    "        <ul>\n",
    "            <li> Problems with scaleability</li>\n",
    "            <li> Can be hard to maintain/debug</li>\n",
    "            <li> Can be <b>brittle</b> not robust to changes</li>\n",
    "            <li> Adding learnf can be difficult to curate\n",
    "        </ul>\n",
    "    </div>\n",
    "</div>\n",
    "    \n",
    "\n",
    "     "
   ]
  },
  {
   "cell_type": "markdown",
   "metadata": {
    "slideshow": {
     "slide_type": "fragment"
    }
   },
   "source": [
    "## Extensions of knowledge based systems\n",
    "- Fuzzy Logic: adding shades of grey to a black-and-white worldview\n",
    "- Some probabilistic models: \n",
    "  - often embed 'knowledge' to specify the structure of relationships between events as a tree, \n",
    "  - then fill in probabilities from data\n",
    " \n",
    "\n",
    "## Next Up:   Topic 2 - Machine Learning"
   ]
  }
 ],
 "metadata": {
  "celltoolbar": "Slideshow",
  "kernelspec": {
   "display_name": "AIenv",
   "language": "python",
   "name": "aienv"
  },
  "language_info": {
   "codemirror_mode": {
    "name": "ipython",
    "version": 3
   },
   "file_extension": ".py",
   "mimetype": "text/x-python",
   "name": "python",
   "nbconvert_exporter": "python",
   "pygments_lexer": "ipython3",
   "version": "3.8.2"
  }
 },
 "nbformat": 4,
 "nbformat_minor": 4
}
