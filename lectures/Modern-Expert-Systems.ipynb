{
 "cells": [
  {
   "cell_type": "markdown",
   "metadata": {
    "slideshow": {
     "slide_type": "slide"
    }
   },
   "source": [
    "# AI 1, Week 4: Modern Expert Systems\n",
    "\n"
   ]
  },
  {
   "cell_type": "markdown",
   "metadata": {
    "slideshow": {
     "slide_type": "fragment"
    }
   },
   "source": [
    "### Today\n",
    "\n",
    "- Recap: forwards chaining does data-driven search\n",
    "- Backward-chaining for goal-driven search \n",
    "\n",
    "- Wider applications of expert systems: semantic web etc.\n",
    " - extensions: AIMLv2 'hello mom',  behaviour trees(week 9 for slides and videos)\n",
    "   -   do we know how Alexa/Siri/LUIS work?    probably a mixture of symbolic (esp preprocessing), statistical and neural models\n",
    " - point out links to object -orientyed programming\n",
    " - increasing use in IDE's e.g. Unity RuleTile editor for creating game levels, code snippets etc. in UI tools (XCodeexample?)\n",
    "- Pros and Cons"
   ]
  },
  {
   "cell_type": "markdown",
   "metadata": {
    "slideshow": {
     "slide_type": "slide"
    }
   },
   "source": [
    "### Ethical considerations of knowledge-based systems:  \n",
    "**Fairness**\n",
    "- easy and free to use:   reduces barriers to people from less priveleged backgrounds\n",
    "\n",
    "**Accountability:**\n",
    " - traceability is a good thing\n",
    " - all too easy to pick up big chatbot knowledge bases without inspecting them\n",
    " - **Bot editor has ultimate responsibility**\n",
    "\n",
    "**Trust:**\n",
    " - can explicitly embed regulations  \n",
    "   e.g. DSTL project, con-mon architectures. for safety-critical systems\n",
    " - some forms of logic systems allow automated proofs for verifiability\n",
    " - Provenance e.g. wikipedia,"
   ]
  },
  {
   "cell_type": "markdown",
   "metadata": {
    "cell_style": "split",
    "slideshow": {
     "slide_type": "slide"
    }
   },
   "source": [
    "## Example of two types of reasoning with a trivial knowledge-base\n",
    "**Facts**  \n",
    "1 John is a thief  \n",
    "2 Mary likes cheese\n",
    "\n",
    "**Rules**  \n",
    "A. IF ‘X’ likes cheese THEN john likes ‘X’  \n",
    "B. IF ‘X’ is a thief and ‘X’ likes ‘Y’ THEN ‘X’ steals ‘Y’  \n",
    "C. IF ‘X’ likes cheese THEN ‘X’ likes France\n"
   ]
  },
  {
   "cell_type": "markdown",
   "metadata": {
    "cell_style": "split",
    "slideshow": {
     "slide_type": "fragment"
    }
   },
   "source": [
    "### Forwards chaining \n",
    "Also known as Deduction or data-driven reasoning\n",
    "1. We can bind object ‘Mary’ to variable ‘X’ in rule A\n",
    " - **John likes Mary.    (fact 3)**\n",
    "2. We can bind object ‘Mary’ to variable ‘X’ in rule C\n",
    " - **Mary likes France.  (fact 4)**\n",
    "3. We can bind John to variable X and Mary to variable Y using \n",
    "      facts 1 and 3\n",
    " - **John steals mary! (fact 5)**\n"
   ]
  },
  {
   "cell_type": "code",
   "execution_count": null,
   "metadata": {
    "slideshow": {
     "slide_type": "skip"
    }
   },
   "outputs": [],
   "source": []
  },
  {
   "cell_type": "markdown",
   "metadata": {
    "cell_style": "split",
    "slideshow": {
     "slide_type": "slide"
    }
   },
   "source": [
    "## Example from a trivial knowledge-base\n",
    "**Facts**  \n",
    "1 John is a thief  \n",
    "2 Mary likes cheese\n",
    "\n",
    "**Rules**  \n",
    "A. IF ‘X’ likes cheese THEN john likes ‘X’  \n",
    "B. IF ‘X’ is a thief and ‘X’ likes ‘Y’ THEN ‘X’ steals ‘Y’  \n",
    "C. IF ‘X’ likes cheese THEN ‘X’ likes France\n"
   ]
  },
  {
   "cell_type": "markdown",
   "metadata": {
    "cell_style": "split",
    "slideshow": {
     "slide_type": "fragment"
    }
   },
   "source": [
    "### Backward Chaining:\n",
    "Also known as abduction, or goal-driven reasoning\n",
    "\n",
    "We use this to answer questions:\n",
    "\n",
    "\"Does John steal Cheese?\"\n"
   ]
  },
  {
   "cell_type": "markdown",
   "metadata": {
    "slideshow": {
     "slide_type": "slide"
    }
   },
   "source": [
    "# Pause for answers"
   ]
  },
  {
   "cell_type": "markdown",
   "metadata": {
    "cell_style": "center",
    "slideshow": {
     "slide_type": "slide"
    }
   },
   "source": [
    "## Example from a trivial knowledge-base\n",
    "<div style=\"width: 100%; overflow: hidden;\">\n",
    "     <div style=\"width: 300px; float: left;\">\n",
    "         <h3>Facts</h3>\n",
    "         <ol>\n",
    "            <li>John is a thief</li>    \n",
    "            <li>Mary likes cheese</li>\n",
    "        </ol>\n",
    "         <h3>Rules</h3>\n",
    "         <ol type=\"A\">\n",
    "             <li>IF ‘X’ likes cheese THEN john likes ‘X’</li> \n",
    "             <li>IF ‘X’ is a thief and ‘X’ likes ‘Y’ THEN ‘X’ steals ‘Y’ </li> \n",
    "             <li>IF ‘X’ likes cheese THEN ‘X’ likes France</li>\n",
    "         </ol>\n",
    "    </div>\n",
    "    <div style=\"margin-left: 320px;\"> \n",
    "        <h3>Working</h3>\n",
    "        No direct rule so look for assertion in rule consequences.\n",
    "        <ol>\n",
    "            <li> Only one relevant rule: <br>Rule B with X = John and Y = cheese.<br>\n",
    "For that tobe valid we need it to be true that</li>\n",
    "            <ul>\n",
    "                <li>John is a thief: <b> True by fact 1.</b></li>\n",
    "                <li> John likes cheese: <b>unknown</b> -so can we prove that?</li>\n",
    "            </ul>\n",
    "            <li> The only relevant rule that would let us generate that is A with X = cheese</li>\n",
    "            <ul>\n",
    "                <li> That requires: if cheese likes cheese</li>\n",
    "                <li> There is no way of knowing that</li>\n",
    "                <li> So it is <b>False</b> by the closed world assumption</li>\n",
    "            </ul>\n",
    "            <li> <b> John does not steal cheese</b></li>\n",
    "        </ol>\n",
    "    </div>\n",
    "</div>\n"
   ]
  },
  {
   "cell_type": "markdown",
   "metadata": {
    "cell_style": "center",
    "slideshow": {
     "slide_type": "slide"
    }
   },
   "source": [
    "\n",
    "<img src =\"Figures/KR4/mycin-bookcover.jpg\" style = \"float:right\" width=200>\n",
    "\n",
    "## Wider Applications of Expert  (knowledge-based) Systems\n",
    "Expert Systems had some notable successes in the 1970s.  \n",
    "\n",
    "Mycin (Stanford Uni 1970s):\n",
    "- encoded knowlege from consultants about symptoms of bacterial diseases  \n",
    "  using about 500 rules\n",
    "- then used to make diagnoses and recommend dosages of antibiotics\n",
    "- was shown in practice to perform as as well as specialists and better than many GPs.\n",
    "- Found most acceptance as a **Decision Support System**  \n",
    "-  From an ethical perspective, this was not directly making decisions  \n",
    "  Even today we'd still struggle to get ethical approval for that!"
   ]
  },
  {
   "cell_type": "markdown",
   "metadata": {
    "slideshow": {
     "slide_type": "slide"
    }
   },
   "source": [
    "## Nowadays expert systems are so ubiqitous people don't  see them as AI!\n",
    "But they still embed the _rete_ algorithm to find a match set and choose a rule to fire.\n",
    "\n",
    "Many commercial toolkits like, CLIPS, DROOLS, aimed primarily at the business market for setting up workflows.\n",
    "<img src=\"Figures/KR4/UnityML.png\" style=\"float:right\" width=400 height=300>\n",
    "\n",
    "Also in lots of IDEs like Unity for GameDev.  \n",
    "  IDE provides classes to let you define decisions \n",
    "\n",
    "`public class HeuristicLogic:Decision{\n",
    "Decide() //takes agents state and makes decision\n",
    "MakeMemory() passes state to next timestep`\n",
    "\n",
    "\n"
   ]
  },
  {
   "cell_type": "markdown",
   "metadata": {
    "slideshow": {
     "slide_type": "slide"
    }
   },
   "source": [
    "# Example with a visual syntax: Unity Rule Tiles\n",
    "\n",
    "\n",
    "[![IMAGE ALT TEXT HERE](https://img.youtube.com/vi/Ky0sV9pua-E/0.jpg)](https://www.youtube.com/watch?v=Ky0sV9pua-E)"
   ]
  },
  {
   "cell_type": "markdown",
   "metadata": {
    "slideshow": {
     "slide_type": "slide"
    }
   },
   "source": [
    "## Other examples - e.g. natural language processing\n",
    "We've already talked about schema.org\n",
    "\n",
    "AIMLV2 has extensions for calling out to other local or web APIs\n",
    "- e.g. \"CallMom\" (pandorabots) can \n",
    "- use android speect to text and text to speech libraries\n",
    "- add buttons/widgets to enacne IDE\n",
    "- link to google image search etc\n",
    "\n",
    "<img src=\"Figures/KR4/Tay_bot_logo.jpg\" style=\"float:right\">\n",
    "\n",
    "Commercial Systems like Microsoft Azure bots:\n",
    "- use a mix of staticis/Deep neural networks to recognise **entities** and **intents**  \n",
    "- then users craft rule-based systems  to sit on top of them.\n",
    "\n",
    "\n",
    "\n",
    "This is a good source of examples of ethical problems:\n",
    "- who is responsibel for how a bot learns to speak?\n",
    "- Taybot (2016) had to be pulled from Twitter after just 16 hours!"
   ]
  },
  {
   "cell_type": "markdown",
   "metadata": {
    "slideshow": {
     "slide_type": "slide"
    }
   },
   "source": [
    "## Pros and Cons of knowlege-based systems\n",
    "<div style=\"width: 100%; overflow: hidden;\">\n",
    "     <div style=\"width: 300px; float: left;\">\n",
    "         <h3>Pros</h3>\n",
    "         <ul>\n",
    "            <li>Human Readable</li>    \n",
    "            <li>Often fast for prototyping</li>\n",
    "            <li> Supported by lots of tools</li>\n",
    "        </ul> \n",
    "    </div>\n",
    "    <div style=\"margin-left: 320px;\"> \n",
    "        <h3>Cons</h3>\n",
    "        <ul>\n",
    "            <li> Problems with scaleability</li>\n",
    "            <li> Can be hard to maintain/debug</li>\n",
    "            <li> Can be <b>brittle</b> not robust to changes</li>\n",
    "            <li> Adding learnf can be difficult to curate\n",
    "        </ul>\n",
    "    </div>\n",
    "</div>\n",
    "    \n",
    "\n",
    "     "
   ]
  },
  {
   "cell_type": "code",
   "execution_count": null,
   "metadata": {},
   "outputs": [],
   "source": []
  }
 ],
 "metadata": {
  "celltoolbar": "Slideshow",
  "kernelspec": {
   "display_name": "AIenv",
   "language": "python",
   "name": "aienv"
  },
  "language_info": {
   "codemirror_mode": {
    "name": "ipython",
    "version": 3
   },
   "file_extension": ".py",
   "mimetype": "text/x-python",
   "name": "python",
   "nbconvert_exporter": "python",
   "pygments_lexer": "ipython3",
   "version": "3.8.2"
  }
 },
 "nbformat": 4,
 "nbformat_minor": 4
}
