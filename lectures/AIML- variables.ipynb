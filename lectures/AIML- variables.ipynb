{
 "cells": [
  {
   "cell_type": "markdown",
   "metadata": {
    "cell_style": "center",
    "slideshow": {
     "slide_type": "slide"
    }
   },
   "source": [
    "### AIML: Encoding variables in long-term knowledge using Wildcards and `<star/>`\n",
    "\n",
    "Wildcard goes in &lt;pattern&gt;   \n",
    "&lt;star/&gt; goes in the &lt;template&gt;, and gets *bound*  \n",
    "to whatever the wildcard matched in the current sentence.\n",
    "- in AIML 1:0, wildcards stand for *one or more*:  `_` and `*`.  \n",
    "`*` is the lowest priority when matching (e.g. default category).  \n",
    "`_` is a high priority - e.g. stripping of niceties (please, botname)\n",
    "- AIML 2.0 added *zero or more* wildcards:  `#`  and `^`\n",
    "- Can have multiple wildcards in a sentence and choose between them using `<star index=\"n\"/>`"
   ]
  },
  {
   "cell_type": "code",
   "execution_count": null,
   "metadata": {
    "cell_style": "center",
    "slideshow": {
     "slide_type": "slide"
    }
   },
   "outputs": [],
   "source": [
    "%%writefile \"file1.aiml\"\n",
    "<aiml version=\"1.0.1\" encoding=\"UTF-8\">\n",
    "<category>\n",
    "<pattern>MY  * COLOURED * IS A FRUIT</pattern>\n",
    "<template>Well, <star/> is an unusual colour, but your <star index=\"2\"/> is edible.</template>\n",
    "</category>\n",
    "</aiml>"
   ]
  },
  {
   "cell_type": "code",
   "execution_count": null,
   "metadata": {
    "cell_style": "center",
    "slideshow": {
     "slide_type": "fragment"
    }
   },
   "outputs": [],
   "source": [
    "import aiml\n",
    "myBot= aiml.Kernel()\n",
    "myBot.learn(\"file1.aiml\")\n",
    "nextInput = input(\"Enter your message >> \")\n",
    "print (myBot.respond(nextInput))"
   ]
  },
  {
   "cell_type": "markdown",
   "metadata": {
    "slideshow": {
     "slide_type": "slide"
    }
   },
   "source": [
    "### AIML Encoding Short -term knowledge using `<think>` and \"predicate variables\"\n",
    "- Use &lt;think&gt; tags pairs inside the template (usually as the first action) to do things without producing output. \n",
    "- Often this will involve using a &lt;set&gt; tag pair to set the value of a named short-term variable.  \n",
    "  AIML calls these \"predicate variables\"  \n",
    "  If no variable of that name exists, one will be created,  \n",
    "  Otherwise the existing value will be overwritten\n",
    "- Then access those variable values by using a &lt;get&gt; tag pair containing name of the variable\n",
    "- The variable will exist for the rest of that bot-session"
   ]
  },
  {
   "cell_type": "code",
   "execution_count": null,
   "metadata": {
    "cell_style": "center",
    "slideshow": {
     "slide_type": "subslide"
    }
   },
   "outputs": [],
   "source": [
    "%%writefile \"file2.aiml\"\n",
    "<aiml version=\"1.0.1\" encoding=\"UTF-8\">\n",
    "\n",
    "<category>\n",
    "    <pattern>I HAVE A PET CALLED  * </pattern>\n",
    "    <template>\n",
    "        <think> \n",
    "            <set name = \"pet\"> <star/> </set>\n",
    "        </think>\n",
    "        Tell me more about <get name= \"pet\"/>\n",
    "    </template>\n",
    "</category>\n",
    "</aiml>"
   ]
  },
  {
   "cell_type": "code",
   "execution_count": null,
   "metadata": {
    "cell_style": "center",
    "slideshow": {
     "slide_type": "fragment"
    }
   },
   "outputs": [],
   "source": [
    "myBot.learn(\"file2.aiml\")\n",
    "\n",
    "nextInput = input(\"Enter your message >> \")\n",
    "print (myBot.respond(nextInput))"
   ]
  },
  {
   "cell_type": "markdown",
   "metadata": {
    "slideshow": {
     "slide_type": "slide"
    }
   },
   "source": [
    "## Summary\n",
    "You need to:\n",
    "1.  Understand the difference between using variables for long-term knowledge (tend to be in rules) and short-term knowledge (tend to be for setting properties)\n",
    "2. Understand how these are implemented in AIML (our example KRL). \n",
    "   - Wildcards and `<star/>` for long-term variables in rules\n",
    "   - `<think>` with `<set>` and `<get>` for short-term knowledge / properties."
   ]
  },
  {
   "cell_type": "code",
   "execution_count": null,
   "metadata": {},
   "outputs": [],
   "source": []
  }
 ],
 "metadata": {
  "celltoolbar": "Slideshow",
  "kernelspec": {
   "display_name": "Python 3",
   "language": "python",
   "name": "python3"
  },
  "language_info": {
   "codemirror_mode": {
    "name": "ipython",
    "version": 3
   },
   "file_extension": ".py",
   "mimetype": "text/x-python",
   "name": "python",
   "nbconvert_exporter": "python",
   "pygments_lexer": "ipython3",
   "version": "3.6.2"
  }
 },
 "nbformat": 4,
 "nbformat_minor": 4
}
