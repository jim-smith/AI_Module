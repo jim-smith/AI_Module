{
 "cells": [
  {
   "cell_type": "markdown",
   "metadata": {
    "slideshow": {
     "slide_type": "slide"
    }
   },
   "source": [
    "## Problem Solving As Search\n",
    "\n",
    "### Search Algorithms for Decision Problems\n",
    "\n",
    "### Artificial Intelligence 1: Week 10"
   ]
  },
  {
   "cell_type": "markdown",
   "metadata": {
    "slideshow": {
     "slide_type": "slide"
    }
   },
   "source": [
    "## This week\n",
    "\n",
    "Recap:\n",
    "- problem solving as search,\n",
    "- Search landscapes\n",
    "- Generate and Test as a common framework\n",
    "\n",
    "Search methods maintain ordered lists\n",
    "- that represent the working memory\n",
    "- in this module we are looking at 'single member' algorithms  \n",
    "  where we generate test one new solution at a time\n",
    "\n",
    "This week:\n",
    "- Uninformed ‘Blind” search: depth/breadth-first\n",
    "\n",
    "Next Week:  Adding heuristic measures: A*, best-first, hill-climbing\n"
   ]
  },
  {
   "attachments": {},
   "cell_type": "markdown",
   "metadata": {
    "slideshow": {
     "slide_type": "slide"
    }
   },
   "source": [
    "## Recap\n",
    "- Learning and problem solving can be seen as a search through a set of possible solutions or states.\n",
    "\n",
    "- Set of candidate solutions + move operator =>landscape\n",
    "\n",
    "- Sometimes we have quality measures to help guide  search\n",
    "  - landscape with extra dimension for quality\n",
    "  - Ideas of local and global optima\n",
    "- Sometimes not (decision problems)\n",
    "  - ‘needle in a haystack’ – nothing to guide search\n",
    "- Constructive Search: build up partial solutions, complexity \n",
    "- Perturbative Search: all solutions have the same complexity\n"
   ]
  },
  {
   "cell_type": "markdown",
   "metadata": {
    "slideshow": {
     "slide_type": "slide"
    }
   },
   "source": [
    "## Recap: Solution = node in search graph / tree\n",
    "<img src = \"figures/search/solution_as_node.png\">\n",
    "\n"
   ]
  },
  {
   "cell_type": "markdown",
   "metadata": {
    "slideshow": {
     "slide_type": "slide"
    }
   },
   "source": [
    "## Recap: Properties of Search Algorithms\n",
    "\n",
    "Ways of generating solutions would ideally be:\n",
    "- Optimal \n",
    "- Efficient \n",
    "- Complete \n",
    "\n",
    "<div> \n",
    "    <div style= \"float:left\" width=25%><img src=\"figures/search/complete.png\" width=50%> </div>\n",
    "    <div  style=\"float:left\" width=25%><img src=\"figures/search/efficient.png\" width=50%></div>\n",
    "    <div style= \"float:left\" width=25%><img src=\"figures/search/optimal.png\" width=50%></div>\n",
    "</div>\n",
    "\n",
    "Can't be all three, so **you** (the designer) have to make  a **design decision** about the best trade-offs  for **your** problem"
   ]
  },
  {
   "cell_type": "markdown",
   "metadata": {
    "slideshow": {
     "slide_type": "slide"
    }
   },
   "source": [
    "## Recap: Search using a Generate-test loop\n",
    "\n",
    "- A common framework we can use to solve many different problems,\n",
    "  - by changing the representation and  the test() function\n",
    "- switching between f different algorithms\n",
    "  - by changing  how we specify Generate() and UpdateWorkingMemory()\n",
    "\n",
    "    1.   Set WorkingMemory = Empty\n",
    "    2.   Initialise (CandidateSolution)\n",
    "    3.   Test ( CandidateSolution)\n",
    "    4.   UpdateWorkingMemory()\n",
    "    5.   While ( goal_not_found AND possibilities_left) DO\n",
    "    6.         CandidateSolution <- Generate ()\n",
    "    7.\t       Test ( CandidateSolution)\n",
    "    8.         UpdateWorkingMemory()\n",
    "    9.   OD\n",
    "    10.  Return (success or failure as appropriate).  \n",
    "\n",
    "Often we divide working memory into open list and closed list\n",
    "\n"
   ]
  },
  {
   "attachments": {},
   "cell_type": "markdown",
   "metadata": {
    "slideshow": {
     "slide_type": "slide"
    }
   },
   "source": [
    "## Quiz Questions:\n",
    "- A point that is locally optimal for one landscape, will still be if you change the move operator? [True: False]\n",
    "- In which if these situations might optimality be less important than efficiency?\n",
    "  - Speech recognition software for dictation\n",
    "  - Fingerprint recognition \n",
    "  - Neither\n",
    "  - Both\n",
    "-Is Exhaustive Search Optimal, Complete and Efficient (True: False x 3]\n",
    "\n"
   ]
  },
  {
   "attachments": {},
   "cell_type": "markdown",
   "metadata": {
    "slideshow": {
     "slide_type": "slide"
    }
   },
   "source": [
    "## Decision Problems and Uninformed search\n",
    "\n",
    "- Some problems come with a natural measure of quality\n",
    "\n",
    "- But sometimes we just have a ‘yes/no’ response:\n",
    "  - Password cracking\n",
    "  - ‘can I get from A to B’?\n",
    "  - Finding things like files …\n"
   ]
  },
  {
   "cell_type": "markdown",
   "metadata": {
    "slideshow": {
     "slide_type": "slide"
    }
   },
   "source": [
    "## Example:\n",
    "\n",
    "You have a fox, a chicken and a sack of grain. \n",
    "\n",
    "You must cross a river with only one of them at a time. \n",
    "\n",
    "- If you leave the fox with the chicken he will eat it; \n",
    "\n",
    "- If you leave the chicken with the grain he will eat it. \n",
    "\n",
    "Can you get all three across safely in less than ten moves?"
   ]
  },
  {
   "cell_type": "markdown",
   "metadata": {
    "slideshow": {
     "slide_type": "slide"
    }
   },
   "source": [
    "## What type of problem is this?\n",
    "\n",
    "“our” bit of the world  is dictated by the rules:\n",
    "they form the model of our system.\n",
    " - and the constraints\n",
    "\n",
    "Given “goal state” (final output to reach)\n",
    "\n",
    "So this is an optimisation problem;\n",
    "- Allowed moves defines a graph.\n",
    "- The current state is defined by the position of the  fox, chicken, grain, and boat:  \n",
    "  either  on first bank (0) or second bank (1)\n",
    "- Seeking sequence of inputs that moves through graph from (0,0,0,0) to (1,1,1,1) \n",
    "\n",
    "Constraints: fox and chicken,  or chicken and grain can't be on same side without boat\n",
    " - i.e. solutions are **infeasible** if they pass through:\n",
    "   -  {0,0,0,1},{1,1,1,0}   (both problem pairs left unattended)\n",
    "   -  {0 0, 1,1}, {1,1,0,0}   (fox and chicken unattended)\n",
    "   -  {0,1,1,0}, {1,0,0,1}  )chicken and grain unattended)\n"
   ]
  },
  {
   "cell_type": "markdown",
   "metadata": {
    "slideshow": {
     "slide_type": "slide"
    }
   },
   "source": [
    "## Diagram of partial graph for this problem\n",
    "Figure show partial graph for this problem, not all moves below final row shown. \n",
    "<img src = \"figures/search/fox-chicken-grain-partial-graph.png\" width=50%>"
   ]
  },
  {
   "attachments": {},
   "cell_type": "markdown",
   "metadata": {
    "slideshow": {
     "slide_type": "slide"
    }
   },
   "source": [
    "## How would you solve this?<img src = \"figures/search/fox-chicken-grain-partial-graph.png\" style = \"float:right\" width=30%>\n",
    "\n",
    "Informally, if you give this to people as an exercise, what they do is:   \n",
    "- start at one node of graph,\n",
    "- follow one path e.g. {chicken,boat}->,  <-boat, ...  \n",
    "  until they reach a problem \n",
    "  (either fox and chicken or chicken and grain on the same side),\n",
    "- then backtrack to previous “ok” node and try alternative move.\n",
    "\n",
    "This is an example of Constructive Depth-First Search.\n",
    "\n",
    "\n"
   ]
  },
  {
   "cell_type": "markdown",
   "metadata": {
    "slideshow": {
     "slide_type": "slide"
    }
   },
   "source": [
    "## Depth- First Search Pseudocode\n",
    "\n",
    "\n",
    "    Variables workingCandidate, openList, closedList \n",
    "    SET workingCandidate = StartSolution \n",
    "    Evaluate (workingCandidate)\n",
    "    SET goalReached = CheckIfAtGoal(workingCandidate)\n",
    "\n",
    "    WHILE (! goalReached AND Openlist not empty) DO\n",
    "        Foreach (1-step neighbor)\n",
    "            ** Generate **\n",
    "            neighbour = ApplyMoveOperator(workingCandidate)\n",
    "            \n",
    "            ** Test **\n",
    "            Evaluate(neighbor)\n",
    "            \n",
    "            ** Update Working Memory **\n",
    "            IF (neighbor is feasible)\n",
    "                ADD( neighbor to end of openList)\n",
    "            ELSE\n",
    "                ADD( neighbor to end of closedList)\n",
    "        \n",
    "        COPY (working candidate to closedList)  \n",
    "        MOVE (last item from openList into working candidate)\n",
    "        SET goalReached = CheckIfAtGoal(workingCandidate)\n",
    "    OUTPUT (goalReached, workingCandidate)\n",
    " \n",
    "\n",
    "Feasible means isnt 'dead-end' i.e. doesn't break **constraints**"
   ]
  },
  {
   "attachments": {},
   "cell_type": "markdown",
   "metadata": {
    "slideshow": {
     "slide_type": "slide"
    }
   },
   "source": [
    "## Depth-First Search Characteristics\n",
    "Efficient:\n",
    "- Can find solutions quickly.\n",
    "- Only needs a small amount of storage space:\n",
    "  - current solution, best seen, plus path followed. \n",
    "\n",
    "But not Optimal or Complete:\n",
    " - could get stuck for a long time searching an infinite or very deep branch of the tree,\n",
    " - especially if recursion is possible.\n",
    " - Hard to avoid this for constructive search.   \n",
    "   But if using a ‘perturbative’ approach can check whether solution has already been seen before adding it to open list\n",
    "\n",
    "Implemented as a “stack” system: Last In First Out (LIFO)\n"
   ]
  },
  {
   "attachments": {},
   "cell_type": "markdown",
   "metadata": {
    "slideshow": {
     "slide_type": "slide"
    }
   },
   "source": [
    "## Depth-First Search examples\n",
    "\n",
    "Constructive:  e.g., fox-chicken-grain type puzzles,   Nqueens\n",
    " - possible because the constraints mean you can test and rule out unproductive branches before you get a complete solution\n",
    "\n",
    "Perturbative:  e.g. combination lock cracking, …\n",
    " - What you do when you can only test complete solutions\n",
    " - Really common idea is to think of the “atomic” move operator  \n",
    "   i.e. the one that makes the smallest change\n",
    "   For Combination lock this is just changing one digit\n",
    "\n"
   ]
  },
  {
   "cell_type": "markdown",
   "metadata": {},
   "source": [
    "CODE"
   ]
  },
  {
   "cell_type": "markdown",
   "metadata": {},
   "source": [
    "## Breadth-First search<img src = \"figures/search/fox-chicken-grain-partial-graph.png\" style = \"float:right\" width=30%>\n",
    "### Basic Idea\n",
    "Examine all the possible options at each depth/level of the graph  \n",
    "**before** proceeding to next level down the graph\n",
    "\n",
    "In the context of **constructive** search this means:  \n",
    "Examine all the solutionms of a given complexity \n",
    "**before** increasing the complexity\n"
   ]
  },
  {
   "cell_type": "markdown",
   "metadata": {
    "slideshow": {
     "slide_type": "slide"
    }
   },
   "source": [
    "## Breadth-First Search Pseudocode\n",
    "\n",
    "    Variables workingCandidate, openList, closedList\n",
    "    SET workingCandidate = StartSolution\n",
    "    Evaluate (workingCandidate)\n",
    "    SET goalReached = CheckIfAtGoal(workingCandidate)\n",
    "    WHILE (! goalReached AND Openlist not empty) DO\n",
    "        Foreach (1-step neighbor)\n",
    "            **Generate**\n",
    "            neighbour = ApplyMoveOperator(workingCandidate)\n",
    "         \n",
    "            ** Test ** \n",
    "            Evaluate(neighbor)\n",
    "\t    \n",
    "            ** update Working Memory\n",
    "            IF (neighbor is feasible)\n",
    "                ADD( neighbor to end of openList)\n",
    "            ELSE\n",
    "                ADD( neighbor to end of closedList)\n",
    "        COPY (working candidate to closedList)\n",
    "        MOVE (first item from openList into working candidate)\n",
    "        SET goalReached = CheckIfAtGoal(workingCandidate)\n",
    "    OUTPUT (goalReached, workingCandidate)\n",
    "    \n",
    "<div class=\"alert alert-block alert-danger\">\n",
    "    The only difference is the line:<br>\n",
    "    MOVE (first item from openList into working candidate) <br>\n",
    "    instead of <br>\n",
    "    MOVE (last item from openList into working candidate)</div>\n",
    "    "
   ]
  },
  {
   "attachments": {},
   "cell_type": "markdown",
   "metadata": {
    "slideshow": {
     "slide_type": "slide"
    }
   },
   "source": [
    "## Characteristics of Breadth-First Search \n",
    "\n",
    "Complete: Guaranteed to find solution if one exists.\n",
    "\n",
    "Optimal: guaranteed to find closest solution to start\n",
    "\n",
    "Efficient?\n",
    " - Works well when solution is near root,  \n",
    "   especially if some branches are very deep. \n",
    " - Higher Storage Overheads:  \n",
    "   especially if branching factor at each node is high,  \n",
    "   e.g. chess ….\n",
    "   - have to store each node at current level.\n",
    " - have to store current tree – lots of retracing steps.\n",
    "\n",
    "Implement as a Queue first-in-first-out (FIFO)\n",
    "\n",
    "Often called “Flood-fill” in games/path-finding \n",
    "(because they like to think they’ve invented something)\n"
   ]
  },
  {
   "attachments": {},
   "cell_type": "markdown",
   "metadata": {
    "slideshow": {
     "slide_type": "slide"
    }
   },
   "source": [
    "# What's in the open list: Depth first \n",
    "\n",
    "## Example simple decision problem: find solution with cost <5\n",
    "Depth First ignores quality. \n",
    "\n",
    "Picking the last item is equivalent to sorting the list deepest (youngest) first\n",
    "\n",
    "<img src=\"figures/search/depth-with-list.png\" width = 50%>"
   ]
  },
  {
   "attachments": {},
   "cell_type": "markdown",
   "metadata": {},
   "source": [
    "# Same example: breadth-first\n",
    "\n",
    "Ignores quality and by picking first effectively sorts the list shallowest (oldest) first\n",
    "<img src=\"figures/search/breadth-with-list.png\" width = 50%>\n",
    "\n"
   ]
  },
  {
   "attachments": {},
   "cell_type": "markdown",
   "metadata": {
    "slideshow": {
     "slide_type": "slide"
    }
   },
   "source": [
    "## Breadth-First vs Depth-First\n",
    "\n",
    "- Depth-first is often quicker:\n",
    "  - but may waste time in deep unproductive branches.\n",
    "  - could apply a depth limit,  \n",
    "    but then may never find solution.\n",
    "- Depth-first will return first solution found\n",
    "   – which may may not be the best.\n",
    "- Breadth-first often slower, takes more storage, but is\n",
    "  - “complete” i.e. guaranteed to find solution if one exists,\n",
    "  - “optimal” i.e. will find the best solution at any given depth.\n",
    "- Both are “tentative – they allow backtracking.\n",
    "- Both can be applied to either constructive or perturbative search\n"
   ]
  },
  {
   "attachments": {},
   "cell_type": "markdown",
   "metadata": {
    "slideshow": {
     "slide_type": "slide"
    }
   },
   "source": [
    "## Quiz Questions\n",
    "- Theseus in the maze with his ball of string, seeking the Minotaur, was doing?\n",
    "- A search party fanning out and recruiting more people as they consider bigger areas is doing a parallel version of?\n",
    "\n",
    "- which is ewhich? black numberrs show orde nodesa re examined, whiye numbers show the quality of that node\n",
    "\n",
    "\n",
    "two figures\n",
    "depth-tree.png breadth-tree.png\n",
    "\n",
    "Which is which?\n",
    "- X is often quicker\n",
    "   - but may waste time in unproductive branches.\n",
    "- X will return first solution found\n",
    "    – that may not be the best / simplest.\n",
    "    \n",
    "- Y is often slower, \n",
    "- Y takes more storage, \n",
    "- but Y  is\n",
    "  - “complete” i.e. guaranteed to find solution if one exists,\n",
    "  - “optimal” i.e. will find the best solution at any given depth.\n",
    "\n"
   ]
  },
  {
   "cell_type": "markdown",
   "metadata": {
    "slideshow": {
     "slide_type": "slide"
    }
   },
   "source": [
    "## Summary\n",
    "\n",
    "Decision problems:    \n",
    "- only a 'yes/no' answer\n",
    "- can have multiple solutions with different complexity\n",
    "- often associated with **Constraint Satisfaction Problems**\n",
    "\n",
    "**Breadth-first** and **Depth-first**  are 'blind' or 'uninformed' search algorithms.  \n",
    "\n",
    "You need to understand and be able to recognise:\n",
    " - when to apply them\n",
    " - what their characteristics are\n",
    " \n",
    "If we give you a scenario you shouilfd be able ot selerct an appropriuae method and justyifyu your choice.\n",
    "\n",
    "### Next week:    search algorirthms for problem-solving guided by  a quality/cost function \n",
    " "
   ]
  }
 ],
 "metadata": {
  "celltoolbar": "Slideshow",
  "kernelspec": {
   "display_name": "AIenv",
   "language": "python",
   "name": "aienv"
  },
  "language_info": {
   "codemirror_mode": {
    "name": "ipython",
    "version": 3
   },
   "file_extension": ".py",
   "mimetype": "text/x-python",
   "name": "python",
   "nbconvert_exporter": "python",
   "pygments_lexer": "ipython3",
   "version": "3.8.2"
  }
 },
 "nbformat": 4,
 "nbformat_minor": 4
}
