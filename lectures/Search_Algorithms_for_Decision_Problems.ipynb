{
 "cells": [
  {
   "cell_type": "markdown",
   "metadata": {
    "slideshow": {
     "slide_type": "slide"
    }
   },
   "source": [
    "## Problem Solving As Search\n",
    "\n",
    "### Search Algorithms for Decision Problems\n",
    "\n",
    "### Artificial Intelligence 1: Week 09"
   ]
  },
  {
   "cell_type": "markdown",
   "metadata": {
    "slideshow": {
     "slide_type": "slide"
    }
   },
   "source": [
    "## This video\n",
    "\n",
    "Recap:\n",
    "- problem solving as search,\n",
    "- Search landscapes\n",
    "- Generate and Test as a common framework\n",
    "\n",
    "Search methods maintain ordered lists\n",
    "- that represent the working memory\n",
    "- in this module we are looking at 'single member' algorithms  \n",
    "  where we generate test one new solution at a time\n",
    "\n",
    "This week:\n",
    "- Uninformed ‘Blind” search: depth/breadth-first\n",
    "\n",
    "Next Week:  Adding heuristic measures: A*, best-first, hill-climbing\n"
   ]
  },
  {
   "cell_type": "markdown",
   "metadata": {
    "slideshow": {
     "slide_type": "slide"
    }
   },
   "source": [
    "## Recap\n",
    "- Learning and problem solving can be seen as a search through a set of possible solutions or states.\n",
    "\n",
    "- Set of candidate solutions + move operator =>landscape\n",
    "\n",
    "- Sometimes we have quality measures to help guide  search\n",
    "  - landscape with extra dimension for quality\n",
    "  - Ideas of local and global optima\n",
    "- Sometimes not (decision problems)\n",
    "  - ‘needle in a haystack’ – nothing to guide search\n",
    "  - example: finding the unlock code for a 5dial combination lock\n",
    "- Constructive Search: build up partial solutions, complexity \n",
    "- Perturbative Search: all solutions have the same complexity\n"
   ]
  },
  {
   "cell_type": "markdown",
   "metadata": {
    "slideshow": {
     "slide_type": "slide"
    }
   },
   "source": [
    "## Recap: Solution = node in search graph / tree\n",
    "<img src = \"figures/search/solution_as_node.png\" style=\"float:right\" width =55%>\n",
    "\n",
    "Depending on your preferred coding paradigm ( and language)\n",
    "you could either encode solutions\n",
    "\n",
    "As a data type e.g. a struct in C\n",
    "\n",
    "*typedef struct {  \n",
    "  int numbers[N];  \n",
    "  int depth;  \n",
    "  int quality;  \n",
    "  } solution*\n",
    "     \n",
    "Or as a class in OOP e.g. python  \n",
    "Whether you code the move operators  \n",
    "as a class method, or externally  \n",
    "is a matter of preference. "
   ]
  },
  {
   "cell_type": "code",
   "execution_count": null,
   "metadata": {
    "cell_style": "center",
    "slideshow": {
     "slide_type": "slide"
    }
   },
   "outputs": [],
   "source": [
    "# there are two options for making solutions as class\n",
    "# you can wrap up all the testing and move operators in class methods \n",
    "class candidateSolutionv0:\n",
    "    def init():\n",
    "        self.variableValues = []\n",
    "        self.quality = 0\n",
    "        self.depth=0\n",
    "        \n",
    "    def Evaluate(self):\n",
    "        ## code to take encoded variable Values\n",
    "        ## transform thme into a solution\n",
    "        ## and measure how good it is\n",
    "        #e.g. for combination lock\n",
    "        if(self.variableValues==[5,4,3,2,1]):\n",
    "            self.quality=1\n",
    "    \n",
    "    def ChangeVariableValues(self,positionsToChange=[],newValues = []):\n",
    "        ## code to enact move operators by\n",
    "        ## adding varaibleValues (constructive) or \n",
    "        ## changing values in some positions\n",
    "    \n",
    "mySoln = candidateSolution()\n",
    "mySoln.variableValues = [1,2,3,4,5]\n",
    "mySoln.Evaluate()\n",
    "if(mySoln.quality ==1):\n",
    "    print(\"found the unlock code!\")\n",
    "\n",
    "                                "
   ]
  },
  {
   "cell_type": "code",
   "execution_count": null,
   "metadata": {
    "cell_style": "center",
    "slideshow": {
     "slide_type": "slide"
    }
   },
   "outputs": [],
   "source": [
    "## OR keep the class definition more generic\n",
    "## by moving the evaluate and move operators outside\n",
    "\n",
    "class candidateSolution:\n",
    "    def __init__(self):\n",
    "        self.variableValues = []\n",
    "        self.quality = 0\n",
    "        self.depth=0\n",
    "        \n",
    "def Evaluate(values=[]):\n",
    "    ## e.g. combination lockl\n",
    "    if(values == [5,4,3,2,1]):\n",
    "        return True\n",
    "    else:\n",
    "        return False\n",
    "    \n",
    "mySoln = candidateSolution()\n",
    "mySoln.variableValues= [1,2,3,4,5]\n",
    "if (Evaluate(mySoln.variableValues)):\n",
    "    mySoln.quality =  1\n",
    "print(mySoln.quality)    \n",
    "# then we can have many move operators without changing the class definition\n",
    "def Increment(values,variableToChange):\n",
    "    ...\n",
    "\n",
    "def Decrement(values,variableToChange):\n",
    "  ...\n",
    "def swapValues(values, position,position2):\n",
    " ... \n",
    "        "
   ]
  },
  {
   "cell_type": "markdown",
   "metadata": {
    "slideshow": {
     "slide_type": "skip"
    }
   },
   "source": [
    "## Recap: Properties of Search Algorithms\n",
    "\n",
    "Ways of generating solutions would ideally be:\n",
    "- Optimal \n",
    "- Complete \n",
    "- Efficient \n",
    "Can't be all three, so **you** (the designer) have to make  a **design decision** about the best trade-offs  for **your** problem\n",
    "\n",
    "<div> \n",
    "    <div style= \"float:left\" width=25%><img src=\"figures/search/optimal.png\" width=50%></div>\n",
    "     <div style= \"float:left\" width=25%><img src=\"figures/search/complete.png\" width=50%> </div>\n",
    "    <div  style=\"float:left\" width=25%><img src=\"figures/search/efficient.png\" width=50%></div>\n",
    "</div>    \n",
    "\n"
   ]
  },
  {
   "cell_type": "markdown",
   "metadata": {
    "slideshow": {
     "slide_type": "skip"
    }
   },
   "source": [
    "## Recap: Search using a Generate-test loop\n",
    "\n",
    "- A common framework we can use to solve many different problems,\n",
    "  - by changing the representation and  the test() function\n",
    "- switching between f different algorithms\n",
    "  - by changing  how we specify Generate() and UpdateWorkingMemory()\n",
    "\n",
    "    1.   Set WorkingMemory = Empty\n",
    "    2.   Initialise (CandidateSolution)\n",
    "    3.   Test ( CandidateSolution)\n",
    "    4.   UpdateWorkingMemory()\n",
    "    5.   While ( goal_not_found AND possibilities_left) DO\n",
    "    6.         CandidateSolution <- Generate ()\n",
    "    7.\t       Test ( CandidateSolution)\n",
    "    8.         UpdateWorkingMemory()\n",
    "    9.   OD\n",
    "    10.  Return (success or failure as appropriate).  \n",
    "\n",
    "Often we divide working memory into open list and closed list\n",
    "\n"
   ]
  },
  {
   "cell_type": "markdown",
   "metadata": {
    "slideshow": {
     "slide_type": "skip"
    }
   },
   "source": [
    "## Quiz Questions:\n",
    "- A point that is locally optimal for one landscape, will still be if you change the move operator? [True: False]\n",
    "- In which if these situations might optimality be less important than efficiency?\n",
    "  - Speech recognition software for dictation\n",
    "  - Fingerprint recognition \n",
    "  - Neither\n",
    "  - Both\n",
    "-Is Exhaustive Search Optimal, Complete and Efficient (True: False x 3]\n",
    "\n"
   ]
  },
  {
   "cell_type": "markdown",
   "metadata": {
    "slideshow": {
     "slide_type": "slide"
    }
   },
   "source": [
    "## Decision Problems and Uninformed search\n",
    "\n",
    "- Some problems come with a natural measure of quality\n",
    "\n",
    "- But sometimes we just have a ‘yes/no’ response:\n",
    "  - Password cracking\n",
    "  - ‘can I get from A to B’ without [using tool roads | flying | using motorways]?\n",
    "  - Finding things like files …\n",
    "  \n"
   ]
  },
  {
   "cell_type": "markdown",
   "metadata": {
    "slideshow": {
     "slide_type": "slide"
    }
   },
   "source": [
    "## Example:\n",
    "\n",
    "You have a fox, a chicken and a sack of grain. \n",
    "\n",
    "You must cross a river with only one of them at a time. \n",
    "\n",
    "- If you leave the fox with the chicken he will eat it; \n",
    "\n",
    "- If you leave the chicken with the grain he will eat it. \n",
    "\n",
    "Can you get all three across safely in less than ten moves?"
   ]
  },
  {
   "cell_type": "markdown",
   "metadata": {
    "slideshow": {
     "slide_type": "slide"
    }
   },
   "source": [
    "## What type of problem is this?\n",
    "\n",
    "“our” bit of the world  is dictated by the rules:\n",
    "they form the model of our system and the constraints\n",
    "\n",
    "We are given “goal state” (final output to reach)\n",
    "\n",
    "So this is an optimisation problem;\n",
    "- Allowed moves defines a graph.\n",
    "- The current state is defined by the position of the  fox, chicken, grain, and boat:  \n",
    "  either  on first bank (0) or second bank (1)\n",
    "- Seeking sequence of inputs that moves through graph from (0,0,0,0) to (1,1,1,1) \n",
    "\n",
    "**Constraints**: fox and chicken,  or chicken and grain can't be on same side without boat\n",
    " - i.e. solutions are **infeasible** if they pass through:\n",
    "   -  {0,0,0,1},{1,1,1,0}   (both problem pairs left unattended)\n",
    "   -  {0 0, 1,1}, {1,1,0,0}   (fox and chicken unattended)\n",
    "   -  {0,1,1,0}, {1,0,0,1}  )chicken and grain unattended)\n"
   ]
  },
  {
   "cell_type": "markdown",
   "metadata": {
    "slideshow": {
     "slide_type": "slide"
    }
   },
   "source": [
    "## Diagram of partial graph for this problem\n",
    "Figure show partial graph for this problem, not all moves below final row shown. \n",
    "<img src = \"figures/search/fox-chicken-grain-partial-graph.png\" width=50%>"
   ]
  },
  {
   "cell_type": "markdown",
   "metadata": {
    "slideshow": {
     "slide_type": "slide"
    }
   },
   "source": [
    "## How would you solve this?<img src = \"figures/search/fox-chicken-grain-partial-graph.png\" style = \"float:right\" width=30%>\n",
    "\n",
    "Informally, if you give this to people as an exercise, what they do is:   \n",
    "- start at one node of graph,\n",
    "- follow one path e.g. {chicken,boat}->,  <-boat, ...  \n",
    "  until they reach a problem (INFEASIBLE)   \n",
    "  (either fox and chicken   \n",
    "  or chicken and grain on the same side),\n",
    "- then backtrack to previous “ok” node and try alternative move.\n",
    "\n",
    "This is an example of Constructive Depth-First Search.\n",
    "\n",
    "\n"
   ]
  },
  {
   "cell_type": "markdown",
   "metadata": {
    "slideshow": {
     "slide_type": "slide"
    }
   },
   "source": [
    "## Common initialisation\n",
    "\n",
    "    Variables workingCandidate, openList, closedList\n",
    "    \n",
    "    ## make initial guess,  test it, then start the openList ##    \n",
    "    SET workingCandidate = StartSolution\n",
    "    Evaluate (workingCandidate)\n",
    "    IF( IsAtGoal(workingCandidate)) ##lucky guess!\n",
    "        OUTPUT (SUCCESS, workingCandidate)\n",
    "    APPEND workingCandidate to openList\n",
    " "
   ]
  },
  {
   "cell_type": "markdown",
   "metadata": {
    "slideshow": {
     "slide_type": "slide"
    }
   },
   "source": [
    "## Depth- First Search Pseudocode   (main loop)\n",
    "    WHILE ( Openlist not empty) DO       ##main search loop ##\n",
    "        MOVE (last item from openList into working candidate)\n",
    "        FOREACH (1-step neighbour)\n",
    "            neighbour = ApplyMoveOperator(workingCandidate) ## Generate\n",
    "            Evaluate(neighbor)                              ## Test\n",
    "\t        IF(IsAtGoal(neighbour))\n",
    "                OUTPUT (SUCCESS, neighbour)\n",
    "            ELSE IF (neighbor is feasible)                  ## Update Memory\n",
    "                APPEND( neighbor to end of openList)\n",
    "            ELSE\n",
    "                APPEND( neighbor to end of closedList) \n",
    "        COPY (working candidate to closedList)\n",
    " \n",
    "    OUTPUT (FAILURE, workingCandidate)     ## if no more solutions to test\n",
    " "
   ]
  },
  {
   "cell_type": "markdown",
   "metadata": {
    "slideshow": {
     "slide_type": "slide"
    }
   },
   "source": [
    "## What does this look like for fox-chicken-grain problem?\n",
    "\n",
    "A solution is a sequence of moves of boat with different passengers\n",
    "\n",
    "There are 8 moves in total {nothing,fox,chicken,grain} X {bank1to2, bank2to1}\n",
    "- number these from 0 to 7\n",
    "- candidateSolution.variableValues is a list of moves\n",
    "\n",
    "**Evaluate()**: \n",
    "score is -1 (infeasible), 0 (ok but doesn't reach goal) or 1 (reaches goal)\n",
    "- starts from state(0,0,0,0)\n",
    "- apply move referenced in variableValues[0] to get next state\n",
    "  - if move can't be applied do nothing and leave state unchanged\n",
    "  - else if next state in forbidden list return INFEASIBLE (-1)\n",
    "  - else if next state = (1,1,1,1) return SUCCESS (1)\n",
    "  - else get and apply next move\n",
    "\n",
    "Choices for ApplyMoveOperator() on Foreach(1-step neighbour) loop;\n",
    "- perturbative (use *fixed number of d* moves):  \n",
    "  nested loop through each position (1...n) and value (0...7) changing  a specific move to the new value\n",
    "  - i.e. each solution has *d* moves and 7d neighbours (7 different values in d different position)  \n",
    "  \n",
    "- constructive:  loop through each possible extra move adding that to the *d* existing ones at depth *d*  \n",
    "  - i.e.  each solution with *d* moves has  8 neighbours, all with *d+1* moves"
   ]
  },
  {
   "cell_type": "code",
   "execution_count": null,
   "metadata": {
    "slideshow": {
     "slide_type": "slide"
    }
   },
   "outputs": [],
   "source": [
    "from fox_chicken_grain import candidateSolution, Evaluate,TranslateSolutionAsString, IsAtGoal\n",
    "## Common Initialisation\n",
    "\n",
    "#Variables workingCandidate, openList, closedList \n",
    "workingCandidate = candidateSolution()\n",
    "openList = []\n",
    "closedList = []\n",
    "reason = \"\"\n",
    "## make initial guess,  test it, then start the openList ##\n",
    "## in this case we start with no moves, depth 0, \n",
    "## this does nothing so is not at goal but is feasible\n",
    "workingCandidate.quality=0\n",
    "atGoal = False\n",
    "openList.append(workingCandidate)"
   ]
  },
  {
   "cell_type": "code",
   "execution_count": null,
   "metadata": {
    "scrolled": true,
    "slideshow": {
     "slide_type": "slide"
    }
   },
   "outputs": [],
   "source": [
    "iteration=1\n",
    "import copy\n",
    "while( atGoal==False and  len(openList)>0 and iteration<50): #WHILE ( Openlist not empty) DO\n",
    "    print(\"Iteration {} there are {} candidates on the openList\".format(iteration,len(openList)))\n",
    "    iteration = iteration + 1\n",
    "    nextItem = len(openList) -1 #MOVE (last item from openList into working candidate)\n",
    "    workingCandidate = openList.pop(nextItem)\n",
    "    \n",
    "    for move in range (8):  #FOREACH (1-step neighbour)-constructive        \n",
    "        ## Generate ##\n",
    "        neighbour = copy.deepcopy(workingCandidate)         ## need to make a deep copy so we can change it \n",
    "        neighbour.variableValues.append(move)       #neighbour = ApplyMoveOperator(workingCandidate)\n",
    "        \n",
    "        ## Test ## \n",
    "        Evaluate(neighbour)\n",
    "        moveList =TranslateSolutionAsString(neighbour)\n",
    "        if(IsAtGoal(neighbour)):             #IF AT GOAL OUTPUT (SUCCESS, neighbour)\n",
    "            print('goal found with moves ' +moveList)\n",
    "            atGoal=True\n",
    "            break ##takes us out of for loop\n",
    "            \n",
    "         ## update Working Memory ##\n",
    "        elif neighbour.quality==0: #ELSE IF (neighbor is feasible)\n",
    "            print('  **adding partial solution: '+moveList)\n",
    "            openList.append(neighbour) \n",
    "        else:\n",
    "            print('    discarding invalid solution: ' +moveList +\" because \"+reason)\n",
    "            closedList.append(neighbour)\n",
    " \n",
    "    ##COPY (working candidate to closedList)\n",
    "    closedList.append(workingCandidate)\n",
    "\n",
    "if(atGoal==False):##OUTPUT (FAILURE, workingCandidate)\n",
    "    print('failed to find solution to the problem in the time allowed!')"
   ]
  },
  {
   "cell_type": "markdown",
   "metadata": {
    "slideshow": {
     "slide_type": "slide"
    }
   },
   "source": [
    "## Depth-First Search examples\n",
    "\n",
    "**Constructive**: when\n",
    "1. you don't know how complex the solution has to be  e.g., fox-chicken-grain type puzzles, tic-tac-toe, or\n",
    "2. the constraints mean you can test and rule out unproductive branches before you get a complete solution e.g. NQueens\n",
    "\n",
    "Potential large solutions meansthat you sometimes require *problem-specific code to detect loops* (see problem above)\n",
    " \n",
    "\n",
    "**Perturbative**:    when \n",
    "1. you know the complexity and  can only test complete solutions e.g. combination locking cracking, \n",
    "2. you can limit the complexity i.e. problem above with only ten moves and 'do-nothing' added as a possible move\n",
    "\n",
    "Really common idea is to think of the “atomic” move operator  \n",
    "   i.e. the one that makes the smallest change\n",
    " "
   ]
  },
  {
   "cell_type": "markdown",
   "metadata": {
    "slideshow": {
     "slide_type": "slide"
    }
   },
   "source": [
    "## Depth-first Perturbative Example: Cracking the code of a combination lock: \n",
    "<img src=\"figures/search/depthfirst-lock.png\" style=\"float:right\">\n",
    "          \n",
    "          \n",
    "- atomic move operator is to just change one digit\n",
    "- construct your tree so that it just makes changes to one digit / tumbler/ wheel  at a time\n",
    "\n",
    "- changes to the rightmost digit are made first => this is the same as counting!\n",
    "\n",
    "\n",
    "\n",
    "(   **you'll do this in the lab session**)\n"
   ]
  },
  {
   "cell_type": "markdown",
   "metadata": {
    "slideshow": {
     "slide_type": "slide"
    }
   },
   "source": [
    "## Depth-First Search Characteristics\n",
    "Efficient:\n",
    "- Can find solutions quickly.\n",
    "- Only needs a small amount of storage space:\n",
    "  - current solution, best seen, plus path followed. \n",
    "\n",
    "But not Optimal or Complete:\n",
    " - could get stuck for a long time searching an infinite or very deep branch of the tree,\n",
    " - especially if recursion is possible.\n",
    " - Hard to avoid this for constructive search.  \n",
    "   - would have to write **problem-specific**  code that tracked what states are visited and flagged loops as infeasible\n",
    " -  If using a ‘perturbative’ approach can check whether solution has already been seen before adding it to open list\n",
    "\n",
    "Implemented as a “stack” system: Last In First Out (LIFO)\n"
   ]
  },
  {
   "cell_type": "markdown",
   "metadata": {
    "slideshow": {
     "slide_type": "slide"
    }
   },
   "source": [
    "## Breadth-First search<img src = \"figures/search/fox-chicken-grain-partial-graph.png\" style = \"float:right\" width=30%>\n",
    "### Basic Idea\n",
    "Examine all the possible options at each depth/level of the graph  \n",
    "**before** proceeding to next level down the graph\n",
    "\n",
    "In the context of **constructive** search this means:  \n",
    "Examine all the solutionms of a given complexity \n",
    "**before** increasing the complexity\n"
   ]
  },
  {
   "cell_type": "markdown",
   "metadata": {
    "slideshow": {
     "slide_type": "slide"
    }
   },
   "source": [
    "## Breadth-First Search Pseudocode (main loop)\n",
    "\n",
    "    WHILE ( Openlist not empty) DO\n",
    "      MOVE (first item from openList into working candidate)\n",
    "      FOREACH (1-step neighbour)\n",
    "        neighbour = ApplyMoveOperator(workingCandidate) ## Generate ##\n",
    "        Evaluate(neighbor)             ## Test ## \n",
    "\t    IF(IsAtGoal(neighbour))\n",
    "           OUTPUT (SUCCESS, neighbour)\n",
    "        ELSE IF (neighbor is feasible) ## update Working Memory ##\n",
    "            APPEND( neighbor to end of openList)\n",
    "        ELSE\n",
    "            APPEND( neighbor to end of closedList)\n",
    "        COPY (working candidate to closedList)\n",
    "    OUTPUT (FAILURE, workingCandidate) ## if no more solutions to try\n",
    "\n",
    " \n",
    "    \n",
    "<div class=\"alert alert-block alert-danger\">\n",
    "    The only difference is the line: <b>    MOVE (first item from openList into working candidate) </b>\n",
    "    instead of <b>    MOVE (last item from openList into working candidate)</b></div>\n",
    "    "
   ]
  },
  {
   "cell_type": "markdown",
   "metadata": {
    "slideshow": {
     "slide_type": "slide"
    }
   },
   "source": [
    "## Characteristics of Breadth-First Search \n",
    "\n",
    "Complete: Guaranteed to find solution if one exists.\n",
    "\n",
    "Optimal: guaranteed to find closest solution to start\n",
    "\n",
    "Efficient?\n",
    " - Works well when solution is near root,  \n",
    "   especially if some branches are very deep. \n",
    " - Higher Storage Overheads:  \n",
    "   especially if branching factor at each node is high,  \n",
    "   e.g. chess ….\n",
    "   - have to store each node at current level.\n",
    " - have to store current tree – lots of retracing steps.\n",
    "\n",
    "Implement as a Queue first-in-first-out (FIFO)\n",
    "\n",
    "Often called “Flood-fill” in games/path-finding \n",
    "(because they like to think they’ve invented something)\n"
   ]
  },
  {
   "cell_type": "code",
   "execution_count": null,
   "metadata": {
    "slideshow": {
     "slide_type": "slide"
    }
   },
   "outputs": [],
   "source": [
    "#CODE\n",
    "iteration=1\n",
    "workingCandidate = candidateSolution()\n",
    "openList=[]\n",
    "openList.append(workingCandidate)\n",
    "atGoal=False\n",
    "\n",
    "## main breadth-first loop\n",
    "\n"
   ]
  },
  {
   "cell_type": "markdown",
   "metadata": {
    "slideshow": {
     "slide_type": "slide"
    }
   },
   "source": [
    "## Breadth-First perturbative example: combination lock \n",
    "\n",
    "The first 10 combinations examined are the same as depth first, but 11th is not.\n",
    "<img src=\"figures/search/breadthfirst-lock.png\">"
   ]
  },
  {
   "cell_type": "markdown",
   "metadata": {
    "slideshow": {
     "slide_type": "skip"
    }
   },
   "source": [
    "# What's in the open list: Depth first \n",
    "\n",
    "## Example simple decision problem: find solution with cost <5\n",
    "Depth First ignores quality. \n",
    "\n",
    "Picking the last item is equivalent to sorting the list deepest (youngest) first\n",
    "\n",
    "<img src=\"figures/search/depth-with-list.png\" width = 50%>"
   ]
  },
  {
   "cell_type": "markdown",
   "metadata": {
    "slideshow": {
     "slide_type": "skip"
    }
   },
   "source": [
    "# Same example: breadth-first\n",
    "\n",
    "Ignores quality and by picking first effectively sorts the list shallowest (oldest) first\n",
    "<img src=\"figures/search/breadth-with-list.png\" width = 50%>\n",
    "\n"
   ]
  },
  {
   "cell_type": "markdown",
   "metadata": {
    "slideshow": {
     "slide_type": "slide"
    }
   },
   "source": [
    "## Breadth-First vs Depth-First\n",
    "\n",
    "- Depth-first is often quicker:\n",
    "  - but may waste time in deep unproductive branches.\n",
    "  - could apply a depth limit,  \n",
    "    but then may never find solution.\n",
    "- Depth-first will return first solution found\n",
    "   – which may may not be the best.\n",
    "- Breadth-first often slower, takes more storage, but is\n",
    "  - “complete” i.e. guaranteed to find solution if one exists,\n",
    "  - “optimal” i.e. will find the best solution at any given depth.\n",
    "- Both are “tentative – they allow backtracking.\n",
    "- Both can be applied to either constructive or perturbative search\n"
   ]
  },
  {
   "cell_type": "markdown",
   "metadata": {
    "slideshow": {
     "slide_type": "skip"
    }
   },
   "source": [
    "## Quiz Questions\n",
    "- Theseus in the maze with his ball of string, seeking the Minotaur, was doing?\n",
    "- A search party fanning out and recruiting more people as they consider bigger areas is doing a parallel version of?\n",
    "\n",
    "- which is ewhich? black numberrs show orde nodesa re examined, whiye numbers show the quality of that node\n",
    "\n",
    "\n",
    "two figures\n",
    "depth-tree.png breadth-tree.png\n",
    "\n",
    "Which is which?\n",
    "- X is often quicker\n",
    "   - but may waste time in unproductive branches.\n",
    "- X will return first solution found\n",
    "    – that may not be the best / simplest.\n",
    "    \n",
    "- Y is often slower, \n",
    "- Y takes more storage, \n",
    "- but Y  is\n",
    "  - “complete” i.e. guaranteed to find solution if one exists,\n",
    "  - “optimal” i.e. will find the best solution at any given depth.\n",
    "\n"
   ]
  },
  {
   "cell_type": "markdown",
   "metadata": {
    "slideshow": {
     "slide_type": "slide"
    }
   },
   "source": [
    "## Summary\n",
    "\n",
    "Decision problems:    \n",
    "- only a 'yes/no' answer\n",
    "- can have multiple solutions with different complexity\n",
    "- often associated with **Constraint Satisfaction Problems**\n",
    "\n",
    "**Breadth-first** and **Depth-first**  are 'blind' or 'uninformed' search algorithms.  \n",
    "\n",
    "You need to understand and be able to recognise:\n",
    " - when to apply them\n",
    " - what their characteristics are\n",
    " \n",
    "If we give you a scenario you shouilfd be able ot selerct an appropriuae method and justyifyu your choice.\n",
    "\n",
    "### Next week:    search algorirthms for problem-solving guided by  a quality/cost function \n",
    " "
   ]
  }
 ],
 "metadata": {
  "celltoolbar": "Slideshow",
  "kernelspec": {
   "display_name": "AIenv",
   "language": "python",
   "name": "aienv"
  },
  "language_info": {
   "codemirror_mode": {
    "name": "ipython",
    "version": 3
   },
   "file_extension": ".py",
   "mimetype": "text/x-python",
   "name": "python",
   "nbconvert_exporter": "python",
   "pygments_lexer": "ipython3",
   "version": "3.8.2"
  }
 },
 "nbformat": 4,
 "nbformat_minor": 4
}
