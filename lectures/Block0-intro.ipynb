{
 "cells": [
  {
   "cell_type": "markdown",
   "metadata": {
    "cell_style": "split",
    "slideshow": {
     "slide_type": "slide"
    }
   },
   "source": [
    "# Artificial Intelligence I\n",
    "### Introduction by Jim Smith,  \n",
    "\n",
    "* Professor in Interactive AI\n",
    "* Module Leader for AI 1\n",
    "* led design of the AI pathway\n",
    "\n",
    "\n",
    "\n"
   ]
  },
  {
   "cell_type": "markdown",
   "metadata": {
    "cell_style": "split",
    "slideshow": {
     "slide_type": "-"
    }
   },
   "source": [
    "![Picture of Jim with a dark background](Jim-dark-cropped.png \"Jim Smith\")"
   ]
  },
  {
   "cell_type": "markdown",
   "metadata": {
    "cell_style": "center",
    "slideshow": {
     "slide_type": "notes"
    }
   },
   "source": [
    "Hi, I'm Jim Smith and I'm here to tell you a little bit about:\n",
    "- who your tutors are\n",
    "- what we'll be covering on this module,  \n",
    "- how it fits into the various pathways and the other AI content\n",
    "- how we'll be teaching the module\n",
    "- what sort of software you will be using\n"
   ]
  },
  {
   "cell_type": "markdown",
   "metadata": {
    "cell_style": "split",
    "slideshow": {
     "slide_type": "slide"
    }
   },
   "source": [
    "## A bit about me\n",
    "*  1st degree Cambridge \n",
    "* 6 years away from academia\n",
    "* MSc. then PhD at UWE\n",
    "* 20 years researching & teaching AI\n",
    "### Current research interests:\n",
    "- Systems that <b><i>learn how to learn</b></i>\n",
    "- Human-AI collaboration\n"
   ]
  },
  {
   "cell_type": "markdown",
   "metadata": {
    "cell_style": "split",
    "slideshow": {
     "slide_type": "fragment"
    }
   },
   "source": [
    "![Cover of Jims textbook](bookCover.jpg)"
   ]
  },
  {
   "cell_type": "markdown",
   "metadata": {
    "slideshow": {
     "slide_type": "slide"
    }
   },
   "source": [
    "# My colleagues on this module:\n",
    "\n"
   ]
  },
  {
   "cell_type": "markdown",
   "metadata": {
    "cell_style": "split",
    "slideshow": {
     "slide_type": "slide"
    }
   },
   "source": [
    "## Dr Chris Simons\n",
    "* Two decades as software engineer\n",
    "* PhD using EAs to automate software design\n",
    "* research focussed on \"human-in-the-loop\" AI systems\n",
    "![photo of Chris](ChrisSimons.jpg)\n"
   ]
  },
  {
   "cell_type": "markdown",
   "metadata": {
    "cell_style": "split",
    "slideshow": {
     "slide_type": "fragment"
    }
   },
   "source": [
    "## Nathan Duran\n",
    "* BSc Computer Science UWE, 2017\n",
    "* Final Year Project with me: crowd-sourced AI\n",
    "  for detecting exo-planets\n",
    "* Graduate Tutor studying PhD in AI for conversational analysis \n",
    "![photo of Nathan](NathanDuran.jpg)"
   ]
  },
  {
   "cell_type": "markdown",
   "metadata": {
    "slideshow": {
     "slide_type": "slide"
    }
   },
   "source": [
    "# Learning Outcomes\n",
    "1. Apply the basic concepts, uses and processes of AI to new tasks, identifying: the type of problem; what technologies or algorithms would be appropriate to apply; and suitable representations for candidate solutions. <span style = \"color:blue\">(Assessed in Component A)</span>\n",
    "2. Recognise the differences between “Knowledge-based” paradigms of AI (inspired by the mind) and “Computational Intelligence” (e.g. inspired by the brain), and select appropriate paradigms according to the needs of a specific problem or application. <span style = \"color:blue\">(Assessed in Component A)</span>\n",
    "3. Identify potential legal and ethical issues - such as privacy and unintentional bias- associated with the deployment of AI-based systems, and suggest actions to mitigate undesirable effects. <span style = \"color:blue\">(Assessed in Component A)</span>\n",
    "4. Design and implement basic optimisation, expert system and machine learning systems. <span style = \"color:blue\">(Assessed in Component B)</span>"
   ]
  },
  {
   "cell_type": "markdown",
   "metadata": {
    "slideshow": {
     "slide_type": "slide"
    }
   },
   "source": [
    "# Assessment\n",
    "1. Exam 50% Online Exam (2 hours),24 hour window\n",
    "2. Individual Coursework composed of two deliverables, submitted to an online system (DEWIS) for automatic marking and provision of feedback.\n",
    "\n",
    " * Submission 1 – solution to a series of knowledge representation problems\n",
    " * Submission 2 – search-based solution to a problem in either machine learning or optimisation."
   ]
  },
  {
   "cell_type": "markdown",
   "metadata": {
    "cell_style": "split",
    "slideshow": {
     "slide_type": "slide"
    }
   },
   "source": [
    "# What we'll be covering\n",
    "### Week1:\n",
    " * Three basic types of problem\n",
    " * Symbolic vs. Computational AI \n",
    " \n",
    "<div class=\"alert alert-block alert-warning\">\n",
    "    <b>Practical:</b> your first jupyter notebook</div>\n",
    " \n"
   ]
  },
  {
   "cell_type": "markdown",
   "metadata": {
    "cell_style": "split",
    "slideshow": {
     "slide_type": "-"
    }
   },
   "source": [
    "![input-model-output](input-model-output.png)"
   ]
  },
  {
   "cell_type": "markdown",
   "metadata": {
    "cell_style": "center",
    "slideshow": {
     "slide_type": "slide"
    }
   },
   "source": [
    " ### Topic 1: Representing Knowledge (weeks 2-4)"
   ]
  },
  {
   "cell_type": "markdown",
   "metadata": {
    "cell_style": "split",
    "slideshow": {
     "slide_type": "slide"
    }
   },
   "source": [
    "* How to represent, store, and manipulate/use human knowledge\n",
    "* types of knowledge and reasoning\n",
    "* components of knowledge-based systems\n",
    "* Illustrated using the chatbot authoring language AIML\n",
    "\n",
    "<div class=\"alert alert-block alert-warning\"> <b>Practicals:</b> creating your own chatbots</div>"
   ]
  },
  {
   "cell_type": "markdown",
   "metadata": {
    "cell_style": "split",
    "slideshow": {
     "slide_type": "-"
    }
   },
   "source": [
    "![Diagram of a simple knowledge based system](kbs.png)\n",
    "\n",
    "<small> https://developer.ibm.com/articles/cc-beginner-guide-machine-learning-ai-cognitive/ </small>"
   ]
  },
  {
   "cell_type": "markdown",
   "metadata": {
    "slideshow": {
     "slide_type": "notes"
    }
   },
   "source": [
    "* input-model-output  => optimisation/planning - modelling - prediction\n",
    "* allows to to breeak down big problems and identify relevant approaches\n",
    "\n",
    "* types of knowledge and logical reasoning\n",
    "* expert systems e,g, diagnostic systems, planners\n",
    "* modern variants: semantic web,  \n",
    "* trust, provenance: wikipedia, open streetmaps\n",
    "* illustrated via aIML tutorials leading making chatbots leading ot coursework 1"
   ]
  },
  {
   "cell_type": "markdown",
   "metadata": {
    "cell_style": "split",
    "slideshow": {
     "slide_type": "slide"
    }
   },
   "source": [
    " ### Topic 2: Machine Learning (weeks 5-8)\n",
    " * Types of Machine Learning\n",
    " * Ethical and legal issues \n",
    " * Supervised Machine Learning\n",
    "   * train-test workflow\n",
    "   * Common ML models\n",
    "   * Artificial Neural Networks\n",
    "\n",
    "<div class=\"alert alert-block alert-warning\"> <b>Practicals:</b><br> Creating interactive visualisations. <br>  Learning and comparing predictive models using different algorithms</div>"
   ]
  },
  {
   "cell_type": "markdown",
   "metadata": {
    "cell_style": "split",
    "slideshow": {
     "slide_type": "-"
    }
   },
   "source": [
    "\n",
    "\n",
    "\n",
    "![types of machine learning](MachineLearningDiagram.png)\n",
    "\n",
    "<small>https://www.normshield.com/machine-learning-in-cyber-security-domain-2-cyber-security-rating-and-incident-forecasting/ </small>"
   ]
  },
  {
   "cell_type": "markdown",
   "metadata": {
    "slideshow": {
     "slide_type": "notes"
    }
   },
   "source": [
    "* recommender systems, alphago, forecating, recognition, NLP\n",
    "* how do we know:\n",
    "  * how good a model is\n",
    "  * whether it has bias\n",
    "  * why it nmakes the decisions it does\n",
    "* focus on giving you competence with basdic tools and workflow using contgemporary Data Science/AI tookls lijke jupyter, plotly, and sklearn"
   ]
  },
  {
   "cell_type": "markdown",
   "metadata": {
    "cell_style": "split",
    "slideshow": {
     "slide_type": "slide"
    }
   },
   "source": [
    "### Topic 3: Search (weeks 9-11)\n",
    "* Problem solving as search\n",
    "* Common framework,\n",
    "* Recognising properties of algorithms and problems\n",
    "* constructing a solution vs changing one\n",
    "* uninformed search for decision problems\n",
    "* Informed search with cost functions\n",
    "\n",
    "<div class=\"alert alert-block alert-warning\"> <b>Practicals:</b> Designing and creating route-planning systems</div>"
   ]
  },
  {
   "cell_type": "markdown",
   "metadata": {
    "cell_style": "split"
   },
   "source": [
    "![image of pacman executing depth-first search](pacman-routefinding.png)"
   ]
  },
  {
   "cell_type": "markdown",
   "metadata": {
    "slideshow": {
     "slide_type": "notes"
    }
   },
   "source": [
    "* Single member searching on a landscape\n",
    "* decision problems vs informed search\n",
    "* greedy vs constructive - iei add one mvoe at a time vs changing move"
   ]
  },
  {
   "cell_type": "markdown",
   "metadata": {
    "slideshow": {
     "slide_type": "slide"
    }
   },
   "source": [
    "## How this fits in with the rest of the degree\n",
    "Overall ethos: giving you the skills to undertake AI based projects\n",
    "* __Artificial Intelligence 1__: fluency in the basic ideas and tools of AI.\n",
    "* __Artificial Intelligence 2__: More computational AI e.g. Evolutionary Algorithms, Deep Learning, Reinforcement Learning \n",
    "* __Machine Learning__:  what it says ...\n",
    "* __Security, Data Analytics & Visualisation__ : exploring data, linking to ML algorithms to interactive visualisations\n",
    "* __Autonomous Agents and Multi-Agent Systems__: designing complex deliberate agents to work together \n",
    "* __Advanced Artificial Intelligence__: latest advances, dealing with complex problems"
   ]
  },
  {
   "cell_type": "markdown",
   "metadata": {
    "slideshow": {
     "slide_type": "notes"
    }
   },
   "source": [
    "* progressively more complex andmore *real world*\n",
    "* e.g. data sets start to have missing/ noisy data etc\n"
   ]
  },
  {
   "cell_type": "markdown",
   "metadata": {
    "slideshow": {
     "slide_type": "slide"
    }
   },
   "source": [
    "# How we will teach this course: 1 Sessions\n",
    "Basic timetable is 1 hour lecture + 2 hour tutorials\n",
    " * I've been working with students to  slowly migrate away formal 'traditional' lectures over the last 5-10 years\n",
    " * in favour of interactive online materials + more student-led sessions with me\n",
    "\n",
    "\n",
    "<div class=\"alert alert-block alert-danger\"> Whether or not the tutorials happen online or in labs depends on the Covid situation</div> "
   ]
  },
  {
   "cell_type": "markdown",
   "metadata": {
    "slideshow": {
     "slide_type": "slide"
    }
   },
   "source": [
    "### Acquisition\n",
    "  * Lectures replaced by videos recorded in 15-20 minute chunks\n",
    "  * Watch them via 'panopto' so you can take notes and see the  interactive questions\n",
    "  * Activities between each chunk, and self-assessment test  with your answers submitted via Blackboard so we can provide feedback on how you're progressing.\n",
    "  * Extra reading or watching activities to do in your own time\n",
    "\n",
    "<div class = \"alert alert-block alert-info\">There'll be a <b>timetabled slot</b> when I will be available online for group or 1:1 chat/help on the 'lecture' material. </div>"
   ]
  },
  {
   "cell_type": "markdown",
   "metadata": {
    "slideshow": {
     "slide_type": "slide"
    }
   },
   "source": [
    "### Learning through others:\n",
    "  * Team-based 'quizzes' at the start of each tutorial\n",
    "  * working alongside small groups to solve 'how-do-I?'\n",
    "  \n",
    "### Learning through practice\n",
    "  * Using real tools to solve AI problems, and learning python/ jupyter notebooks: the industry standard for AI/ Data Science\n",
    "  * Every week there will be suggestions for  extra practical activities to 'stretch' your learning \n",
    "  \n",
    "<div class = \"alert alert-block alert-info\"><b>Online submission system:</b> Automatically marks your work and provides feedback<br> Available 24/7, and you get several attempts at the coursework </div>\n",
    "  "
   ]
  },
  {
   "cell_type": "markdown",
   "metadata": {
    "slideshow": {
     "slide_type": "slide"
    }
   },
   "source": [
    "# How we will teach this course 2: Tools\n",
    "Blackboard:\n",
    " * to host all materials,  \n",
    " * provide self assessment tests so you and we can keep track of how you're getting on\n",
    " * links to interactive panopto videos\n",
    "\n",
    "\n"
   ]
  },
  {
   "cell_type": "markdown",
   "metadata": {
    "cell_style": "split",
    "slideshow": {
     "slide_type": "slide"
    }
   },
   "source": [
    "### Course will be taught in python\n",
    " * 'language of choice' for ML\n",
    " * good open-source libraries\n",
    " * you will learn Python in 'Principles of Programming\n",
    " \n",
    "### All the lectures and tutorials will use Jupyter Notebooks\n",
    " * we'll help you  install it\n",
    " * or you can run in the cloud (Microsoft Azure or Google Collab,  "
   ]
  },
  {
   "cell_type": "code",
   "execution_count": 1,
   "metadata": {
    "cell_style": "split"
   },
   "outputs": [
    {
     "ename": "SyntaxError",
     "evalue": "EOL while scanning string literal (<ipython-input-1-343e40ada41a>, line 1)",
     "output_type": "error",
     "traceback": [
      "\u001b[0;36m  File \u001b[0;32m\"<ipython-input-1-343e40ada41a>\"\u001b[0;36m, line \u001b[0;32m1\u001b[0m\n\u001b[0;31m    print ('how do you know this is live?\")\u001b[0m\n\u001b[0m                                           ^\u001b[0m\n\u001b[0;31mSyntaxError\u001b[0m\u001b[0;31m:\u001b[0m EOL while scanning string literal\n"
     ]
    }
   ],
   "source": [
    "\n",
    "print ('how do you know this is live?\")\n"
   ]
  },
  {
   "cell_type": "markdown",
   "metadata": {
    "slideshow": {
     "slide_type": "slide"
    }
   },
   "source": [
    "# Can't wait? Here's some things you could do in the meanwhile ...\n",
    "1.  Reading List : https://uwe.rl.talis.com/lists/3E2EB393-DBA8-2DB6-2F00-BCA5939FED2D.html\n",
    "\n",
    "2.  Exercises ..\n",
    "\n"
   ]
  },
  {
   "cell_type": "code",
   "execution_count": null,
   "metadata": {},
   "outputs": [],
   "source": []
  }
 ],
 "metadata": {
  "celltoolbar": "Slideshow",
  "kernelspec": {
   "display_name": "Python 3",
   "language": "python",
   "name": "python3"
  },
  "language_info": {
   "codemirror_mode": {
    "name": "ipython",
    "version": 3
   },
   "file_extension": ".py",
   "mimetype": "text/x-python",
   "name": "python",
   "nbconvert_exporter": "python",
   "pygments_lexer": "ipython3",
   "version": "3.6.2"
  }
 },
 "nbformat": 4,
 "nbformat_minor": 4
}
