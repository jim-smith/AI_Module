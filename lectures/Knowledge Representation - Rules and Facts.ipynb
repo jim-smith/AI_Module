{
 "cells": [
  {
   "cell_type": "markdown",
   "metadata": {
    "slideshow": {
     "slide_type": "slide"
    }
   },
   "source": [
    "# Knowledge Representation Basics: Rules and Facts\n",
    "## Artificial Intelligence 1\n",
    "## Lecture 2\n"
   ]
  },
  {
   "cell_type": "markdown",
   "metadata": {
    "slideshow": {
     "slide_type": "notes"
    }
   },
   "source": [
    "Hi, welcome to the second week of the Artificial Intelligence module.\n",
    "\n",
    "Having set the scene last week,  this week we move on to the first topic, which is concerned with how we store and manipulate knowledge.\n",
    "\n",
    "We will be predominantly dealing with the realm of symbolic AI in this topic,  but many of the ideas hold not just across all forms of AI, but also \n",
    "across computer-based systems, mathematics, and logic more generally"
   ]
  },
  {
   "cell_type": "markdown",
   "metadata": {
    "slideshow": {
     "slide_type": "slide"
    }
   },
   "source": [
    "## Outline for this session"
   ]
  },
  {
   "cell_type": "markdown",
   "metadata": {
    "cell_style": "split",
    "slideshow": {
     "slide_type": "fragment"
    }
   },
   "source": [
    "### Part 1:  Encoding knowledge\n",
    "- Facts: assertions about the world\n",
    "- Rules: how facts link together"
   ]
  },
  {
   "cell_type": "markdown",
   "metadata": {
    "cell_style": "split",
    "slideshow": {
     "slide_type": "fragment"
    }
   },
   "source": [
    "### Part 2: Knowledge about Knowledge\n",
    "- meta-knowledge: \n",
    "- ontologies for sharing meta knowledge\n",
    "- Long-term vs short term knowledge\n",
    "- generic vs domain specific knowledge   \n",
    "  which affects how it is stored"
   ]
  },
  {
   "cell_type": "markdown",
   "metadata": {
    "cell_style": "center",
    "slideshow": {
     "slide_type": "fragment"
    }
   },
   "source": [
    "### Part 3:  Example: AIML for building chatbot knowledge base"
   ]
  },
  {
   "cell_type": "markdown",
   "metadata": {
    "slideshow": {
     "slide_type": "notes"
    }
   },
   "source": [
    "This session is divided into three parts.\n",
    "\n",
    "In the first I will talk about types of knowledge how we encode them.\n",
    "\n",
    "- We encode basic knowledge as facts and rules\n",
    "\n",
    "In the second part I will talk about:\n",
    "- 'meta-knowledge' or 'knowledge about knowledge' which allows us to do all sorts of interesting things - like create the semantic web\n",
    "- How we  can divide things we know in two ways:\n",
    " - do they hold in lots of different circumstances (generic) or just for this particular application (domain specific)\n",
    " - are they always true (long-term),  or just for this particular case (short term)?\n",
    " - this affects how they are stored\n",
    " \n",
    "In the third part I will illustrate these ideas in the context of a modern knowledge representation language: \"Artificial Intelligence Markup Language\" which is a popular way of encoding the knowledge base of chatbots. Hopefully you'll recognise that you came across this in the first week's tutorials."
   ]
  },
  {
   "cell_type": "markdown",
   "metadata": {
    "cell_style": "center",
    "slideshow": {
     "slide_type": "slide"
    }
   },
   "source": [
    "### Absolute Truths vs Assertions\n",
    "\n",
    "Please note, that with no intent to cause offence, in this module I am ignoring:\n",
    "- religious viewpoints\n",
    "- philosophical viewpoints such as Cartesian perspectives, phenomenology and existentialism \n",
    "\n",
    "'scientific' perspective: we  make *observations* \n",
    "- on the basis of which we make *assertions*.\n",
    "\n",
    "From these we derive *theories* or *hypotheses* which attempt to explain those observations and let us make *predictions*.\n",
    "- Theories usually start from a basis of *axioms*\n",
    "- We cannot *prove* theories to be true: \n",
    "- at best we can say that:\n",
    " within the bounds of the axioms and the form of logic applied, a deduction is *sound*"
   ]
  },
  {
   "cell_type": "markdown",
   "metadata": {
    "slideshow": {
     "slide_type": "notes"
    }
   },
   "source": [
    "Please note, that with no intent to cause offence, in this module I am ignoring:\n",
    "- religious viewpoints\n",
    "- philosophical viewpoints such as Cartesian perspectives, phenomenology and existentialism \n",
    "\n",
    "I take the 'scientific' perspective that we can make *observations* on the basis of which we make *assertions*.\n",
    "\n",
    "From these we derive *theories* or *hypothesis* we seek to provide a framework for explaining those observations and making *predictions*.\n",
    "\n",
    "Theories usually start from a basis of *axioms*\n",
    "\n",
    "We cannot *prove* theories to be true: at best we can say that:\n",
    " within the bounds of the axioms and the form of logic applied, a deduction is *sound*\n",
    " \n",
    " If you're interested in reading more about the thinknig behind these ideas there is a link in the reading list. "
   ]
  },
  {
   "cell_type": "markdown",
   "metadata": {
    "cell_style": "split",
    "slideshow": {
     "slide_type": "slide"
    }
   },
   "source": [
    "### Example: 'Euclidean'  geometry \n",
    "#### Axioms\n",
    "<!--\n",
    "<img style=\"float: right;\" src=\"figures/KR1/interior-angles-triangle.gif\" height=\"50\" >\n",
    "-->\n",
    "\n",
    "1. For any two different points, there exists a unique line containing these two points.\n",
    "2. A straight line segment can be prolonged indefinitely.\n",
    "3. A circle can be constructed when a point for its centre and a distance for its radius are given.\n",
    "4. All right angles are equal.\n",
    "5. For any line L and point p not on L, there exists a single unique line through p not meeting L.\n",
    "\n",
    "From these we can derive useful theorems such as:\n",
    "\n",
    "_the sum of the interior angles of a triangle is 180 degrees_"
   ]
  },
  {
   "cell_type": "markdown",
   "metadata": {
    "cell_style": "split",
    "slideshow": {
     "slide_type": "fragment"
    }
   },
   "source": [
    "## Counter example: Angles on earth\n",
    "\n",
    "<img style=\"float: right;\" src=\"figures/KR1/rightangles-earth.png\">\n",
    "\n",
    "Points A, B and C make a triangle with straight lines connecting the sides but the interior angles add up to 270 degrees\n",
    "\n",
    "This is because on a curved surface some of the axioms do not hold\n",
    "\n",
    "WHICH?\n"
   ]
  },
  {
   "cell_type": "markdown",
   "metadata": {
    "slideshow": {
     "slide_type": "notes"
    }
   },
   "source": [
    "I'll illustrate this idea using something that you will all be familiar with from school. \n",
    "\n",
    "The greek mathematician Euclid derived an incredibly useful body of ideas you probably know as 'Geometry'.\n",
    "It's based on the five axioms listed on this slide, and although they've been slightly refined (e.g. 1 and 5) his results are in daily use by millions of people - not just scientists but also engineers and everyday builders.\n",
    "\n",
    "I bet at school you did maths homework working out things like the angles in a triangle, using his results like 'the angles inside a triangle add up to 180 degrees'.\n",
    "\n",
    "However,  it's to think of a counter example: if you put a point A at the North pole, and points B and C on the equator (0, longitude 0 and 90) then the longitude lines that connect B with A and C with A are at right angles to the latitude line that conect B with C.    So the angles add up to 3*90 = 270 degrees.\n",
    "\n",
    "This is not becuase Euclid's results about triangles are always wrong,    but becuase the foundations on which they are built - the *axioms* - don't hold on  a curved surface."
   ]
  },
  {
   "cell_type": "markdown",
   "metadata": {
    "slideshow": {
     "slide_type": "slide"
    }
   },
   "source": [
    "# Intelligence needs knowledge\n",
    "\n",
    "<img style=\"float: right;\" src=\"figures/KR1/FrancisBacon.png\">\n",
    "\n",
    "For computers to do anything useful they need to represent the real world in some way\n",
    "\n",
    "\n",
    "How you do this will affect:\n",
    "- What your system can do,  \n",
    "- How widely it can be applied,\n",
    "- *Trust* in your system\n",
    "\n",
    "So although I'm going to use commonly accepted language for shorthand, it is important to bear in mind that:\n",
    "- although we talk about *facts* , really we  are dealing with *assertions*,  \n",
    "- the validity of any results is limited by whether the *axioms* embedded (or often implicit) in the world model hold true \n",
    "\n",
    "None of this is new to anyone who has experienced some of the controversies on social media\n"
   ]
  },
  {
   "cell_type": "markdown",
   "metadata": {
    "slideshow": {
     "slide_type": "notes"
    }
   },
   "source": [
    "Francis Bacon was a 16th centrury British philosopher,  but his his slogan 'knowledge is power' holds when we think about creating AI systems - we need to be able to store and manipulate knowledge to do useful things.  \n",
    "\n",
    "How you do this will affect:\n",
    "- What your system can do,  \n",
    "- How widely it can be applied,\n",
    "- *Trust* in your system\n",
    "\n",
    "So although I'm going to use commonly accepted language for shorthand, it is important to bear in mind that:\n",
    "- although we talk about *facts* , really we  are dealing with *assertions*,  \n",
    "- the validity of any results is limited by whether the *axioms* embedded (or often implicit) in the world model hold true \n",
    "\n",
    "None of this is new to anyone who has experienced some of the controversies on social media.\n",
    "\n",
    "- For example, I'm writing this slide in the middle of a pandemic, and on the day of the 2020 US elections. \n",
    "- In both cases  we are seeing  the collision of very different world views, leading to conflicting assertions being made.\n",
    "\n",
    "This goes to highlight why issues like  _Accountability_ , _Fairness_ , and _Trust_ are so important. \n"
   ]
  },
  {
   "cell_type": "markdown",
   "metadata": {
    "slideshow": {
     "slide_type": "slide"
    }
   },
   "source": [
    "### We need to store information about\n",
    "- Objects (people, places, things) \n",
    "- Events (time and place) \n",
    "- Actions and consequences (\"if A is False then B is  True\", what will happen if...),  \n",
    "- Meta-knowledge (knowledge about knowledge: how sure am I? Who told me?) \n",
    "\n",
    "The building blocks are *Facts*, *Rules* and *Ontologies*\n",
    "\n"
   ]
  },
  {
   "cell_type": "markdown",
   "metadata": {
    "cell_style": "split",
    "slideshow": {
     "slide_type": "fragment"
    }
   },
   "source": [
    "### Facts\n",
    "\n",
    "- Assert a relationship between a thing and a property\n",
    "- Also known as _predicates_\n",
    "- Often represented as Boolean or integer variables\n",
    "\n",
    "<img style=\"float: right;\" src=\"./figures/types_of_Problem_and_AI/green_apple.jpg\" alt=\"Picture of an apple\" width = \"100\" height= \"100\">   \n",
    "\n",
    "\n",
    "_IsRound(myFruit) = True_\n",
    "\n",
    "_IsGreen(myFruit) = True_\n",
    "\n",
    "_IsSmooth(myFruit) = True_"
   ]
  },
  {
   "cell_type": "markdown",
   "metadata": {
    "cell_style": "split",
    "slideshow": {
     "slide_type": "fragment"
    }
   },
   "source": [
    "### Rules\n",
    "\n",
    "- Assert a relationship bet ween two facts\n",
    "- Are used to generate new knowledge \n",
    " - e.g. set values for variables\n",
    " \n",
    "General form:\n",
    "\n",
    "IF (conditions) THEN (action)\n",
    "\n",
    "\n",
    " \n",
    "_isRound(x)_ AND _isGreen(x)_  AND _isSmooth(x)_   => _isApple(x)_"
   ]
  },
  {
   "cell_type": "markdown",
   "metadata": {
    "slideshow": {
     "slide_type": "notes"
    }
   },
   "source": [
    "So to do useful things we will typically need to store information about\n",
    "- objects: and their properties\n",
    "- events : *what* happened *when*, *who* was there\n",
    "- actions and consequences\n",
    "- who told us,  what can we know about the types of things/peoples involved\n",
    "\n",
    "The first building block is a fact, which asserts a relationship between a thing and a property. \n",
    "In Foundations of Computer Science they  refer to these as predicates.\n",
    "\n",
    "Facts are often stored in simple Boolean or integer variables that can then be tested.\n",
    "\n",
    "\n",
    "Using an example from last week, given this new piece of fruit, I might state the fact that it is round green and smooth.\n",
    "\n",
    "A rule is used to assert a relationship between two facts, and they are really important becuase we used rules to generate new knowledge.\n",
    "\n",
    "The general form is IF (condition) THEN (action)\n",
    "where action could be doing something, or  setting a variable value to assert a new fact.\n",
    "\n",
    "So using our previous example, I might then apply a rule to decide that my fruit is in fact an apple.\n",
    "In Principle of Programming you did lots of examples using rules (if statements) to validate inputs \n"
   ]
  },
  {
   "cell_type": "code",
   "execution_count": 11,
   "metadata": {
    "cell_style": "center",
    "slideshow": {
     "slide_type": "slide"
    }
   },
   "outputs": [],
   "source": [
    "## example fruit recognition in python\n",
    "\n",
    "# we'll define a class of type fruit to limit the scope of what we are reasoning about\n",
    "# we might choose to put this class definition in another file as it is long-term domain specific knowledge\n",
    "class fruit:\n",
    "    isGreen = False\n",
    "    isRound = False\n",
    "    isSmooth = False\n",
    "\n",
    "    def IsAppleRule(self):\n",
    "        if (self.isGreen and self.isRound and self.isSmooth):\n",
    "            return True\n",
    "        else:\n",
    "            return False\n",
    " "
   ]
  },
  {
   "cell_type": "code",
   "execution_count": 12,
   "metadata": {
    "cell_style": "center",
    "slideshow": {
     "slide_type": "fragment"
    }
   },
   "outputs": [
    {
     "name": "stdout",
     "output_type": "stream",
     "text": [
      "we can deduce that the statement \"myFruit is an apple\" is True\n"
     ]
    }
   ],
   "source": [
    "       \n",
    "# now declare a specific  instance         \n",
    "myFruit = fruit()\n",
    "myFruit.isGreen = True\n",
    "myFruit.isSmooth = True\n",
    "myFruit.isRound = True\n",
    "isItAnApple = myFruit.IsAppleRule()\n",
    "print('we can deduce that the statement \\\"myFruit is an apple\\\" is {}'.format(isItAnApple))"
   ]
  },
  {
   "cell_type": "markdown",
   "metadata": {
    "slideshow": {
     "slide_type": "notes"
    }
   },
   "source": [
    "So here's an example of what this might look like in python.\n",
    "- there are many other ways we could code this\n",
    "A couple of things to note:\n",
    "- I've chosen to put my rules in a class,  so that I'm only claim ing it applies to things that are fruit (not snooker balls) - i.e. it is Domain Specific\n",
    "- I could put the class into another file so i cna include it in other programmes - becuase this is long term  knowledge\n",
    "\n",
    "I then define myFruit as a new thing of type fruit, assert its properties and see if I can infer anything else\n"
   ]
  },
  {
   "cell_type": "markdown",
   "metadata": {
    "slideshow": {
     "slide_type": "slide"
    }
   },
   "source": [
    "## Summary of part 1:\n",
    "\n",
    "You need to:\n",
    " - know what a fact and a rule is, and how they could be stored/coded in a programme \n",
    " - recognise the limitations that can be put on logic-based systems\n",
    " - be able to explain how things like being clear about the axioms in your system relates to ethical issues like Accountability and Trust."
   ]
  },
  {
   "cell_type": "markdown",
   "metadata": {
    "slideshow": {
     "slide_type": "notes"
    }
   },
   "source": [
    "You need to:\n",
    " - know what a fact and a rule is, and how they could be stored/coded in a programme \n",
    " - recognise the limitations that can be put on logic-based systems\n",
    " - be able to explain how this relates to ethical issues like Accountability and Trust.\n",
    " \n",
    " Next we'll look at meta-knowlege."
   ]
  }
 ],
 "metadata": {
  "celltoolbar": "Slideshow",
  "kernelspec": {
   "display_name": "Python 3",
   "language": "python",
   "name": "python3"
  },
  "language_info": {
   "codemirror_mode": {
    "name": "ipython",
    "version": 3
   },
   "file_extension": ".py",
   "mimetype": "text/x-python",
   "name": "python",
   "nbconvert_exporter": "python",
   "pygments_lexer": "ipython3",
   "version": "3.6.2"
  }
 },
 "nbformat": 4,
 "nbformat_minor": 4
}
