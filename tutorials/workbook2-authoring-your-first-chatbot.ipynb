{
 "cells": [
  {
   "cell_type": "markdown",
   "metadata": {},
   "source": [
    "# Artificial Intelligence 1 Week 2 Practical\n",
    "### Goals\n",
    "1. The aim of this session is to give you practical experience of creating a  knowledge base for an expert system with some simple forward chaining.\n",
    "2. To do that you will author a simple chat-bot using the AIML knowledge representation language. \n",
    "3. To aid your learning, your chat-bot should hold your revision notes about the core concepts from the lectures so far, in the form of a 'FAQ'\n",
    "\n",
    "### By the end of this session you should have\n",
    "- Made your first set of ten revision questions and answers.\n",
    "- Coded up your chatbot to answer those questions.\n",
    "- Successfully used  &lt;srai&gt; tag-pairs in AIML to do some simple forward chaining for different greetings.\n",
    "\n",
    "### Before next week you should have\n",
    "- Expanded your chatbot using &lt;srai&gt; tag-pairs storing knowledge about language,   \n",
    "  so that your bot can respond to different ways of asking the same question\n",
    "- Expanded the domain-specific knowledge contents of your bots with categories for all the other key concepts covered so far.\n",
    "\n",
    "### Additional Resources\n",
    "- Pandorabots (www.pandorabots.com) offers free sign-in and hosts a web-based interface for authoring bots.   \n",
    "   Once you start doing more complex things, the feedback on what is happening as your queries are processed  is a little better than the python aiml version.  \n",
    "   But some students have found the text preprocessing is  different to the 'official reference' version we use for the marking system.  \n",
    "   You might like to try developing your AIML in pandorabots then importing it into these jupyter notebooks.\n",
    "   \n",
    "   \n",
    "- Good places to look for help with AIML syntax are: \n",
    " - [Pandorabots AIML-Fundaments](https://www.pandorabots.com/docs/aiml-fundamentals)\n",
    " - [Pandorabots AIML reference - for syntax](https://www.pandorabots.com/docs/aiml-reference/)\n",
    " - [The official AIML site](http://www.aiml.foundation/doc.html)\n",
    "\n",
    "<div class=\"alert alert-block alert-warning\"> <b>REMEMBER:</b> Because it is much more lightweight, in class we are using the python-aiml package. <br>This is only AIMLv1-compliant, and  does not support all the features of AIMLv2. </div>\n",
    "\n",
    "<div class=\"alert alert-block alert-danger\"> <b>REMEMBER:</b> IF you are running the notebooks on the cloud server you need to click on the kernel menu and then change-kernel to'AIenv'.<br>\n",
    "IF you are running locally AND you created a virtual environment in Jupyter click on the kernel menu then change-kernel OR in VSCode use the kernel selector in the top-right hand corner.\n",
    "</div>"
   ]
  },
  {
   "cell_type": "markdown",
   "metadata": {},
   "source": [
    "# Tutorial Activity 1 (~15mins): Identifying knowledge\n",
    "\n",
    "The first step is to identify what knowledge we want our expert system chatbot to talk about.  \n",
    "You may as well use this as practice for making revision notes.  \n",
    "Look through the slides from the lecture so far and identify 10 facts or statements for your bot to answer.\n",
    " - for example you might choose _\"what do we mean by the cardinality of a relationship?\"_   \n",
    "   and want your bot to answer _\"cardinality is meta knowledge that tells us whether a relationship is one-one, many-to-one, etc.\"_\n",
    "\n",
    "Don't be afraid to use topical questions if these help you remember the concepts.\n",
    "- _\"is the name of the president long-term or short-term knowledge?\"_ (Clue: they have to be reelected)\n",
    "- _\"is the name of the president domain-specific or generic knowledge?\"_ (Clue: It depends which country or organisation you are talking about).\n",
    " "
   ]
  },
  {
   "cell_type": "markdown",
   "metadata": {},
   "source": [
    "# Tutorial Activity 2: Creating a chatbot and embedding that knowledge\n",
    "\n",
    "## 2.1 Start with a simple  knowledge base\n",
    "Edit and run the first cell below to change the knowledge base, then the cell after to run the bot\n",
    "- You must include on  the first line: `%%writefile \"workbook2-Chatbot.aiml\"`\n",
    " -  This is jupyter \"magics\" to save the cell contents as a text file when you run it.\n",
    " -  You could change the name of the file if you like, \n",
    " -  but then you have to change the second cell to tell the bot which file to read.\n",
    "- The second line tells the interpreter that is is AIML and how it is encoded\n",
    " - you should only have this line once\n",
    "  - and you must keep the final line (`</aiml>` to close the aiml tag-pair\n",
    "- I've given you one simple category, start by change the response to \"Hello there!\"\n",
    "\n",
    "- Now run the cell after to load your knowledge base and start an interactive session.\n",
    " - Type questions into the box provided.\n",
    " - Type 'bye' to finish the session.\n",
    " - The bot should respond to \"Greetings\".\n",
    " - What happens if you type one of your questions?\n",
    "\n",
    "\n",
    " "
   ]
  },
  {
   "cell_type": "code",
   "execution_count": null,
   "metadata": {},
   "outputs": [],
   "source": [
    "%%writefile \"workbook2-Chatbot.aiml\"\n",
    "<aiml version=\"1.0.1\" encoding=\"UTF-8\">\n",
    "\n",
    "\n",
    "<category>\n",
    "  <pattern> GREETINGS</pattern>\n",
    "  <template> Hi there!</template>\n",
    "</category>\n",
    "\n",
    "<!--\n",
    "anything between these two lines is a comment\n",
    "so this line is a comment too\n",
    "-->\n",
    "\n",
    "</aiml>"
   ]
  },
  {
   "cell_type": "code",
   "execution_count": null,
   "metadata": {},
   "outputs": [],
   "source": [
    "# Run this cell to create and chat with yor bot\n",
    "import aiml\n",
    "\n",
    "# Create the kernel and learn AIML files\n",
    "myChatbot = aiml.Kernel()\n",
    "myChatbot.learn(\"workbook2-Chatbot.aiml\")\n",
    "myChatbot.verbose(True)\n",
    "print( \"Successfuly loaded {} categories\".format(myChatbot.numCategories()))\n",
    "\n",
    "#type bye to end the chat session\n",
    "keepGoing = True\n",
    "\n",
    "while keepGoing:\n",
    "    nextInput = input(\"Enter your message >> \")\n",
    "    if(nextInput == 'bye'):\n",
    "        keepGoing = False\n",
    "    else:\n",
    "        print (myChatbot.respond(nextInput))"
   ]
  },
  {
   "cell_type": "markdown",
   "metadata": {},
   "source": [
    "## Activity 2.2: Now add your questions and answers into your chatbot\n",
    "Copy and paste the simple \"Greetings\" category ten times, then edit the ten new categories to make one  for each of the question-answer pairs you wrote in activity 1.\n",
    "- remember to run that cell to save the contents to file\n",
    "- then run the chatbot again\n",
    "\n",
    "### Debugging hints\n",
    "- The code you are given  will tell you how many categories it has loaded successfully - this should match how many you have written.\n",
    "-  Remember to end each chat session with 'bye'\n",
    " - if things seem 'stuck' (the circle next to the kernel name \"python 3\" is filled ), you can use the square 'stop' button to stop python.\n",
    "- If you get errors when you try to run the bot, you can comment out parts of your code to isolate the problem.\n",
    " - The first code cell includes an example of the symbols to use to start and end  to make multi-line comments.\n",
    "- When writing your patterns, remember your input will be changed into capitals and have punctuation removed.\n",
    " - **So if you use lower-case in a pattern, that category will never be matched.**\n"
   ]
  },
  {
   "cell_type": "markdown",
   "metadata": {},
   "source": [
    "# Tutorial Activity 3:  Basic Forward Chaining using srai\n",
    "\n",
    "Now that you have created an empty bot lets teach it to recognise that there are  different ways of greeting people.  \n",
    "e.g. \"Greetings\", \"Hello\", \"Hi\", \"Good Morning\",...\n",
    "\n",
    "- In this case we want our bot to respond to them all in the same way\n",
    "- but we only want to store that response once, so we can edit it easily\n",
    " - only storing information in one 'master copy' is a basic principle of knowledge management (even if you then mirror your master copy).  \n",
    "\n",
    "So we are going to use *forward chaining*\n",
    " - we will create a rule for each alternative,  \n",
    "   and the purpose of that rule is to tell the system that the conditions have been met to trigger the 'GREETINGS' rule.\n",
    "\n",
    "### Activity 3.1\n",
    "We can do this using the &lt;srai&gt; tag within the response.\n",
    "- Edit the cell below to create a new aiml file called ‘hello.aiml’  and populate it with several categories  \n",
    "  which each have a different patterns - a different greeting.  \n",
    "- You should only code the actual output response into one of your categories.  \n",
    "  Since the *intent* is greeting,   use the one with the pattern GREETING\n",
    "- The rest should use `<srai>GREETING</srai>` in the template to redirect the system to that category\n"
   ]
  },
  {
   "cell_type": "code",
   "execution_count": null,
   "metadata": {},
   "outputs": [],
   "source": [
    "%%writefile \"hello.aiml\"\n",
    "<aiml version=\"1.0.1\" encoding=\"UTF-8\">\n",
    "\n",
    "\n",
    "<category>\n",
    "  <pattern> GREETINGS</pattern>\n",
    "  <template> Hi there</template>\n",
    "</category>\n",
    "\n",
    "</aiml>"
   ]
  },
  {
   "cell_type": "markdown",
   "metadata": {},
   "source": [
    "### Activity 3.2 Now test your forward chaining \n",
    "This time we won't make a new bot - we'll just add the knowledge to our existing one.\n",
    "And then rerun the 'wrapper' python code that runs the bot interactively\n",
    "\n",
    "If you look closely you'll see that I've changed the response to greetings (removed the final !).\n",
    "\n",
    "When we tell the chatbot to read the new file,  it will overwrite the previous category that had the same pattern- because as far as it knows they are both generic and the last read takes precedence.\n"
   ]
  },
  {
   "cell_type": "code",
   "execution_count": null,
   "metadata": {},
   "outputs": [],
   "source": [
    "myChatbot.learn(\"hello.aiml\")\n",
    "myChatbot.verbose(True)\n",
    "print( \"Successfuly loaded {} categories\".format(myChatbot.numCategories()))\n",
    "\n",
    "#type bye to end the chat session\n",
    "keepGoing = True\n",
    "\n",
    "while keepGoing:\n",
    "    nextInput = input(\"Enter your message >> \")\n",
    "    if(nextInput == 'bye'):\n",
    "        keepGoing = False\n",
    "    else:\n",
    "        print (myChatbot.respond(nextInput))"
   ]
  },
  {
   "cell_type": "markdown",
   "metadata": {},
   "source": [
    "## Activity 4: Creating your revision bot\n",
    "You should aim to complete this activity before next week.  \n",
    "Then over the course of the module you should update your bot's knowledge each week as part of keeping your revision notes.\n",
    "\n",
    "1. For each of the categories about AI you created above,  create some alternatives,  \n",
    "   with patterns that are  different ways of asking the same question,  \n",
    "   and using &lt;srai&gt; tag-pairs in the templates to point to the answer you already have.\n",
    " - You could think of these as flash cards,\n",
    "2. Go back through the lecture slides and create categories for any other core concepts you will need to revise.\n",
    "3. While you are doing this, make a list of any patterns in what you are authoring - i.e. in the 'knowledge about language'.\n",
    " - these will be useful next week when we start to think about variables and wild cards and generalising our knowledge.\n",
    "\n",
    "<div class=\"alert alert-block alert-danger\"> Remember to download and save you work if you are not running this notebook locally.</div>"
   ]
  },
  {
   "cell_type": "code",
   "execution_count": null,
   "metadata": {},
   "outputs": [],
   "source": []
  }
 ],
 "metadata": {
  "kernelspec": {
   "display_name": "AIenv",
   "language": "python",
   "name": "aienv"
  },
  "language_info": {
   "codemirror_mode": {
    "name": "ipython",
    "version": 3
   },
   "file_extension": ".py",
   "mimetype": "text/x-python",
   "name": "python",
   "nbconvert_exporter": "python",
   "pygments_lexer": "ipython3",
   "version": "3.8.2"
  }
 },
 "nbformat": 4,
 "nbformat_minor": 4
}