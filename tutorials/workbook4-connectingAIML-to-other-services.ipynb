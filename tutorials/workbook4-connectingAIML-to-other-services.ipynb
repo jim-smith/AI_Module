{
 "cells": [
  {
   "cell_type": "markdown",
   "metadata": {},
   "source": [
    "# Artificial Intelligence 1 Week 4 Practical\n",
    "### Goals\n",
    "This session is split into two parts.\n",
    "\n",
    "The first activity is designed  to give you practical experience of:\n",
    "- setting bot predicates outside your bot,  to customize it\n",
    "- using `<system>` tag-pairs to make calls and connecting your chatbot to external services.\n",
    "\n",
    "The second activity gives you a chance to work on the first bit of coursework, and make sure your testing toolchain is in place.\n",
    "\n",
    "\n",
    "### By the end of this session you should have\n",
    "\n",
    "- Understood how external programmes can affect your bot,  and vice versa\n",
    "\n",
    "\n",
    "- Understood what you need to do for the first piece of coursework.\n",
    "- Checked your toolchain for developing the coursework.\n",
    "\n",
    "### Before next week you should have\n",
    "- Expanded your revision chatbot so it can the same question asked in different ways about each of the facts you have stored.   \n",
    "- Expanded the domain-specific knowledge contents of your revision bot with definitions and examples for all the other key concepts covered so far.\n",
    "\n",
    "### Additional Resources\n",
    "- Pandorabots (www.pandorabots.com) offers free sign-in and hosts a web-based interface for authoring bots.   \n",
    "   Once you start doing more complex things, the feedback on what is happening as your queries are processed  is a little better than the python aiml version.  \n",
    "   But some students have found the text preprocessing is  different to the 'official reference' version we use for the marking system.\n",
    "- Program-y is a fully featured AIML2-compliant python-based system with clients for twitter, etc. \n",
    "   You might like to try developing your AIML in pandorabots then importing it into these jupyter notebooks.\n",
    "   \n",
    "   \n",
    "- Good places to look for help with AIML syntax are: \n",
    " - [Pandorabots AIML-Fundaments](https://www.pandorabots.com/docs/aiml-fundamentals)\n",
    " - [Pandorabots AIML reference - for syntax](https://www.pandorabots.com/docs/aiml-reference/)\n",
    " - [The official AIML site](http://www.aiml.foundation/doc.html)\n",
    "\n",
    "<div class=\"alert alert-block alert-warning\"> <b>REMEMBER:</b> Because it is much more lightweight, in class we are using the python-aiml package. <br>This is only AIMLv1-compliant, and  does not support all the features of AIMLv2. </div>\n",
    "\n",
    "<div class=\"alert alert-block alert-danger\"> <b>REMEMBER:</b> IF you are running the notebooks on the cloud server you need to click on the kernel menu and then change-kernel to'AIenv'.<br>\n",
    "IF you are running locally AND you created a virtual environment in Jupyter click on the kernel menu then change-kernel OR in VSCode use the kernel selector in the top-right hand corner.\n",
    "</div>"
   ]
  },
  {
   "cell_type": "markdown",
   "metadata": {},
   "source": [
    "# Tutorial activity 1: Communications between your bot and other programmes\n",
    "\n",
    "AIML V2 comes with new tags such as `<sraix>` that send messages to other programmes either on the local machine, or running as a web service.\n",
    "\n",
    "However even in AIML v1, there is the option to make a \"system\" call, which works in the same way as running a command from a terminal (mac/linux) or the \"command tool\" (windows)\n",
    "\n",
    "## Activity 1.1 Setting/Getting Bot variables from outside the bot, and using `<system>` tags\n",
    "\n"
   ]
  },
  {
   "cell_type": "markdown",
   "metadata": {},
   "source": [
    "### Start by reading then running the 3 cells below which:\n",
    "1. Create a bot \n",
    "2. Demonstrate how an external programme can tell a running bot to set some predicate values according to the computer it is hosted on.   \n",
    "In this case some of the stored values are the names of programmes to run outside the bot\n",
    "3. Demonstrate how an external programme can  retrieve short term memory (predicates) from a running bot "
   ]
  },
  {
   "cell_type": "code",
   "execution_count": null,
   "metadata": {},
   "outputs": [],
   "source": [
    "# Run this cell to create  your bot\n",
    "import aiml\n",
    "from IPython.display import HTML\n",
    "import platform\n",
    "\n",
    "# Create the kernel and learn AIML files\n",
    "myChatbot = aiml.Kernel()\n"
   ]
  },
  {
   "cell_type": "code",
   "execution_count": null,
   "metadata": {},
   "outputs": [],
   "source": [
    "## In this cell python code is telling a running bot to set some values using the setPredicate() method\n",
    "\n",
    "# use a standard python library to find out what operating system this code is running on\n",
    "osname = platform.system()\n",
    "\n",
    "\n",
    "# set some command  according to the operating system\n",
    "if (osname=='Darwin'): #Macos\n",
    "    openUrlCommand = \"open\"\n",
    "    getDateCommand = \"date | cut -d' ' -f1-3,6\"\n",
    "    getTimeCommand = \"date|cut -d' ' -f4,5\"\n",
    "elif(osname=='Windows'):\n",
    "    openUrlCommand = \"start\"\n",
    "    getDateCommand = \"date/T\"\n",
    "    getTimeCommand = \"time/T\"\n",
    "else:\n",
    "    print(\"There may not be a command-line command to open an url on your system.\\n On linux it depends what you have installed\")\n",
    "    openUrlCommand = \"\"\n",
    "    getDateCommand= \"date | cut -d' ' -f1-3,6\"\n",
    "    getTimeCommand = \"date|cut -d' ' -f4,5\"\n",
    "\n",
    "    \n",
    "# \"teach\" the bot these values by creating  predicates\n",
    "myChatbot.setPredicate(\"osname\", osname)\n",
    "myChatbot.setPredicate(\"getDateCommand\", getDateCommand)\n",
    "myChatbot.setPredicate(\"getTimeCommand\", getTimeCommand)\n",
    "myChatbot.setPredicate(\"openURLCommand\", openUrlCommand)"
   ]
  },
  {
   "cell_type": "code",
   "execution_count": null,
   "metadata": {},
   "outputs": [],
   "source": [
    "## In this cell python code asks the bot for values of variables (predicates) using the getPredicate() method\n",
    "\n",
    "\n",
    "print(\"The bot has its variable osname set to \" + myChatbot.getPredicate(\"osname\"))\n",
    "\n",
    "print( \"The bot will get the date calling system command: \" + myChatbot.getPredicate(\"getDateCommand\")  )\n",
    "print( \"The bot will get the time by calling system command: \" + myChatbot.getPredicate(\"getTimeCommand\") )\n",
    "\n",
    "print(\"The bot will use this command to open a url: \" + myChatbot.getPredicate(\"openURLCommand\"))"
   ]
  },
  {
   "cell_type": "markdown",
   "metadata": {},
   "source": [
    "### Next read, understand, then run the  cell below to write some categories to file\n",
    "The categories contain the knowlege about  how to answer  these things in an interactive chat session\n",
    "\n",
    "The first one just retrieves a stored value and returns it.\n",
    "\n",
    "The second and third categories  use `<system>` calls to the host computer, retrieving  stored values to set the commands to be run"
   ]
  },
  {
   "cell_type": "code",
   "execution_count": null,
   "metadata": {},
   "outputs": [],
   "source": [
    "%%writefile \"simple_extensions.aiml\"\n",
    "<aiml version=\"1.0.1\" encoding=\"UTF-8\">\n",
    "\n",
    "<category>\n",
    "    <pattern> WHAT OPERATING SYSTEM ARE YOU RUNNING ON</pattern>\n",
    "    <template><get name=\"osname\" /></template>\n",
    "</category>\n",
    "\n",
    "<category>\n",
    "    <pattern> WHAT IS THE TIME </pattern>\n",
    "    <template> \n",
    "          It is <system><get name = \"getTimeCommand\"/></system>\n",
    "    </template>\n",
    "</category>\n",
    "\n",
    "<category>\n",
    "    <pattern> WHAT IS THE DATE </pattern>\n",
    "    <template> \n",
    "        Today is <system><get name=\"getDateCommand\"/></system>\n",
    "    </template>\n",
    "</category>\n",
    "\n",
    "\n",
    "\n",
    "</aiml>"
   ]
  },
  {
   "cell_type": "markdown",
   "metadata": {},
   "source": [
    "### Now its time to experiment:  run a chat session and ask the bot \n",
    "- what time it is\n",
    "- what date it is\n",
    "-  what operating sysem it is running on."
   ]
  },
  {
   "cell_type": "code",
   "execution_count": null,
   "metadata": {},
   "outputs": [],
   "source": [
    "myChatbot.learn(\"simple_extensions.aiml\")\n",
    "myChatbot.verbose(True)\n",
    "\n",
    "keepGoing=True\n",
    "while(keepGoing):\n",
    "    nextInput = input(\"Enter your message >> \")\n",
    "    if(nextInput=='bye'):\n",
    "        keepGoing=False\n",
    "    else:\n",
    "        print (myChatbot.respond(nextInput))\n",
    "\n"
   ]
  },
  {
   "cell_type": "markdown",
   "metadata": {},
   "source": [
    "\n",
    "\n",
    "## Activity 1.2 Connecting the bot to query other web services\n",
    "\n",
    "\n",
    "### First read, then run the cell below to store some categories which make calls to external services\n",
    "Each one does the same three things in its template:\n",
    "\n",
    "1. Uses a `<think>` pair to construct a variable called `runquery` by adding together\n",
    "  - the computer-specific command to open a url in a new tab\n",
    "  - the name of a web service\n",
    "  - the thing the user asked for - stored in `<star/>`\n",
    "2. Prints out a message and the hyperlink it hs constructed.\n",
    "3. Uses a `<system>` tag-pair to ask the host computer to perform that action "
   ]
  },
  {
   "cell_type": "code",
   "execution_count": null,
   "metadata": {},
   "outputs": [],
   "source": [
    "%%writefile \"web_extensions.aiml\"\n",
    "<aiml version=\"1.0.1\" encoding=\"UTF-8\">\n",
    "\n",
    "\n",
    "\n",
    "<category>\n",
    "    <pattern> GOOGLE *</pattern>\n",
    "    <template>\n",
    "        <think>\n",
    "            <set name=\"runquery\"><get name=\"openURLCommand\"/> http://www.google.co.uk/search?q=<star/></set>\n",
    "        </think>\n",
    "        If the tab does not open, here is a clickable link <get name=\"runquery\"/>\n",
    "        <system><get name=\"runquery\"/></system>\n",
    "    </template>\n",
    "</category>\n",
    "\n",
    "<category>\n",
    "  <pattern> IMAGES *</pattern>\n",
    "  <template>\n",
    "        <think>\n",
    "            <set name=\"runquery\"><get name=\"openURLCommand\"/> http://www.google.co.uk/images?q=<star/></set>\n",
    "        </think>\n",
    "        If the tab does not open, here is a clickable link <get name=\"runquery\"/>\n",
    "        <system><get name=\"runquery\"/></system>\n",
    "    </template>\n",
    "</category>\n",
    "\n",
    "<category>\n",
    "    <pattern> MAP OF *</pattern>\n",
    "    <template>\n",
    "        <think>\n",
    "            <set name=\"runquery\"><get name=\"openURLCommand\"/> http://www.google.co.uk/maps?q=<star/></set>\n",
    "        </think>\n",
    "        If the tab does not open, here is a clickable link <get name=\"runquery\"/>\n",
    "        <system><get name=\"runquery\"/></system>\n",
    "    </template>\n",
    "</category>\n",
    "\n",
    "<category>\n",
    "    <pattern> WIKIPEDIA * </pattern>\n",
    "    <template>\n",
    "        <think>\n",
    "            <set name=\"runquery\"><get name=\"openURLCommand\"/> https://en.wikipedia.org/wiki/<star/></set>\n",
    "        </think>\n",
    "        If the tab does not open, here is a clickable link <get name=\"runquery\"/>\n",
    "        <system><get name=\"runquery\"/></system>\n",
    "    </template>\n",
    "</category>\n",
    "\n",
    "<category>\n",
    "    <pattern> CALCULATE * </pattern>\n",
    "    <template>\n",
    "        <think>\n",
    "            <set name=\"runquery\"><get name=\"openURLCommand\"/> http://www.google.co.uk/search?q=<star/></set>\n",
    "        </think>\n",
    "        If the tab does not open, here is a clickable link <get name=\"runquery\"/>\n",
    "        <system><get name=\"runquery\"/></system>\n",
    "    </template>\n",
    "</category>\n",
    "\n",
    "</aiml>"
   ]
  },
  {
   "cell_type": "markdown",
   "metadata": {},
   "source": [
    "### Now try these out by running the next cell \n",
    "**On your own machine** these should:\n",
    "- open a new tab, and \n",
    "- produce a hyperlink in the chat window.\n",
    "\n",
    "**If you are using the csctcloud server**  then \n",
    "- you will still get the hyperlink in the chat window, which should open a new tab in your browser when you click on it. \n",
    "- but for security reasons it's harder to (or Jim doesn't know how to) make a remote machine (csctcloud) open a tab in your browser\n",
    "</div>"
   ]
  },
  {
   "cell_type": "code",
   "execution_count": null,
   "metadata": {},
   "outputs": [],
   "source": [
    "myChatbot.learn(\"web_extensions.aiml\")\n",
    "myChatbot.verbose(True)\n",
    "\n",
    "keepGoing=True\n",
    "while(keepGoing):\n",
    "    nextInput = input(\"Enter your message >> \")\n",
    "    if(nextInput=='bye'):\n",
    "        keepGoing=False\n",
    "    else:\n",
    "        print (myChatbot.respond(nextInput))\n",
    "\n",
    "\n"
   ]
  },
  {
   "cell_type": "markdown",
   "metadata": {},
   "source": [
    "<div class = \"alert alert-block alert-info\"><b>Congratulations:</b>  You have now taken the first steps to personalising a bot.<br>\n",
    "Below are some suggestions for things that you could do in your self-study activities.</div>"
   ]
  },
  {
   "cell_type": "markdown",
   "metadata": {},
   "source": [
    "## Activity 1.3 Suggestions for further work\n",
    "\n",
    "Below are some suggestions for things that you could do in the remaining tutorial time or in your self-study activities.\n",
    "\n",
    "You should aim to complete at least one of them.\n",
    "\n",
    "1. Extend the categories above to link to other sources beyond google and wikipedia.\n",
    "2. Refactor the AIML categories above, to make a logical distinction between \n",
    " - the category that formulates the query, and \n",
    " - the category that runs the query on the host system.  \n",
    " - You could do this using `<think>` to make and save a query for different services,  \n",
    "   and then use `<srai>` to call  a second category that ran the query and deals with the operating system.\n",
    " This should allow you to change things more flexibly in the future. \n",
    "  \n",
    "3. Use the function myChatBot.setPredicate() to give your bot a name and personality, and write categories that answer user questions about the bot.\n",
    "4. Make 2 bot instances with different names and see if you can get them talking to each other!\n",
    "\n"
   ]
  },
  {
   "cell_type": "markdown",
   "metadata": {},
   "source": [
    "# Tutorial Activity 2:  20 minutes: Setting up your toolchain for the coursework.\n",
    "\n",
    "**If you set up the coursework last week skip to the next cell**\n",
    "\n",
    "1. If you have not already done so, create a new folder to store your first coursework code in.\n",
    "2. Go to the assessments folder on Blackboard\n",
    "and download these files into your coursework folder:\n",
    " - 1cat.aiml\n",
    " - AIML_Coursework_marker.ipynb\n",
    " - coursework-questions-and-responses.txt\n",
    "   \n",
    "3. Make a copy of the file 1cat.aiml with the name \"student.aiml\".  \n",
    " - by default the marking code will load your coursework from \"student.aiml\".  \n",
    "   However, you will find instructions on how to change this within the notebook.\n",
    "4. Run the notebook to test your toolchain, noting that: \n",
    " - The marking system will tell you how many categories have been loaded, so you can check if your aiml file loaded as expected.\n",
    " - The file 1cat.aiml only has one category in and should score 1 mark.\n",
    " - There is a debug flag set to False.   Changing this to True will give you more feedback.\n",
    " - The marks and feedback you will get from the 'official' system are enclosed in xml tag-pairs ( &lt;SCORE&gt; and &lt;MESSAGE&gt; respectively).\n",
    " - The system creates a file student-results.txt which tells you question-by-question what the expected response was,  and what your bot responded.\n",
    " - **The marking system will randomise the question order every time** ( except the 3 questions that require context)\n",
    " "
   ]
  },
  {
   "cell_type": "markdown",
   "metadata": {},
   "source": [
    "<div class=\"alert alert-block alert-danger\"> Please save your work (click the save icon) then shutdown the notebook when you have finished with this tutorial (menu->file->close and shutdown notebook</div>\n",
    "\n",
    "<div class=\"alert alert-block alert-danger\"> Remember to download and save your work if you are not running this notebook locally.</div>"
   ]
  },
  {
   "cell_type": "code",
   "execution_count": null,
   "metadata": {},
   "outputs": [],
   "source": []
  }
 ],
 "metadata": {
  "kernelspec": {
   "display_name": "AIenv",
   "language": "python",
   "name": "aienv"
  },
  "language_info": {
   "codemirror_mode": {
    "name": "ipython",
    "version": 3
   },
   "file_extension": ".py",
   "mimetype": "text/x-python",
   "name": "python",
   "nbconvert_exporter": "python",
   "pygments_lexer": "ipython3",
   "version": "3.8.2"
  }
 },
 "nbformat": 4,
 "nbformat_minor": 4
}
