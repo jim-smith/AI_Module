{
 "cells": [
  {
   "cell_type": "markdown",
   "metadata": {},
   "source": [
    "# Workbook 1: Setting up jupyter and writing your first notebook\n",
    "\n",
    "If you are seeing this in your browser it means that you have successfully downloaded and run this notebook within your Jupiter environment.\n",
    "\n",
    "You should have watched the videos that explain how a note book works, and what the different types of cells are.\n",
    "\n",
    "If you haven't done that, here are the links:\n",
    "\n",
    "https://fetstudy.uwe.ac.uk/~rgwynlly/modules_3/tpms1/content/0-getting_started/index.html\n",
    "\n",
    "- Please take the time to watch these videos and run through the three simple examples.\n",
    "- it is important to understand the effect of running and re-running different cells, and the order that you do that.\n",
    "\n",
    "This particular cell is a 'markdown' cell which we can use to show text on screen. \n",
    "- markdown cells are very useful to keep a record of what you are doing.\n",
    "\n",
    "You are now ready to start doing some coding.\n",
    "\n",
    "- What we are going to do start off with is to begin by creating a nice simple chat bot that will answer some trivial questions.\n",
    "- You're going to edit this chatbot within your Jupiters environment so that it can  answer different questions. \n",
    "- After that you will do some exercises finding out some useful things about the model and code them in AIML.\n",
    "- that should make your chatbot  answer them for you.\n"
   ]
  },
  {
   "cell_type": "markdown",
   "metadata": {},
   "source": [
    "## What next the next cell does\n",
    "- the first line tells python to import two libraries:\n",
    " - one called 'aiml' which provides the functionality required by the AIML chatbot language.\n",
    " - and the second contains the multiple choice questions you will do later\n",
    "- the second line create the chatbot itself as a variabel called 'myChatbot'"
   ]
  },
  {
   "cell_type": "code",
   "execution_count": 1,
   "metadata": {},
   "outputs": [],
   "source": [
    "import aiml,  workbook1_mcq1\n",
    "\n",
    "# Create the kernel and learn AIML files\n",
    "myChatbot = aiml.Kernel()"
   ]
  },
  {
   "cell_type": "markdown",
   "metadata": {},
   "source": [
    "## The next cell is where we will edit and save the knowledge base for our chatbot \n",
    "\n",
    "The first line starts with the symbols %% and is called a 'Magic'\n",
    "- Magics are a very handy way for a notebook to make calls outside the kernel\n",
    "- in this case it invokes a function called 'writefile' and whenever the cell runs, the contents from line 2 onwards are written into a file called myFirstChatbot.aiml\n",
    " - you should see this file appearing in the directory you are working in.\n",
    " - and when you edit the next cell and re-run it,  you should be able to see that the saved file changes.\n",
    " \n",
    "The rest of the file is in aiml - a form of xml. It saves your knowledge in the form of \"categories\" which represent rules.  \n",
    "Each category contains some basic parts:\n",
    " - A **pattern** - the exact form of words that the chatbot recognises to trigger the rule.\n",
    " - A **template** which is the output of the rule.\n",
    " \n",
    " - Each part is started and finished with a tag pair in angled brackets <> - just like html.\n",
    " \n",
    " - This example also displays how we can use the keyword tag-pair **random** , enclosing a list of <li> elements.\n",
    "    - We can **only** use a random list within a **template** \n",
    "    - It tells the chatbot to pick one of the list items at random as its output.\n",
    "    \n",
    "    \n",
    "    "
   ]
  },
  {
   "cell_type": "code",
   "execution_count": 2,
   "metadata": {},
   "outputs": [
    {
     "name": "stdout",
     "output_type": "stream",
     "text": [
      "Overwriting myFirstChatbot.aiml\n"
     ]
    }
   ],
   "source": [
    "%%writefile myFirstChatbot.aiml\n",
    "<aiml version=\"1.0.1\" encoding=\"UTF-8\">\n",
    "<!-- basic_chat.aiml -->\n",
    "\n",
    " <category>\n",
    "    <pattern> FOO * </pattern>\n",
    "    <template> <srai> <star/> </srai> </template>\n",
    "    </category>\n",
    "\n",
    "    <category>\n",
    "        <pattern>HELLO</pattern>\n",
    "        <template>\n",
    "            Well, hello!\n",
    "        </template>\n",
    "    </category>\n",
    "    \n",
    "    <category>\n",
    "        <pattern>WHAT ARE YOU</pattern>\n",
    "        <template>\n",
    "            I'm a bot, silly!\n",
    "        </template>\n",
    "    </category>\n",
    "    \n",
    "    <category>\n",
    "        <pattern> IS THIS ALL THERE IS</pattern>\n",
    "        <template> I AM AFRAID SO </template>\n",
    "    </category>\n",
    "    \n",
    "    <category>\n",
    "        <pattern> do you have any suggestions for improving this </pattern>\n",
    "        <template> \n",
    "            <random>\n",
    "            <li> use ipywidgets to make the user interface fancier</li>\n",
    "            <li> finding a way of making the system show a trece of what it has matched and why for an input </li>\n",
    "            \n",
    "            </random>\n",
    "        </template>\n",
    "    </category>\n",
    "    \n",
    "    <category>\n",
    "        <pattern> WHAT IS LEFT </pattern>\n",
    "        <template> \n",
    "            <srai> IS THIS ALL THERE IS </srai> \n",
    "        </template>\n",
    "    \n",
    "    </category>\n",
    "    \n",
    "    <category>\n",
    "        <pattern> WHAT IS YOUR NAME</pattern>\n",
    "        <template> MY NAME IS UWE-BOT</template>\n",
    "    </category>\n",
    "    \n",
    "    <category>\n",
    "        <pattern> DO NOT PRETEND YOU ARE HUMAN </pattern>\n",
    "        <template> IT WAS WORTH A TRY </template>\n",
    "    </category>    \n",
    "            \n",
    "    \n",
    "</aiml>\n",
    "\n",
    "\n"
   ]
  },
  {
   "cell_type": "markdown",
   "metadata": {},
   "source": [
    "## Next we will tell the chatbot to learn what we have coded, and then present an interactive dialogue\n",
    "\n",
    "- Lines 1-3 load the chatbot and print out how many categories it has learned\n",
    " \n",
    "- Then we declare a variable called 'keep going' that we will use to finish our chat session\n",
    " \n",
    "- Finally we go into a while loop:\n",
    " - asking for an input.\n",
    " - checking if the user wants to finish.\n",
    " - otherwise:\n",
    "  - trying to provide an answer to what you type.\n",
    "  - and then moving on to the next input"
   ]
  },
  {
   "cell_type": "code",
   "execution_count": 3,
   "metadata": {},
   "outputs": [
    {
     "name": "stdout",
     "output_type": "stream",
     "text": [
      "Loading myFirstChatbot.aiml...done (0.01 seconds)\n",
      "Successfuly loaded 8 categories\n"
     ]
    },
    {
     "name": "stdin",
     "output_type": "stream",
     "text": [
      "Enter your message >>  \n"
     ]
    },
    {
     "name": "stdout",
     "output_type": "stream",
     "text": [
      "\n"
     ]
    },
    {
     "name": "stdin",
     "output_type": "stream",
     "text": [
      "Enter your message >>  \n"
     ]
    },
    {
     "name": "stdout",
     "output_type": "stream",
     "text": [
      "\n"
     ]
    },
    {
     "name": "stdin",
     "output_type": "stream",
     "text": [
      "Enter your message >>  bye\n"
     ]
    }
   ],
   "source": [
    "myChatbot.learn(\"myFirstChatbot.aiml\")\n",
    "myChatbot.verbose(True)\n",
    "print( \"Successfuly loaded {} categories\".format(myChatbot.numCategories()))\n",
    "\n",
    "#type stop to end the chat session\n",
    "keepGoing = True\n",
    "\n",
    "while keepGoing:\n",
    "    nextInput = input(\"Enter your message >> \")\n",
    "    if(nextInput == 'bye'):\n",
    "        keepGoing = False\n",
    "    else:\n",
    "        print (myChatbot.respond(nextInput))"
   ]
  },
  {
   "cell_type": "markdown",
   "metadata": {},
   "source": [
    "## Task 1: Experiment to find out how the chatbot preprocesses your input\n",
    "\n",
    "You may have noticed that the patterns on the catoegories are all in upper case. \n",
    "\n",
    "Internally, the chatbot 'pre-processes' your input before it tries to match it.\n",
    "\n",
    "**Task 1** Experiment with using lower and upper case, and different punctuation, to see if you can work out what is happening.\n",
    "Then run the cells below to answer some questions on what you hve learned\n"
   ]
  },
  {
   "cell_type": "code",
   "execution_count": 4,
   "metadata": {
    "code_folding": [
     1
    ]
   },
   "outputs": [
    {
     "data": {
      "application/vnd.jupyter.widget-view+json": {
       "model_id": "87e2e98bff0e4475bf711003dbf8ca77",
       "version_major": 2,
       "version_minor": 0
      },
      "text/plain": [
       "VBox(children=(Output(outputs=({'name': 'stdout', 'text': 'Does it make a difference whether you use upper or …"
      ]
     },
     "metadata": {},
     "output_type": "display_data"
    }
   ],
   "source": [
    "\n",
    "display(workbook1_mcq1.Q1)\n"
   ]
  },
  {
   "cell_type": "code",
   "execution_count": 5,
   "metadata": {},
   "outputs": [
    {
     "data": {
      "application/vnd.jupyter.widget-view+json": {
       "model_id": "ba2667c1c113472497172e985cde04c7",
       "version_major": 2,
       "version_minor": 0
      },
      "text/plain": [
       "VBox(children=(Output(outputs=({'name': 'stdout', 'text': 'Does it make a difference if you have a comma in th…"
      ]
     },
     "metadata": {},
     "output_type": "display_data"
    }
   ],
   "source": [
    "display (workbook1_mcq1.Q2)"
   ]
  },
  {
   "cell_type": "code",
   "execution_count": 6,
   "metadata": {},
   "outputs": [
    {
     "data": {
      "application/vnd.jupyter.widget-view+json": {
       "model_id": "a10dff1ab9024bbea6bb025fa43cf78d",
       "version_major": 2,
       "version_minor": 0
      },
      "text/plain": [
       "VBox(children=(Output(outputs=({'name': 'stdout', 'text': 'Does it make a difference if you put a full stop in…"
      ]
     },
     "metadata": {},
     "output_type": "display_data"
    }
   ],
   "source": [
    "display(workbook1_mcq1.Q3)"
   ]
  },
  {
   "cell_type": "code",
   "execution_count": 7,
   "metadata": {},
   "outputs": [
    {
     "data": {
      "application/vnd.jupyter.widget-view+json": {
       "model_id": "3b5039e7e2374e469e3b600c2187d6ef",
       "version_major": 2,
       "version_minor": 0
      },
      "text/plain": [
       "VBox(children=(Output(outputs=({'name': 'stdout', 'text': 'Does it make a difference if you you put a question…"
      ]
     },
     "metadata": {},
     "output_type": "display_data"
    }
   ],
   "source": [
    "display(workbook1_mcq1.Q4)"
   ]
  },
  {
   "cell_type": "code",
   "execution_count": 8,
   "metadata": {},
   "outputs": [
    {
     "data": {
      "application/vnd.jupyter.widget-view+json": {
       "model_id": "977c058a8d494e9c9862cd3320a93275",
       "version_major": 2,
       "version_minor": 0
      },
      "text/plain": [
       "VBox(children=(Output(outputs=({'name': 'stdout', 'text': 'Does it make a difference if you have a comma at th…"
      ]
     },
     "metadata": {},
     "output_type": "display_data"
    }
   ],
   "source": [
    "display(workbook1_mcq1.Q5)"
   ]
  },
  {
   "cell_type": "code",
   "execution_count": 9,
   "metadata": {},
   "outputs": [
    {
     "data": {
      "application/vnd.jupyter.widget-view+json": {
       "model_id": "a108a203152a4b2ab0663a28a14b6985",
       "version_major": 2,
       "version_minor": 0
      },
      "text/plain": [
       "VBox(children=(Output(outputs=({'name': 'stdout', 'text': 'Does it make a difference if you put a full stop at…"
      ]
     },
     "metadata": {},
     "output_type": "display_data"
    }
   ],
   "source": [
    "display(workbook1_mcq1.Q6)"
   ]
  },
  {
   "cell_type": "code",
   "execution_count": 10,
   "metadata": {},
   "outputs": [
    {
     "data": {
      "application/vnd.jupyter.widget-view+json": {
       "model_id": "5629a10919244f7892bda1afef4cb7bc",
       "version_major": 2,
       "version_minor": 0
      },
      "text/plain": [
       "VBox(children=(Output(outputs=({'name': 'stdout', 'text': 'Does it make a difference if you you put a question…"
      ]
     },
     "metadata": {},
     "output_type": "display_data"
    }
   ],
   "source": [
    "display(workbook1_mcq1.Q7)"
   ]
  },
  {
   "cell_type": "code",
   "execution_count": 11,
   "metadata": {},
   "outputs": [
    {
     "data": {
      "application/vnd.jupyter.widget-view+json": {
       "model_id": "e61b3edf94c34777a25df1ffae41b985",
       "version_major": 2,
       "version_minor": 0
      },
      "text/plain": [
       "VBox(children=(Output(outputs=({'name': 'stdout', 'text': 'What happens if you enclose some of your input in q…"
      ]
     },
     "metadata": {},
     "output_type": "display_data"
    }
   ],
   "source": [
    "display(workbook1_mcq1.Q8)"
   ]
  },
  {
   "cell_type": "code",
   "execution_count": 12,
   "metadata": {},
   "outputs": [
    {
     "data": {
      "application/vnd.jupyter.widget-view+json": {
       "model_id": "60cad1750ee746a09b272817ea5309b9",
       "version_major": 2,
       "version_minor": 0
      },
      "text/plain": [
       "VBox(children=(Output(outputs=({'name': 'stdout', 'text': \"What happens to contractions such as what's your na…"
      ]
     },
     "metadata": {},
     "output_type": "display_data"
    }
   ],
   "source": [
    "display(workbook1_mcq1.Q9)"
   ]
  },
  {
   "cell_type": "markdown",
   "metadata": {},
   "source": [
    "# Debugging your chatbot:\n",
    "\n",
    "Debugging chatbots, like any other complex rule -based system, can be tricky.\n",
    "Some tools (especially pandorabotrs) provide you with more help than this python implentation does.\n",
    "\n",
    "From more than ten years experience teaching students AIML,  the main things to look out for are:\n",
    "- punctuation in your input\n",
    "- punctuation in patterns for categories you write.\n",
    "\n",
    "## Thought exercise:  will the pattern below ever get matches?\n",
    "\n",
    "&lt;category&gt;  \n",
    "    &lt; pattern> WILL THIS BE MATCHED ? &lt;/pattern&gt;  \n",
    "    &lt;template&gt; Try it and come up with an explanation. &lt;/template&gt;  \n",
    " &lt;/category>     \n"
   ]
  },
  {
   "cell_type": "markdown",
   "metadata": {},
   "source": [
    "## Task 2: Adding information to your chatbot\n",
    "\n",
    "### It's time for you to start coding your first knowledge into a chatbot.\n",
    " - Answers to the  following questions can all be found in the module blackboard site.\n",
    " - We suggest that you just copy-paste-edit  the first simple category in the AIML cell above to make your bot answer the questions\n",
    " \n",
    "1. When is the coursework submission deadline?\n",
    "2. What is the name of the automated marking and feedback system?\n",
    "3. How many Learning Outcomes does this module have?\n",
    " \n",
    "### Don't forget \n",
    " - stop your current bot session by typing bye before you edit the AIML cell\n",
    " - run the aiml cell once you have edited it\n",
    " - then rerun the cell with the bot in it\n",
    " - if you get really stuck you can do Kernel-> 'Restart and Clear Output' from the notebook menu\n"
   ]
  },
  {
   "cell_type": "code",
   "execution_count": null,
   "metadata": {},
   "outputs": [],
   "source": []
  },
  {
   "cell_type": "code",
   "execution_count": null,
   "metadata": {},
   "outputs": [],
   "source": []
  }
 ],
 "metadata": {
  "kernelspec": {
   "display_name": "Python 3",
   "language": "python",
   "name": "python3"
  },
  "language_info": {
   "codemirror_mode": {
    "name": "ipython",
    "version": 3
   },
   "file_extension": ".py",
   "mimetype": "text/x-python",
   "name": "python",
   "nbconvert_exporter": "python",
   "pygments_lexer": "ipython3",
   "version": "3.6.2"
  }
 },
 "nbformat": 4,
 "nbformat_minor": 4
}
