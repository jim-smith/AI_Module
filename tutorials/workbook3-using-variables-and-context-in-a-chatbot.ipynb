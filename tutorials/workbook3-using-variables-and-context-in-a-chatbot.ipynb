{
 "cells": [
  {
   "cell_type": "markdown",
   "metadata": {},
   "source": [
    "# Artificial Intelligence 1 Week 3 Practical\n",
    "### Goals\n",
    "This session is split into two parts.\n",
    "\n",
    "The first activity is designed  to give you practical experience of using wildcards and `<that>` tags to embed long-term knowledge and context within your chatbot.  **You will need these skills to pass the coursework**.\n",
    "\n",
    "The second activity gives you a chance to see the specification for the first bit of coursework: the questions your bot has to answer and the marking scheme.\n",
    "\n",
    "\n",
    "### By the end of this session you should have\n",
    "- Successfully used the AIML constructs `*` `_`, `<srai>`, and `<star/>` tags to make general statements about language (how people ask questions).\n",
    "- Successfully used `<that>` tags to give let your bot respond in the context of a dialogue.\n",
    "- Understood what you need to do for the first piece of coursework.\n",
    "- Downloaded and run the marking programme to check you can test your knowledge-base before submission.\n",
    "\n",
    "### Before next week you should have\n",
    "- Expanded your revision chatbot so it can the same question asked in different ways about each of the facts you have stored.   \n",
    "- Expanded the domain-specific knowledge contents of your revision bot with definitions and examples for all the other key concepts covered so far.\n",
    "\n",
    "### Additional Resources\n",
    "- Pandorabots (www.pandorabots.com) offers free sign-in and hosts a web-based interface for authoring bots.   \n",
    "   Once you start doing more complex things, the feedback on what is happening as your queries are processed  is a little better than the python aiml version.  \n",
    "   But some students have found the text preprocessing is  different to the 'official reference' version we use for the marking system.\n",
    "- Program-y is a fully featured AIML2-compliant python-based system with clients for twitter, etc. \n",
    "   You might like to try developing your AIML in pandorabots then importing it into these jupyter notebooks.\n",
    "   \n",
    "   \n",
    "- Good places to look for help with AIML syntax are: \n",
    " - [Pandorabots AIML-Fundaments](https://www.pandorabots.com/docs/aiml-fundamentals)\n",
    " - [Pandorabots AIML reference - for syntax](https://www.pandorabots.com/docs/aiml-reference/)\n",
    " - [The official AIML site](http://www.aiml.foundation/doc.html)\n",
    "\n",
    "<div class=\"alert alert-block alert-warning\"> <b>REMEMBER:</b> Because it is much more lightweight, in class we are using the python-aiml package. <br>This is only AIMLv1-compliant, and  does not support all the features of AIMLv2. </div>\n",
    "\n",
    "<div class=\"alert alert-block alert-danger\"> <b>REMEMBER:</b> IF you are running the notebooks on the cloud server you need to click on the kernel menu and then change-kernel to'AIenv'.<br>\n",
    "IF you are running locally AND you created a virtual environment in Jupyter click on the kernel menu then change-kernel OR in VSCode use the kernel selector in the top-right hand corner.\n",
    "</div>"
   ]
  },
  {
   "cell_type": "markdown",
   "metadata": {},
   "source": [
    "# Tutorial Activity 1 (~15mins): Identifying knowledge about language\n",
    "\n",
    "Chatbots can store knowledge about the equivalence of all sorts of things,  but the most useful is storing knowledge about different ways of saying the same thing.\n",
    "\n",
    "Last week we asked you to:\n",
    "- Practice using `srai` to do a one-to-one mapping (e.g. 'Hello there\" <=> \"Greetings\") \n",
    "- Identify some key concepts from the lectures and embed the definitions as categories in your bot's knowledge base\n",
    "- Think about different ways of asking the same question\n",
    "\n",
    "Now we want you to write down a list of 5 different ways of:\n",
    "- asking for a definition of X\n",
    "- asking what the bot's favourite Y is.\n",
    "\n",
    "The reason for doing this is so that we only have to  store once each definition \n",
    "(for different values of X) or type of thing (for different values of Y: film, book, football team,...)\n",
    "- this makes the knowledge base smaller, and  much easier to maintain and keep consistent"
   ]
  },
  {
   "cell_type": "markdown",
   "metadata": {},
   "source": [
    "# Tutorial Activity 2: Editing your  chatbot to embed knowledge about language\n",
    "\n",
    "## 2.1 Start with a simple  knowledge base of some definitions\n",
    "Last week we asked you to identify some definitions of concepts from the lectures.\n",
    "\n",
    "Edit  the first cell below to include your definitions in a knowledge base, then run the cell to store the knowledge in a file as long-term knowledge.\n",
    "- You must include on  the first line: `%%writefile \"AI-Definitions-Chatbot.aiml\"`\n",
    " -  This is jupyter \"magics\" to save the cell contents as a text file when you run it.\n",
    " -  You could change the name of the file if you like, \n",
    " -  but then you have to change the second cell to tell the bot which file to read.\n",
    "- The second line tells the interpreter that is is AIML and how it is encoded\n",
    " - you should only have this line once\n",
    "  - and you must keep the final line (`</aiml>` to close the aiml tag-pair\n",
    "\n",
    "If you completed that work,  you could simply coopy-past your AIML into the cell below.\n",
    "\n",
    "If you missed that work I've given you two simple categories to start with.\n"
   ]
  },
  {
   "cell_type": "code",
   "execution_count": null,
   "metadata": {},
   "outputs": [],
   "source": [
    "%%writefile \"AI-Definitions.aiml\"\n",
    "<aiml version=\"1.0.1\" encoding=\"UTF-8\">\n",
    "\n",
    "\n",
    "<category>\n",
    "  <pattern> WHAT IS AN ONTOLOGY</pattern>\n",
    "  <template> An ontology is a collection of meta-knowledge about a domain</template>\n",
    "</category>\n",
    "\n",
    "<category> \n",
    "  <pattern>WHAT IS A TRANSITIVE RELATIONSHIP </pattern>\n",
    "<template> A transitive realtionship R is one where if we can assert that if aRb and bRc then we can infer that aRc </template>\n",
    "</category>\n",
    "\n",
    "<!--\n",
    "anything between these two lines is a comment\n",
    "so this line is a comment too\n",
    "-->\n",
    "\n",
    "</aiml>"
   ]
  },
  {
   "cell_type": "markdown",
   "metadata": {},
   "source": [
    "## Now run the cell below to load that file and chat about those definitions\n",
    "- don't forget to type 'bye' to end the chat\n",
    "\n",
    "### Debugging hints\n",
    "- The code you are given  will tell you how many categories it has loaded successfully - this should match how many you have written.\n",
    "-  Remember to end each chat session with 'bye'\n",
    " - if things seem 'stuck' (the circle next to the kernel name \"python 3\" is filled ), you can use the square 'stop' button to stop python.\n",
    "- If you get errors when you try to run the bot, you can comment out parts of your code to isolate the problem.\n",
    " - The first code cell includes an example of the symbols to use to start and end  to make multi-line comments.\n",
    "- When writing your patterns, remember your input will be changed into capitals and have punctuation removed.\n",
    " - **So if you use lower-case in a pattern, that category will never be matched.**\n",
    "\n",
    "<div class=\"alert alert-block alert-warning\"> <b>Remember:</b> When editing you have to: \n",
    "    <ul> <li>Stop the chat by typing 'bye'</li>\n",
    "        <li> Re-run the cell wit the aiml in to write your edits to file </li>\n",
    "        <li> Then rerun the chatbot cell</li></ul></div>"
   ]
  },
  {
   "cell_type": "code",
   "execution_count": null,
   "metadata": {},
   "outputs": [],
   "source": [
    "# Run this cell to create and chat with your bot\n",
    "import aiml\n",
    "\n",
    "# Create the kernel and learn AIML files\n",
    "myChatbot = aiml.Kernel()\n",
    "myChatbot.learn(\"AI-Definitions.aiml\")\n",
    "myChatbot.verbose(True)\n",
    "print( \"Successfuly loaded {} categories\".format(myChatbot.numCategories()))\n",
    "print(\" Is this the number you expected?\")\n",
    "\n",
    "#type bye to end the chat session\n",
    "keepGoing = True\n",
    "\n",
    "while keepGoing:\n",
    "    nextInput = input(\"Enter your message >> \")\n",
    "    if(nextInput == 'bye'):\n",
    "        keepGoing = False\n",
    "    else:\n",
    "        print (myChatbot.respond(nextInput))"
   ]
  },
  {
   "cell_type": "markdown",
   "metadata": {},
   "source": [
    "## Activity 2.2: Now create a new AIML file holding your knowledge about language\n",
    "\n",
    "To make this knowledge general we want to be able to say things like\n",
    ">  Hello X is the same as Hi X  \n",
    ">  whatever the name X is\n",
    "\n",
    "To do this we use:\n",
    "- a wildcard `*` in the pattern,\n",
    "- a `<srai>` tag pair in the template to redirect the chatbot to another category,\n",
    "- a `<star/>` tag inside the `<srai>` to pass whatever the wildcard matched onto the *target* category.\n",
    "\n",
    "The example below shows how to set it up for target categories that answer a single question.\n",
    "1. Run this cell, then the code cell below, using different ways to ask the bot what colour apples, limes and oranges are.\n",
    "2. Use this example to help you code up the equivalent ways of asking a question that you identified in Activity 1."
   ]
  },
  {
   "cell_type": "code",
   "execution_count": null,
   "metadata": {},
   "outputs": [],
   "source": [
    "%%writefile \"Language-Equivalents.aiml\"\n",
    "<aiml version=\"1.0.1\" encoding=\"UTF-8\">\n",
    "\n",
    "\n",
    "<category>\n",
    "  <pattern> TELL ME WHAT COLOUR * ARE</pattern>\n",
    "  <template> <srai> WHAT COLOUR ARE <star/> </srai></template>\n",
    "</category>\n",
    "\n",
    "<category> \n",
    "  <pattern>WHAT COLOUR ARE APPLES </pattern>\n",
    "<template> Apples are either green, red, or a mixture </template>\n",
    "</category>\n",
    "\n",
    "<category> \n",
    "  <pattern>WHAT COLOUR ARE LIMES </pattern>\n",
    "<template> Limes are green. </template>\n",
    "</category>\n",
    "\n",
    "</aiml>"
   ]
  },
  {
   "cell_type": "markdown",
   "metadata": {},
   "source": [
    "### Adding the new knowledge base to your chatbot and testing it\n",
    "Now run the cell below, noting that:\n",
    "- we don't create a new chatbot\n",
    "- instead we ask it to *add* the knowledge base in your Language-Equivalents file"
   ]
  },
  {
   "cell_type": "code",
   "execution_count": null,
   "metadata": {},
   "outputs": [],
   "source": [
    "# Run this cell to load your new knowledge into the bot and chat with it\n",
    "\n",
    "myChatbot.learn(\"Language-Equivalents.aiml\")\n",
    "myChatbot.verbose(True)\n",
    "print( \"The bot now has {} categories\".format(myChatbot.numCategories()))\n",
    "print(\" Is this the number you expected?\")\n",
    "\n",
    "#type bye to end the chat session\n",
    "keepGoing = True\n",
    "\n",
    "while keepGoing:\n",
    "    nextInput = input(\"Enter your message >> \")\n",
    "    if(nextInput == 'bye'):\n",
    "        keepGoing = False\n",
    "    else:\n",
    "        print (myChatbot.respond(nextInput))"
   ]
  },
  {
   "cell_type": "markdown",
   "metadata": {},
   "source": [
    "<div class = \"alert alert-block alert-info\"><b>Congratulations:</b>  You have now taken the first steps to creating a generalised knowledge base.<br> <b>Hint1:</b> using wildcards, &lt;srai&gt; and &lt;star/&gt; is a good way to improve your coursework mark.<br><b> In your own time</b> try using &lt;condition&gt; tag pairs to put the answers for the colour of apples and limes into a single category <br><b> Hint 2:</b> Using this idea will further reduce the size of your knowledge base </div>"
   ]
  },
  {
   "cell_type": "markdown",
   "metadata": {},
   "source": [
    "# Tutorial Activity 3:  Embedding historical context using `<that>`\n",
    "\n",
    "In natural language we often say things that only make sense in the context of the previous dialogue - for example the word *it* in the dialogues below.\n",
    "> What is this module about?  \n",
    "> Artificial Intelligence  \n",
    "> Does it have ethical issues?  \n",
    "> Yes, there are risks of introducing bias against some groups of people.\n",
    "\n",
    "> What are you eating?  \n",
    "> An apple  from my garden.  \n",
    "> Does it have ethical issues?  \n",
    "> No, it's just a piece of fruit\n",
    "\n",
    "AIML `<that>` tag pairs let us use refer to the last thing that the bot said - effectively we add a second condition to the matching process.\n",
    "- `<that> THING TO MATCH</that>` goes between the `<pattern>   </pattern>` and the `<template> </template>` parts of the category\n",
    "- We can also use the `<that/>` tag inside a template to repeat the last thing we the bot said\n",
    " - note that like `<star/>`, this is a single tag rather than a tag-pair enclosing contents\n",
    "   in this case the backslash comes at the end. \n",
    "- Note that the text inside the &lt;that&gt; tags should be in upper case and without its punctuation.\n",
    "   \n",
    "### Activity 3.1\n",
    "Read the code in the cells below then run them and make sure you understand what is happening\n",
    "\n",
    "Then add one or more categories  to tell your own favourite (bad) joke. (remember these must be inoffensive)\n"
   ]
  },
  {
   "cell_type": "code",
   "execution_count": 1,
   "metadata": {},
   "outputs": [
    {
     "name": "stdout",
     "output_type": "stream",
     "text": [
      "Writing badJoke.aiml\n"
     ]
    }
   ],
   "source": [
    "%%writefile \"badJoke.aiml\"\n",
    "<aiml version=\"1.0.1\" encoding=\"UTF-8\">\n",
    "\n",
    "\n",
    "<category>\n",
    "  <pattern> TELL ME A JOKE</pattern>\n",
    "  <template> \n",
    "    <random>\n",
    "      <li> Why did the chicken cross the road?</li>\n",
    "      <li> What do you get when you cross a sheep with a kangaroo?</li>\n",
    "    </random>\n",
    "  </template>\n",
    "</category>\n",
    "\n",
    "<category>\n",
    "  <pattern> I DO NOT KNOW </pattern>\n",
    "  <that>WHY DID THE CHICKEN CROSS THE ROAD</that>\n",
    "  <template> To get to the other side</template>\n",
    "</category>\n",
    "\n",
    "<category>\n",
    "  <pattern> I DO NOT KNOW </pattern>\n",
    "  <that>WHAT DO YOU GET WHEN YOU CROSS A SHEEP WITH A KANGAROO</that>\n",
    "  <template> A woolly jumper</template>\n",
    "</category>\n",
    "\n",
    "<category>\n",
    "  <pattern> I DO NOT KNOW</pattern>\n",
    "  <template> Default answer. Last thing the bot said was:<that/></template>\n",
    "</category>\n",
    "</aiml>"
   ]
  },
  {
   "cell_type": "code",
   "execution_count": null,
   "metadata": {},
   "outputs": [],
   "source": [
    "# the import is not needed,  and will have no effect, when running the whole notebook\n",
    "# but is useful if you want to restart the kernel but not rerun the whole notebook\n",
    "import aiml\n",
    "jokeBot = aiml.Kernel()\n",
    "jokeBot.learn(\"badJoke.aiml\")\n",
    "\n",
    "#type bye to end the chat session\n",
    "keepGoing = True\n",
    "\n",
    "while keepGoing:\n",
    "    nextInput = input(\"Enter your message >> \")\n",
    "    if(nextInput == 'bye'):\n",
    "        keepGoing = False\n",
    "    else:\n",
    "        print (jokeBot.respond(nextInput))"
   ]
  },
  {
   "cell_type": "markdown",
   "metadata": {},
   "source": [
    "### Activity 3.2 Experiment with adding some context to your chatbot \n",
    "Try adding some context to the bot you created in activity 2.1.\n",
    "\n",
    "Specifically, with the idea of **Accountability** in mind, add **provenance** to your assertions.\n",
    " \n",
    "1. Think of the different places you could have got knowledge from (my lectures / wikipedia, textbook).\n",
    "2. Identify two of your facts (categories) that had different sources.\n",
    "3. Edit the first code cell in activity 2.1 to add categories  to answer the questions \"How do you know\" and \"Who told you\"\n",
    "4. Re run the second code cell in Activity 2.1 to make sure that your code works as intended.\n"
   ]
  },
  {
   "cell_type": "markdown",
   "metadata": {},
   "source": [
    "<div class = \"alert alert-block alert-info\"><b>Congratulations:</b>  You have now taken the first steps to creating a generalised knowledge base that can do more than one-off replies.<br><br><b> In your own time</b> Investigate how  &lt;star&gt; and &lt;that&gt; can refer to more than one match, or the last but *n* sentence using the construct <emph>index=\"n\"<emph> </div>"
   ]
  },
  {
   "cell_type": "markdown",
   "metadata": {},
   "source": [
    "## Activity 4: Introduction to the coursework\n",
    "\n",
    "Your tutor will introduce you to the coursework (it's on Blackboard under the 'Assignments' tab)\n",
    "\n",
    "1. Create a sub-directory of your AI work folder that you use to store your code.\n",
    " - **make sure this is somewhere that is automatically backed up**\n",
    "2. Download the specification file \"coursework-questions-and-responses.txt\" into that folder. \n",
    "3. Download the notebook \"AIML_Coursework_marker.py\" into that folder.\n",
    "4. Download the file \"1cat.aiml\" into that folder.\n",
    "5. Make a copy of 1cat.aiml called student.aiml\n",
    "6. Now open the notebook in jupyter and make sure that it runs\n",
    " - As coded, it will load the test  file \"student.aiml\" , which  just has one category and should score 1 mark.\n",
    " - It should give you output on screen and also produce a file student-results.txt with more detailed feedback in.\n",
    " - Check the output after the 5th cell- this will tell you if your file was parsed correctly.\n",
    " - **Note that every time the marking system runs it asks the question in a different order**  \n",
    "   but it does keep together the 3 questions that naturally follow on from a particular response.  \n",
    "   \n",
    "**There are only two places where you should edit the notebook file**\n",
    "  - If you want to use a different name for your .aiml file you just need to edit line 5 of cell 2    \n",
    "  - In the second cell you can change the value of the 'debug' variables to change how much feedback the system prints out  when it tests your bot.\n",
    "  \n",
    "  \n",
    "<div class=\"alert alert-block alert-warning\"> <b>REMEMBER:</b> Because it is much more lightweight, in class we are using the python-aiml package. <br>This is only AIMLv1-compliant, and  does not support all the features of AIMLv2. </div>\n",
    "\n",
    "<div class=\"alert alert-block alert-danger\"> Please save your work (click the save icon) then shutdown the notebook when you have finished with this tutorial (menu->file->close and shutdown notebook</div>\n",
    "\n",
    "<div class=\"alert alert-block alert-danger\"> Remember to download and save you work if you are not running this notebook locally.</div>"
   ]
  },
  {
   "cell_type": "code",
   "execution_count": null,
   "metadata": {},
   "outputs": [],
   "source": []
  }
 ],
 "metadata": {
  "kernelspec": {
   "display_name": "AIenv",
   "language": "python",
   "name": "aienv"
  },
  "language_info": {
   "codemirror_mode": {
    "name": "ipython",
    "version": 3
   },
   "file_extension": ".py",
   "mimetype": "text/x-python",
   "name": "python",
   "nbconvert_exporter": "python",
   "pygments_lexer": "ipython3",
   "version": "3.8.2"
  }
 },
 "nbformat": 4,
 "nbformat_minor": 4
}
