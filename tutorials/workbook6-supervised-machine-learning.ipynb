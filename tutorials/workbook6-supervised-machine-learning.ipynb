{
 "cells": [
  {
   "cell_type": "code",
   "execution_count": null,
   "metadata": {},
   "outputs": [],
   "source": []
  },
  {
   "cell_type": "markdown",
   "metadata": {
    "cell_style": "split"
   },
   "source": [
    "<div class=\"alert alert-block alert-danger\">\n",
    "TODO change to the  code from lectures and change  progression:\n",
    "    <ol> \n",
    "    <li>  They put the Iris data into the visualisations they made last week but this time using the class labels (provbide rough code ion case they didn;t do last week but encourage thme to use their own)</li>\n",
    "        <li> MCQ's to confirm that one class is seperable, the others are not </li>\n",
    "    <li>  Take my 1-NN code from the lectures, and the k-NN pseudocode and implement kNN for iris</li>\n",
    "    <li> Sanity check: create a nre wclassifier using the sklearn class and verify their results are in the same ball park (not statistically significantly different?)  </li>\n",
    "<li> Wrap-up discussion about comparing algorithms and when it is safe to say methodX is better than method Y. Realte back to disc ussinos in new second week workbook, topical real world - relate to comparison of vaccines, or different treatments for covid\n",
    "    </ol></div>"
   ]
  },
  {
   "cell_type": "markdown",
   "metadata": {},
   "source": [
    "# Workbook 6: Supervised Machine Learning\n",
    "\n",
    "## Description and aims\n",
    "\n",
    "This tutorial is designed to give you your first experience of machine learning in practice by implementing a simple nearest-neighbour classifier.\n",
    "\n",
    "The learning outcomes are:\n",
    "- experience of implementing a classification algorithm\n",
    "- experience of working with a data set, such as:   putting it into a suitable format; visualisation,  checking the test and train set are representative\n",
    "-  experience of working through different preprocessing steps to try and improve the performance of your classifier"
   ]
  },
  {
   "cell_type": "markdown",
   "metadata": {},
   "source": [
    "## Activity 1: Getting to know your data: Group/Individual 10 minutes\n",
    "## CHANGE FROM PLOTLY TO WORKBOOK 5 CODE\n",
    "Splitting data into train and test\n",
    "\n",
    "The attached files contain a dataset in a choice of formats: excel or tab-delimited text.\n",
    "\n",
    "There are 150 examples, each having values for 4 different features.\n",
    "\n",
    "The first steps are to:\n",
    "split the data into a training and a test set:   I suggest 100 training and 50 test.\n",
    "You might find it easiest to do this in excel by cut-pasting a set of rows into a different region of the workbook\n",
    "or you can just save them in to different text files.\n",
    "Use visualisation tools to make sure that both the sets are similar in terms of:\n",
    "The proportion of different classes in each\n",
    "The spread of values for each feature.\n",
    "\n",
    "How to visualise your data:\n",
    "\n",
    "We'll use an online tool called plotly to do this.\n",
    "1. Go to https://plot.ly/create/#/\n",
    "   you should see an area for data in the top right\n",
    "2. Copy and paste your training set data into the tab named 'unnamed grid 1' - just the 4 columns x 100 rows of numerical data,  not the class labels\n",
    "3. click on the +sign to create another tab in the data box - it should create an empty table called unnamed grid 2\n",
    "4.  Copy and paste your  test  set data into the tab named 'unnamed grid 2' -  just  the 4 columns x 50 rows of numerical  data,  not the  class  labels\n",
    "\n",
    "5. Now in the middle pane click the +trace button to add a new trace showing the distribution of values in the training data.  \n",
    "  Click where it says 'scatter'. and change the type to 'violin'\n",
    "  Click on the X box and select 'unnamed grid 1 A'.  leave the Y box blank\n",
    "  This should fill the plot box below with a 'violin' plot that shows the rough distribution of values for feature A of your training set.  The x values are the actual values and the height at different points of the shape shows how frequent those values were.\n",
    "\n",
    "6. Repeat step 5 but this time use the new trace to plot 'unnamed grid 2 A' - the first column of your test data\n",
    "  you should see the two violin plots on the same figure,  so you can compare by eye to make sure they look similar.\n",
    "\n",
    "7. Repeat steps 5-6 for the different features a b c and d "
   ]
  },
  {
   "cell_type": "markdown",
   "metadata": {},
   "source": [
    "## Activity 2: Class Discussion 5 minutes\n",
    "\n",
    "We will have a quick class discussion to share any thoughts about the nature of the data that came up from activity 1.\n",
    "Things to think about:\n",
    "How could we make sure our training and test data sets are both representative?\n",
    "How can we make sure that all our variables take equal importance when we measure distance between two points?\n",
    "What would we have done if we had missing values for variables in some of the data items??"
   ]
  },
  {
   "cell_type": "markdown",
   "metadata": {},
   "source": [
    "<div class=\"alert alert-block alert-danger\"> Please save your work (click the save icon) then shutdown the notebook when you have finished with this tutorial (menu->file->close and shutdown notebook</div>\n",
    "\n",
    "<div class=\"alert alert-block alert-danger\"> Remember to download and save your work if you are not running this notebook locally.</div>## Activity 3: Individual- Coding a k-Nearest Neighbour Classifier in python\n",
    "\n",
    "\n",
    "The main activity for this session is to implement 1-NN in Python and use the training and test sets you have created to test your implementation.\n",
    "\n",
    "There's a two-minute video explaining the algorithm here:  https://www.geeksforgeeks.org/k-nearest-neighbours/\n",
    "\n",
    "Note that like most videos they show a dataset where each example is described by values for just two variables (features).\n",
    "\n",
    "We want code that will work in the more general case where we tell it how many features for reach individual dataset.\n",
    " \n",
    "We also want you to write your code in the form of aq class with a cosntructor, and methods fit() and predict() so it is in the same form as all the modelling classes from sklearn.\n",
    "\n",
    "To save you time the pseudocode for predict using 1-NN is reproduced below.\n",
    "\n",
    "NOTEBOX: \n",
    "\n",
    "\n",
    "###Predict function \n",
    "// Measure distance of new point to existing examples\n",
    "// N is the number of iutems in your training set  \n",
    "array distances[N] \n",
    "For (i=0 TO N) \n",
    "    Set distances[i] = CalculateDistance(newSample, dataset[i]) \n",
    "\n",
    "// Get the one with the smallest value \n",
    "set closest = 0 \n",
    "for (i=0 to N) \n",
    "    if (distances[i] < distances[closest] \n",
    "        set closest = i \n",
    "\n",
    "// Return the label of the closest point as a prediction \n",
    "RETURN datasetlabels[closest] \n",
    "\n",
    "\n",
    "###CalculateDistance (Sample1, Sample2) \n",
    "// This example does Euclidean (straight line) distance \n",
    "set distance = 0 \n",
    "FOR (feature = 0 TO feature = NUM_FEATURES -1) \n",
    "    set difference = Sample1[feature] – Sample2[feature] \n",
    "    set distance = distance + difference * difference \n",
    "set distance = SquareRoot(distance) \n",
    "RETURN Distance\n",
    "\n"
   ]
  },
  {
   "cell_type": "markdown",
   "metadata": {},
   "source": [
    "<div class=\"alert alert-block alert-danger\"> Please save your work (click the save icon) then shutdown the notebook when you have finished with this tutorial (menu->file->close and shutdown notebook</div>\n",
    "\n",
    "<div class=\"alert alert-block alert-danger\"> Remember to download and save your work if you are not running this notebook locally.</div>"
   ]
  },
  {
   "cell_type": "code",
   "execution_count": null,
   "metadata": {},
   "outputs": [],
   "source": []
  }
 ],
 "metadata": {
  "kernelspec": {
   "display_name": "AIenv",
   "language": "python",
   "name": "aienv"
  },
  "language_info": {
   "codemirror_mode": {
    "name": "ipython",
    "version": 3
   },
   "file_extension": ".py",
   "mimetype": "text/x-python",
   "name": "python",
   "nbconvert_exporter": "python",
   "pygments_lexer": "ipython3",
   "version": "3.8.2"
  }
 },
 "nbformat": 4,
 "nbformat_minor": 4
}
