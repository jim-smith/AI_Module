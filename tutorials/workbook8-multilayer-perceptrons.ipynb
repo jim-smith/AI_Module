{
 "cells": [
  {
   "cell_type": "markdown",
   "metadata": {},
   "source": [
    "# Aims of this tutorial\n",
    "The aim of this tutorial is to illustrate how Perceptrons can be combined into Neural Networks to solve problems that are not linearly separable, such as XOR.  \n",
    "We will look at the key differences between the two algorithms and also consider how network architecture and training parameters affects the outcome.\n",
    "\n",
    "## Learning Objectives:\n",
    "1. Understand the key differences between the Neural Network and Perceptron algorithms:\n",
    "- Non-linear activation functions.\n",
    "- Using Backpropagation to update (learn) the weights.\n",
    "2. Understand how different nodes learn different aspects of the problem.\n",
    "\n",
    "3. Consider the need for different network architectures and learning parameters for different problems."
   ]
  },
  {
   "cell_type": "markdown",
   "metadata": {},
   "source": [
    "### Overview:\n",
    "<img src=\"ANN-2-Node.png\" style=\"float:right\">\n",
    "\n",
    "As we have seen, Perceptrons are only capable of solving linearly separable problems.   \n",
    "To overcome this limitation, we can connect Perceptrons together into a network.  \n",
    "Each one becomes a Node in the network, and they are connected together into Layers. \n",
    "\n",
    "In standard Artificial Neural Network (ANN) architecture there is one input, one output and one or more hidden layers.  \n",
    "- Though input layer is a bit misleading, it doesn't actually do any computation, it is just the inputs to the network.\n",
    "- So, outputs of hidden layers become the inputs to subsequent hidden layers, or the final output layer. \n",
    "- Hidden nodes tend to learn different aspects of the problem space, building more complex decision boundaries and are therefore able to solve more complex problems.\n",
    "\n",
    "Note: \n",
    "- The number of nodes in the input layer must equal the number of inputs/features in the data. \n",
    "- The number of output nodes must equal the number of labels/classes in the data. \n",
    "- The number of hidden layers and nodes in the layers is arbitrary, and selecting this architecture is part of building an ANN.\n",
    "\n",
    "Neural Network - Algorithm  \n",
    "Similar to Perceptrons, ANN are trained in two 'phases'. \n",
    "- The forward pass, where data is input into the network to produce an output. \n",
    "- The backward pass, where the error in output is used to update the weights using Backpropagation and Gradient Descent.\n",
    "\n",
    "\n",
    "<img src=\"ann-pseudocode.png\" style=\"float:right\">"
   ]
  },
  {
   "cell_type": "markdown",
   "metadata": {},
   "source": [
    "## Activity 1:Solving XOR\n",
    "As an introduction to the ANN algorithm, and to give you an intuition for how different nodes and layers in the network learn different aspects of the problem space, we are going to look at how a small network can solve the XOR problem.\n",
    "You can open the environment by following the link:\n",
    "https://mybinder.org/v2/gh/NathanDuran/IAI-ML-Notebooks/master?filepath=ann_xor.ipynb\n",
    "The notebook will guide you through the neural network algorithm and the key differences from Perceptrons, activation functions and Backpropagation.\n",
    "Running the code will train an ANN to solve the XOR problem and produces a visualisation to show how different nodes have learned different aspects of the problem to create a more complex decision boundary (in this case different logical functions.\n",
    "\n",
    "You do not need to understand how the graphs/visualisations are produced.\n",
    "\n",
    "You should try and understand what the graphs/visualisations output means.\n",
    "\n",
    "### Activity is to run MLP with one hidden layer and see (through experimentation) how many nodes are needed to relaiably solve x-or"
   ]
  },
  {
   "cell_type": "code",
   "execution_count": 1,
   "metadata": {},
   "outputs": [],
   "source": [
    "import ipywidgets as widgets\n",
    "from ipywidgets import interact, interact_manual\n",
    "import matplotlib.pyplot as plt\n",
    "import numpy as np\n",
    "from random import random\n",
    "%matplotlib inline\n",
    "\n"
   ]
  },
  {
   "cell_type": "code",
   "execution_count": 2,
   "metadata": {},
   "outputs": [],
   "source": [
    "def plotDecisionSurface(model,X,y):\n",
    "    min1, max1 = X[:, 0].min() - 1, X[:, 0].max() + 1 #1st feature\n",
    "    min2, max2 = X[:, 1].min() - 1, X[:, 1].max() + 1 #2nd feature\n",
    "    x1_scale = np.arange(min1, max1, 0.1)\n",
    "    x2_scale = np.arange(min2, max2, 0.1)\n",
    "    x_grid, y_grid = np.meshgrid(x1_scale, x2_scale)\n",
    "    # flatten each grid to a vector\n",
    "    x_g, y_g = x_grid.flatten(), y_grid.flatten()\n",
    "    x_g, y_g = x_g.reshape((len(x_g), 1)), y_g.reshape((len(y_g), 1))\n",
    "    # stack to produce hi-res grid in form like dataset\n",
    "    grid = np.hstack((x_g, y_g))\n",
    "\n",
    "    # make predictions for the grid\n",
    "    y_pred_2 = myMLP.predict(grid)\n",
    "    \n",
    "    #predict the probability\n",
    "    p_pred = myMLP.predict_proba(grid)\n",
    "    # keep just the probabilities for class 0\n",
    "    p_pred = p_pred[:, 0]\n",
    "    # reshaping the results\n",
    "    p_pred.shape\n",
    "    pp_grid = p_pred.reshape(x_grid.shape)\n",
    "\n",
    "    # plot the grid of x, y and z values as a surface\n",
    "    levels=[0.0,0.1,0.2,0.3,0.4,0.5,0.6,0.7,0.8,0.9,1.0]\n",
    "    surface = plt.contourf(x_grid, y_grid, pp_grid, levels,cmap='Pastel1')\n",
    "    plt.colorbar(surface)\n",
    "    # create scatter plot for samples from each class\n",
    "    for class_value in range(2):\n",
    "        # get row indexes for samples with this class\n",
    "        row_ix = np.where(y == class_value)\n",
    "        # create scatter of these samples\n",
    "        plt.scatter(X[row_ix, 0], X[row_ix, 1], cmap='Pastel1')\n",
    "    # show the plot\n",
    "    \n",
    "    \n",
    "#    levels = [-1.5, -1, -0.5, 0, 0.5, 1]\n",
    "#CS3 = ax2.contourf(X, Y, Z, levels,\n",
    "#                   colors=('r', 'g', 'b'),\n",
    "#                   origin=origin,\n",
    "#                   extend='both')"
   ]
  },
  {
   "cell_type": "code",
   "execution_count": 3,
   "metadata": {},
   "outputs": [
    {
     "name": "stdout",
     "output_type": "stream",
     "text": [
      "Training set score: 1.000000\n"
     ]
    },
    {
     "data": {
      "image/png": "[encoded data removed]",
      "text/plain": [
       "<Figure size 432x288 with 1 Axes>"
      ]
     },
     "metadata": {
      "needs_background": "light"
     },
     "output_type": "display_data"
    }
   ],
   "source": [
    "import warnings\n",
    "from sklearn.neural_network import MLPClassifier\n",
    "from sklearn.exceptions import ConvergenceWarning\n",
    "\n",
    "train_X = np.array( [[0,0],[0,1],[1,0],[1,1]])\n",
    "\n",
    "xor_y = np.array([0,1,1,0])\n",
    "or_y=np.array([0,1,1,1])\n",
    "train_y= xor_y\n",
    "# one hidden layer with 10 neurons logistic (sigmoid) activation and Stochastic Gradient Descent (backprop)\n",
    "\n",
    "myMLP =  MLPClassifier(hidden_layer_sizes=(10,), max_iter=1000, alpha=1e-4,\n",
    "                    solver='sgd', verbose=0, random_state=1,\n",
    "                    learning_rate_init=.1)\n",
    "\n",
    "# this example won't converge because of CI's time constraints, so we catch the\n",
    "# warning and are ignore it here\n",
    "#with warnings.catch_warnings():\n",
    "#    warnings.filterwarnings(\"ignore\", category=ConvergenceWarning,\n",
    "#                            module=\"sklearn\")\n",
    "#    myMLP.fit(train_X, train_y)\n",
    "\n",
    "myMLP.fit(train_X, train_y)\n",
    "    \n",
    "lossplot=plt.plot(myMLP.loss_curve_)    \n",
    "print(\"Training set score: %f\" % myMLP.score(train_X, train_y))"
   ]
  },
  {
   "cell_type": "code",
   "execution_count": 4,
   "metadata": {},
   "outputs": [
    {
     "data": {
      "image/png": "[encoded data removed]",
      "text/plain": [
       "<Figure size 432x288 with 2 Axes>"
      ]
     },
     "metadata": {
      "needs_background": "light"
     },
     "output_type": "display_data"
    }
   ],
   "source": [
    "plotDecisionSurface(myMLP,train_X,train_y)"
   ]
  },
  {
   "cell_type": "code",
   "execution_count": 6,
   "metadata": {},
   "outputs": [
    {
     "data": {
      "image/png": "[encoded data removed]",
      "text/plain": [
       "<Figure size 864x648 with 1 Axes>"
      ]
     },
     "metadata": {
      "needs_background": "light"
     },
     "output_type": "display_data"
    }
   ],
   "source": [
    "import VisualiseNN as VisNN\n",
    "\n",
    "#network_structure = np.hstack(([train_X.shape[1]], np.asarray(myMLP.hidden_layer_sizes), [train_y.shape[0]]))\n",
    "network_structure = np.hstack((2, np.asarray(myMLP.hidden_layer_sizes), 1))\n",
    "# Draw the Neural Network with weights\n",
    "network=VisNN.DrawNN(network_structure, myMLP.coefs_)\n",
    "network.draw()\n"
   ]
  },
  {
   "cell_type": "markdown",
   "metadata": {},
   "source": [
    "## Activity2: MLP for multiclass problems:  iris data\n",
    "\n",
    "- introduce idea of parallel classifier using softmax and one-hot encoding\n",
    "  - benefit that the classifiers can all share the feature creation done in prrevious layers\n",
    "- same visualisations as first case \n",
    "\n",
    "\n",
    "<div class=\"alert alert-block alert-danger\">\n",
    "TODO change to the  code from lectures and change  progression:\n",
    "    <ol> \n",
    "    <li>How many nodes to you need to reliably solve XOR MCQ: how much variability so you see?</li>\n",
    "    <li> Iris data as simple multiclass -softmax and onehot encoding, train and test </li>\n",
    "    <li> MNIST - changing meta-parameters (width and number of hidden layers), learning rate, number of epochs </li>\n",
    "    <li> Discuss: does low training error always mean low test error: <b>mentimeter to mediate?</b> </li>\n",
    "    </ol></div>\n"
   ]
  },
  {
   "cell_type": "code",
   "execution_count": null,
   "metadata": {},
   "outputs": [],
   "source": []
  },
  {
   "cell_type": "markdown",
   "metadata": {},
   "source": [
    "## Activity3: Solving MNIST\n",
    "\n",
    "## TO DO - tidy up, show ten classes in in parallel,  \n",
    "### activitiy is finding out how many layers, and how wide, are needed for this more complex task\n",
    "\n",
    "\n",
    "The aim of this activity is to give you some experience selecting the training parameters and network architecture for applying neural networks to a classification task.\n",
    "We will look at the Wheat Seeds Dataset which the prediction of species given measurements of seeds from different varieties of wheat. It is a 3-class classification problem. The number of examples for each class is balanced and there are 210 examples with 7 feature variables.\n",
    "The data is being processed in a similar way as the Iris data, but you should see that it is much harder to separate the different classes of wheat seeds.\n",
    "You need to complete the code for creating and training and testing the network for the wheat seed data which includes:\n",
    "Selecting training parameters (learning rate and epochs).\n",
    "Defining network architecture (number of input, hidden and output nodes).\n",
    "Creating the network using the code provided and recording training and test outputs.\n",
    "You will probably find that it is a little harder to get high accuracy on this data.\n",
    "What effect does changing the learning rate and number of epochs have?\n",
    "What effect does changing the number of hidden nodes have?\n",
    "Crucially, does good training accuracy always mean better test accuracy?\n",
    "\n",
    " "
   ]
  },
  {
   "cell_type": "markdown",
   "metadata": {},
   "source": [
    "Neural Network (MLP) Visualization for Digit Recognition\n",
    "loosely based on example visualisation code from a Kaggle example and \"towards data science\"\n",
    "This notebook contrasts how simple Multi-layer Perceptron (MLP) Neural Networks and Convolutional Neural Networks recognize hand-written digits from the MNIST data set.\n",
    "A two-layer MLP does a decent job at recognizing hand-written digits.\n",
    "A very simple convolutional model does even better (though still not close to the 'state of the art')\n",
    "There is considerable difference in the interpretability of the features"
   ]
  },
  {
   "cell_type": "code",
   "execution_count": null,
   "metadata": {},
   "outputs": [],
   "source": [
    "import numpy as np\n",
    "import pandas as pd\n",
    "import os\n",
    "import matplotlib.pyplot as plt\n",
    "import matplotlib.animation\n",
    "plt.rcParams[\"animation.html\"] = \"jshtml\"\n",
    "\n",
    "\n",
    "from sklearn.model_selection import train_test_split\n",
    "from sklearn.preprocessing import OneHotEncoder\n",
    "\n",
    "\n",
    "from keras.models import Sequential, Model\n",
    "from keras.layers import Input, Dense, Activation, Dropout\n",
    "from keras.layers import Flatten, Conv2D, MaxPooling2D\n",
    "from keras.utils import to_categorical, plot_model\n",
    "from keras.datasets import mnist\n",
    "from keras import backend as K\n",
    "\n",
    "\n"
   ]
  },
  {
   "cell_type": "code",
   "execution_count": null,
   "metadata": {},
   "outputs": [],
   "source": [
    "#exanmple code from https://scikit-learn.org/stable/auto_examples/neural_networks/plot_mnist_filters.html#sphx-glr-auto-examples-neural-networks-plot-mnist-filters-py\n",
    "import warnings\n",
    "\n",
    "import matplotlib.pyplot as plt\n",
    "from sklearn.datasets import fetch_openml\n",
    "from sklearn.exceptions import ConvergenceWarning\n",
    "from sklearn.neural_network import MLPClassifier\n",
    "\n",
    "print(__doc__)\n",
    "\n",
    "# Load data from https://www.openml.org/d/554\n",
    "X, y = fetch_openml('mnist_784', version=1, return_X_y=True)\n",
    "X = X / 255.\n",
    "\n",
    "# rescale the data, use the traditional train/test split\n",
    "X_train, X_test = X[:60000], X[60000:]\n",
    "y_train, y_test = y[:60000], y[60000:]\n",
    "\n",
    "mlp = MLPClassifier(hidden_layer_sizes=(50,), max_iter=10, alpha=1e-4,\n",
    "                    solver='sgd', verbose=10, random_state=1,\n",
    "                    learning_rate_init=.1)\n",
    "\n",
    "# this example won't converge because of CI's time constraints, so we catch the\n",
    "# warning and are ignore it here\n",
    "with warnings.catch_warnings():\n",
    "    warnings.filterwarnings(\"ignore\", category=ConvergenceWarning,\n",
    "                            module=\"sklearn\")\n",
    "    mlp.fit(X_train, y_train)\n",
    "\n",
    "print(\"Training set score: %f\" % mlp.score(X_train, y_train))\n",
    "print(\"Test set score: %f\" % mlp.score(X_test, y_test))\n",
    "\n",
    "fig, axes = plt.subplots(4, 4)\n",
    "# use global min / max to ensure all weights are shown on the same scale\n",
    "vmin, vmax = mlp.coefs_[0].min(), mlp.coefs_[0].max()\n",
    "for coef, ax in zip(mlp.coefs_[0].T, axes.ravel()):\n",
    "    ax.matshow(coef.reshape(28, 28), cmap=plt.cm.gray, vmin=.5 * vmin,\n",
    "               vmax=.5 * vmax)\n",
    "    ax.set_xticks(())\n",
    "    ax.set_yticks(())\n",
    "\n",
    "plt.show()\n"
   ]
  },
  {
   "cell_type": "code",
   "execution_count": null,
   "metadata": {},
   "outputs": [],
   "source": [
    "# load mnist dataset\n",
    "data = pd.read_csv('mnist_train.csv')\n",
    "\n",
    "#next few lines added by jim to estiamte vanialla cnn performance\n",
    "x_train = data.iloc[:,1:785]\n",
    "y_train = data.iloc[:,0]\n",
    "\n",
    "testdata = pd.read_csv('mnist_test.csv')\n",
    "x_test = testdata.iloc[:,1:785]\n",
    "y_test = testdata.iloc[:,0]\n",
    "\n",
    "\n",
    "#data = data.head(30000)\n",
    "# split data into train and test sample\n",
    "#x_train, x_test, y_train, y_test = train_test_split(data.iloc[:,1:785], data.iloc[:,0],  \n",
    "                                                    #test_size = 0.1, random_state = 42)\n",
    "\n",
    "dataSamples = data.shape[0]\n",
    "trnum = dataSamples#trnum = int(dataSamples*0.9)\n",
    "tenum = testdata.shape[0]#tenum= dataSamples-trnum\n",
    "x_train = x_train.values.reshape(trnum, 784)\n",
    "x_test = x_test.values.reshape(tenum, 784)\n",
    "\n",
    "# compute the number of labels\n",
    "num_labels = len(np.unique(y_train))\n",
    "\n",
    "# convert to one-hot vector\n",
    "y_train = to_categorical(y_train)\n",
    "y_test = to_categorical(y_test)\n",
    "\n",
    "# normalize\n",
    "x_train = x_train.astype('float32') / 255\n",
    "x_test = x_test.astype('float32') / 255\n",
    "\n",
    "X_train_img = x_train.reshape(x_train.shape[0],28,28,1)\n",
    "X_test_img = x_test.reshape(x_test.shape[0],28,28,1)\n",
    "\n",
    "\n",
    "\n",
    "f, axes = plt.subplots(2, 10, sharey=True,figsize=(20,5))\n",
    "for i,ax in enumerate(axes.flat):\n",
    "    ax.axis('off')\n",
    "    ax.imshow(X_test_img[i,:,:,0],cmap=\"gray\")"
   ]
  },
  {
   "cell_type": "markdown",
   "metadata": {},
   "source": [
    "Specifying and Training a simple Neural Network\n",
    "\n",
    "<img align=\"right\" src=\"simple_MLP_for_Mnist.png\" alt=\"Architecture of simple MLP, only 28 inputs shown\" width=\"400\"/>\n",
    "\n",
    "We use a simple two-layer MLP with sigmoid activation Architecture of simple MLP, only 28 inputs shown\n",
    "In the first hidden layer, each neuron takes every pixel value as input parameter.\n",
    "Every neuron in the second hidden layer then takes all the outputs of the first layer (after activation using sigmoid) as input parameters. * After applying a softmax activation, these results form the final output layer.\n",
    "The optimizer then derives linear weights in such a way as to minimize the loss function (in this case the categorical crossentropy) and thus maximizing the accuracy of the classification."
   ]
  },
  {
   "cell_type": "code",
   "execution_count": null,
   "metadata": {},
   "outputs": [],
   "source": [
    "# network parameters\n",
    "input_size = x_train.shape[1]\n",
    "batch_size = 64\n",
    "activation = 'sigmoid'\n",
    "# this model is a 3-layer MLP with sigmoid activation each layer\n",
    "model = Sequential()\n",
    "model.add(Dense(25, input_dim=input_size, activation='sigmoid'))\n",
    "model.add(Dense(25,activation='sigmoid'))\n",
    "model.add(Dense(num_labels,activation='softmax'))\n",
    "model.summary()\n",
    "\n",
    "# loss function for one-hot vector using adam optimizer\n",
    "model.compile(loss='categorical_crossentropy',\n",
    "              optimizer='adam',\n",
    "              metrics=['accuracy'])"
   ]
  },
  {
   "cell_type": "code",
   "execution_count": null,
   "metadata": {},
   "outputs": [],
   "source": [
    "# train the network\n",
    "model.fit(x_train, y_train, epochs=10, batch_size=batch_size)\n",
    "\n",
    "# validate the model on test dataset to determine generalization\n",
    "loss, acc = model.evaluate(x_test, y_test, batch_size=batch_size)\n",
    "print(\"\\nTest accuracy: %.1f%%\" % (100.0 * acc))"
   ]
  },
  {
   "cell_type": "markdown",
   "metadata": {},
   "source": [
    "Slide Type\n",
    "This model implementation reaches an accuracy of ~96% if we give it the whole training set, which is remarkable, but better results are possible using, e.g., a Convolutional Neural Network. We use the simpler MLP to make the interpretation of the visualization results easier."
   ]
  },
  {
   "cell_type": "code",
   "execution_count": null,
   "metadata": {},
   "outputs": [],
   "source": [
    "Extract Output and Group Information\n",
    "We extract the outputs generated by each individual neuron and for each frame in the MNIST training sample and store them on a per-layer basis."
   ]
  },
  {
   "cell_type": "code",
   "execution_count": null,
   "metadata": {},
   "outputs": [],
   "source": [
    "get_layer_output = K.function([model.layers[0].input, model.layers[0].input, model.layers[0].input],\n",
    "                              [model.layers[0].output, model.layers[1].output, model.layers[2].output])\n",
    "\n",
    "layer1_output, layer2_output, layer3_output = get_layer_output([x_train])"
   ]
  },
  {
   "cell_type": "markdown",
   "metadata": {},
   "source": [
    "Finally, we extract and store the indices of frames showing the same digit."
   ]
  },
  {
   "cell_type": "code",
   "execution_count": null,
   "metadata": {},
   "outputs": [],
   "source": [
    "train_ids = [np.arange(len(y_train))[y_train[:,i] == 1] for i in range(10)]"
   ]
  },
  {
   "cell_type": "markdown",
   "metadata": {},
   "source": [
    "Visualization of Individual Frames\n",
    "In this visualization, we focus on individual training data (i.e., individual frames with hand-written digits).\n",
    "The following panel shows from left to right\n",
    "the original 28x28 pixel frame depicting a hand-written figure,\n",
    "the output values of all neurons of the first hidden layer,\n",
    "the output values of all neurons of the second hidden layer, and\n",
    "the one-hot encoded output layer indicating the model classification result.\n",
    "Note that in those plots showing network layers, each pixel stands for the output of a single neuron. This output is based on the input parameters passed on from the previous layer, the trained weights for each neuron, and the activation function used in this layer. Dark blue pixels stand for low output values, while yellow pixels stand for high output values. The pixels have been arranged in two dimensions to save space; just think of these layers in linear arrangements to stay in the typical picture of layers in a network."
   ]
  },
  {
   "cell_type": "code",
   "execution_count": null,
   "metadata": {},
   "outputs": [],
   "source": [
    "%%capture\n",
    "%matplotlib inline\n",
    "\n",
    "# digit to be plotted\n",
    "digit = 6\n",
    "\n",
    "# indices of frames to be plotted for this digit\n",
    "n = range(50)\n",
    "\n",
    "# initialize plots\n",
    "f, (ax1, ax2, ax3, ax4) = plt.subplots(1, 4, figsize=(15,4))\n",
    "\n",
    "# prepare plots\n",
    "ax1.set_title('Input Layer', fontsize=16)\n",
    "ax1.axes.get_xaxis().set_visible(False)\n",
    "ax1.axes.get_yaxis().set_visible(False)\n",
    "\n",
    "ax2.set_title('Hidden Layer 1', fontsize=16)\n",
    "ax2.axes.get_xaxis().set_visible(False)\n",
    "ax2.axes.get_yaxis().set_visible(False)\n",
    "\n",
    "ax3.set_title('Hidden Layer 2', fontsize=16)\n",
    "ax3.axes.get_xaxis().set_visible(False)\n",
    "ax3.axes.get_yaxis().set_visible(False)\n",
    "    \n",
    "ax4.set_title('Output Layer', fontsize=16)\n",
    "ax4.axes.get_xaxis().set_visible(False)\n",
    "ax4.axes.get_yaxis().set_visible(False)   \n",
    "\n",
    "# add numbers to the output layer plot to indicate label\n",
    "for i in range(3):\n",
    "    for j in range(4):\n",
    "        text = ax4.text(j, i, [[0, 1, 2, 3], [4, 5, 6, 7], [8, 9, '', '']][i][j],\n",
    "                        ha=\"center\", va=\"center\", color=\"w\", fontsize=16)    \n",
    "        \n",
    "def animate(id):\n",
    "    # plot elements that are changed in the animation\n",
    "    digit_plot = ax1.imshow(x_train[train_ids[digit][id]].reshape((28,28)), animated=True)\n",
    "    layer1_plot = ax2.imshow(layer1_output[train_ids[digit][id]].reshape((5,5)), animated=True)\n",
    "    layer2_plot = ax3.imshow(layer2_output[train_ids[digit][id]].reshape((5,5)), animated=True)\n",
    "    output_plot = ax4.imshow(np.append(layer3_output[train_ids[digit][id]], \n",
    "                                       [np.nan, np.nan]).reshape((3,4)), animated=True)\n",
    "    return digit_plot, layer1_plot, layer2_plot, output_plot,\n",
    "\n",
    "# define animation\n",
    "ani = matplotlib.animation.FuncAnimation(f, animate, frames=n, interval=100)"
   ]
  },
  {
   "cell_type": "code",
   "execution_count": null,
   "metadata": {},
   "outputs": [],
   "source": [
    "ani"
   ]
  },
  {
   "cell_type": "code",
   "execution_count": null,
   "metadata": {},
   "outputs": [],
   "source": [
    "Scrolling through the animation, it becomes clear that in most cases the same subset of neurons fires, while other neurons remain quiescent. This is much more obvious in the second hidden layer than in the first hidden layer and can be interpreted as the first layer pre-processesing the pixel data, while the second layer deals with pattern recognition. Note that in most cases the recognition of the digit shown is unambiguous; ambiguity only occurs in somewhat pathologic cases.\n",
    "You can change the digit shown by changing the digit value in the code block above.\n",
    "\n",
    "Conclusions\n",
    "Despite variations in the shapes of hand-written digits, the same groups of neurons is involved in the identification of the same digits.\n",
    "Similarities in the shapes of digits translate into similarities in the groups of neurons that are involved in their identification in the first hidden layer, but not so much in the second hidden layer."
   ]
  }
 ],
 "metadata": {
  "kernelspec": {
   "display_name": "AIenv",
   "language": "python",
   "name": "aienv"
  },
  "language_info": {
   "codemirror_mode": {
    "name": "ipython",
    "version": 3
   },
   "file_extension": ".py",
   "mimetype": "text/x-python",
   "name": "python",
   "nbconvert_exporter": "python",
   "pygments_lexer": "ipython3",
   "version": "3.8.2"
  }
 },
 "nbformat": 4,
 "nbformat_minor": 4
}
