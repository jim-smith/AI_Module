{
 "cells": [
  {
   "cell_type": "markdown",
   "metadata": {},
   "source": [
    "# Artificial Intelligence 1 Week 5 Practical\n",
    "### Goals\n",
    "This session is designed to give you experience of:\n",
    "- loading an unlabelled dataset in python\n",
    "- creating 'Data Visualisations' --such ad 2D and 3D scatter plots with different colourings to examine the relationships between the values of different features\n",
    "     in your data set\n",
    "- running the unsupervised clustering algorithm 'k-Means' and examining the effect of:\n",
    "   - different settings for parameters such as the number of clusters\n",
    "   - applying 'normalisation' so that all of your features lie in the same range\n",
    "   - 'noisy' or uninformative features\n",
    "    \n",
    "\n",
    "### By the end of this session you should have\n",
    "\n",
    "- Understood how to go about visualising a new data set\n",
    "- Understood how to find clusters - if they exist - in your data.\n",
    "- Understood the importance of selecting and applying suitable  data preprocessing methods\n",
    "\n",
    "### Before next week you should have\n",
    "- Completed the exercises below for the Iris dataset\n",
    "- Expanded the domain-specific knowledge contents of your revision bot with definitions and examples for all the other key concepts covered so far.\n",
    "\n",
    "### Additional Resources\n",
    "- **Seaborn** is a richer library you can import into notebooks for easily making visualisations. Try looking at the example gallery from here: https://seaborn.pydata.org\n",
    "         \n",
    "- There is lots of help available for producing plots in matplotlib - if in doubt, just google your error!\n",
    "\n",
    "- **plotly** is a fantastic toolkit for making really nice data visualisations where you can link different plots so they respond together as you zoom/pan/select different features to look at.\n",
    "  - You can install it locally and run within a notebook,  but this is probably too complex to go into in this module.\n",
    "  - but you can upload your data and create really nice visualisations here: https://chart-studio.plotly.com/create/#/\n",
    "  \n",
    "<div class=\"alert alert-block alert-warning\"> <b>REMEMBER:</b> There is lots of help available for producing plots in matplotlib - and in fact with almost any python problem.  If in doubt, just google your error!</div>\n",
    "\n",
    "<div class=\"alert alert-block alert-danger\"> <b>REMEMBER:</b> IF you are running the notebooks on the cloud server you need to click on the kernel menu and then change-kernel to'AIenv'.<br>\n",
    "IF you are running locally AND you created a virtual environment in Jupyter click on the kernel menu then change-kernel OR in VSCode use the kernel selector in the top-right hand corner.\n",
    "</div>"
   ]
  },
  {
   "cell_type": "markdown",
   "metadata": {},
   "source": [
    "# Part 0 : Refresher on accessing darta from  Python arrays\n",
    "<div class=\"alert alert-block alert-info\"> <b>ASIDE: Python arrays and slicing:</b> Python has a <b>numpy</b> module with lots of useful code for doing math, and creating and manipulating arrays of data <br>If we have a 2D numpy array X  we can select just parts of it - i.e. groups of rows, or colums, by \"slicing\". <br> We specify the range of rows we want, then the range of columns using X[startRow: endRow, startCol: endCol] (the endRow and endCol are not included).\n",
    "    <br> If start or end are empty, then the slices goes right from the start or right to the end<br> Example 1:. If we put the letters of my name into a 1-D array  then we can pick out what we want as shown in the cell below. <br>Example 2 (also in the cell below) If we have all the tutors names we could pick out just one row,  or the nth letter in all their names. <br>Example 3, if (as in the iris data in this tutorial) X has 150 rows and 4 columns then:\n",
    " <ul>\n",
    "     <li> A = X[ 0 : 50 , :].  A is a 2d array containing the first 50 rows, and all 4 columns</li>\n",
    "     <li> B = X[ : , 3:].   B is a 1D array with 150 rows and  the columns 3 and onwards (in this case, it is just the last)<br>\n",
    "     <li> C = X[ 0: 2, 0:4] C is a 2D array with 3 rows and 4 columns <br></div>"
   ]
  },
  {
   "cell_type": "code",
   "execution_count": null,
   "metadata": {},
   "outputs": [],
   "source": [
    "import numpy as np\n",
    "\n",
    "#Example 1\n",
    "print('Declaring a 1d array')\n",
    "jimsName = np.array ( ['j','i','m',' ','s','m','i','t','h'])\n",
    "print(jimsName)\n",
    "print('extracting a range of values from a 1-D array:')\n",
    "print( jimsName[0:3])\n",
    "\n",
    "# Example 2\n",
    "print('\\n Declaring a  a 2D array:')\n",
    "tutorsNames = np.array([['j','i','m',' ','s','m','i','t','h',' ',' ',' '], ['c','h','r','i','s',' ','s','i','m','o','n','s'], ['n','a','t','h','a','n',' ','d','u','r','a','n']],dtype=str)\n",
    "print(tutorsNames)\n",
    "\n",
    "print('Extracting a row from a 2D array')\n",
    "print(tutorsNames[1:2, : ])   # every column of the second row\n",
    "\n",
    "print('Extracting a range of columns from every row of a 2D array')\n",
    "print(tutorsNames[ :, 1:5])"
   ]
  },
  {
   "cell_type": "markdown",
   "metadata": {},
   "source": [
    "# Part 1: Creating and adapting a simple data visualisation\n",
    "## Get the data: in this case  a classic data set: Iris flowers <img src=\"../lectures/figures/ML/Iris-image.png\" style=\"float:right\">\n",
    "This is a classic Machine Learning Data set\n",
    "- 4 measurements (features): sepal and petal width and length\n",
    "- 50 examples  from each  sub-species for iris flowers\n",
    "- three class problem: Iris-Virginica, Iris-Setosa or Iris-Versicolor\n",
    "\n",
    "### For the purpose of this tutorial we are going to ignore the fact that we are provided with class labels\n",
    "\n",
    "Run the next cell to import some useful libraries and then load the iris dataset into two arrays\n",
    "- irisX (the features - 150 rows x 4 columns)\n",
    "- irisy (the class labels - we'll ignore these)\n",
    "\n",
    "We'll also make a list of the feature names so we can use them to label our plots."
   ]
  },
  {
   "cell_type": "code",
   "execution_count": null,
   "metadata": {
    "pycharm": {
     "name": "#%%\n"
    }
   },
   "outputs": [],
   "source": [
    "# load the data\n",
    "from sklearn.datasets import load_iris\n",
    "import numpy as np\n",
    "\n",
    "irisX, irisy = load_iris(return_X_y = True)\n",
    "\n",
    "feature_names = ['sepal width','sepal_length','petal_width','petal_length']\n",
    "\n",
    "# Print the first 5 rows of Iris data\n",
    "print(feature_names)\n",
    "print(irisX[:5])"
   ]
  },
  {
   "cell_type": "markdown",
   "metadata": {
    "pycharm": {
     "name": "#%% md\n"
    }
   },
   "source": [
    "## Now we will see how we can use the matplotlib library to create a scatter plot\n",
    "\n",
    "For this first plot we will just look at the first two features"
   ]
  },
  {
   "cell_type": "markdown",
   "metadata": {},
   "source": [
    "### We'll start by just using the first two features and creating a basic scatter plot"
   ]
  },
  {
   "cell_type": "code",
   "execution_count": null,
   "metadata": {},
   "outputs": [],
   "source": [
    "# select every row and just the first|second column into two 1-D arrays for the x and y axes\n",
    "xaxis_feature = 0\n",
    "yaxis_feature = 1\n",
    "x = irisX[:, xaxis_feature: xaxis_feature+1]\n",
    "y = irisX[:, yaxis_feature: yaxis_feature+1]\n",
    "\n",
    "# Print the first 5 rows of x and y values\n",
    "print(feature_names[xaxis_feature])\n",
    "print(x[:5])\n",
    "print(feature_names[yaxis_feature])\n",
    "print(y[:5])"
   ]
  },
  {
   "cell_type": "markdown",
   "metadata": {},
   "source": [
    "To do this we'll call matplotlib.pyplot to create a canvas (fig) with a single subplot on it.\n",
    "\n",
    "- Like most things in python, you can achieve the same effect in many different ways\n",
    "- There's a really good thread here: https://stackoverflow.com/questions/34162443/why-do-many-examples-use-fig-ax-plt-subplots-in-matplotlib-pyplot-python\n",
    "about why most people choose to do it this way.\n",
    "- As a heavily upvoted answer says:\n",
    "> plt.subplots() is a function that returns a tuple containing a figure and axes object(s). Thus when using fig, ax = plt.subplots() you unpack this tuple into the variables fig and ax. Having fig is useful if you want to change figure-level attributes or save the figure as an image file later (e.g. with fig.savefig('yourfilename.png')). You certainly don't have to use the returned figure object but many people do use it later so it's common to see. Also, all axes objects (the objects that have plotting methods), have a parent figure object anyway\n",
    "\n",
    "- As you'll see shortly,   you can use the same syntax to put multiple plots in a grid within one figure\n"
   ]
  },
  {
   "cell_type": "code",
   "execution_count": null,
   "metadata": {},
   "outputs": [],
   "source": [
    "import matplotlib.pyplot as plt\n",
    "%matplotlib inline\n",
    "\n",
    "fig,ax = plt.subplots()\n",
    "ax.scatter(x,y)"
   ]
  },
  {
   "cell_type": "markdown",
   "metadata": {},
   "source": [
    "### Now lets add some 'decoration' to the plot so it is more informative"
   ]
  },
  {
   "cell_type": "code",
   "execution_count": null,
   "metadata": {},
   "outputs": [],
   "source": [
    "fig,ax = plt.subplots()\n",
    "ax.scatter(x,y)\n",
    "## Lets start with a title\n",
    "title= fig.suptitle(\"Scatter Plot for Iris Data\", fontsize=10)\n",
    "\n",
    "# and add some axis labels: recall we stored these in the list \"feature_names\" in case they were useful\n",
    "ax.set_xlabel(feature_names[0], fontsize=10)\n",
    "ax.set_ylabel(feature_names[1], fontsize=10)"
   ]
  },
  {
   "cell_type": "markdown",
   "metadata": {
    "pycharm": {
     "name": "#%% md\n"
    }
   },
   "source": [
    "## Activity 1: Creating and formatting simple 2D visualisations\n",
    "\n",
    "### Activity 1.1: Looking at different combinations of features \n",
    "- The cell below contains the all code used above to generate the scatter plot.\n",
    "- Edit the first two lines then  run the changed version to examine the effect of looking at different combinations of variables (there are 12 altogether)\n",
    "  - Note that  the code that sets the axis labels is no longer hard coded to the labels for features 0 and 1 \n",
    "- Then run the cell below that to answer a question about the data"
   ]
  },
  {
   "cell_type": "code",
   "execution_count": null,
   "metadata": {
    "pycharm": {
     "name": "#%%\n"
    }
   },
   "outputs": [],
   "source": [
    "# select the features to show\n",
    "xaxis_feature = 0\n",
    "yaxis_feature = 1\n",
    "x = irisX[:, xaxis_feature: xaxis_feature+1]\n",
    "y = irisX[:, yaxis_feature: yaxis_feature+1]\n",
    "\n",
    "#create the scatter plot\n",
    "fig,ax = plt.subplots()\n",
    "ax.scatter(x,y)\n",
    "## Lets start with a title\n",
    "title= fig.suptitle(\"Scatter Plot for Iris Data\", fontsize=10)\n",
    "\n",
    "# and add some axis labels: recall we stored these in the list \"feature_names\" in case they were useful\n",
    "ax.set_xlabel(feature_names[xaxis_feature], fontsize=10)\n",
    "ax.set_ylabel(feature_names[yaxis_feature], fontsize=10)"
   ]
  },
  {
   "cell_type": "code",
   "execution_count": null,
   "metadata": {},
   "outputs": [],
   "source": [
    "import workbook5_mcq\n",
    "display(workbook5_mcq.Q1)"
   ]
  },
  {
   "cell_type": "markdown",
   "metadata": {},
   "source": [
    "### Activity 1.2 Formatting to your plot and saving it to file\n",
    "This code example sets the overall title' for the figure object, and the axis-labels, and their font sizes\n",
    "1. Change the font-size of both to something more readable on your screen\n",
    "2. Experiment with setting the total figure size using:  \n",
    "  ```` fig.set_size_inches(10, 5)```` after you have created it via the call to subplots **or**   \n",
    "   ```` fix,ax = plt.subplots(figsize=(10, 5))```` at the time when you create it.  \n",
    "  You will probably want to change these numbers to something appropriate to your screen.  \n",
    "  **In practice** you usually only use one of these methods.\n",
    "  \n",
    "  \n",
    "3. Experiment with changing the marker  style, colour, and size. For example try changing:     \n",
    "    ```ax.scatter(x,y)``` to ```ax.scatter(x,y,c='red',marker = '^',s=10)```  \n",
    "   The default circle marker is 'o', try with other symbols such as: '.', 's', 'v', '+','x'\n",
    "\n",
    "\n",
    "4. When you are happy you have found a plotthat displays the data well, save it adding the command ```` fig.savefig(\"your_filename.png\")````\n",
    " - obviously change the filename to something more informative such as the names of the features you are displaying\n",
    " -  pyplot supports saving in lots of different file formats (jpg, png,svg). \n",
    " -  and you can change things like the resolution (dpi)  \n",
    " -  See https://matplotlib.org/api/_as_gen/matplotlib.pyplot.savefig.html \n",
    "  "
   ]
  },
  {
   "cell_type": "code",
   "execution_count": null,
   "metadata": {},
   "outputs": [],
   "source": [
    "# edit the next two lines of  code  to choose a good combinations of features you found\n",
    "xaxis_feature = 0\n",
    "yaxis_feature = 1\n",
    "x = irisX[:, xaxis_feature: xaxis_feature+1]\n",
    "y = irisX[:, yaxis_feature: yaxis_feature+1]\n",
    "\n",
    "# experiment with these two ways of changing the size\n",
    "fig,ax = plt.subplots(figsize=(10,5))\n",
    "fig.set_size_inches(10,5)\n",
    "\n",
    "# exeriment with changing the colours and shapes of markers here\n",
    "ax.scatter(x,y)\n",
    "\n",
    "\n",
    "## useful information to display\n",
    "title= fig.suptitle(\"Scatter Plot for Iris Data\", fontsize=10)\n",
    "ax.set_xlabel(feature_names[xaxis_feature], fontsize=10)\n",
    "ax.set_ylabel(feature_names[yaxis_feature], fontsize=10)\n",
    "\n",
    "# when you're happy add the savefig command here"
   ]
  },
  {
   "cell_type": "markdown",
   "metadata": {},
   "source": [
    "### Answer these questions to check you understood the formatting"
   ]
  },
  {
   "cell_type": "code",
   "execution_count": null,
   "metadata": {},
   "outputs": [],
   "source": [
    "display(workbook5_mcq.Q2)\n",
    "display(workbook5_mcq.Q3)\n",
    "display(workbook5_mcq.Q4)"
   ]
  },
  {
   "cell_type": "markdown",
   "metadata": {},
   "source": [
    "## Making the visualisations Interactive\n",
    "\n",
    "One major advantage of jupyter notebooks is that we can use them to make interactive figures.\n",
    "Since we can also \"hide\" the code cells, and host notebooks,  \n",
    "that means we can make interactive presentations\n",
    "to distribute to other people.\n",
    "\n",
    "For now, we will focus on adding the ability to pan, zoom, rescale, and save changed figures to file with the click of a button.\n",
    "\n",
    "<img src = \"matplotlibNoteBookInteractions.png\" style=\"float:right\" width=400>\n",
    "The code in the cell below is a version of what you saw already with the exception of the  first line: ```%matplotlib notebook```.  \n",
    "This is not  python it is a 'jupyter magic' command, and has to be at the top of a cell.  \n",
    "This turn turns on  a jupyter feature  which lets us make interactive graphics.\n",
    "\n",
    "There's a nice [blog about interactive notebooks here](https://medium.com/@1522933668924/using-matplotlib-in-jupyter-notebooks-comparing-methods-and-some-tips-python-c38e85b40ba1) which is where I copied the image from\n",
    "\n",
    "### Activity 1.3: Using interactive visualisations\n",
    "Run the code and work out which buttons let you pan/zoom/resave/save to file.  \n",
    "Hint: If you have clicked on the button with 4 arrows, you should be able to move the whole viewpoint (pan)  \n",
    "and also 'rescale' (squeeze/expand) the data just along one axis \n",
    "  depending on whether you are using left/right mouse buttons (1 / 2 figure drags on a trackpad).  \n",
    "**Note that you can only have one  interaction active at  a time, so when you are done, click on the blue exit button**"
   ]
  },
  {
   "cell_type": "code",
   "execution_count": null,
   "metadata": {},
   "outputs": [],
   "source": [
    "%matplotlib notebook\n",
    "\n",
    "\n",
    "xaxis_feature = 0\n",
    "yaxis_feature = 1\n",
    "x = irisX[:, xaxis_feature: xaxis_feature+1]\n",
    "y = irisX[:, yaxis_feature: yaxis_feature+1]\n",
    "\n",
    "fig,ax = plt.subplots(figsize=(10,5))\n",
    "\n",
    "ax.scatter(x,y)\n",
    "\n",
    "\n",
    "## useful information to display\n",
    "title= fig.suptitle(\"Scatter Plot for Iris Data\", fontsize=10)\n",
    "ax.set_xlabel(feature_names[xaxis_feature], fontsize=10)\n",
    "ax.set_ylabel(feature_names[yaxis_feature], fontsize=10)"
   ]
  },
  {
   "cell_type": "markdown",
   "metadata": {},
   "source": [
    "# Part 2: Using the k-Means algorithm to discover clusters in the data\n",
    "\n",
    "## Example of how to use the code\n",
    "The next cell demonstrates how to call the implementation of KMeans in python's sklearn module.\n"
   ]
  },
  {
   "cell_type": "code",
   "execution_count": null,
   "metadata": {},
   "outputs": [],
   "source": [
    "# Example\n",
    "from sklearn.cluster import KMeans\n",
    "\n",
    "# in this case we will create a kMeans model that just looks for two clusters\n",
    "## call the constructor\n",
    "clusterModel = KMeans(n_clusters=2)\n",
    "\n",
    "## most of the ML models in sklearn provide both a fit() and a predict() method\n",
    "## in this case 'fitting' the model means finding the best cluster centres as described in the lecture\n",
    "clusterModel.fit(irisX)"
   ]
  },
  {
   "cell_type": "markdown",
   "metadata": {},
   "source": [
    "### Lets ask it what it found!\n",
    "\n",
    "When the model was fitted to our data it stores the cluster centres it found as an attribute, so we will start by printing that.\n",
    "- The outputs will be a \"list of 1-D arrays\" - effectively a 2d array with one row for each cluster centre, and one column for each variable\n",
    "- In this case, the Iris data has four features to represent each of the examples.\n",
    "- So each row represents the co-ordinates in 4-D space of one the cluster centres"
   ]
  },
  {
   "cell_type": "code",
   "execution_count": null,
   "metadata": {},
   "outputs": [],
   "source": [
    "print ( clusterModel.cluster_centers_ )"
   ]
  },
  {
   "cell_type": "markdown",
   "metadata": {},
   "source": [
    "Most classes of sklearn models implement a predict() method.  \n",
    "For KMeans, that  outputs the index of the nearest cluster center to each data point\n",
    "- So the next cell calls this method on our kMeans object, stores the result, then prints it out.\n",
    "- The output will be a list with one 'cluster-id' for each example in the data set.\n",
    "  - Thus if the Nth entry is a 0 it means that data item N has been assigned to (is  \"in\") cluster 0.\n",
    "  - Where the one whose centre was at row 0 when we listed the cluster centres just above."
   ]
  },
  {
   "cell_type": "code",
   "execution_count": null,
   "metadata": {},
   "outputs": [],
   "source": [
    "cluster_ids = clusterModel.predict(irisX)\n",
    "print(cluster_ids) "
   ]
  },
  {
   "cell_type": "markdown",
   "metadata": {},
   "source": [
    "## Activity 2: Grouping unlabelled  data using the kMeans Unsupervised Learning method\n",
    "### Activity 2.1: Using visualisations to determine how many clusters to use\n",
    "Copy the clustering code into the cell below followed by the code to produce what you think is the most 'informative' scatter plot (the best pair of features)\n",
    "- Change and rerun the code  to inestigate what happens if you specify  2,3,4,5 clusters\n",
    "  - Apply k-means as above to obtain the list 'cluster_ids'  that holds the label for each datum\n",
    "  - Visualise all the scatterplots, adapting  your code so that it colours markers by cluster by changing  \n",
    "    ```ax.scatter(x,y)```   to ```ax.scatter(x,y,c=cluster_ids)```\n",
    "    \n",
    "Make a decision what number of clusters 'looks' a best fit to the data."
   ]
  },
  {
   "cell_type": "code",
   "execution_count": null,
   "metadata": {},
   "outputs": [],
   "source": [
    "## Copy the code that finds the cluster here\n",
    "\n",
    "\n",
    "## then put the code that make a simple scatter plot here\n",
    "\n",
    "\n",
    "## remember ot change the call to ax.scatter() to use different coloured markers for different clusters"
   ]
  },
  {
   "cell_type": "markdown",
   "metadata": {},
   "source": [
    "### Activity 2.2: Investigate the effect of differently scaled data\n",
    "**First** we will investigate what could happen if your measurements are in different units,  so one feature has values spanning a bigger range.\n",
    "- make a copy of the iris data and convert the second  feature from cm to mm,  \n",
    "  then rerun kMeans (for your preferred number of clusters) and visualisation to see what difference it makes\n",
    "  you can create the version of the data using code like:  \n",
    "``` irisXscaled = copy.deepcopy(irisX)\n",
    "  irisXscaled [:, 1:2] *=10\n",
    "```\n",
    " and then select some of the columns and pass them into your graphing code in the same way you did for the irisX data.\n",
    "  "
   ]
  },
  {
   "cell_type": "code",
   "execution_count": null,
   "metadata": {},
   "outputs": [],
   "source": [
    "import copy\n",
    "# 1. put your code to change the data here\n",
    "\n",
    "\n",
    "# 2. then put the four lines of code that create a kmeans object and run clustering   here - changing irisX to irisXscaled in three places\n",
    "\n",
    "\n",
    "# 3. then put your visualisation code here - but select x and y from irisXscaled instead of irisX\n"
   ]
  },
  {
   "cell_type": "markdown",
   "metadata": {},
   "source": [
    "### Activity 2.3 Using preprocessing so all the features have equal importance in kMeans distance calculations.  \n",
    "As well as classes for different types of models, sklearn provides many preprocessing classes.  \n",
    "Like models these implement a 'fit()' method,  but instead of `predict()' they have a 'transform()' method. \n",
    "\n",
    "A common way to make each feature equally important is to transform each one so that its values lie between 0 and 1.   \n",
    "Assuming as usual  we store our set of examples as rows in an array X, with a  column for each features.  \n",
    "For each individual feature j (column in X) it: \n",
    "- finds the highest (Xjmax) and lowest (Xjmin) values  \n",
    "- subtracts the Xjmin from each value so that they now start from 0\n",
    "- divide each value by the 'range' (Xjmax-Xjmin) so the upper value (Xjmax) is now 1\n",
    "  \n",
    "  \n",
    "- Add the following lines to your code to get the preprocessed data.\n",
    "  ```scaler = sklearn.preprocessing.MinMaxScaler()\n",
    "  scaler.fit(irisX)\n",
    "  irisXnormalised = scaler.transform(irisX)\n",
    "  ```\n",
    "\n",
    "- Rerun the clustering then visualisation for this normalised data and observe the difference."
   ]
  },
  {
   "cell_type": "code",
   "execution_count": null,
   "metadata": {},
   "outputs": [],
   "source": [
    "import copy, sklearn\n",
    "# 1. put your code to change the data here\n",
    "\n",
    "\n",
    "# 2. then put the four lines of code that create a kmeans object and run clustering   here - changing irisX to irisXnormalised in two plces\n",
    "\n",
    "\n",
    "# 3. then put your visualisation code here - but select x and y from irisXnormalised instead of irisX\n"
   ]
  },
  {
   "cell_type": "markdown",
   "metadata": {},
   "source": [
    "**Decide for yourself which of the three sets of visualisation is clearer**  \n",
    "Then run the cell below and answer the questions to check your understanding\n",
    " "
   ]
  },
  {
   "cell_type": "code",
   "execution_count": null,
   "metadata": {
    "pycharm": {
     "name": "#%%\n"
    }
   },
   "outputs": [],
   "source": [
    "display(workbook5_mcq.Q5)\n",
    "display(workbook5_mcq.Q6)"
   ]
  },
  {
   "cell_type": "markdown",
   "metadata": {
    "pycharm": {
     "name": "#%% md\n"
    }
   },
   "source": [
    "### Activity 2.4: Examining the robustness of kMeans to the presence of noisy features\n",
    "- Create a new feature of 'salt and pepper' noise i.e. the values in odd rows are 0.9, the values in even rows are 0.1\n",
    "- Use np.append() to add this to the preprocessed irisData\n",
    "- rerun kMeans and see what happens"
   ]
  },
  {
   "cell_type": "code",
   "execution_count": null,
   "outputs": [],
   "source": [
    "display(workbook5_mcq.Q7)\n",
    "display(workbook5_mcq.Q8)"
   ],
   "metadata": {
    "collapsed": false,
    "pycharm": {
     "name": "#%%\n"
    }
   }
  },
  {
   "cell_type": "markdown",
   "metadata": {},
   "source": [
    "# Part 3: Making more complex visualisations with matplotlib \n",
    "\n",
    "The method defined below uses the power of matplotlib subplots to make a canvas (figure) containing a grid of plots (axes).  \n",
    "It 'asks' the parameter X (the data) how many features (columns) it has then uses loops to plot all the different scatter plots in a grid.\n",
    "It also takes a second parameter y to colour the  markers\n",
    "\n",
    "After defining the methods the final line calls it for the iris feature values and the cluster ids we found with the twoClusterModel.\n",
    "\n",
    "You should see that in 'interactive' mode,  panning and zooming now works independently in each subplot.  \n",
    "\n",
    "### Activity 3.1 Showing the scatter plot matrix for your 'preferred' version of the data\n",
    "Edit the code  in the cell below  to pass in the version of the data, and the array of cluster labels found by kMeans, that you think represent the best visualisation of the data.  \n",
    "Hint: This means that you will need to choose k, and either irisX, irisXscaled or irisXnormalised  \n"
   ]
  },
  {
   "cell_type": "code",
   "execution_count": null,
   "metadata": {
    "pycharm": {
     "name": "#%%\n"
    }
   },
   "outputs": [],
   "source": [
    "# choose your data\n",
    "myData = irisX # or irsXscaled or irisXnormalised\n",
    "# chose the value of K\n",
    "K=1\n",
    "# create the cluster labels\n",
    "clusterModel = KMeans(n_clusters=K)\n",
    "clusterModel.fit(myData)\n",
    "cluster_ids = clusterModel.predict(myData)\n",
    "\n",
    "\n",
    "def show_scatterplot_matrix(X,y,featureNames,title=None):\n",
    "    f = X.shape[1]\n",
    "    if(len(y) != X.shape[0]):\n",
    "        print(\"Error, the y array must have the same length as there are rows in X\")\n",
    "        return\n",
    "    fig, ax = plt.subplots(f,f,figsize=(12,12))\n",
    "    plt.set_cmap('jet')\n",
    "    for feature1 in range(f):\n",
    "        ax[feature1,0].set_ylabel( featureNames[feature1])\n",
    "        ax[0,feature1].set_xlabel( featureNames[feature1])\n",
    "        ax[0,feature1].xaxis.set_label_position('top') \n",
    "        for feature2 in range(f):\n",
    "            xdata = X[:,feature1]\n",
    "            ydata = X[:,feature2]\n",
    "            ax[feature1, feature2].scatter(xdata,ydata,c=y)\n",
    "\n",
    "    if title != None:\n",
    "        fig.suptitle(title,fontsize=16,y=0.925)\n",
    "\n",
    "show_scatterplot_matrix(myData,cluster_ids,feature_names,title=\"Interactive visualisation of the Iris Data\")"
   ]
  },
  {
   "cell_type": "markdown",
   "source": [
    "### Activity 3.2:  Change the code to show a histogram on the leading diagonal\n",
    "i.e. \n",
    "```\n",
    "    if (feature1!=feature2):\n",
    "        existing code to draw scatterplot\n",
    "    else:\n",
    "        code to draw histogram of observed values using plt.axis.hist(xdata) \n",
    " ```\n",
    "\n",
    "You may need to consult [the documentation for the axis.hist() method](https://matplotlib.org/3.1.1/api/_as_gen/matplotlib.axes.Axes.hist.html?highlight=hist#matplotlib.axes.Axes.hist  )      \n",
    "\n",
    "### Activity 3.3: Stretch activity for the more experienced python programmers\n",
    "It would be nice if the histograms also had different colours for different cluster labels.  \n",
    "To do that you need to  split the irisData into three subsets according to your clustered class labels, then either:\n",
    "- make three separate calls to the you could adapt code from he examples at the bottom of the matplotlib page linked above\n",
    "- or pass the three subsets as a list i.e. ```ax[feature1,feature2].hist(x=(subset1,subset2,subset3))```"
   ],
   "metadata": {
    "collapsed": false
   }
  },
  {
   "cell_type": "markdown",
   "source": [
    "<div class=\"alert alert-block alert-danger\"> Remember to download and save your work if you are not running this notebook locally.</div>\n",
    "\n",
    "\n"
   ],
   "metadata": {
    "collapsed": false,
    "pycharm": {
     "name": "#%% md\n"
    }
   }
  },
  {
   "cell_type": "markdown",
   "metadata": {},
   "source": [
    "### Activity 3.2:  Change the code to show a histogram on the leading diagonal\n",
    "i.e. \n",
    "```\n",
    "    if (feature1==feature2):\n",
    "        existing code to draw scatterplot\n",
    "    else:\n",
    "        code to draw histogram of observed values using plt.axis.hist(xdata) \n",
    " ```\n",
    "        \n",
    "        \n",
    "You may need to consult [the documentation for the axis.hist() method](https://matplotlib.org/3.1.1/api/_as_gen/matplotlib.axes.Axes.hist.html?highlight=hist#matplotlib.axes.Axes.hist  )      \n",
    "\n",
    "### Activity 3.3: Stretch activity for the more experienced python programmers\n",
    "It would be nice if the histograms also had different colours for different cluster labels.  \n",
    "To do that you need to  split the irisData into three subsets according to your clustered class labels, then either:\n",
    "- make three seperatae calls to the you could adapt code from he examples at the bottom of the matplotlib page linked above\n",
    "- or pass the three subsets as a list i.e. ```ax[feature1,feature2].hist(x=(subset1,subset2,subset3))```"
   ]
  },
  {
   "cell_type": "markdown",
   "metadata": {},
   "source": [
    "<div class=\"alert alert-block alert-danger\"> Remember to download and save your work if you are not running this notebook locally.</div>"
   ]
  },
  {
   "cell_type": "code",
   "execution_count": null,
   "metadata": {},
   "outputs": [],
   "source": []
  }
 ],
 "metadata": {
  "kernelspec": {
   "display_name": "PyCharm (AI_Module)",
   "language": "python",
   "name": "pycharm-65425e9a"
  },
  "language_info": {
   "codemirror_mode": {
    "name": "ipython",
    "version": 3
   },
   "file_extension": ".py",
   "mimetype": "text/x-python",
   "name": "python",
   "nbconvert_exporter": "python",
   "pygments_lexer": "ipython3",
   "version": "3.7.0"
  }
 },
 "nbformat": 4,
 "nbformat_minor": 4
}