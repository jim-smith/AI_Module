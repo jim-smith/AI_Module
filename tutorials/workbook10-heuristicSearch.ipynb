{
 "cells": [
  {
   "cell_type": "markdown",
   "metadata": {},
   "source": [
    "# Workbook 10: Informed Search Algorithms\n",
    "\n",
    "## Introduction\n",
    "This practical uses a simple easy-to-visualise optimisation problem to illustrate the properties of different search algorithms.\n",
    "The problem is this:\n",
    "- We are given  a model of a problem in terms of a graph  - which we can visualise as a maze.\n",
    "- We are given a starting position and the desired endpoint (goal)\n",
    "- The problem is to find a sequence of inputs that takes us from the start to the goal, preferably in as few moves as possible.\n",
    "\n",
    "## Aims of this practical\n",
    "1. To give you the opportunity to demonstrate your underrstanding by implementing the code needed to create different search algorithms.\n",
    "2. To give you experience of comparing the behaviour of different search algorithms.\n",
    "3. To give you experience of evaluating the efficiency of an algorithm for a problem ( in thid case path-planning) by creating different instances of a problem (mazes) to *stress-test* different methods. \n",
    "\n",
    "\n",
    "   "
   ]
  },
  {
   "cell_type": "markdown",
   "metadata": {},
   "source": [
    "<div class = \"alert alert-info\" style=\"color:black\">\n",
    " <h2>Refresher: finding things in a list with python according to some criteria</h2>\n",
    "    <ul>\n",
    "        <li> A simple for loop looks like: for i in range(n): <br> and loops. from i=0 to i=n-1</li>\n",
    "    <li> if you have a list myList with n elements, then len(myList) = n </li>\n",
    "    <li> This is true whether the elements are chars, ints, float, or objects of some class</li>\n",
    "    </ul>\n",
    "    <p> So if  myList hold elements of a type that has an attribute cost, and we want to find the index (position) of the element one with the lowest value, we can do it like this:<br> Start in position 0 <br> then loop through each element, remembering where the one with the lowest value of score came.</p>\n",
    "    <p> In code this looks like:<pre class=\"line-numbers\"><code class=\"language-python\">\n",
    "   bestSoFar = 0\n",
    "   for i in range (len (myList) ):\n",
    "       if (myList[i].cost < myList[bestSoFar].cost): \n",
    "           bestSoFar = i\n",
    "  </code>\n",
    "</pre>\n",
    "and at the end of this process the variable bestSoFar tells us the index of the \"best\" element in that list according to our choice criteria (minimising cost).<br>\n",
    "If we want to use something else as our criteria, we just change the if statement.\n",
    "</div>\n",
    "                                       \n",
    "                                       \n",
    "                                       \n",
    "                                       "
   ]
  },
  {
   "cell_type": "markdown",
   "metadata": {},
   "source": [
    "## Background\n",
    "\n",
    "<img src = \"generate-and-test-framework.png\">\n",
    "\n",
    "\n",
    "\n",
    "\n",
    "### Pseudocode for informed search\n",
    "Initialisation\n",
    "```\n",
    "## make initial guess,  \n",
    "SET workingCandidate = StartSolution\n",
    "## Test it\n",
    "Evaluate (workingCandidate)\n",
    "IF( IsAtGoal(workingCandidate)) \n",
    "    OUTPUT (SUCCESS, workingCandidate)\n",
    "## Start the openList \n",
    "APPEND workingCandidate to openList\n",
    "```\n",
    "\n",
    "Main loop\n",
    "```\n",
    "    WHILE ( Openlist not empty) DO\n",
    "      SORT(OpenList)                  ## This is the new line \n",
    "      MOVE (first item from openList into working candidate)\n",
    "      FOREACH (1-step neighbour)\n",
    "        neighbour = ApplyMoveOperator(workingCandidate)  ## Generate\n",
    "        Evaluate(neighbour)                              ## Test \n",
    "\t    IF(IsAtGoal(neighbour))\n",
    "          OUTPUT (SUCCESS, neighbour)\n",
    "        ELSE IF (neighbor is feasible)                   ## Update Memory\n",
    "          APPEND( neighbor to end of openList)\n",
    "        ELSE\n",
    "          APPEND( neighbor to end of closedList)\n",
    "      COPY (working candidate to closedList)\n",
    " \n",
    "    ** only get this far if we've run out of candidate solutions to test\n",
    "    OUTPUT (FAILURE, workingCandidate)\n",
    "```\n",
    "\n",
    "\n",
    "\n",
    "\n",
    "<div class=\"alert alert-block alert-danger\"> The only difference to `uninformed search is the extra line at the start of  each iteration: <b>Sort(OpenList)</b> <br>Sorting our list once makes things faster if we subsequently insert things in the right place to keep it sorted. <br>\n",
    "<b>In practice can just leave unsorted and pick the best according to our sort criteria</b></div> "
   ]
  },
  {
   "cell_type": "markdown",
   "metadata": {},
   "source": [
    "<div class = \"alert alert-warning\" style=\"color:black\">\n",
    "    <h2> Activity One: Quick inspection of common functions to implement. the framework (10 minutes max) </h2>\n",
    "<p>Run the three cells below to:   </p>\n",
    "<ul>\n",
    "    <li> import the modules and the supporting code for this practical</li>\n",
    "    <li> define a common \"initialise\" method.</li>\n",
    "    <li> define a common implementation for the main search loop.</li>\n",
    "    </ul>\n",
    " \n",
    "  \n",
    "<p>    Note how virtually all the code that handles the <b>problem</b> is abstracted into:</p>\n",
    "    <ul>\n",
    "        <li>evaluate(): which tests a solution and stores the estimated distance from the goal in its quality attribute</li>\n",
    "        <li>IsAtGoal(): which checks if a soltion reaches the goal state</li>\n",
    "        <li> displaySearchState(): which displays a candidateSolution and the openList</li>\n",
    "        <li> The list <it>moveSet</it> which lists the possible moves</li>\n",
    "        <li>The three lines 27-29 in runMainSearchLoop(): that create a new meighbour by appending a possible move to a candidate solution.  </li>\n",
    "    </ul>\n",
    "<p>    Also note that all the code which defines the <b>algorithm</b> is handled via the function getNextItemForAlgorithm()</p>\n",
    "</div>    \n",
    "\n"
   ]
  },
  {
   "cell_type": "code",
   "execution_count": 1,
   "metadata": {},
   "outputs": [],
   "source": [
    "import workbook10_utils as wb10\n",
    "from workbook10_utils import Maze,CandidateSolution, evaluate, displaySearchState, IsAtGoal, setUpMaze\n",
    "import matplotlib.pyplot as plt\n",
    "import copy\n",
    "import numpy as np\n",
    "from time import sleep\n",
    "from IPython.display import clear_output\n",
    "%matplotlib inline"
   ]
  },
  {
   "cell_type": "code",
   "execution_count": 2,
   "metadata": {},
   "outputs": [],
   "source": [
    "\n",
    "#### INITIALISE SEARCH ###\n",
    "def initialise(maze):\n",
    "    workingCandidate = CandidateSolution()\n",
    "    #get start position on maze and set this as start for search\n",
    "    workingCandidate.variableValues.append(maze.start)\n",
    "\n",
    "    #measure quality\n",
    "    evaluate(workingCandidate,maze)\n",
    "\n",
    "    #check for lucky guess\n",
    "    if(IsAtGoal(workingCandidate,maze)):\n",
    "        print(\"solution found\")\n",
    "        atGoal = True\n",
    "    else:\n",
    "        openList = []\n",
    "        closedList = []\n",
    "        openList.append(workingCandidate)\n",
    "        atGoal = False\n",
    "        \n",
    "    #show first stage\n",
    "    displaySearchState(maze,workingCandidate,openList,algorithm,0)    \n",
    "    \n",
    "    return workingCandidate, openList,closedList, atGoal\n",
    "\n",
    "\n",
    "\n"
   ]
  },
  {
   "cell_type": "code",
   "execution_count": 3,
   "metadata": {},
   "outputs": [],
   "source": [
    "##================= MAIN SEACH LOOP =================\n",
    "def runMainSearchLoop(maze,workingCandidate,openList, closedList):\n",
    "    iteration = 0\n",
    "    tested = 0\n",
    "    atGoal = False\n",
    "    \n",
    "    #WHILE ( Openlist not empty) DO\n",
    "    while( atGoal==False and  len(openList)>0 and iteration<  1000): \n",
    "\n",
    "        iteration = iteration + 1\n",
    "    \n",
    "        ######### MOVE (chosen item from openList into working candidate)    \n",
    "        nextItem = getNextItemForAlgorithm(algorithm,openList) \n",
    "        workingCandidate = openList.pop(nextItem)\n",
    "\n",
    "        # this is just for the sake of visualisation\n",
    "        displaySearchState(maze, workingCandidate,openList,algorithm,tested)\n",
    "\n",
    "        ######## GENERATE ONE STEP. NEIGHBOURS. \n",
    "        #FOREACH (1-step neighbour)\n",
    "        for move in moveSet:         \n",
    "        \n",
    "            ##### Generate NEIGHBOUR #####\n",
    "            neighbour = copy.deepcopy(workingCandidate)  \n",
    "        \n",
    "            #neighbour = ApplyMoveOperator(workingCandidate)\n",
    "            lastCell = neighbour.variableValues [ -1] # neat bit of python indexing that returns last item in list\n",
    "            nextCell = lastCell + move\n",
    "            neighbour.variableValues.append(nextCell) \n",
    "        \n",
    "            ##### TEST NEIGHBOUR   ###### \n",
    "            evaluate(neighbour,maze)\n",
    "            tested += 1\n",
    " \n",
    "            #IF AT GOAL OUTPUT (SUCCESS, neighbour)\n",
    "            if(IsAtGoal(neighbour, maze)):             \n",
    "                displaySearchState(maze,neighbour,openList,algorithm,tested)\n",
    "                atGoal=True\n",
    "                break ##takes us out of for loop\n",
    "            \n",
    "            ### ELSE UPDATE WORKING MEMORY ###\n",
    "            elif (neighbour.quality>=0): #neighbour is feasible\n",
    "                openList.append(neighbour) \n",
    "            else: #neighbour is infeasible\n",
    "                closedList.append(neighbour)\n",
    " \n",
    "        #### END OF FOR LOOP\n",
    "        ##COPY (working candidate to closedList)\n",
    "        closedList.append(workingCandidate)\n",
    "    \n",
    "    \n",
    "    ##### END OF WHILE LOOP ###\n",
    "\n",
    "    return atGoal,tested,len(neighbour.variableValues)"
   ]
  },
  {
   "cell_type": "markdown",
   "metadata": {},
   "source": [
    "<div class = \"alert alert-warning\" style=\"color:black\">\n",
    "    <h2> Activity Two: Implementing Best-First search and A* </h2>\n",
    "    <p>The next cell shows a partially completed implementation of the method to chose the next item from the openList to explore.<ol>\n",
    "    <li> Complete the code to implement best-first and Astar search then test your code by running the cell after</li>\n",
    "    <li> to compare. with my results, in your loops only improving solutions (not equals)</li>\n",
    "    <li> Then answer the multiple choice questions to check your understyanding</li>\n",
    "    </ol>\n",
    "<p>Hint:<ul>\n",
    "    <li>the class candidateSolution just holds two attributes: quality and variableValues.</li>\n",
    "    <li>quality is the estimated distance to the goal, so we want to minise this. </li>\n",
    "    <li>variableValues is a list of moves that define the specific candidate solution.<br> Like all lists, you can query how many things it holds via len(variableValues).</li></ul></p>\n",
    "    </div>"
   ]
  },
  {
   "cell_type": "code",
   "execution_count": 8,
   "metadata": {},
   "outputs": [],
   "source": [
    "def getNextItemForAlgorithm(algorithm,openList):\n",
    "    next = -1\n",
    "    numEntries = len(openList)\n",
    "    #check openList is not empty\n",
    "    if  ( numEntries == 0 ):\n",
    "        print(\"openList was empty!\")\n",
    "\n",
    "    else:\n",
    "    \n",
    "        if algorithm==\"depthFirst\":\n",
    "            # return last thing added\n",
    "            next = len(openList) -1\n",
    "            \n",
    "        elif algorithm ==\"breadthFirst\":\n",
    "            #return oldest thing on list\n",
    "            next = 0\n",
    "        elif algorithm== \"bestFirst\" :\n",
    "            # write your code here to do a simple loop that finds the index of the item in the openList\n",
    "            # that has the lowest estimated distance from the goal \n",
    "            pass\n",
    "        \n",
    "        elif algorithm==\"Astar\" :\n",
    "            #write your code here to do a simple loop that finds the index of the item in the openList\n",
    "            # that has combined value for (estimated distance from the goal + distance ffrom start)\n",
    "            pass\n",
    "  \n",
    "        else:\n",
    "            print(\"unrecognised algorithm\")\n",
    "                             \n",
    "    return next"
   ]
  },
  {
   "cell_type": "code",
   "execution_count": 11,
   "metadata": {},
   "outputs": [
    {
     "data": {
      "image/png": "[encoded data removed]",
      "text/plain": [
       "<Figure size 540x540 with 1 Axes>"
      ]
     },
     "metadata": {
      "needs_background": "light"
     },
     "output_type": "display_data"
    },
    {
     "name": "stdout",
     "output_type": "stream",
     "text": [
      "Using algorithm Astar, goal was found after 816 tests with length 59:\n"
     ]
    }
   ],
   "source": [
    "algorithm = \"Astar\"\n",
    "\n",
    "maze, moveSet = setUpMaze(\"maze.txt\")\n",
    "workingCandidate,openList,closedList,atGoal = initialise(maze)\n",
    "\n",
    "atGoal,tested,complexity = runMainSearchLoop(maze,workingCandidate,openList, closedList)\n",
    "\n",
    "if(atGoal==False):\n",
    "    print('failed to find solution to the problem in the time allowed!') \n",
    "else:\n",
    "    print('Using algorithm {}, goal was found after {} tests with length {}:'.format(algorithm,tested,complexity))"
   ]
  },
  {
   "cell_type": "code",
   "execution_count": null,
   "metadata": {},
   "outputs": [],
   "source": [
    "display(wb10.Q1)\n",
    "display(wb10.Q2)\n",
    "display(wb10.Q3)\n",
    "display(wb10.Q4)"
   ]
  },
  {
   "cell_type": "markdown",
   "metadata": {},
   "source": [
    "<div class=\"alert alert-warning\" style=\"color:black\">\n",
    "    <h2> Activity 3: Testing your understanding by creating new instances to <it>break</it> Algorithms</h2>\n",
    "    <p> The cell below illustrates how to create a new instance of the path-finding problem by changing walls into paths or vice-versa.</p>\n",
    "    <p><b> Experiment with creating new mazes then answer the following questions.</b></p>\n",
    "    <p> The method that shows the searc hstae has. the following signatuire: <br>\n",
    "        def displaySearchState(theMaze:Maze, current:CandidateSolution, openList,algname,steps, refresh_rate= 0.0075):<br>\n",
    "        You can make your search run faster by changing ther pause between steps (refresh_rate), then restarting the kernel  and re-importing the module<br>\n",
    "        But be wary - this may create flashing outputs.\n",
    "    </div>"
   ]
  },
  {
   "cell_type": "code",
   "execution_count": null,
   "metadata": {},
   "outputs": [],
   "source": [
    "algorithm = \"depthFirst\"\n",
    "\n",
    "maze, moveSet = setUpMaze(\"maze.txt\")\n",
    "print(\"first plot shows the initial maze\")\n",
    "#this is an example of how to make a hole in a wall\n",
    "#in this case jsut below the entrance \n",
    "# the first value is for the row of the cell to change, the second for the column\n",
    "print(\"second plot shows removing a wall cell\")\n",
    "maze.contents[2][9] = 1\n",
    "maze.showMaze()\n",
    "\n",
    "# and this turns a path into a wall\n",
    "print(\"third plot shows creating a new all cell near the bottom right\")\n",
    "maze.contents[19][16] = 0\n",
    "maze.showMaze()"
   ]
  },
  {
   "cell_type": "code",
   "execution_count": null,
   "metadata": {},
   "outputs": [],
   "source": [
    "workingCandidate,openList,closedList,atGoal = initialise(maze)\n",
    "\n",
    "atGoal,tested,complexity = runMainSearchLoop(maze,workingCandidate,openList, closedList)\n",
    "\n",
    "if(atGoal==False):\n",
    "    print('failed to find solution to the problem in the time allowed!') \n",
    "else:\n",
    "    print('Using algorithm {}, goal was found after {} tests with length {}:'.format(algorithm,tested,complexity))"
   ]
  },
  {
   "cell_type": "code",
   "execution_count": null,
   "metadata": {},
   "outputs": [],
   "source": [
    "\n",
    "\n",
    "display(wb10.Q5)\n",
    "display(wb10.Q6)\n"
   ]
  },
  {
   "cell_type": "markdown",
   "metadata": {},
   "source": [
    "<div class = \"alert alert-warning\" style=\"color:black\">\n",
    "<h2>Activity4 (stretch): Changing the direction we search the maze</h2>\n",
    "    <ul>\n",
    "        <li>The order in which the mazes is searched (i.e. left-first or right first) is determined the order that we create neighbours and put them on the openList.   </li>\n",
    "       <li> This is held in the array moveSet is initialised in setUpMaze() as moveSet = [leftMove,rightMove, upMove,downMove] <br>(look in setUpMaze() to see how the values for these four variables are calculated according to the size of the maze).</li>\n",
    "        <b> After the call to setUpMaze you could print out then reorder the contents of movesewt.  Do you think this will make a difference?</b>\n",
    "    </ul>   \n",
    "        </div>"
   ]
  },
  {
   "cell_type": "markdown",
   "metadata": {},
   "source": [
    "<div class=\"alert alert-block alert-danger\"> Please save your work (click the save icon) then shutdown the notebook when you have finished with this tutorial (menu->file->close and shutdown notebook</div>\n",
    "\n",
    "<div class=\"alert alert-block alert-danger\"> Remember to download and save your work if you are not running this notebook locally.</div>"
   ]
  }
 ],
 "metadata": {
  "kernelspec": {
   "display_name": "AIenv",
   "language": "python",
   "name": "aienv"
  },
  "language_info": {
   "codemirror_mode": {
    "name": "ipython",
    "version": 3
   },
   "file_extension": ".py",
   "mimetype": "text/x-python",
   "name": "python",
   "nbconvert_exporter": "python",
   "pygments_lexer": "ipython3",
   "version": "3.8.2"
  }
 },
 "nbformat": 4,
 "nbformat_minor": 4
}
