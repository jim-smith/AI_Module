{
 "cells": [
  {
   "cell_type": "markdown",
   "metadata": {},
   "source": [
    "<div class=\"alert alert-block alert-danger\">\n",
    "TODO change to the  code from lectures and change  progression:\n",
    "    <ol> \n",
    "    <li>experiment with widget- MCQWs to guide them and test what we want them to get out of it</li>\n",
    "    <li>  Iris data - making the point that we could see one class was separable so setting up a chain of two-way classifiers </li>\n",
    "    <li> MNIST - introduction to dataset and then make a classsifier for one digit.<br> adapt code from could show code from https://scikit-learn.org/stable/auto_examples/linear_model/plot_sparse_logistic_regression_mnist.html#sphx-glr-auto-examples-linear-model-plot-sparse-logistic-regression-mnist-py to visualise the weights in the model- e.g. for 8s</li>\n",
    "    <li> link to blog https://www.zswarth.com/blog/creating-a-perceptron-classifier-for-the-mnist-dataset/ to read and answer one mcq </li>\n",
    "    <li> discuss chaining vs parallel and when you might use either: <b>mentimeter to mediate?</b> </li>\n",
    "    </ol></div>"
   ]
  },
  {
   "cell_type": "markdown",
   "metadata": {},
   "source": [
    "# Perceptrons - The basis of Artificial Neural Networks\n",
    "\n",
    "Perceptrons, invented by Frank Rosenblatt in the late 1950's,\n",
    "are a form of supervised machine learning algorithm inspired by neuron cells.\n",
    "In neurons, signals come in along the dendrites and out along the axon. \n",
    "A synapse is the connection between the axon of one cell and the dendrites of another.\n",
    "Crudely, input signals are 'summed' and if they reach a certain threshold the neuron 'fires'\n",
    "and sends a signal down the synapse to the connected cells.\n",
    "\n",
    "![Perceptron](Perceptron.png \"Perceptron Image\")\n",
    "\n",
    "Perceptrons are an algorithmic approximation of this process and can learn to solve simple classification problems.\n",
    "Input values are multiplied by a learnable parameter called a *weight*.\n",
    "If the sum of the inputs $\\times$ weights is over a certain threshold the Perceptron 'fires' and generates an output.\n",
    "We use the *error* in the output to change the value of the *weights* by a small amount - the *learning rate*.\n",
    "The process is repeated until the error is 0, or as small as we can get it.\n",
    "\n",
    "**Note:** The threshold which determines if the Perceptron produces an output is determined by its *activation function*.\n",
    "For Perceptrons this is often a step function which outputs a 1 or 0 i.e. 'fires' or not. However, it can also be a\n",
    "non-linear function such as sigmoid, which will always produce a real numbered output in the range 0 to 1.\n",
    "\n",
    "### Perceptron - Algorithm\n",
    "\n",
    "1. Set weights to random values in range [-0.5, 0.5]\n",
    "\n",
    "2. Set learning rate to a small value, usually less than 0.5\n",
    "\n",
    "3. For each training example in the dataset i.e one 'epoch'\n",
    "\n",
    "    A. Calculate output (activation)\n",
    "    \n",
    "    $sum = \\sum\\limits_{i=0}^{n} w_i \\times x_i$\n",
    "      \n",
    "    $if\\ sum >\\ 0 \\\\ \\;\\;\\;activation = 1 \\\\ \\\\else \\\\ \\;\\;\\;activation = 0$\n",
    "       \n",
    "    B. Calculate error\n",
    "    \n",
    "    $error = target \\, output - activation$\n",
    "\n",
    "    C. Update each of the weights values\n",
    "    \n",
    "    $change \\, in \\, weight = error \\times input \\times learning \\, rate$\n",
    "\n",
    "\n",
    "4. Repeat from step 3 until error is 0 (or as close as possible), or for the number of training epochs.\n",
    "\n",
    "### Perceptrons - Logical Operators\n",
    "\n",
    "We are going to use binary data to show that Perceptrons can learn to represent logical functions,\n",
    "though you could also think about it as a prediction/classification problem\n",
    "i.e. for a given set of inputs what is the correct output.\n",
    "A truth table can be used as the Perceptrons *training* data, with each row representing an input example.\n",
    "Each training example has two inputs (*features*) and one output (*label*).\n",
    "\n",
    "| Input 1| Input 2| AND | OR  | XOR |\n",
    "|:------:|:------:|:---:|:---:|:---:|\n",
    "| 0      | 0      | 0   | 0   | 0   | \n",
    "| 0      | 1      | 0   | 1   | 1   |\n",
    "| 1      | 0      | 0   | 1   | 1   |\n",
    "| 1      | 1      | 1   | 1   | 0   |\n",
    "\n",
    "First we will import some python modules and then create the training data.\n",
    "\n",
    "**Note:** Input data is often denoted as X and labels/target outputs with Y.\n",
    "Here we are going to use **inputs**, but the target outputs have been labeled **AND**, **OR** and **XOR**.\n",
    "This is so we can be clear about what the outputs should be."
   ]
  },
  {
   "cell_type": "markdown",
   "metadata": {},
   "source": [
    "## Activity 1:\n",
    "Work through the first few cells ‘Logical Operators’, ‘Implementation’ and ‘Linear Decision Boundary’ sections and try to familiarise yourself with the algorithm and how the process builds a model by learning values for the weights.\n",
    "How well does it perform on different logical functions?\n",
    "- You do not need to remember the equation for the calculating the line.\n",
    "- You should try and understand how this decision boundary relates to the Perceptrons output (and why it can only be straight).\n",
    "\n"
   ]
  },
  {
   "cell_type": "code",
   "execution_count": 25,
   "metadata": {
    "pycharm": {
     "is_executing": false,
     "name": "#%%\n"
    }
   },
   "outputs": [
    {
     "name": "stdout",
     "output_type": "stream",
     "text": [
      "Input data: [[0, 0], [1, 0], [0, 1], [1, 1]]\n",
      "AND: [0, 0, 0, 1]\n",
      "OR: [0, 1, 1, 1]\n",
      "XOR: [0, 1, 1, 0]\n"
     ]
    }
   ],
   "source": [
    "import numpy as np\n",
    "from random import random\n",
    "# Create input and target output data\n",
    "inputs = [[0, 0],\n",
    "          [1, 0],\n",
    "          [0, 1],\n",
    "          [1, 1]] \n",
    "print(\"Input data: \" + str(inputs))\n",
    "\n",
    "target_outputs_AND = [0, 0, 0, 1]\n",
    "print(\"AND: \" + str(target_outputs_AND))\n",
    "\n",
    "target_outputs_OR = [0, 1, 1, 1]\n",
    "print(\"OR: \" + str(target_outputs_OR))\n",
    "\n",
    "target_outputs_XOR = [0, 1, 1, 0]\n",
    "print(\"XOR: \" + str(target_outputs_XOR))"
   ]
  },
  {
   "cell_type": "markdown",
   "metadata": {
    "pycharm": {
     "name": "#%% md\n"
    }
   },
   "source": [
    "### Implementation\n",
    "\n",
    "Now lets write a function to build and train a Perceptron.\n",
    "This is just an implementation of the algorithm above, except we are going to train one **step** or one **epoch** at a time.\n",
    "This allows us to see what the algorithm is doing more clearly.\n",
    "\n",
    "- A training **step** applies the algorithm to just one input example (A, B and C above).\n",
    "- An **epoch** repeats the training step for all input examples in the data (so in this case 4).\n",
    "\n",
    "First we define the learning rate and model - run the next cell to define the class we used in the lectures"
   ]
  },
  {
   "cell_type": "code",
   "execution_count": 26,
   "metadata": {},
   "outputs": [],
   "source": [
    "class two_input_perceptron:\n",
    "    def  __init__(self,weight1, weight2,biasweight, learningRate):\n",
    "        ##. <== note we're not constraining weights to be ints now\n",
    "        self.weight1 = weight1\n",
    "        self.weight2 = weight2\n",
    "        self.biasweight = biasweight\n",
    "        self.learningRate = learningRate ## <== this is new\n",
    "        \n",
    "    def predict(self,input1:int,input2:int) -> int:\n",
    "        ## <== in general we don't need to contstrian the inputs\n",
    "        summedInput = input1*self.weight1 +input2*self.weight2 + self.biasweight\n",
    "        if summedInput>0:\n",
    "            return 1\n",
    "        else:\n",
    "            return 0\n",
    "\n",
    "    def update_weights( self, in1,in2,target):\n",
    "        error = int (target - self.predict(in1,in2))\n",
    "        if(error != 0):\n",
    "            self.biasweight += error * 1 *self.learningRate # bias is always +1\n",
    "            if (in1>0):\n",
    "                self.weight1 += error * in1 * self.learningRate\n",
    "            if (in2>0):\n",
    "                self.weight2 += error * in2 * self.learningRate           \n",
    "            return 1\n",
    "        else:\n",
    "            return 0     ## <=let the calling function know if it made the right prediction\n"
   ]
  },
  {
   "cell_type": "markdown",
   "metadata": {
    "pycharm": {
     "name": "#%% md\n"
    }
   },
   "source": [
    "Now run the cell below to:\n",
    "- create a perceptron instance, \n",
    "- set it's  **learning_rate** variable determines how large a change we will make to the weights each time they are updated.\n",
    "\n",
    "- run the model for the and data\n",
    "\n",
    "As it trains, in each epoch you will be told when it makes a prediction error, and what the updated weights are you should see output for the current inputs and target outputs,\n",
    "training step, epoch and total error for that epoch.\n",
    "\n",
    "### Activity 1.1: Run the cell below once and make sure you understand which weights are being updated at each step, and why.\n"
   ]
  },
  {
   "cell_type": "code",
   "execution_count": 27,
   "metadata": {},
   "outputs": [
    {
     "name": "stdout",
     "output_type": "stream",
     "text": [
      "starting with initial random weights 0.6675, 0.4731 and 0.0425\n",
      "    error with input 0 0, target 0, predicted 1 \n",
      "    after updating weights are now: w1 0.6675, w2 0.4731 biasweight -0.0575\n",
      "    error with input 1 0, target 0, predicted 1 \n",
      "    after updating weights are now: w1 0.5675, w2 0.4731 biasweight -0.1575\n",
      "    error with input 0 1, target 0, predicted 1 \n",
      "    after updating weights are now: w1 0.5675, w2 0.3731 biasweight -0.2575\n",
      "in epoch 0 there were 3 errors\n",
      "    error with input 1 0, target 0, predicted 1 \n",
      "    after updating weights are now: w1 0.4675, w2 0.3731 biasweight -0.3575\n",
      "    error with input 0 1, target 0, predicted 1 \n",
      "    after updating weights are now: w1 0.4675, w2 0.2731 biasweight -0.4575\n",
      "in epoch 1 there were 2 errors\n",
      "    error with input 1 0, target 0, predicted 1 \n",
      "    after updating weights are now: w1 0.3675, w2 0.2731 biasweight -0.5575\n",
      "in epoch 2 there were 1 errors\n",
      " Perceptron solved the learning problem in 3 epochs\n"
     ]
    }
   ],
   "source": [
    "#### from random import random\n",
    "\n",
    "target = target_outputs_AND\n",
    "# start with random weights\n",
    "w0=random()\n",
    "w1 = random()\n",
    "w2 = random()\n",
    "print(\"starting with initial random weights {:.4f}, {:.4f} and {:.4f}\".format(w1,w2,w0))\n",
    "\n",
    "myPerceptron = two_input_perceptron(w1,w2,w0,0.1)\n",
    "\n",
    "\n",
    "# just keep presenting the test cases nd updating until there are no errors\n",
    "for epoch in range(50):\n",
    "    errors = 0\n",
    "    for testcase in range(4):\n",
    "        # get the inputs to present\n",
    "        input1 = inputs[testcase][0]\n",
    "        input2 = inputs[testcase][1]\n",
    "        # make the prediction\n",
    "        prediction = myPerceptron.predict(input1,input2)\n",
    "        # print output if there were errors\n",
    "        if (prediction != target[testcase]):\n",
    "            print('    error with input {} {}, target {}, predicted {} '.format(input1,input2,target[testcase], prediction ))\n",
    "        thiserror = myPerceptron.update_weights(input1,input2,target[testcase])\n",
    "        if(thiserror>0):\n",
    "            print('    after updating weights are now: w1 {:.4f}, w2 {:.4f} biasweight {:.4f}'.format(myPerceptron.weight1,myPerceptron.weight2,myPerceptron.biasweight))\n",
    "        errors += thiserror\n",
    "\n",
    "    if(errors >0):\n",
    "        print(\"in epoch {} there were {} errors\".format(epoch,errors))\n",
    "    else:\n",
    "        print(\" Perceptron solved the learning problem in {} epochs\".format(epoch))\n",
    "        break"
   ]
  },
  {
   "cell_type": "markdown",
   "metadata": {},
   "source": [
    "### Activity 1.2: Checking your understanding\n",
    "1. Now make a prediction about whether you will see exactly the same thing when you run the cell again.\n",
    " - Be honest: Write down your answer, and your reasoning *before* you run the cell :)\n",
    "\n",
    "2. Run the cell above once more.\n",
    " - was your answer right?  If not, why not?\n",
    "\n",
    "3. Change the code so that the target is now target_outputs_OR  \n",
    "   Again make a prediction about what you expect to see before you run the code.\n",
    "\n",
    "\n",
    "4. Change the code so that the target is nowtarget_outputs_XOR  \n",
    "   Again make a prediction about what you expect to see before you run the code.\n",
    "\n"
   ]
  },
  {
   "cell_type": "markdown",
   "metadata": {
    "pycharm": {
     "is_executing": false,
     "name": "#%% md\n"
    }
   },
   "source": [
    "### Perceptrons - Linear Decision Boundary\n",
    "\n",
    "To give you an intuition for what the Perceptron is doing, consider the equation for a straight line:\n",
    "\n",
    "$y = ax + c$\n",
    "\n",
    "a and c are coefficients just like the learned weights and bias in the Perceptron.\n",
    "So with a bit of rearranging:\n",
    "   \n",
    "$y = (input1 \\times weight1) + (input2 \\times weight2) + bias \\, weight$\n",
    "\n",
    "Becomes:\n",
    "\n",
    "$input2 = (-weight1 \\div weight2) \\times input1) + (-bias \\, weight\\div weight2)$\n",
    "\n",
    "- weights 1 and 2 = slope\n",
    "\n",
    "- bias = intercept\n",
    "\n",
    "- step function = which side of the line!\n",
    "\n",
    "So, the Perceptron is essentially learning a function for a straight line which is called the decision boundary.\n",
    "In this case, which 'class' the set of inputs belongs to i.e. True or False.\n",
    "\n",
    "You can run the below code to create an interactive widget that allows you to manually adjust the weights."
   ]
  },
  {
   "cell_type": "code",
   "execution_count": 28,
   "metadata": {},
   "outputs": [],
   "source": [
    "import ipywidgets as widgets\n",
    "from ipywidgets import interact, interact_manual\n",
    "import matplotlib.pyplot as plt\n",
    "\n",
    "%matplotlib inline\n",
    "\n",
    "\n",
    "def showPerceptron( w1,w2,bias,func): \n",
    "    in1 = np.linspace(-5,5,100)\n",
    "    if (w2==0):\n",
    "        y=0\n",
    "    else:\n",
    "        y = -(bias/w2)  - in1*(w1/w2)\n",
    "    plt.plot(in1, y, '-r',label=\"Decision Boundary\")\n",
    "        # plot sample functions\n",
    "    if(func != ''):\n",
    "        plt.plot(0,0,'or')\n",
    "        if(func=='AND'):\n",
    "            m01 = m10 = 'or'\n",
    "        else:\n",
    "            m01=m10='og'\n",
    "        if(func=='XOR'):\n",
    "            m11 = 'or'\n",
    "        else:\n",
    "            m11 = 'og'\n",
    "        plt.plot(0,1,m01)\n",
    "        plt.plot(1,0,m10)\n",
    "        plt.plot(1,1,m11)\n",
    "    \n",
    "    plt.title('Graph of Perceptron decision Boundary')\n",
    "    plt.xlabel('input1', color='#1C2833')\n",
    "    plt.ylabel('input2', color='#1C2833')\n",
    "\n",
    "    plt.xlim(-1.0,2.0)\n",
    "    plt.ylim(-1.0,2.0)\n",
    "    plt.legend(loc='upper left')\n",
    "    plt.grid()"
   ]
  },
  {
   "cell_type": "code",
   "execution_count": 15,
   "metadata": {},
   "outputs": [
    {
     "data": {
      "application/vnd.jupyter.widget-view+json": {
       "model_id": "d79485a4772a4baaa5b779bbba2c3d84",
       "version_major": 2,
       "version_minor": 0
      },
      "text/plain": [
       "interactive(children=(FloatSlider(value=-0.5, description='w1', max=1.0, min=-1.0), FloatSlider(value=0.5, des…"
      ]
     },
     "metadata": {},
     "output_type": "display_data"
    },
    {
     "data": {
      "image/png": "[encoded data removed]",
      "text/plain": [
       "<Figure size 432x288 with 1 Axes>"
      ]
     },
     "metadata": {
      "needs_background": "light"
     },
     "output_type": "display_data"
    }
   ],
   "source": [
    "weight1 = widgets.FloatSlider(value=-0.5,min = -1,max = 1)\n",
    "weight2 = widgets.FloatSlider(value=0.5,min = -1,max = 1)\n",
    "biasweight = widgets.FloatSlider(value=-0.5,min = -1,max = 1)\n",
    "funcToModel = widgets.RadioButtons(options=['OR','AND','XOR'])\n",
    "output=interact(showPerceptron, w1=weight1,w2=weight2,bias=biasweight,func = funcToModel)"
   ]
  },
  {
   "cell_type": "code",
   "execution_count": null,
   "metadata": {},
   "outputs": [],
   "source": [
    "TODO add mcq “if a I have a perceptron that does or, what do I change to make to do amd? Increase decrease w1,2,3"
   ]
  },
  {
   "cell_type": "markdown",
   "metadata": {},
   "source": [
    "# Activity 2: Learning from  examples with two continuous features \n",
    "The aim of this task is to illustrate how Perceptrons can be applied to a larger, more realistic, dataset with real numbered features.  \n",
    "We will apply the algorithm in using the training step code from before.  \n",
    "However, this time we will train the perceptron for a fixed number of epochs and then test the model on a held back test set.\n",
    "\n",
    "In the ‘Training and Testing on Real-Fake Data’ section the first cell generates some random training and test data.\n",
    "- In this activity we are just going ot consider a problem with two classes.\n",
    "\n",
    "In the next cell you need to complete the train_perceptron function by copying the relevant code (only the training step!) from previous cells. Once it is complete you should see output of error and accuracy from training.\n",
    "\n",
    "Next you can complete the test_perceptron function in a similar manner and you should see output of how well the trained model performed on the test data.\n",
    "- What effect does the learning rate and number of examples per epoch have?\n",
    "- Try changing some of the parameters of the randomly created data and see what effect it has.\n",
    "\n"
   ]
  },
  {
   "cell_type": "markdown",
   "metadata": {
    "pycharm": {
     "is_executing": false,
     "name": "#%% md\n"
    }
   },
   "source": [
    "### Perceptrons - Training and Testing on Real-Fake Data\n",
    "\n",
    "Truth table data and logical functions are a good way to learn the Perceptron algorithm but the data isn't very realistic.\n",
    "\n",
    "Most problems are much more complex and cannot be represented with binary data or solved with only 4 training examples.\n",
    "We were also only training for one **step** (one input example) or one **epoch** (all input examples) at a time, so that we\n",
    "could see what the algorithm was doing.\n",
    "\n",
    "In supervised learning, generally we want to train for a fixed number of epochs, or until there is no improvement in\n",
    "the error on the training data. Once training is finished we apply the model (trained weights) to some test data and\n",
    "measure its performance. This gives us an indication of how well it would perform on new data it has not 'seen' before.\n",
    "\n",
    "Next we will train and then test a Perceptron on a larger, real numbered dataset so that we can see the process of \n",
    "applying machine learning in practice.\n",
    "\n",
    "As before, we will first import some python modules and then randomly generate some training and test data.\n",
    "This time the features of the data will be real numbers but there are still only 2 classes/labels, 0 and 1.\n",
    "\n",
    "It's also helpful to plot the data so that we can see how it is distributed.\n",
    "\n",
    "**Note:** The make_blobs function generates a random dataset, the centers variable determines how many classes/labels\n",
    "are in the data, n_features is the number of features each example has and cluster_std is the standard deviation of\n",
    "each class i.e. how randomly scattered they are from eachother."
   ]
  },
  {
   "cell_type": "code",
   "execution_count": null,
   "metadata": {
    "pycharm": {
     "is_executing": false,
     "name": "#%%\n"
    }
   },
   "outputs": [],
   "source": [
    "# Import some needed modules\n",
    "import matplotlib.pyplot as plt\n",
    "from sklearn.datasets import make_blobs\n",
    "from sklearn.model_selection import train_test_split\n",
    "%matplotlib inline\n",
    "\n",
    "# Generate random dataset\n",
    "num_samples = 150\n",
    "features, labels = make_blobs(n_samples=num_samples, centers=2, n_features=2, cluster_std=1.0, random_state=0)\n",
    "\n",
    "# Split data to training and test data, 2/3 for training and 1/3 for testing\n",
    "train_x, test_x, train_y, test_y = train_test_split(features, labels, test_size=0.33)"
   ]
  },
  {
   "cell_type": "code",
   "execution_count": 29,
   "metadata": {
    "pycharm": {
     "is_executing": false,
     "name": "#%%\n"
    }
   },
   "outputs": [
    {
     "name": "stdout",
     "output_type": "stream",
     "text": [
      "Shape of training data: (100, 2)\n",
      "Shape of test data: (50, 2)\n",
      "First 5 features of training data:\n",
      "[[ 1.41164912 -1.32573949]\n",
      " [ 0.9867701   6.08965782]\n",
      " [ 1.45795145  0.65974193]\n",
      " [ 1.35269561  3.20438654]\n",
      " [ 0.57309313  5.5262324 ]]\n",
      "First 5 labels of training data:\n",
      "[1 0 1 0 0]\n"
     ]
    },
    {
     "data": {
      "image/png": "[encoded data removed]",
      "text/plain": [
       "<Figure size 1152x432 with 2 Axes>"
      ]
     },
     "metadata": {
      "needs_background": "light"
     },
     "output_type": "display_data"
    }
   ],
   "source": [
    "# Print some information about the data\n",
    "print(\"Shape of training data: \" + str(train_x.shape))\n",
    "print(\"Shape of test data: \" + str(test_x.shape))\n",
    "print(\"First 5 features of training data:\")\n",
    "print(train_x[: 5, :])\n",
    "print(\"First 5 labels of training data:\")\n",
    "print(train_y[:5])\n",
    "\n",
    "# Plot the training and test data side by side using ther labels to set the color of the markers\n",
    "figure, ax = plt.subplots(1, 2, figsize=(16, 6))\n",
    "ax[0].scatter(train_x[:,0], train_x[:,1], c=train_y )\n",
    "ax[0].title.set_text(\"Train\")\n",
    "ax[1].scatter(test_x[:,0], test_x[:,1], c=test_y)\n",
    "ax[1].title.set_text(\"Test\")\n",
    "plt.show()"
   ]
  },
  {
   "cell_type": "markdown",
   "metadata": {
    "pycharm": {
     "name": "#%% md\n"
    }
   },
   "source": [
    "### Perceptron - Train Function\n",
    "\n",
    "Now we can define the training function for the Perceptron. It is very similar to the previous, except it will train\n",
    "for the num_epochs that we define.\n",
    "\n",
    "The function **inputs** are the training examples, training labels, number of epochs and learning rate.\n",
    "\n",
    "The function **returns** the trained model i.e. the 3 trained weights.\n",
    "\n",
    "Every epoch will calculate and print the error and accuracy for that epoch.\n",
    "\n",
    "Once training is complete we can use the equation from the *Linear Decision Boundary* section above to draw the\n",
    "decision boundary for the trained model."
   ]
  },
  {
   "cell_type": "code",
   "execution_count": null,
   "metadata": {
    "pycharm": {
     "is_executing": false,
     "name": "#%%\n"
    }
   },
   "outputs": [],
   "source": [
    "extend binary perceptron to. add fit() function and deal with arbitrary numbers of inputs\n",
    "\n",
    "\n",
    "class n_input_perceptron:\n",
    "    def  __init__(self,numInputs, learningRate):\n",
    "        self.numInputs = numInputs\n",
    "        # make an array to store our weights and put in random starting values\n",
    "        self.weights = np.zeroes(self.numInputs)\n",
    "        for weight in range(numInputs):\n",
    "            self.weights[weight] = random()\n",
    "        # qlso set a random initial  bias weight\n",
    "        self.biasweight = random()\n",
    "        self.learningRate = learningRate ## <== this is new\n",
    "        \n",
    "    def predict(self,input1:int,input2:int) -> int:\n",
    "        \n",
    "        summedInput = input1*self.weight1 +input2*self.weight2 + self.biasweight\n",
    "        if summedInput>0:\n",
    "            return 1\n",
    "        else:\n",
    "            return 0\n",
    "\n",
    "    def update_weights( self, in1,in2,target):\n",
    "        error = int (target - self.predict(in1,in2))\n",
    "        if(error != 0):\n",
    "            self.biasweight += error * 1 *self.learningRate # bias is always +1\n",
    "            if (in1>0):\n",
    "                self.weight1 += error * in1 * self.learningRate\n",
    "            if (in2>0):\n",
    "                self.weight2 += error * in2 * self.learningRate           \n",
    "            return 1\n",
    "        else:\n",
    "            return 0     ## <=let the calling function know if it made the right prediction\n",
    "\n"
   ]
  },
  {
   "cell_type": "code",
   "execution_count": 2,
   "metadata": {
    "pycharm": {
     "is_executing": false,
     "name": "#%%\n"
    }
   },
   "outputs": [
    {
     "name": "stdout",
     "output_type": "stream",
     "text": [
      "Initialised model weights:\n",
      "weight_1: -0.31134500979141777 weight_2: -0.4677391072013787 bias_weight: -0.06737375335073581\n",
      "Epoch: 1 Error: 100 Accuracy: 0.0\n",
      "Epoch: 2 Error: 100 Accuracy: 0.0\n",
      "Epoch: 3 Error: 100 Accuracy: 0.0\n",
      "Epoch: 4 Error: 100 Accuracy: 0.0\n",
      "Epoch: 5 Error: 100 Accuracy: 0.0\n",
      "Epoch: 6 Error: 100 Accuracy: 0.0\n",
      "Epoch: 7 Error: 100 Accuracy: 0.0\n",
      "Epoch: 8 Error: 100 Accuracy: 0.0\n",
      "Epoch: 9 Error: 100 Accuracy: 0.0\n",
      "Epoch: 10 Error: 100 Accuracy: 0.0\n",
      "Trained model weights:\n",
      "w1: -0.31134500979141777 w2: -0.4677391072013787 bw: -0.06737375335073581\n"
     ]
    },
    {
     "data": {
      "image/png": "[encoded data removed]",
      "text/plain": [
       "<Figure size 576x432 with 1 Axes>"
      ]
     },
     "metadata": {
      "needs_background": "light"
     },
     "output_type": "display_data"
    }
   ],
   "source": [
    "# Define the number of training epochs and learning rate\n",
    "num_epochs = 10\n",
    "learning_rate = 0.1\n",
    "\n",
    "def train_perceptron(inputs, target_outputs, num_epochs, learning_rate):\n",
    "\n",
    "    # Set the weights to small random values in the range -0.5 to 0.5  \n",
    "    w1 = np.random.uniform(-0.5, 0.5)\n",
    "    w2 = np.random.uniform(-0.5, 0.5)\n",
    "    bw = np.random.uniform(-0.5, 0.5)\n",
    "    bias = 1\n",
    "    print(\"Initialised model weights:\")\n",
    "    print(\"weight_1: \" + str(w1) + \" weight_2: \" + str(w2) + \" bias_weight: \" + str(bw))\n",
    "    \n",
    "    # Each epoch will loop over the training data once\n",
    "    for epoch in range(num_epochs):\n",
    "        epoch_error = 0\n",
    "\n",
    "        # Loop over all of the input examples\n",
    "        for i in range(len(inputs)):\n",
    "            error = -1\n",
    "            # Calculate sum of inputs * weights\n",
    "\n",
    "            \n",
    "            # Activation (step) function\n",
    "\n",
    "\n",
    "            # Calculate error (desired output - actual output)\n",
    "\n",
    "            epoch_error += np.absolute(error) # Also keep track of total error for this epoch\n",
    "\n",
    "            # Update weights (error * input * learning rate)\n",
    "\n",
    "        \n",
    "        # Calculate epoch accuracy and print metrics    \n",
    "        epoch_accuracy = (100/len(inputs)) * (len(inputs) - epoch_error)\n",
    "        print(\"Epoch: \" + str(epoch + 1) + \" Error: \" + str(epoch_error) + \" Accuracy: \" + str(round(epoch_accuracy, 2)))\n",
    "    return w1, w2, bw\n",
    "\n",
    "# Call the function to train the Perceptron and return the trained weights\n",
    "input_w1, input_w2, bias_w = train_perceptron(train_x, train_y, num_epochs, learning_rate)\n",
    "\n",
    "print(\"Trained model weights:\")\n",
    "print(\"w1: \" + str(input_w1) + \" w2: \" + str(input_w2) + \" bw: \" + str(bias_w))\n",
    "\n",
    "# Create the range of values for decision boundary\n",
    "x_range = np.linspace(train_x[:,0].min(), train_x[:,0].max(), 10)\n",
    "y_range = [((-input_w1/input_w2) * x) + (-bias_w/input_w2) for x in x_range]\n",
    "\n",
    "# Plot the training data and the decision boundary\n",
    "figure, ax = plt.subplots(figsize=(8, 6))\n",
    "sns.scatterplot(x=train_x[:,0], y=train_x[:,1], hue=train_y, ax=ax)\n",
    "sns.lineplot(x=x_range, y=y_range, color='r', ax=ax)\n",
    "plt.show()"
   ]
  },
  {
   "cell_type": "markdown",
   "metadata": {
    "pycharm": {
     "name": "#%% md\n"
    }
   },
   "source": [
    "### Perceptron - Test Function\n",
    "\n",
    "Now we can test the trained model by making predictions on the test data.\n",
    "\n",
    "The main difference is that now we **don't** update the weights. So, we just pass in the trained weights and iterate\n",
    "for one epoch over the training data, recording the error and accuracy.\n",
    "\n",
    "Finally we can plot the test data and decision boundary as before."
   ]
  },
  {
   "cell_type": "code",
   "execution_count": null,
   "metadata": {
    "pycharm": {
     "is_executing": false,
     "name": "#%%\n"
    }
   },
   "outputs": [],
   "source": [
    "def test_perceptron(inputs, target_outputs, w1, w2, bw):\n",
    "    \n",
    "    # Keep track of the error on the test data\n",
    "    test_error = 0\n",
    "    \n",
    "    # Loop over all of the test examples\n",
    "    for i in range(len(inputs)):\n",
    "        error = -1\n",
    "\n",
    "\n",
    "\n",
    "        test_error += np.absolute(error) # Also keep track of total error testing\n",
    "      \n",
    "    # Calculate epoch accuracy and print metrics    \n",
    "    test_accuracy = (100/len(inputs)) * (len(inputs) - test_error)\n",
    "    print(\"Test Error: \" + str(test_error) + \" Accuracy: \" + str(round(test_accuracy, 2)))\n",
    "\n",
    "# Call the test perceptron function with the test data and trained model    \n",
    "test_perceptron(test_x, test_y, input_w1, input_w2, bias_w)\n",
    "\n",
    "# Create the range of values for decision boundary\n",
    "x_range = np.linspace(test_x[:,0].min(), test_x[:,0].max(), 10)\n",
    "y_range = [((-input_w1/input_w2) * x) + (-bias_w/input_w2) for x in x_range]\n",
    "\n",
    "# Plot the training data and the decision boundary\n",
    "figure, ax = plt.subplots(figsize=(8, 6))\n",
    "sns.scatterplot(x=test_x[:,0], y=test_x[:,1], hue=test_y, ax=ax)\n",
    "sns.lineplot(x=x_range, y=y_range, color='r', ax=ax)\n",
    "plt.show()"
   ]
  },
  {
   "cell_type": "markdown",
   "metadata": {},
   "source": [
    "## Activity 3: Learning from data with more thanb two features andclasses (itris data)\n",
    "\n",
    "perceptrons can only make two-way distinctions so we'll use a cascade approach\n",
    "- first prtedict if  items as setosa or not\n",
    "- then put then remainderthrough a clasifier that says versicolor-or virginica\n"
   ]
  },
  {
   "cell_type": "code",
   "execution_count": 16,
   "metadata": {},
   "outputs": [
    {
     "name": "stdout",
     "output_type": "stream",
     "text": [
      "[0 0 0 0 0 0 0 0 0 0 0 0 0 0 0 0 0 0 0 0 0 0 0 0 0 0 0 0 0 0 0 0 0 0 0 0 0\n",
      " 0 0 0 0 0 0 0 0 0 0 0 0 0 1 1 1 1 1 1 1 1 1 1 1 1 1 1 1 1 1 1 1 1 1 1 1 1\n",
      " 1 1 1 1 1 1 1 1 1 1 1 1 1 1 1 1 1 1 1 1 1 1 1 1 1 1 2 2 2 2 2 2 2 2 2 2 2\n",
      " 2 2 2 2 2 2 2 2 2 2 2 2 2 2 2 2 2 2 2 2 2 2 2 2 2 2 2 2 2 2 2 2 2 2 2 2 2\n",
      " 2 2]\n",
      "there are 150 training examples\n",
      "there are 3 labels: [0 1 2]\n"
     ]
    }
   ],
   "source": [
    "# load the data\n",
    "\n",
    "#useful functions\n",
    "from  sklearn.model_selection import train_test_split \n",
    "from sklearn.metrics import plot_confusion_matrix\n",
    "\n",
    "#the iris data\n",
    "from sklearn.datasets import load_iris\n",
    "\n",
    "irisX,irisy = load_iris(return_X_y = True)\n",
    "feature_names = ['sepal width','sepal_length','petal_width','petal_length']\n",
    "irisLabels = np.array(('setosa','versicolor','virginica'))\n",
    "# show what the labels look like\n",
    "print(irisy)\n",
    "\n",
    "numcases = len(irisy)\n",
    "print('there are ' +str(numcases) +' training examples')\n",
    "thelabels = np.unique(irisy)\n",
    "numlabels = len(thelabels)\n",
    "print( 'there are ' + str(numlabels) + ' labels: ' + str(thelabels))\n"
   ]
  },
  {
   "cell_type": "markdown",
   "metadata": {},
   "source": [
    "### Splitting our data into a training and a test set\n",
    "As you can see from the output of the cells above, the iris data has groups all the classes i.e. rows 0-49 are 'iris-setosa', 50-99 are 'iris versicolor'. and rows 100-149 are 'iris-virginica'.\n",
    "\n",
    "So if we want to train our network  and then estimate how well it will do on new data, we need to split this into a training and test set.  \n",
    "Again, we could do this manually:\n",
    "- first shuffling the rows so that we got a mixture of classes, \n",
    "- then taking the first part of the data for training and the second for testing.\n",
    "\n",
    "If the data are not so well organised, or the numbers of examples of different classes are not roughly equal, then that code gets trickier.  \n",
    "So the cell below shows how to do this using a method from sklearn.   \n",
    "The parameters are, in order:\n",
    "- the feature values (irisx)\n",
    "- the  set of labels (irisy)\n",
    "- what proportion of our data we holdback from training, so we can use it for test. We'll use 1/3rd ( test_size=0.33)\n",
    "- the array holding the labels that we want to be evenl;y represented in both our training and test sets. (stratify=irisy_onehot)\n",
    "\n",
    "This function returns the four different arrays - train and test, x and y.  \n"
   ]
  },
  {
   "cell_type": "code",
   "execution_count": 17,
   "metadata": {},
   "outputs": [],
   "source": [
    "iris_train_X, iris_test_X, iris_train_y, iris_test_y = train_test_split(irisX,irisy, test_size=0.33, stratify=irisy )"
   ]
  },
  {
   "cell_type": "markdown",
   "metadata": {},
   "source": [
    "First we need to set up  version of the labels which just treat the data as setosa (0) or not (1),\n",
    "by setting the valeus 2 (virginica) to 1"
   ]
  },
  {
   "cell_type": "code",
   "execution_count": 20,
   "metadata": {},
   "outputs": [],
   "source": [
    "setosa_train_Labels = np.where(iris_train_y==2,1, iris_train_y)\n",
    "setosa_test_Labels = np.where(iris_test_y==2,1, iris_test_y)\n",
    "\n"
   ]
  },
  {
   "cell_type": "code",
   "execution_count": null,
   "metadata": {},
   "outputs": [],
   "source": [
    "code ot run the classifier\n",
    "\n",
    "then get the predictions and extract a subsetof the training data that has label 1 (not setosa)\n",
    "and create the new training sets\n",
    "now train sa different classifier on thatr reduced training set\n",
    "\n",
    "finally put the trained models together in a cascade:\n",
    "    if(setosaCalssifer.output (example)==1):\n",
    "        thePrediction = versicolorPerceptron.output(example)"
   ]
  },
  {
   "cell_type": "markdown",
   "metadata": {},
   "source": [
    "<div class=\"alert alert-block alert-danger\"> Please save your work (click the save icon) then shutdown the notebook when you have finished with this tutorial (menu->file->close and shutdown notebook</div>\n",
    "\n",
    "<div class=\"alert alert-block alert-danger\"> Remember to download and save your work if you are not running this notebook locally.</div>"
   ]
  },
  {
   "cell_type": "code",
   "execution_count": null,
   "metadata": {},
   "outputs": [],
   "source": []
  }
 ],
 "metadata": {
  "kernelspec": {
   "display_name": "Python 3",
   "language": "python",
   "name": "python3"
  },
  "language_info": {
   "codemirror_mode": {
    "name": "ipython",
    "version": 3
   },
   "file_extension": ".py",
   "mimetype": "text/x-python",
   "name": "python",
   "nbconvert_exporter": "python",
   "pygments_lexer": "ipython3",
   "version": "3.6.2"
  },
  "pycharm": {
   "stem_cell": {
    "cell_type": "raw",
    "metadata": {
     "collapsed": false
    },
    "source": []
   }
  }
 },
 "nbformat": 4,
 "nbformat_minor": 4
}
