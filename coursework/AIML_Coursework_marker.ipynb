{
 "cells": [
  {
   "cell_type": "markdown",
   "metadata": {},
   "source": [
    "# AIML Coursework marker"
   ]
  },
  {
   "cell_type": "code",
   "execution_count": 1,
   "metadata": {},
   "outputs": [],
   "source": [
    "import re\n",
    "import aiml\n",
    "\n",
    "def preprocessSingleInput(bot,theInput):\n",
    "    # run the input through the 'normal' subber- only wortks for a single sentence\n",
    "    subbed1 = bot._subbers['normal'].sub(theInput).upper()\n",
    "    subbed2 = re.sub(bot._brain._puncStripRE, \" \", subbed1)\n",
    "    return(subbed2)\n",
    "    "
   ]
  },
  {
   "cell_type": "code",
   "execution_count": 2,
   "metadata": {},
   "outputs": [],
   "source": [
    "debug = True\n",
    "debug2 = False\n",
    "DEWIS_MSG_PREFIX = \"\"\n",
    "DEWIS_SCORE_PREFIX = \"DEWIS_SCORE\"\n",
    "theAIMLfile = '45cats.aiml'\n",
    "theQuestionsFile = \"coursework-questions-and-responses.txt\"\n",
    "outputFile = theAIMLfile[:-5] +\"-results.txt\"\n",
    "NUMQS =45\n",
    "contextQuestions = [32,45,44]"
   ]
  },
  {
   "cell_type": "code",
   "execution_count": 3,
   "metadata": {},
   "outputs": [
    {
     "name": "stdout",
     "output_type": "stream",
     "text": [
      "45 question-response pairs read for testing your bot\n"
     ]
    }
   ],
   "source": [
    "#declare arrays to hold the questions and answers\n",
    "questions = []\n",
    "responses = []\n",
    "\n",
    "# read the questions and answers in\n",
    "# Using readline() \n",
    "file1 = open(theQuestionsFile, 'r') \n",
    "thisQ = 0\n",
    "  \n",
    "while True: \n",
    "    # Get next line from file \n",
    "    line = file1.readline() \n",
    "    if not line: \n",
    "        print(\"unexpected end of file\")\n",
    "        break\n",
    "    # should be a question\n",
    "    elif (line[0] != 'Q' ):\n",
    "        print(\"didn't get expected question marker Q\")\n",
    "        break;\n",
    "    elif ( int(line[1:3]) != thisQ):\n",
    "        print(\"question had wrong number\")\n",
    "        break\n",
    "    else:\n",
    "        questions.append( line[5:-1])\n",
    "        if(debug2):\n",
    "            print(\"question {} is: {}\".format(thisQ,questions[thisQ]))        \n",
    "        \n",
    "    line = file1.readline() # next line should be the corresponding answer\n",
    "    if not line: \n",
    "        print(\"unexpected end of file\")\n",
    "        break\n",
    "    elif (line[0] != 'A' ):\n",
    "        print(\"didn't get expected answer marker A\")\n",
    "        break;\n",
    "    elif ( int(line[1:3]) != thisQ):\n",
    "        print(\"answer had wrong number\")\n",
    "        break\n",
    "    else:\n",
    "        responses.append(line[5:-1])\n",
    "        if(debug2):\n",
    "            print(\"response {} is: {}\".format(thisQ,responses[thisQ]))\n",
    "    \n",
    "    thisQ += 1\n",
    "    # then read the empty line separating QnA paits\n",
    "    line = file1.readline()\n",
    "    \n",
    "    # if line is empty \n",
    "    # end of file is reached \n",
    "    if not line: \n",
    "        break\n",
    "    if(debug2):\n",
    "        print(\"\")\n",
    "\n",
    "file1.close() \n",
    "\n",
    "\n",
    "\n",
    "\n",
    "# check that there are the right number\n",
    "if (thisQ <NUMQS ):\n",
    "    print(\"error, only {} question-answer pairs read\".format(thisQ))\n",
    "elif (len(questions) < NUMQS or len(responses)<NUMQS):\n",
    "    print(\"error, somehow the questions or responses have not all be saved\")\n",
    "    if(debug):\n",
    "        print(\" {} questions and {}responses read, thisQ = {}\".format(len(questions),len(responses),thisQ))\n",
    "else: \n",
    "    print('{} question-response pairs read for testing your bot'.format(thisQ))"
   ]
  },
  {
   "cell_type": "code",
   "execution_count": 4,
   "metadata": {},
   "outputs": [],
   "source": [
    "# Create Chatbot and read the candidate AIML file\n",
    "checkBot = aiml.Kernel()\n",
    "checkBot.verbose(True)"
   ]
  },
  {
   "cell_type": "code",
   "execution_count": 5,
   "metadata": {},
   "outputs": [
    {
     "name": "stdout",
     "output_type": "stream",
     "text": [
      "Loading 45cats-with-that.aiml...done (0.01 seconds)\n",
      "   After reading your file the bot has 45 categories\n",
      "   The bot will overwrite categories with the same pattern, that and topic\n",
      " this number should help you fix misformed categories if needed\n",
      "\n"
     ]
    }
   ],
   "source": [
    "checkBot.resetBrain()\n",
    "checkBot.learn(theAIMLfile)\n",
    "\n",
    "# How many categories were correctly read\n",
    "numCategories = checkBot.numCategories()\n",
    "print( \" {}  After reading your file the bot has {} categories\".format(DEWIS_MSG_PREFIX,numCategories))\n",
    "print( \" {}  The bot will overwrite categories with the same pattern, that and topic\".format(DEWIS_MSG_PREFIX,numCategories))\n",
    "print('{} this number should help you fix misformed categories if needed'.format(DEWIS_MSG_PREFIX))\n",
    "print()"
   ]
  },
  {
   "cell_type": "code",
   "execution_count": 6,
   "metadata": {},
   "outputs": [
    {
     "name": "stdout",
     "output_type": "stream",
     "text": [
      " You used <srai> 0 times,   used wildcards  0 times, and used the matched values 0 times,\n",
      " You set values for 0 variables and used <that> 3 times\n",
      " You changed the bots response depending on variable values 3 times\n"
     ]
    }
   ],
   "source": [
    "# either figure out how to query the bot categories\n",
    "## or open the student.aiml file and read it line by line looking for <srai> <set> <star/> and <that>\n",
    "file2 = open(theAIMLfile,'r')\n",
    "srai_count = 0\n",
    "set_count = 0\n",
    "wildcard_count=0\n",
    "starslash_count=0\n",
    "that_count = 0\n",
    "condition_count= 0\n",
    "\n",
    "#read through line by line coutning uise of AIML constructs\n",
    "while(True):\n",
    "    line = file2.readline()\n",
    "    if not line:\n",
    "        break\n",
    "    if \"<srai>\" in line:\n",
    "        srai_count += 1\n",
    "    if \"<set\" in line: # just use start - they ar hopefullty defining a name for their variable\n",
    "        set_count += 1\n",
    "    if (\"*\" in line) or (\"_\" in line) or (\"^\" in line) or (\"#\" in line):\n",
    "        wildcard_count +=1\n",
    "    if \"<star\" in line: #just look for start of tag in case they used indexing\n",
    "        starslash_count += 1\n",
    "    if \"<that\" in line: #just look for start of tag in case they used indexing\n",
    "        that_count +=1\n",
    "    if \"<that\" in line: #just look for start of tag in case they used indexing\n",
    "        condition_count +=1\n",
    "file2.close       \n",
    "        \n",
    "print('{} You used <srai> {} times,   used wildcards  {} times, and used the matched values {} times,'.format(DEWIS_MSG_PREFIX,srai_count,wildcard_count,starslash_count))\n",
    "print('{} You set values for {} variables and used <that> {} times'.format(DEWIS_MSG_PREFIX,set_count,that_count) )\n",
    "print('{} You changed the bots response depending on variable values {} times'.format(DEWIS_MSG_PREFIX,condition_count) )"
   ]
  },
  {
   "cell_type": "code",
   "execution_count": 7,
   "metadata": {},
   "outputs": [],
   "source": [
    "\n",
    "\n",
    "# initialise score\n",
    "numCorrect = 0\n",
    "numContextQsCorrect=0\n",
    "\n",
    "file3 = open(outputFile,'w')\n",
    "\n",
    "for thisQ in range (NUMQS):\n",
    "    #get bot's response to question\n",
    "    botResponse = checkBot.respond(questions[thisQ])\n",
    "    file3.write('Q{:2d}: {}\\n'.format(thisQ, questions[thisQ]))\n",
    "    file3.write('Expected response: {}\\n'.format(responses[thisQ]))\n",
    "    file3.write('Your bot response: {}\\n'.format(botResponse))\n",
    "    # check if it matches the required input\n",
    "    if botResponse == responses[thisQ] :\n",
    "        #print('question {} answered correctly'.format(thisQ))\n",
    "        file3.write('*** Question answered correctly\\n\\n')\n",
    "        numCorrect +=1\n",
    "        if thisQ in contextQuestions:\n",
    "            numContextQsCorrect +=1\n",
    "    else:\n",
    "        file3.write('Question answered incorrectly\\n\\n')\n",
    "        if(debug):\n",
    "            theInput = questions[thisQ]\n",
    "            print('Q{} {}\\n gets preprocessed as:{}'.format(thisQ,theInput,preprocessSingleInput(checkBot,theInput)))\n",
    "            print(' expected :' +responses[thisQ])\n",
    "            print(' got      :' +botResponse)\n",
    "            lastThat = checkBot.getPredicate(\"_outputHistory\")\n",
    "\n",
    "# write final line to log file and exit\n",
    "file3.write(' In total you got {} questions correct'.format(numCorrect))\n",
    "file3.close()"
   ]
  },
  {
   "cell_type": "code",
   "execution_count": 8,
   "metadata": {},
   "outputs": [
    {
     "name": "stdout",
     "output_type": "stream",
     "text": [
      "DEWIS_SCORE 55\n"
     ]
    }
   ],
   "source": [
    "# calculate final score\n",
    "finalScore= numCorrect \n",
    "# if all questions correct then we start rewarding go solutions\n",
    "if (numCorrect==NUMQS):\n",
    "    if(numCategories < 5):\n",
    "        finalScore= 65\n",
    "    elif (numCategories <10):\n",
    "        finalScore = 100\n",
    "    else:\n",
    "        finalScore = 100 - numCategories\n",
    "\n",
    "# provide output for DEWIS\n",
    "print('{} {}'.format(DEWIS_SCORE_PREFIX,finalScore))\n",
    "\n",
    "    "
   ]
  },
  {
   "cell_type": "code",
   "execution_count": 9,
   "metadata": {},
   "outputs": [
    {
     "name": "stdout",
     "output_type": "stream",
     "text": [
      "45 45\n"
     ]
    }
   ],
   "source": [
    "print (numCorrect,numCategories)"
   ]
  },
  {
   "cell_type": "code",
   "execution_count": 10,
   "metadata": {},
   "outputs": [],
   "source": [
    "#keepgoing= True\n",
    "#while(keepgoing):\n",
    "#    nextInput = input(\"Enter your message >> \")\n",
    "#    if (nextInput=='bye'):\n",
    "#       keepgoing= False\n",
    "#    else:\n",
    "#        print (checkBot.respond(nextInput))"
   ]
  },
  {
   "cell_type": "code",
   "execution_count": null,
   "metadata": {},
   "outputs": [],
   "source": []
  }
 ],
 "metadata": {
  "kernelspec": {
   "display_name": "Python 3",
   "language": "python",
   "name": "python3"
  },
  "language_info": {
   "codemirror_mode": {
    "name": "ipython",
    "version": 3
   },
   "file_extension": ".py",
   "mimetype": "text/x-python",
   "name": "python",
   "nbconvert_exporter": "python",
   "pygments_lexer": "ipython3",
   "version": "3.6.2"
  }
 },
 "nbformat": 4,
 "nbformat_minor": 4
}
