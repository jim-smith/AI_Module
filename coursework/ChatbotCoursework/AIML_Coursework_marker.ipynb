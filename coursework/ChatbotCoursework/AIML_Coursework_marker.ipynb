{
 "cells": [
  {
   "cell_type": "markdown",
   "metadata": {},
   "source": [
    "# AIML Coursework marker\n",
    "\n",
    "<div class=\"alert alert-block alert-danger\"> <b>REMEMBER:</b> You need to make sure you are running this code within the virtual environment you created using 'AIenv'.<br> In Jupyter click on the kernel menu then change-kernel. In VSCode use the kernel selector in the top-right hand corner </div>"
   ]
  },
  {
   "cell_type": "code",
   "execution_count": 1,
   "metadata": {},
   "outputs": [],
   "source": [
    "import re\n",
    "import aiml\n",
    "import random\n",
    "\n",
    "def preprocessSingleInput(bot,theInput):\n",
    "    # run the input through the 'normal' subber- only wortks for a single sentence\n",
    "    subbed1 = bot._subbers['normal'].sub(theInput).upper()\n",
    "    subbed2 = re.sub(bot._brain._puncStripRE, \" \", subbed1)\n",
    "    return(subbed2)\n",
    "    "
   ]
  },
  {
   "cell_type": "markdown",
   "metadata": {},
   "source": [
    "\n",
    "# Next cell sets up variables\n",
    "- You can change the amount of debugging information printed to screen by setting debug=True\n",
    "- you can change the name of your input file to something other than \"student.aiml\" if you want.\n",
    "- **Dont change anything else**"
   ]
  },
  {
   "cell_type": "code",
   "execution_count": 2,
   "metadata": {},
   "outputs": [],
   "source": [
    "debug = True\n",
    "debug2 = True\n",
    "theAIMLfile = 'YAA.aiml'\n",
    "theQuestionsFileName = \"coursework-questions-and-responses.txt\"\n",
    "responsesFileName = theAIMLfile[:-5] +\"-responses.txt\"\n",
    "feedbackFileName = theAIMLfile[:-5] +\"-feedback.txt\"\n",
    "NUMQS =45\n",
    "NUMCONTEXTQS=3\n",
    "contextQuestions = [35,42,44]"
   ]
  },
  {
   "cell_type": "markdown",
   "metadata": {},
   "source": [
    "# Read the questions and answer from file, then randomise the order"
   ]
  },
  {
   "cell_type": "code",
   "execution_count": 3,
   "metadata": {},
   "outputs": [
    {
     "name": "stdout",
     "output_type": "stream",
     "text": [
      "question 0 is: What is long-term knowledge?\n",
      "response 0 is: Long-term knowledge is valid every time a programme is run.\n",
      "\n",
      "question 1 is: What is short-term knowledge?\n",
      "response 1 is: Short-term knowledge is only valid for a particular instance or run of a programme.\n",
      "\n",
      "question 2 is: What is generic knowledge?\n",
      "response 2 is: Generic knowledge is relevant to more than one application or domain.\n",
      "\n",
      "question 3 is: What is domain-specific knowledge?\n",
      "response 3 is: Domain-specific knowledge is only applicable to one specific application or domain.\n",
      "\n",
      "question 4 is: What is a fact?\n",
      "response 4 is: A fact is a statement which asserts that a relationship holds for an object-subject pair.\n",
      "\n",
      "question 5 is: What is a rule?\n",
      "response 5 is: A rule is a statement that generates new knowledge by asserting that if one fact is true, then another is also true.\n",
      "\n",
      "question 6 is: Give me an example of long-term generic knowledge.\n",
      "response 6 is: The equations of motion used to calculate the flight-path of a bird in the game Angry Birds.\n",
      "\n",
      "question 7 is: Give me an example of long-term domain-specific knowledge.\n",
      "response 7 is: The weight of the different types of birds in the game Angry Birds.\n",
      "\n",
      "question 8 is: Give me an example of short-term generic knowledge.\n",
      "response 8 is: The date on which a specific episode of Angry Birds is played is generic because it could also be used by another programme.\n",
      "\n",
      "question 9 is: Give me an example of short-term domain-specific knowledge.\n",
      "response 9 is: The number of birds that a user has fired in a particular episode of Angry Birds.\n",
      "\n",
      "question 10 is: Give me an example of a rule.\n",
      "response 10 is: If isUWEStaff(X) then hasUWEPhone (X).\n",
      "\n",
      "question 11 is: Give me an example of a fact.\n",
      "response 11 is: Jim Smith from UWE hasUWEPhoneNumber 0117 3287417.\n",
      "\n",
      "question 12 is: Describe long-term knowledge?\n",
      "response 12 is: Long-term knowledge is valid every time a programme is run.\n",
      "\n",
      "question 13 is: Describe short-term knowledge.\n",
      "response 13 is: Short-term knowledge is only valid for a particular instance or run of a programme.\n",
      "\n",
      "question 14 is: Describe generic knowledge.\n",
      "response 14 is: Generic knowledge is relevant to more than one application or domain.\n",
      "\n",
      "question 15 is: Describe domain-specific knowledge.\n",
      "response 15 is: Domain-specific knowledge is only applicable to one specific application or domain.\n",
      "\n",
      "question 16 is: Describe a fact.\n",
      "response 16 is: A fact is a statement which asserts that a relationship holds for an object-subject pair.\n",
      "\n",
      "question 17 is: Describe a rule.\n",
      "response 17 is: A rule is a statement that generates new knowledge by asserting that if one fact is true, then another is also true.\n",
      "\n",
      "question 18 is: Tell me about long-term knowledge?\n",
      "response 18 is: Long-term knowledge is valid every time a programme is run.\n",
      "\n",
      "question 19 is: Tell me about short-term knowledge.\n",
      "response 19 is: Short-term knowledge is only valid for a particular instance or run of a programme.\n",
      "\n",
      "question 20 is: Tell me about generic knowledge.\n",
      "response 20 is: Generic knowledge is relevant to more than one application or domain.\n",
      "\n",
      "question 21 is: Tell me about domain-specific knowledge.\n",
      "response 21 is: Domain-specific knowledge is only applicable to one specific application or domain.\n",
      "\n",
      "question 22 is: Tell me about a fact.\n",
      "response 22 is: A fact is a statement which asserts that a relationship holds for an object-subject pair.\n",
      "\n",
      "question 23 is: Tell me about a rule.\n",
      "response 23 is: A rule is a statement that generates new knowledge by asserting that if one fact is true, then another is also true.\n",
      "\n",
      "question 24 is: Illustrate the concept of long-term generic knowledge.\n",
      "response 24 is: The equations of motion used to calculate the flight-path of a bird in the game Angry Birds.\n",
      "\n",
      "question 25 is: Illustrate the concept of long-term domain-specific knowledge.\n",
      "response 25 is: The weight of the different types of birds in the game Angry Birds.\n",
      "\n",
      "question 26 is: Illustrate the concept of short-term generic knowledge.\n",
      "response 26 is: The date on which a specific episode of Angry Birds is played is generic because it could also be used by another programme.\n",
      "\n",
      "question 27 is: Illustrate the concept of short-term domain-specific knowledge.\n",
      "response 27 is: The number of birds that a user has fired in a particular episode of Angry Birds.\n",
      "\n",
      "question 28 is: Illustrate the concept of a fact.\n",
      "response 28 is: Jim Smith from UWE hasUWEPhoneNumber 0117 3287417.\n",
      "\n",
      "question 29 is: Illustrate the concept of a rule.\n",
      "response 29 is: If isUWEStaff(X) then hasUWEPhone (X).\n",
      "\n",
      "question 30 is: Provide an example of long-term generic knowledge.\n",
      "response 30 is: The equations of motion used to calculate the flight-path of a bird in the game Angry Birds.\n",
      "\n",
      "question 31 is: Provide an example of long-term domain-specific knowledge.\n",
      "response 31 is: The weight of the different types of birds in the game Angry Birds.\n",
      "\n",
      "question 32 is: Provide an example of short-term generic knowledge.\n",
      "response 32 is: The date on which a specific episode of Angry Birds is played is generic because it could also be used by another programme.\n",
      "\n",
      "question 33 is: Provide an example of short-term domain-specific knowledge.\n",
      "response 33 is: The number of birds that a user has fired in a particular episode of Angry Birds.\n",
      "\n",
      "question 34 is: Please provide an example of a fact.\n",
      "response 34 is: Jim Smith from UWE hasUWEPhoneNumber 0117 3287417.\n",
      "\n",
      "question 35 is: Why is knowing that useful?\n",
      "response 35 is: I have no answer for that.\n",
      "\n",
      "question 36 is: Please provide an example of a rule.\n",
      "response 36 is: If isUWEStaff(X) then hasUWEPhone (X).\n",
      "\n",
      "question 37 is: What is a rule mybot?\n",
      "response 37 is: A rule is a statement that generates new knowledge by asserting that if one fact is true, then another is also true.\n",
      "\n",
      "question 38 is: Please give me an example of a rule.\n",
      "response 38 is: If isUWEStaff(X) then hasUWEPhone (X).\n",
      "\n",
      "question 39 is: Please myBot what is a rule?\n",
      "response 39 is: A rule is a statement that generates new knowledge by asserting that if one fact is true, then another is also true.\n",
      "\n",
      "question 40 is: Mybot please what is a rule?\n",
      "response 40 is: A rule is a statement that generates new knowledge by asserting that if one fact is true, then another is also true.\n",
      "\n",
      "question 41 is: Describe how AIML allows variables in its long-term knowledge?\n",
      "response 41 is: AIML has wildcards and srai for that purpose.\n",
      "\n",
      "question 42 is: Why is knowing that useful?\n",
      "response 42 is: Because it allows us to make statements that apply to classes of things or questions.\n",
      "\n",
      "question 43 is: How does AIML provide context during a conversation.\n",
      "response 43 is: AIML supports context through the use of the that tag to refer to previous bot answers, and via setting variables such as topic.\n",
      "\n",
      "question 44 is: Why is knowing that useful?\n",
      "response 44 is: The fourth word in this question is an example of how some words can only be understood in context.\n",
      "45 question-response pairs read for testing your bot\n"
     ]
    }
   ],
   "source": [
    "#declare arrays to hold the questions and answers\n",
    "questions = []\n",
    "responses = []\n",
    "\n",
    "# read the questions and answers in\n",
    "# Using readline() \n",
    "qFile = open(theQuestionsFileName, 'r') \n",
    "thisQ = 0\n",
    "  \n",
    "while True: \n",
    "    # Get next line from file \n",
    "    line = qFile.readline() \n",
    "    if not line: \n",
    "        print(\"unexpected end of file\")\n",
    "        break\n",
    "    # should be a question\n",
    "    elif (line[0] != 'Q' ):\n",
    "        print(\"didn't get expected question marker Q\")\n",
    "        break;\n",
    "    elif ( int(line[1:3]) != thisQ):\n",
    "        print(\"question had wrong number\")\n",
    "        break\n",
    "    else:\n",
    "        questions.append( line[5:-1])\n",
    "        if(debug2):\n",
    "            print(\"question {} is: {}\".format(thisQ,questions[thisQ]))        \n",
    "        \n",
    "    line = qFile.readline() # next line should be the corresponding answer\n",
    "    if not line: \n",
    "        print(\"unexpected end of file\")\n",
    "        break\n",
    "    elif (line[0] != 'A' ):\n",
    "        print(\"didn't get expected answer marker A\")\n",
    "        break;\n",
    "    elif ( int(line[1:3]) != thisQ):\n",
    "        print(\"answer had wrong number\")\n",
    "        break\n",
    "    else:\n",
    "        responses.append(line[5:-1])\n",
    "        if(debug2):\n",
    "            print(\"response {} is: {}\".format(thisQ,responses[thisQ]))\n",
    "    \n",
    "    thisQ += 1\n",
    "    # then read the empty line separating QnA paits\n",
    "    line = qFile.readline()\n",
    "    \n",
    "    # if line is empty \n",
    "    # end of file is reached \n",
    "    if not line: \n",
    "        break\n",
    "    if(debug2):\n",
    "        print(\"\")\n",
    "\n",
    "qFile.close() \n",
    "\n",
    "\n",
    "\n",
    "\n",
    "# shuffle the order of the questions except the **three** context-dependent ones\n",
    "CQ1 = contextQuestions[0]\n",
    "CQ2 = contextQuestions[1]\n",
    "CQ3 = contextQuestions[2]\n",
    "toremove= [(CQ1 - 1),CQ1,(CQ2 - 1),CQ2,(CQ3 - 1),CQ3]\n",
    "#print(toremove)\n",
    "# make a shuffled list with the numbers 1...NUMQs except the ones above in\n",
    "order = []\n",
    "for i in range (NUMQS):\n",
    "    if i not in toremove:\n",
    "        order.append(i)\n",
    "random.shuffle(order)\n",
    "\n",
    "#put the context dependent Qs and precursors back in\n",
    "order.insert(10,(CQ1 -1))\n",
    "order.insert(11,CQ1)\n",
    "order.insert(20,(CQ2-1))\n",
    "order.insert(21,CQ2)\n",
    "order.insert(30, (CQ3-1))\n",
    "order.insert(31,CQ3)\n",
    "#print(order)\n",
    "#print ( len(order))\n",
    "for i in range (NUMQS):\n",
    "    if i not in order:\n",
    "        print(\"{} is missing\".format(i))\n",
    "\n",
    "# check that there are the right number\n",
    "if (thisQ <NUMQS ):\n",
    "    print(\"error, only {} question-answer pairs read\".format(thisQ))\n",
    "elif (len(questions) < NUMQS or len(responses)<NUMQS):\n",
    "    print(\"error, somehow the questions or responses have not all be saved\")\n",
    "    if(debug):\n",
    "        print(\" {} questions and {}responses read, thisQ = {}\".format(len(questions),len(responses),thisQ))\n",
    "else: \n",
    "    print('{} question-response pairs read for testing your bot'.format(thisQ))"
   ]
  },
  {
   "cell_type": "markdown",
   "metadata": {},
   "source": [
    "# Create the chatbot"
   ]
  },
  {
   "cell_type": "code",
   "execution_count": 4,
   "metadata": {},
   "outputs": [],
   "source": [
    "# Create Chatbot and read the candidate AIML file\n",
    "checkBot = aiml.Kernel()\n",
    "checkBot.verbose(True)"
   ]
  },
  {
   "cell_type": "markdown",
   "metadata": {},
   "source": [
    "## Clear any old categories,  reload the AIML file"
   ]
  },
  {
   "cell_type": "code",
   "execution_count": 24,
   "metadata": {},
   "outputs": [
    {
     "name": "stdout",
     "output_type": "stream",
     "text": [
      "Loading YAA.aiml...done (0.00 seconds)\n",
      "After reading your file the bot has 24 categories\n",
      "Remember that the bot will overwrite categories with the same pattern, that and topic\n",
      "This number should help you fix misformed categories if needed\n",
      "\n"
     ]
    }
   ],
   "source": [
    "checkBot.resetBrain()\n",
    "checkBot.learn(theAIMLfile)\n",
    "# How many categories were correctly read\n",
    "numCategories = checkBot.numCategories()\n",
    "print( \"After reading your file the bot has {} categories\".format(numCategories))\n",
    "print( \"Remember that the bot will overwrite categories with the same pattern, that and topic\".format(numCategories))\n",
    "print('This number should help you fix misformed categories if needed\\n')\n"
   ]
  },
  {
   "cell_type": "markdown",
   "metadata": {},
   "source": [
    "### See how frequently different language constrcuts have been used"
   ]
  },
  {
   "cell_type": "code",
   "execution_count": 25,
   "metadata": {},
   "outputs": [],
   "source": [
    "# either figure out how to query the bot categories\n",
    "## or open the student.aiml file and read it line by line looking for <srai> <set> <star/> and <that>\n",
    "file2 = open(theAIMLfile,'r')\n",
    "srai_count = 0\n",
    "set_count = 0\n",
    "wildcard_count=0\n",
    "starslash_count=0\n",
    "that_count = 0\n",
    "condition_count= 0\n",
    "\n",
    "#read through line by line coutning uise of AIML constructs\n",
    "while(True):\n",
    "    line = file2.readline()\n",
    "    if not line:\n",
    "        break\n",
    "    if \"<srai>\" in line:\n",
    "        srai_count += 1\n",
    "    if \"<set\" in line: # just use start - they ar hopefullty defining a name for their variable\n",
    "        set_count += 1\n",
    "    if (\"*\" in line) or (\"_\" in line) or (\"^\" in line) or (\"#\" in line):\n",
    "        wildcard_count +=1\n",
    "    if \"<star\" in line: #just look for start of tag in case they used indexing\n",
    "        starslash_count += 1\n",
    "    if \"<that\" in line: #just look for start of tag in case they used indexing\n",
    "        that_count +=1\n",
    "    if \"<that\" in line: #just look for start of tag in case they used indexing\n",
    "        condition_count +=1\n",
    "file2.close()       \n",
    "        \n"
   ]
  },
  {
   "cell_type": "markdown",
   "metadata": {},
   "source": [
    "# Ask the questions, check and store the responses"
   ]
  },
  {
   "cell_type": "code",
   "execution_count": 26,
   "metadata": {},
   "outputs": [
    {
     "name": "stdout",
     "output_type": "stream",
     "text": [
      "Q35 Why is knowing that useful?\n",
      " gets preprocessed as:WHY IS KNOWING THAT USEFUL \n",
      " expected :I have no answer for that.\n",
      " got      :Because it allows us to make statements that apply to classes of things or questions.\n",
      "Q43 How does AIML provide context during a conversation.\n",
      " gets preprocessed as:HOW DOES AIML PROVIDE CONTEXT DURING A CONVERSATION \n",
      " expected :AIML supports context through the use of the that tag to refer to previous bot answers, and via setting variables such as topic.\n",
      " got      :AIML supports context through the use of the that tag to refer to previous bot answers and via setting variables such as topic.\n"
     ]
    }
   ],
   "source": [
    "\n",
    "\n",
    "# initialise score\n",
    "numCorrect = 0\n",
    "numContextQsCorrect=0\n",
    "numNoMatch=0\n",
    "responsesFile = open(responsesFileName,'w')\n",
    "\n",
    "for q in range (NUMQS):\n",
    "    thisQ = order[q]\n",
    "    #get bot's response to question\n",
    "    botResponse = checkBot.respond(questions[thisQ])\n",
    "    if(botResponse==\"\"):\n",
    "        numNoMatch +=1\n",
    "    responsesFile.write('Q{:2d}: {}\\n'.format(thisQ, questions[thisQ]))\n",
    "    responsesFile.write('Expected response: {}\\n'.format(responses[thisQ]))\n",
    "    responsesFile.write('Your bot response: {}\\n'.format(botResponse))\n",
    "    # check if it matches the required input\n",
    "    if botResponse == responses[thisQ] :\n",
    "        #print('question {} answered correctly'.format(thisQ))\n",
    "        responsesFile.write('*** Question answered correctly\\n\\n')\n",
    "        numCorrect +=1\n",
    "        if thisQ in contextQuestions:\n",
    "            numContextQsCorrect +=1\n",
    "    else:\n",
    "        responsesFile.write('Question answered incorrectly\\n\\n')\n",
    "        if(debug):\n",
    "            theInput = questions[thisQ]\n",
    "            print('Q{} {}\\n gets preprocessed as:{}'.format(thisQ,theInput,preprocessSingleInput(checkBot,theInput)))\n",
    "            print(' expected :' +responses[thisQ])\n",
    "            print(' got      :' +botResponse)\n",
    "            lastThat = checkBot.getPredicate(\"_outputHistory\")\n",
    "\n",
    "# write final line to log file and exit\n",
    "responsesFile.write(' In total you got {} questions correct'.format(numCorrect))\n",
    "responsesFile.close()"
   ]
  },
  {
   "cell_type": "markdown",
   "metadata": {},
   "source": [
    "# Calculate final score and feedback"
   ]
  },
  {
   "cell_type": "code",
   "execution_count": 27,
   "metadata": {},
   "outputs": [],
   "source": [
    "\n",
    "feedbackFile = open(feedbackFileName,'w')\n",
    "\n",
    "\n",
    "# calculate final score\n",
    "finalScore= numCorrect \n",
    "# if all questions correct then we start rewarding go solutions\n",
    "if (numCorrect==NUMQS):\n",
    "    if (numCategories <10):\n",
    "        finalScore = 100\n",
    "    else:\n",
    "        finalScore = 90 - numCategories\n",
    "\n",
    "# provide output for DEWIS\n",
    "feedbackFile.write('<SCORE>{}</SCORE>\\n'.format(finalScore))\n",
    "\n",
    "fstart=  \"<MESSAGE>\"\n",
    "fend = \"</MESSAGE>\\n\"\n",
    "\n",
    "feedback = fstart + \"After removing duplicates, your bot used \" + str(numCategories) + \" categories\" +fend\n",
    "feedbackFile.write(feedback)\n",
    "\n",
    "# what did the submission get wrong and why?\n",
    "if(numCorrect< NUMQS):\n",
    "    feedback = fstart+ \"Your bot answered one or more questions incorrectly.\" +fend \n",
    "    feedbackFile.write(feedback)\n",
    "    feedback = fstart + \"File \" + responsesFileName + \" has more details of your bots responses.\" +fend\n",
    "    feedbackFile.write(feedback)\n",
    "    feedback = fstart + \"Common mistakes are typos or extra spaces\" +fend\n",
    "    feedbackFile.write(feedback)\n",
    "    \n",
    "    if(numNoMatch>0):\n",
    "        feedback = fstart + \"For \" + str(numNoMatch) +\" questions your bot did not have a matching category.\" +fend\n",
    "        feedbackFile.write(feedback)\n",
    "    contextErrors = NUMCONTEXTQS - numContextQsCorrect\n",
    "    if( contextErrors >0 ):\n",
    "        feedback= fstart +\"Your bot answered incorrectly for \" + str(contextErrors) + \" questions that require a sense of context.\" +fend\n",
    "        feedbackFile.write(feedback)\n",
    "\n",
    "else: #\n",
    "    feedback = fstart +\"Your bot answered every question correctly using \" + str(numCategories) + \" categories\" +fend\n",
    "    feedbackFile.write(feedback)\n",
    "    if ( srai_count==0  or wildcard_count ==0 or starslash_count==0):\n",
    "        feedback = fstart+ \"You can improve your score by generalising using srai and wildcards.\" + fend\n",
    "        feedbackFile.write(feedback)\n",
    "    if (set_count==0 or that_count==0):\n",
    "        feedback = fstart + \"You can improve your score by remembering context and what the conversation is talking about.\" +fend\n",
    "        feedbackFile.write(feedback)\n",
    "    if(condition_count==0):\n",
    "        feedback = fstart + \"You can use <condition> to change behaviour within a category.\" +fend\n",
    "        feedbackFile.write(feedback)\n",
    "    if(numCategories <=11):\n",
    "        feedback = fstart + \"Congratulations, you have matched Jim's score!\" +fend\n",
    "        feedbackFile.write(feedback)\n",
    "\n",
    "\n",
    "feedbackFile.close()"
   ]
  },
  {
   "cell_type": "markdown",
   "metadata": {},
   "source": [
    "# Uncomment the cell below if you want to run your bot interactively"
   ]
  },
  {
   "cell_type": "code",
   "execution_count": 8,
   "metadata": {},
   "outputs": [
    {
     "name": "stdout",
     "output_type": "stream",
     "text": [
      "Enter your message >> why is knowing that useful\n",
      "Because it allows us to make statements that apply to classes of things or questions.\n",
      "Enter your message >> what is long term knowledge \n"
     ]
    },
    {
     "name": "stderr",
     "output_type": "stream",
     "text": [
      "WARNING: No match found for input: what is long term knowledge\n"
     ]
    },
    {
     "name": "stdout",
     "output_type": "stream",
     "text": [
      "\n",
      "Enter your message >> describe long term knowledge\n"
     ]
    },
    {
     "name": "stderr",
     "output_type": "stream",
     "text": [
      "WARNING: No match found for input:  WHAT IS long term knowledge?\n"
     ]
    },
    {
     "name": "stdout",
     "output_type": "stream",
     "text": [
      "\n",
      "Enter your message >> what is a fact\n",
      "A fact is a statement which asserts that a relationship holds for an object-subject pair.\n",
      "Enter your message >> bye\n"
     ]
    }
   ],
   "source": [
    "keepgoing= True\n",
    "while(keepgoing):\n",
    "    nextInput = input(\"Enter your message >> \")\n",
    "    if (nextInput=='bye'):\n",
    "        keepgoing= False\n",
    "    else:\n",
    "        print (checkBot.respond(nextInput))"
   ]
  },
  {
   "cell_type": "code",
   "execution_count": 28,
   "metadata": {},
   "outputs": [
    {
     "name": "stdout",
     "output_type": "stream",
     "text": [
      "43\n"
     ]
    }
   ],
   "source": [
    "print (finalScore)\n"
   ]
  },
  {
   "cell_type": "code",
   "execution_count": null,
   "metadata": {},
   "outputs": [],
   "source": []
  }
 ],
 "metadata": {
  "kernelspec": {
   "display_name": "AIenv",
   "language": "python",
   "name": "aienv"
  },
  "language_info": {
   "codemirror_mode": {
    "name": "ipython",
    "version": 3
   },
   "file_extension": ".py",
   "mimetype": "text/x-python",
   "name": "python",
   "nbconvert_exporter": "python",
   "pygments_lexer": "ipython3",
   "version": "3.8.2"
  }
 },
 "nbformat": 4,
 "nbformat_minor": 4
}
