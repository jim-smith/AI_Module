{
 "cells": [
  {
   "cell_type": "code",
   "execution_count": 1,
   "metadata": {},
   "outputs": [],
   "source": [
    "import aiml\n",
    "\n",
    "# Create the kernel and learn AIML files\n",
    "kernel = aiml.Kernel()\n"
   ]
  },
  {
   "cell_type": "code",
   "execution_count": 2,
   "metadata": {},
   "outputs": [
    {
     "name": "stdout",
     "output_type": "stream",
     "text": [
      "Overwriting myFirstChatbot.aiml\n"
     ]
    }
   ],
   "source": [
    "%%writefile myFirstChatbot.aiml\n",
    "<aiml version=\"1.0.1\" encoding=\"UTF-8\">\n",
    "<!-- basic_chat.aiml -->\n",
    "\n",
    "    <category>\n",
    "        <pattern>HELLO</pattern>\n",
    "        <template>\n",
    "            Well, hello!\n",
    "        </template>\n",
    "    </category>\n",
    "    \n",
    "    <category>\n",
    "        <pattern>WHAT ARE YOU</pattern>\n",
    "        <template>\n",
    "            I'm a bot, silly!\n",
    "        </template>\n",
    "    </category>\n",
    "    \n",
    "    <category>\n",
    "        <pattern> IS THIS ALL THERE IS</pattern>\n",
    "        <template> I AM AFRAID SO </template>\n",
    "    </category>\n",
    "    \n",
    "    <category>\n",
    "        <pattern> do you have any suggestions for improving this </pattern>\n",
    "        <template> \n",
    "            <random>\n",
    "            <li> use ipywidgets to make the user interface fancier</li>\n",
    "            <li> finding a way of making the system show a tece of what it has matched and whyt for an input </li>\n",
    "            \n",
    "            </random>\n",
    "        </template>\n",
    "    </category>\n",
    "    \n",
    "    <category>\n",
    "        <pattern> WHAT IS LEFT </pattern>\n",
    "        <template> \n",
    "            <srai> IS THIS ALL THERE IS </srai> \n",
    "        </template>\n",
    "    \n",
    "    </category>\n",
    "            \n",
    "    \n",
    "</aiml>\n",
    "\n"
   ]
  },
  {
   "cell_type": "code",
   "execution_count": 7,
   "metadata": {},
   "outputs": [
    {
     "name": "stdout",
     "output_type": "stream",
     "text": [
      "Loading myFirstChatbot.aiml...done (0.01 seconds)\n",
      "Successfuly loaded 6 categories\n"
     ]
    },
    {
     "name": "stdin",
     "output_type": "stream",
     "text": [
      "Enter your message >>  what's left\n"
     ]
    },
    {
     "name": "stdout",
     "output_type": "stream",
     "text": [
      "I AM AFRAID SO\n"
     ]
    },
    {
     "name": "stdin",
     "output_type": "stream",
     "text": [
      "Enter your message >>  bye\n"
     ]
    }
   ],
   "source": [
    "kernel.learn(\"myFirstChatbot.aiml\")\n",
    "kernel.verbose(True)\n",
    "print( \"Successfuly loaded {} categories\".format(kernel.numCategories()))\n",
    "\n",
    "#type stop to end the chat session\n",
    "keepGoing = True\n",
    "\n",
    "while keepGoing:\n",
    "    nextInput = input(\"Enter your message >> \")\n",
    "    if(nextInput == 'bye'):\n",
    "        keepGoing = False\n",
    "    else:\n",
    "        print (kernel.respond(nextInput))"
   ]
  },
  {
   "cell_type": "code",
   "execution_count": 8,
   "metadata": {},
   "outputs": [
    {
     "data": {
      "text/plain": [
       "{'_global': {'_inputHistory': [\"what's left\",\n",
       "   \"what's left\",\n",
       "   'whats left',\n",
       "   'is this all there is',\n",
       "   'what are you',\n",
       "   'what is left',\n",
       "   \"what's left\",\n",
       "   \"what's left\"],\n",
       "  '_outputHistory': ['',\n",
       "   '',\n",
       "   'I AM AFRAID SO',\n",
       "   'I AM AFRAID SO',\n",
       "   \"I'm a bot, silly!\",\n",
       "   'I AM AFRAID SO',\n",
       "   'I AM AFRAID SO',\n",
       "   'I AM AFRAID SO'],\n",
       "  '_inputStack': []}}"
      ]
     },
     "execution_count": 8,
     "metadata": {},
     "output_type": "execute_result"
    }
   ],
   "source": [
    "kernel.getSessionData()"
   ]
  },
  {
   "cell_type": "code",
   "execution_count": null,
   "metadata": {},
   "outputs": [],
   "source": []
  }
 ],
 "metadata": {
  "kernelspec": {
   "display_name": "Python 3",
   "language": "python",
   "name": "python3"
  },
  "language_info": {
   "codemirror_mode": {
    "name": "ipython",
    "version": 3
   },
   "file_extension": ".py",
   "mimetype": "text/x-python",
   "name": "python",
   "nbconvert_exporter": "python",
   "pygments_lexer": "ipython3",
   "version": "3.6.2"
  }
 },
 "nbformat": 4,
 "nbformat_minor": 4
}
