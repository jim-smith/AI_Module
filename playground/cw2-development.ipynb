{
 "cells": [
  {
   "cell_type": "markdown",
   "metadata": {},
   "source": [
    "You need to submit a a single file of python code (e.g. yourname-greedyrule.py) thart implements a greedy rule induction algorirthm.\n",
    "\n",
    "Your code should inherit from the superclass LearnedRuleModel using the file attached.\n",
    "\n",
    "The class you create must be called GreedyRuleInductionModel()\n",
    "\n",
    "Your code may only import two modules: LearnedRuleModel and numpy. All others will be removed in submission.\n",
    "\n",
    "You are strongly advised to proceed by:\n",
    "\n",
    "Carefully reading the methods provided in the superclass so you can reuse them as much as possible \n",
    "\n",
    "Create a constructor that calls the super constructor e,g,\n",
    "\n",
    "''''\n",
    "  def __init__(self,maxRules=5, increments=50):\n",
    "      # call the init function for the super class\n",
    "      # and inherit all the other methods\n",
    "      super().__init__(maxRules=maxRules, increments=increments)\n",
    "'''\n",
    "\n",
    "Copy the fit() method from the superclass into your class, and then extend it by:\n",
    "\n",
    "Copying in the pseudocode from the week 6 lecture as comments\n",
    "adding code to implement that \n",
    "\n",
    "Copy in the predict() method then change it, so that for each test case it looks through your learned rule base (hint: there is a useful method def InstanceMatchesRule( self,rule, instance):\n",
    "\n",
    "The practical notebook for week 8 , activity 2, has code that loads the iris data then creates and uses a multilayer perceptron.\n",
    "\n",
    "For testing purposes you  could easily adapt this so that it creates an instance of your class and use that.\n",
    "\n",
    "Or if you wanted you could start by learning to fit() some simple binary functions like and, or, and xor.\n",
    "\n",
    "Again the practical notebooks contain many examples of defining and using simple datasets like this.  \n",
    "\n",
    "The superclass has some useful functions like PrintRuleSet() you can call to check what your system is learning.   "
   ]
  },
  {
   "cell_type": "code",
   "execution_count": 1,
   "metadata": {},
   "outputs": [],
   "source": [
    "import numpy as np\n",
    "import LearnedRuleModel\n",
    "from LearnedRuleModel import LearnedRuleModel\n",
    "\n",
    "class GreedyRuleInductionModel(LearnedRuleModel):\n",
    "    \n",
    "    def init(self,maxRules=5, increments=50):\n",
    "        # call the init function for the super class\n",
    "        # and inherit all the other methods\n",
    "        super().__init__(maxRules=maxRules, increments=increments)\n",
    "    \n",
    "    \n",
    "    def fit(self, train_X,train_y):\n",
    "        # in the super class this will just preprocess the data but not use it\n",
    "        # so your fit() method should start with these 3 code lines (and their comments) but then do something !\n",
    " \n",
    "        #        Preprocess (trainingset)  \n",
    "\n",
    "\n",
    "        # store the set of different labels - don't assume what they are\n",
    "        self.labels = np.unique(train_y)\n",
    "\n",
    "        # remember how many features there are describing each training case\n",
    "        self.numFeatures= train_X.shape[1]\n",
    "        \n",
    "        # preprocess the data to compute the set of thresholds  to be used in rules\n",
    "        # there are self.numThresholds of these for each feature\n",
    "        self.CalculatePossibleThresholds(train_X)\n",
    "        \n",
    "        # now learn a set of rulea from the training data ..\n",
    "        \n",
    "\n",
    "        #SET currentModel with empty ruleset, score = 0   \n",
    "        #hsappened in the init() function\n",
    "\n",
    "        #WHILE (currentModel.score<trainingsetSize) DO  \n",
    "\n",
    "#    SET bestchild = emptyModel\n",
    "\n",
    "#    FOR newRule in  (all_possible_rules)  \n",
    "\n",
    "#        SET newModel = COPY(currentModel)\n",
    "\n",
    "#        SET newModel = ADDRULE (newModel, newRule)\n",
    "\n",
    "#        SET score = SCORE(newModel)\n",
    "\n",
    "#        IF (newModel.score > bestChild.score)\n",
    "\n",
    "#           SET bestChild= COPY(newModel)\n",
    "\n",
    "#     IF (bestChild.score > currentModel.score)\n",
    "\n",
    "#        SET currentModel=COPY (bestChild)\n",
    "    \n",
    "    "
   ]
  },
  {
   "cell_type": "markdown",
   "metadata": {},
   "source": [
    "This is where i am going ot do my testing\n",
    "\n",
    "When I've finished i will copy and paste the code from the cell a bove into a separat file called myname.py\n"
   ]
  },
  {
   "cell_type": "code",
   "execution_count": 2,
   "metadata": {},
   "outputs": [],
   "source": [
    "# use code from wb8 to load the iris data and run my classifier on it\n",
    "\n",
    "myClassifier = GreedyRuleInductionModel()"
   ]
  },
  {
   "cell_type": "code",
   "execution_count": null,
   "metadata": {},
   "outputs": [],
   "source": []
  }
 ],
 "metadata": {
  "kernelspec": {
   "display_name": "AIenv",
   "language": "python",
   "name": "aienv"
  },
  "language_info": {
   "codemirror_mode": {
    "name": "ipython",
    "version": 3
   },
   "file_extension": ".py",
   "mimetype": "text/x-python",
   "name": "python",
   "nbconvert_exporter": "python",
   "pygments_lexer": "ipython3",
   "version": "3.8.2"
  }
 },
 "nbformat": 4,
 "nbformat_minor": 4
}
